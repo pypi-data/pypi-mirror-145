{
 "cells": [
  {
   "cell_type": "code",
   "execution_count": 3,
   "id": "a817d17e-f07e-4252-bf7c-8eb13dd62f01",
   "metadata": {},
   "outputs": [],
   "source": [
    "from ipywidgets import Button, Output,VBox\n",
    "from jupyter_msal_widget import MsalWidget\n",
    "\n",
    "#CONTENT\n",
    "button = Button(description=\"Click Me!\")\n",
    "output = Output()\n",
    "\n",
    "def on_button_clicked(b):\n",
    "    with output:\n",
    "        print(\"Button clicked.\")\n",
    "\n",
    "button.on_click(on_button_clicked)\n",
    "\n",
    "content = VBox([button, output])"
   ]
  },
  {
   "cell_type": "code",
   "execution_count": 4,
   "id": "b405be1a-8711-457d-8e31-36c0654a7afc",
   "metadata": {},
   "outputs": [
    {
     "data": {
      "application/vnd.jupyter.widget-view+json": {
       "model_id": "7951e5b2068349d992c1efb3bc4e5352",
       "version_major": 2,
       "version_minor": 0
      },
      "text/plain": [
       "MsalWidget(authority_url='https://login.microsoftonline.com/xxxxxxxx-xxxx-xxxx-xxxx-xxxxxxxxxxxx', button_styl…"
      ]
     },
     "metadata": {},
     "output_type": "display_data"
    }
   ],
   "source": [
    "# MSAL WIDGET SETTINGS\n",
    "tenant_id = \"xxxxxxxx-xxxx-xxxx-xxxx-xxxxxxxxxxxx\"\n",
    "client_id = \"xxxxxxxx-xxxx-xxxx-xxxx-xxxxxxxxxxxx\"\n",
    "authority_url = f'https://login.microsoftonline.com/{tenant_id}'\n",
    "\n",
    "button_style = {\"float\":\"right\"} # DEFAULT => {\"float\":\"right\"}\n",
    "button_main_color=\"0, 117, 190\" # DEFAULT => \"0, 117, 190\" (MUST BE RGB, NOT HEX)\n",
    "display_logout = True # DEFAULT => False\n",
    "\n",
    "MsalWidget(\n",
    "    client_id=client_id,\n",
    "    authority_url=authority_url,\n",
    "    content=content,\n",
    "    display_logout=display_logout,\n",
    "    button_style=button_style,\n",
    "    button_main_color=button_main_color\n",
    ")\n"
   ]
  }
 ],
 "metadata": {
  "kernelspec": {
   "display_name": "Python 3 (ipykernel)",
   "language": "python",
   "name": "python3"
  },
  "language_info": {
   "codemirror_mode": {
    "name": "ipython",
    "version": 3
   },
   "file_extension": ".py",
   "mimetype": "text/x-python",
   "name": "python",
   "nbconvert_exporter": "python",
   "pygments_lexer": "ipython3",
   "version": "3.10.4"
  }
 },
 "nbformat": 4,
 "nbformat_minor": 5
}
