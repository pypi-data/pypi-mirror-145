{
 "cells": [
  {
   "cell_type": "code",
   "execution_count": 4,
   "id": "a817d17e-f07e-4252-bf7c-8eb13dd62f01",
   "metadata": {},
   "outputs": [],
   "source": [
    "from ipywidgets import Button, Output,VBox\n",
    "from jupyter_msal_widget import MsalWidget\n",
    "\n",
    "#CONTENT\n",
    "button = Button(description=\"Click Me!\")\n",
    "output = Output()\n",
    "\n",
    "def on_button_clicked(b):\n",
    "    with output:\n",
    "        print(\"Button clicked.\")\n",
    "\n",
    "button.on_click(on_button_clicked)\n",
    "\n",
    "content = VBox([button, output])"
   ]
  },
  {
   "cell_type": "code",
   "execution_count": 7,
   "id": "b405be1a-8711-457d-8e31-36c0654a7afc",
   "metadata": {},
   "outputs": [
    {
     "data": {
      "application/vnd.jupyter.widget-view+json": {
       "model_id": "1e961e899fbf484a871e39a797001edb",
       "version_major": 2,
       "version_minor": 0
      },
      "text/plain": [
       "MsalWidget(authority_url='https://login.microsoftonline.com/7272e712-07dc-4709-b4ee-37d3feabc4ef', button_styl…"
      ]
     },
     "metadata": {},
     "output_type": "display_data"
    }
   ],
   "source": [
    "# MSAL WIDGET SETTINGS\n",
    "tenant_id = \"7272e712-07dc-4709-b4ee-37d3feabc4ef\"\n",
    "client_id = \"6785298f-e857-464b-9b4b-807178402632\"\n",
    "authority_url = f'https://login.microsoftonline.com/{tenant_id}'\n",
    "\n",
    "button_style = {\"float\":\"left\"} # DEFAULT => {\"float\":\"right\"}\n",
    "container_style = {\"background-color\":\"red\"} # DEFAULT => {}\n",
    "button_main_color=\"0, 117, 190\" # DEFAULT => \"0, 117, 190\" (MUST BE RGB, NOT HEX)\n",
    "display_logout = True # DEFAULT => False\n",
    "\n",
    "msal = MsalWidget(\n",
    "    client_id=client_id,\n",
    "    authority_url=authority_url,\n",
    "    content=content,\n",
    "    display_logout=display_logout,\n",
    "    # container_style=container_style,\n",
    "    # button_style=button_style,\n",
    "    # button_main_color=button_main_color\n",
    ")\n",
    "\n",
    "msal"
   ]
  },
  {
   "cell_type": "code",
   "execution_count": 13,
   "id": "3ff531e4-6d20-4b97-a39c-af9afa6b8a21",
   "metadata": {},
   "outputs": [
    {
     "name": "stdout",
     "output_type": "stream",
     "text": [
      "False\n",
      "{}\n"
     ]
    }
   ],
   "source": [
    "print(msal.signed_in)\n",
    "print(msal.account)"
   ]
  }
 ],
 "metadata": {
  "kernelspec": {
   "display_name": "Python 3 (ipykernel)",
   "language": "python",
   "name": "python3"
  },
  "language_info": {
   "codemirror_mode": {
    "name": "ipython",
    "version": 3
   },
   "file_extension": ".py",
   "mimetype": "text/x-python",
   "name": "python",
   "nbconvert_exporter": "python",
   "pygments_lexer": "ipython3",
   "version": "3.10.4"
  }
 },
 "nbformat": 4,
 "nbformat_minor": 5
}
