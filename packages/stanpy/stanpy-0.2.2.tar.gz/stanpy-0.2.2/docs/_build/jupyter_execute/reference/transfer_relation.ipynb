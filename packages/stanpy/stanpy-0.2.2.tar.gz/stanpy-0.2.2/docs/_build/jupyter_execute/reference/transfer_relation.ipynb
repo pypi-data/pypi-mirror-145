{
 "cells": [
  {
   "cell_type": "code",
   "execution_count": 1,
   "id": "504323c2",
   "metadata": {
    "execution": {
     "iopub.execute_input": "2022-03-12T07:51:50.756374Z",
     "iopub.status.busy": "2022-03-12T07:51:50.755373Z",
     "iopub.status.idle": "2022-03-12T07:51:50.915368Z",
     "shell.execute_reply": "2022-03-12T07:51:50.915368Z"
    }
   },
   "outputs": [],
   "source": [
    "import numpy as np\n",
    "np.set_printoptions(precision=5)"
   ]
  },
  {
   "cell_type": "code",
   "execution_count": 2,
   "id": "e92bc433",
   "metadata": {
    "execution": {
     "iopub.execute_input": "2022-03-12T07:51:50.919375Z",
     "iopub.status.busy": "2022-03-12T07:51:50.918374Z",
     "iopub.status.idle": "2022-03-12T07:51:53.105368Z",
     "shell.execute_reply": "2022-03-12T07:51:53.105368Z"
    }
   },
   "outputs": [
    {
     "name": "stdout",
     "output_type": "stream",
     "text": [
      "1.0526315789473684 -0.03289473684210526\n"
     ]
    }
   ],
   "source": [
    "import stanpy as stp\n",
    "\n",
    "s = {\"EI\":32000, \"GA\":20000, \"N\":-1000}\n",
    "gamma, K = stp.gamma_K(**s)\n",
    "print(gamma, K)"
   ]
  },
  {
   "cell_type": "code",
   "execution_count": 3,
   "id": "67cf280d",
   "metadata": {
    "execution": {
     "iopub.execute_input": "2022-03-12T07:51:53.108373Z",
     "iopub.status.busy": "2022-03-12T07:51:53.108373Z",
     "iopub.status.idle": "2022-03-12T07:51:53.120370Z",
     "shell.execute_reply": "2022-03-12T07:51:53.120370Z"
    }
   },
   "outputs": [
    {
     "name": "stdout",
     "output_type": "stream",
     "text": [
      "[[0.      0.      0.      0.      0.      0.     ]\n",
      " [1.      0.      0.      0.      0.      0.     ]\n",
      " [1.      2.      2.      1.33333 0.66667 0.26667]\n",
      " [1.      3.      4.5     4.5     3.375   2.025  ]]\n"
     ]
    }
   ],
   "source": [
    "import stanpy as stp\n",
    "\n",
    "aj = stp.aj(x=[-1,0,2,3],n=5)\n",
    "print(aj)"
   ]
  },
  {
   "cell_type": "code",
   "execution_count": 4,
   "id": "c860af24",
   "metadata": {
    "execution": {
     "iopub.execute_input": "2022-03-12T07:51:53.124372Z",
     "iopub.status.busy": "2022-03-12T07:51:53.123375Z",
     "iopub.status.idle": "2022-03-12T07:51:53.135370Z",
     "shell.execute_reply": "2022-03-12T07:51:53.135370Z"
    }
   },
   "outputs": [
    {
     "name": "stdout",
     "output_type": "stream",
     "text": [
      "[[0.      0.      0.      0.      0.      0.     ]\n",
      " [1.      0.      0.      0.      0.      0.     ]\n",
      " [0.93493 1.95643 1.97817 1.32459 0.66375 0.26583]\n",
      " [0.85559 2.85415 4.39007 4.43386 3.34187 2.01078]]\n"
     ]
    }
   ],
   "source": [
    "import stanpy as stp\n",
    "\n",
    "s = {\"EI\":32000, \"GA\":20000, \"N\":-1000}\n",
    "bj = stp.bj(x=[-1,0,2,3],**s)\n",
    "print(bj)"
   ]
  },
  {
   "cell_type": "code",
   "execution_count": 5,
   "id": "59a2ab24",
   "metadata": {
    "execution": {
     "iopub.execute_input": "2022-03-12T07:51:53.138375Z",
     "iopub.status.busy": "2022-03-12T07:51:53.138375Z",
     "iopub.status.idle": "2022-03-12T07:51:53.210368Z",
     "shell.execute_reply": "2022-03-12T07:51:53.210368Z"
    }
   },
   "outputs": [
    {
     "name": "stdout",
     "output_type": "stream",
     "text": [
      "[[ 0.       0.       0.       0.       0.       0.     ]\n",
      " [ 1.       0.       0.       0.       0.       0.     ]\n",
      " [ 1.       2.       2.       1.33333  0.66667  0.26667]\n",
      " [ 1.       3.       4.5      4.5      3.375    2.025  ]\n",
      " [ 1.       4.       8.      10.66667 10.66667  8.53333]]\n"
     ]
    }
   ],
   "source": [
    "import sympy as sym\n",
    "import stanpy as stp\n",
    "\n",
    "x = sym.Symbol(\"x\")\n",
    "E = 32000  # kN/m2\n",
    "b = 0.2  # m\n",
    "ha = hb = 0.3  # m\n",
    "hc = 0.4  # m\n",
    "l = 4  # m\n",
    "hx = ha + (hc - hb) / l * x\n",
    "\n",
    "cs_props = stp.cs(b=b, h=ha)\n",
    "s = {\"E\": E, \"cs\": cs_props, \"l\": l}\n",
    "bj = stp.bj(x=[-1,0,2,3,4],**s)\n",
    "print(bj)"
   ]
  },
  {
   "cell_type": "code",
   "execution_count": 6,
   "id": "f8db79b8",
   "metadata": {
    "execution": {
     "iopub.execute_input": "2022-03-12T07:51:53.214373Z",
     "iopub.status.busy": "2022-03-12T07:51:53.213368Z",
     "iopub.status.idle": "2022-03-12T07:51:53.240368Z",
     "shell.execute_reply": "2022-03-12T07:51:53.240368Z"
    }
   },
   "outputs": [
    {
     "name": "stdout",
     "output_type": "stream",
     "text": [
      "[[[ 1.00000e+00  0.00000e+00  0.00000e+00  0.00000e+00  0.00000e+00]\n",
      "  [ 0.00000e+00  1.00000e+00  0.00000e+00  0.00000e+00  0.00000e+00]\n",
      "  [ 0.00000e+00  0.00000e+00  1.00000e+00  0.00000e+00  0.00000e+00]\n",
      "  [ 0.00000e+00  0.00000e+00  0.00000e+00  1.00000e+00  0.00000e+00]\n",
      "  [ 0.00000e+00  0.00000e+00  0.00000e+00  0.00000e+00  1.00000e+00]]\n",
      "\n",
      " [[ 1.00000e+00  2.50000e+00 -9.76563e-05  4.36198e-05 -2.10775e-04]\n",
      "  [ 0.00000e+00  1.00000e+00 -7.81250e-05 -9.76563e-05  1.62760e-04]\n",
      "  [ 0.00000e+00  0.00000e+00  1.00000e+00  2.50000e+00 -6.25000e+00]\n",
      "  [ 0.00000e+00  0.00000e+00  0.00000e+00  1.00000e+00 -5.00000e+00]\n",
      "  [ 0.00000e+00  0.00000e+00  0.00000e+00  0.00000e+00  1.00000e+00]]\n",
      "\n",
      " [[ 1.00000e+00  5.00000e+00 -3.90625e-04 -4.01042e-04  3.77604e-04]\n",
      "  [ 0.00000e+00  1.00000e+00 -1.56250e-04 -3.90625e-04  1.30208e-03]\n",
      "  [ 0.00000e+00  0.00000e+00  1.00000e+00  5.00000e+00 -2.50000e+01]\n",
      "  [ 0.00000e+00  0.00000e+00  0.00000e+00  1.00000e+00 -1.00000e+01]\n",
      "  [ 0.00000e+00  0.00000e+00  0.00000e+00  0.00000e+00  1.00000e+00]]]\n"
     ]
    }
   ],
   "source": [
    "import stanpy as stp\n",
    "\n",
    "l = 5 #m\n",
    "s = {\"EI\":32000, \"GA\":20000, \"l\":l, \"q\":2}\n",
    "Fik = stp.tr(s, x=[0,l/2,l])\n",
    "print(Fik)"
   ]
  },
  {
   "cell_type": "code",
   "execution_count": 7,
   "id": "8d3603ec",
   "metadata": {
    "execution": {
     "iopub.execute_input": "2022-03-12T07:51:53.244375Z",
     "iopub.status.busy": "2022-03-12T07:51:53.243377Z",
     "iopub.status.idle": "2022-03-12T07:51:53.255370Z",
     "shell.execute_reply": "2022-03-12T07:51:53.255370Z"
    }
   },
   "outputs": [
    {
     "name": "stdout",
     "output_type": "stream",
     "text": [
      "[[[ 1.00000e+00  0.00000e+00  0.00000e+00  0.00000e+00  0.00000e+00]\n",
      "  [ 0.00000e+00  1.00000e+00  0.00000e+00  0.00000e+00  0.00000e+00]\n",
      "  [ 0.00000e+00  0.00000e+00  1.00000e+00  0.00000e+00  0.00000e+00]\n",
      "  [ 0.00000e+00  0.00000e+00  0.00000e+00  1.00000e+00  0.00000e+00]\n",
      "  [ 0.00000e+00  0.00000e+00  0.00000e+00  0.00000e+00  1.00000e+00]]\n",
      "\n",
      " [[ 1.00000e+00  5.00000e+00 -3.90625e-04 -4.01042e-04  3.77604e-04]\n",
      "  [ 0.00000e+00  1.00000e+00 -1.56250e-04 -3.90625e-04  1.30208e-03]\n",
      "  [ 0.00000e+00  0.00000e+00  1.00000e+00  5.00000e+00 -2.50000e+01]\n",
      "  [ 0.00000e+00  0.00000e+00  0.00000e+00  1.00000e+00 -1.00000e+01]\n",
      "  [ 0.00000e+00  0.00000e+00  0.00000e+00  0.00000e+00  1.00000e+00]]\n",
      "\n",
      " [[ 1.00000e+00  1.00000e+01 -1.56250e-03 -4.70833e-03  2.10417e-02]\n",
      "  [ 0.00000e+00  1.00000e+00 -3.12500e-04 -1.56250e-03  1.04167e-02]\n",
      "  [ 0.00000e+00  0.00000e+00  1.00000e+00  1.00000e+01 -1.00000e+02]\n",
      "  [ 0.00000e+00  0.00000e+00  0.00000e+00  1.00000e+00 -2.00000e+01]\n",
      "  [ 0.00000e+00  0.00000e+00  0.00000e+00  0.00000e+00  1.00000e+00]]]\n"
     ]
    }
   ],
   "source": [
    "import stanpy as stp\n",
    "\n",
    "l = 5 #m\n",
    "s1 = {\"EI\":32000, \"GA\":20000, \"l\":l, \"q\":2}\n",
    "s2 = {\"EI\":32000, \"GA\":20000, \"l\":l, \"q\":2}\n",
    "s = [s1,s2]\n",
    "\n",
    "Fik = stp.tr(*s, x=np.linspace(0, 2*l, 3))\n",
    "print(Fik)"
   ]
  },
  {
   "cell_type": "code",
   "execution_count": 8,
   "id": "6cb39e99",
   "metadata": {
    "execution": {
     "iopub.execute_input": "2022-03-12T07:51:53.259372Z",
     "iopub.status.busy": "2022-03-12T07:51:53.258374Z",
     "iopub.status.idle": "2022-03-12T07:51:53.270371Z",
     "shell.execute_reply": "2022-03-12T07:51:53.270371Z"
    }
   },
   "outputs": [
    {
     "name": "stdout",
     "output_type": "stream",
     "text": [
      "[[ 0.00000e+00  0.00000e+00  0.00000e+00  0.00000e+00  1.00000e+00]\n",
      " [-2.10775e-04  1.62760e-04 -6.25000e+00 -5.00000e+00  1.00000e+00]\n",
      " [ 3.77604e-04  1.30208e-03 -2.50000e+01 -1.00000e+01  1.00000e+00]]\n"
     ]
    }
   ],
   "source": [
    "import stanpy as stp\n",
    "\n",
    "l = 5 #m\n",
    "s = {\"EI\":32000, \"GA\":20000, \"l\":l, \"q\":2}\n",
    "load_integral_Q = stp.calc_load_integral_Q(x=[0,l/2,l],**s)\n",
    "print(load_integral_Q)"
   ]
  },
  {
   "cell_type": "code",
   "execution_count": 9,
   "id": "6179ca72",
   "metadata": {
    "execution": {
     "iopub.execute_input": "2022-03-12T07:51:53.274372Z",
     "iopub.status.busy": "2022-03-12T07:51:53.273374Z",
     "iopub.status.idle": "2022-03-12T07:51:53.285368Z",
     "shell.execute_reply": "2022-03-12T07:51:53.285368Z"
    }
   },
   "outputs": [
    {
     "name": "stdout",
     "output_type": "stream",
     "text": [
      "[[ 1.00000e+00  5.00000e+00 -3.90625e-04 -9.01042e-04  3.77604e-04]\n",
      " [ 0.00000e+00  1.00000e+00 -3.90625e-04 -9.01042e-04  1.30208e-03]\n",
      " [ 0.00000e+00  0.00000e+00  1.00000e+00  5.00000e+00 -2.50000e+01]\n",
      " [ 0.00000e+00  0.00000e+00 -0.00000e+00  1.00000e+00 -1.00000e+01]\n",
      " [ 0.00000e+00  0.00000e+00  0.00000e+00  0.00000e+00  1.00000e+00]]\n"
     ]
    }
   ],
   "source": [
    "import stanpy as stp\n",
    "\n",
    "l = 5 #m\n",
    "s = {\"EI\":32000, \"GA\":20000, \"l\":l, \"q\":2}\n",
    "Fik = stp.tr_Q(**s)\n",
    "print(Fik)"
   ]
  },
  {
   "cell_type": "code",
   "execution_count": 10,
   "id": "cd0ae308",
   "metadata": {
    "execution": {
     "iopub.execute_input": "2022-03-12T07:51:53.289372Z",
     "iopub.status.busy": "2022-03-12T07:51:53.288368Z",
     "iopub.status.idle": "2022-03-12T07:51:53.300370Z",
     "shell.execute_reply": "2022-03-12T07:51:53.300370Z"
    }
   },
   "outputs": [
    {
     "name": "stdout",
     "output_type": "stream",
     "text": [
      "[[ 0.00000e+00  0.00000e+00  0.00000e+00 -0.00000e+00  1.00000e+00]\n",
      " [-2.17002e-04  1.69574e-04 -6.46700e+00 -5.00000e+00  1.00000e+00]\n",
      " [ 4.38933e-04  1.31535e-03 -2.45611e+01 -1.00000e+01  1.00000e+00]]\n"
     ]
    }
   ],
   "source": [
    "import stanpy as stp\n",
    "\n",
    "l = 5 #m\n",
    "s = {\"EI\":32000, \"GA\":20000, \"l\":l, \"q\":2, \"N\":-1000}\n",
    "load_integral_R = stp.calc_load_integral_R(x=[0,l/2,l],**s)\n",
    "print(load_integral_R)"
   ]
  },
  {
   "cell_type": "code",
   "execution_count": 11,
   "id": "d524d19b",
   "metadata": {
    "execution": {
     "iopub.execute_input": "2022-03-12T07:51:53.304373Z",
     "iopub.status.busy": "2022-03-12T07:51:53.303369Z",
     "iopub.status.idle": "2022-03-12T07:51:53.315368Z",
     "shell.execute_reply": "2022-03-12T07:51:53.315368Z"
    }
   },
   "outputs": [
    {
     "name": "stdout",
     "output_type": "stream",
     "text": [
      "[[ 1.00000e+00  4.57087e+00 -3.83767e-04 -4.29130e-04  4.38933e-04]\n",
      " [ 0.00000e+00  6.16233e-01 -1.35698e-04 -3.83767e-04  1.31535e-03]\n",
      " [ 0.00000e+00  4.57087e+03  6.16233e-01  4.57087e+00 -2.45611e+01]\n",
      " [ 0.00000e+00  0.00000e+00  0.00000e+00  1.00000e+00 -1.00000e+01]\n",
      " [ 0.00000e+00  0.00000e+00  0.00000e+00  0.00000e+00  1.00000e+00]]"
     ]
    },
    {
     "name": "stdout",
     "output_type": "stream",
     "text": [
      "\n"
     ]
    }
   ],
   "source": [
    "import stanpy as stp\n",
    "\n",
    "l = 5 #m\n",
    "s = {\"EI\":32000, \"GA\":20000, \"l\":l, \"q\":2, \"N\":-1000}\n",
    "Fik = stp.tr_R(**s)\n",
    "print(Fik)"
   ]
  },
  {
   "cell_type": "code",
   "execution_count": 12,
   "id": "e67f88ee",
   "metadata": {
    "execution": {
     "iopub.execute_input": "2022-03-12T07:51:53.318374Z",
     "iopub.status.busy": "2022-03-12T07:51:53.318374Z",
     "iopub.status.idle": "2022-03-12T07:51:53.375374Z",
     "shell.execute_reply": "2022-03-12T07:51:53.375374Z"
    }
   },
   "outputs": [
    {
     "name": "stdout",
     "output_type": "stream",
     "text": [
      "[[ 0.00000e+00  0.00000e+00  0.00000e+00  0.00000e+00  1.00000e+00]\n",
      " [ 1.18053e-04  2.94153e-04 -1.12500e+01 -1.50000e+01  1.00000e+00]\n",
      " [ 1.47479e-03  1.73666e-03 -4.50000e+01 -3.00000e+01  1.00000e+00]]\n"
     ]
    }
   ],
   "source": [
    "import stanpy as stp\n",
    "\n",
    "x = sym.Symbol(\"x\")\n",
    "E = 3*10**7  # kN/m2\n",
    "b = 0.2  # m\n",
    "hi = 0.3  # m\n",
    "hk = 0.4  # m\n",
    "l = 3  # m\n",
    "hx = hi + (hk - hi) / l * x\n",
    "\n",
    "cs_props = stp.cs(b=b, h=hx)\n",
    "s = {\"E\": E, \"cs\": cs_props, \"l\": l, \"q\":10}\n",
    "load_integral_Q = stp.calc_load_integral_Q_poly(x=[0,l/2,l],**s)\n",
    "\n",
    "print(load_integral_Q)"
   ]
  },
  {
   "cell_type": "code",
   "execution_count": 13,
   "id": "b8b4cea2",
   "metadata": {
    "execution": {
     "iopub.execute_input": "2022-03-12T07:51:53.379375Z",
     "iopub.status.busy": "2022-03-12T07:51:53.378373Z",
     "iopub.status.idle": "2022-03-12T07:51:53.405368Z",
     "shell.execute_reply": "2022-03-12T07:51:53.405368Z"
    }
   },
   "outputs": [
    {
     "name": "stdout",
     "output_type": "stream",
     "text": [
      "[[ 1.00000e+00  3.00000e+00 -2.50000e-04 -2.15168e-04  1.47479e-03]\n",
      " [ 0.00000e+00  1.00000e+00 -1.45833e-04 -1.87500e-04  1.73666e-03]\n",
      " [ 0.00000e+00  0.00000e+00  1.00000e+00  3.00000e+00 -4.50000e+01]\n",
      " [ 0.00000e+00  0.00000e+00  0.00000e+00  1.00000e+00 -3.00000e+01]\n",
      " [ 0.00000e+00  0.00000e+00  0.00000e+00  0.00000e+00  1.00000e+00]]\n"
     ]
    }
   ],
   "source": [
    "import stanpy as stp\n",
    "\n",
    "x = sym.Symbol(\"x\")\n",
    "E = 3*10**7  # kN/m2\n",
    "b = 0.2  # m\n",
    "hi = 0.3  # m\n",
    "hk = 0.4  # m\n",
    "l = 3  # m\n",
    "hx = hi + (hk - hi) / l * x\n",
    "\n",
    "cs_props = stp.cs(b=b, h=hx)\n",
    "s = {\"E\": E, \"cs\": cs_props, \"l\": l, \"q\":10}\n",
    "\n",
    "Fik = stp.tr_Q_poly(**s)\n",
    "print(Fik)"
   ]
  },
  {
   "cell_type": "code",
   "execution_count": 14,
   "id": "a71c251e",
   "metadata": {
    "execution": {
     "iopub.execute_input": "2022-03-12T07:51:53.409374Z",
     "iopub.status.busy": "2022-03-12T07:51:53.409374Z",
     "iopub.status.idle": "2022-03-12T07:51:53.435368Z",
     "shell.execute_reply": "2022-03-12T07:51:53.435368Z"
    }
   },
   "outputs": [
    {
     "name": "stdout",
     "output_type": "stream",
     "text": [
      "[[ 0.00000e+00  0.00000e+00  0.00000e+00 -0.00000e+00  1.00000e+00]\n",
      " [ 1.17545e-04  2.92291e-04 -1.11325e+01 -1.50000e+01  1.00000e+00]\n",
      " [ 1.45456e-03  1.70226e-03 -4.35454e+01 -3.00000e+01  1.00000e+00]]\n"
     ]
    }
   ],
   "source": [
    "import stanpy as stp\n",
    "\n",
    "x = sym.Symbol(\"x\")\n",
    "E = 3*10**7  # kN/m2\n",
    "b = 0.2  # m\n",
    "hi = 0.3  # m\n",
    "hk = 0.4  # m\n",
    "l = 3  # m\n",
    "hx = hi + (hk - hi) / l * x\n",
    "\n",
    "cs_props = stp.cs(b=b, h=hx)\n",
    "s = {\"E\": E, \"cs\": cs_props, \"l\": l, \"q\":10, \"N\":-1000}\n",
    "load_integral_R = stp.calc_load_integral_R_poly(x=[0,l/2,l],**s)\n",
    "\n",
    "print(load_integral_R)"
   ]
  },
  {
   "cell_type": "code",
   "execution_count": 15,
   "id": "374efbe6",
   "metadata": {
    "execution": {
     "iopub.execute_input": "2022-03-12T07:51:53.439375Z",
     "iopub.status.busy": "2022-03-12T07:51:53.438375Z",
     "iopub.status.idle": "2022-03-12T07:51:53.465368Z",
     "shell.execute_reply": "2022-03-12T07:51:53.465368Z"
    }
   },
   "outputs": [
    {
     "name": "stdout",
     "output_type": "stream",
     "text": [
      "[[ 1.00000e+00  2.78942e+00 -2.40910e-04 -2.10583e-04  1.45456e-03]\n",
      " [ 0.00000e+00  8.18939e-01 -1.35638e-04 -1.81061e-04  1.70226e-03]\n",
      " [ 0.00000e+00  2.78942e+03  7.59090e-01  2.78942e+00 -4.35454e+01]\n",
      " [ 0.00000e+00  0.00000e+00  0.00000e+00  1.00000e+00 -3.00000e+01]\n",
      " [ 0.00000e+00  0.00000e+00  0.00000e+00  0.00000e+00  1.00000e+00]]\n"
     ]
    }
   ],
   "source": [
    "import stanpy as stp\n",
    "\n",
    "x = sym.Symbol(\"x\")\n",
    "E = 3*10**7  # kN/m2\n",
    "b = 0.2  # m\n",
    "hi = 0.3  # m\n",
    "hk = 0.4  # m\n",
    "l = 3  # m\n",
    "hx = hi + (hk - hi) / l * x\n",
    "\n",
    "cs_props = stp.cs(b=b, h=hx)\n",
    "s = {\"E\": E, \"cs\": cs_props, \"l\": l, \"q\":10, \"N\":-1000}\n",
    "\n",
    "Fik = stp.tr_R_poly(**s)\n",
    "print(Fik)"
   ]
  }
 ],
 "metadata": {
  "kernelspec": {
   "display_name": "Python 3 (ipykernel)",
   "language": "python",
   "name": "python3"
  },
  "language_info": {
   "codemirror_mode": {
    "name": "ipython",
    "version": 3
   },
   "file_extension": ".py",
   "mimetype": "text/x-python",
   "name": "python",
   "nbconvert_exporter": "python",
   "pygments_lexer": "ipython3",
   "version": "3.9.7"
  }
 },
 "nbformat": 4,
 "nbformat_minor": 5
}