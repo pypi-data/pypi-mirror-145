{
 "cells": [
  {
   "cell_type": "code",
   "execution_count": 1,
   "id": "b2d29072",
   "metadata": {
    "execution": {
     "iopub.execute_input": "2022-04-07T08:52:41.803085Z",
     "iopub.status.busy": "2022-04-07T08:52:41.803085Z",
     "iopub.status.idle": "2022-04-07T08:52:41.963083Z",
     "shell.execute_reply": "2022-04-07T08:52:41.963083Z"
    }
   },
   "outputs": [],
   "source": [
    "import numpy as np\n",
    "np.set_printoptions(precision=5)"
   ]
  },
  {
   "cell_type": "code",
   "execution_count": 2,
   "id": "d96bf373",
   "metadata": {
    "execution": {
     "iopub.execute_input": "2022-04-07T08:52:41.967089Z",
     "iopub.status.busy": "2022-04-07T08:52:41.967089Z",
     "iopub.status.idle": "2022-04-07T08:52:44.333090Z",
     "shell.execute_reply": "2022-04-07T08:52:44.333090Z"
    }
   },
   "outputs": [
    {
     "name": "stdout",
     "output_type": "stream",
     "text": [
      "1.0526315789473684 -0.03289473684210526\n"
     ]
    }
   ],
   "source": [
    "import stanpy as stp\n",
    "\n",
    "s = {\"EI\":32000, \"GA\":20000, \"N\":-1000}\n",
    "gamma, K = stp.gamma_K(**s)\n",
    "print(gamma, K)"
   ]
  },
  {
   "cell_type": "code",
   "execution_count": 3,
   "id": "d0ca3bb8",
   "metadata": {
    "execution": {
     "iopub.execute_input": "2022-04-07T08:52:44.337088Z",
     "iopub.status.busy": "2022-04-07T08:52:44.336089Z",
     "iopub.status.idle": "2022-04-07T08:52:44.348082Z",
     "shell.execute_reply": "2022-04-07T08:52:44.348082Z"
    }
   },
   "outputs": [
    {
     "name": "stdout",
     "output_type": "stream",
     "text": [
      "[[0.      0.      0.      0.      0.      0.     ]\n",
      " [1.      0.      0.      0.      0.      0.     ]\n",
      " [1.      2.      2.      1.33333 0.66667 0.26667]\n",
      " [1.      3.      4.5     4.5     3.375   2.025  ]]\n"
     ]
    }
   ],
   "source": [
    "import stanpy as stp\n",
    "\n",
    "aj = stp.aj(x=[-1,0,2,3],n=5)\n",
    "print(aj)"
   ]
  },
  {
   "cell_type": "code",
   "execution_count": 4,
   "id": "4b856628",
   "metadata": {
    "execution": {
     "iopub.execute_input": "2022-04-07T08:52:44.352088Z",
     "iopub.status.busy": "2022-04-07T08:52:44.351083Z",
     "iopub.status.idle": "2022-04-07T08:52:44.363082Z",
     "shell.execute_reply": "2022-04-07T08:52:44.363082Z"
    }
   },
   "outputs": [
    {
     "name": "stdout",
     "output_type": "stream",
     "text": [
      "[[0.      0.      0.      0.      0.      0.     ]\n",
      " [1.      0.      0.      0.      0.      0.     ]\n",
      " [0.93493 1.95643 1.97817 1.32459 0.66375 0.26583]\n",
      " [0.85559 2.85415 4.39007 4.43386 3.34187 2.01078]]\n"
     ]
    }
   ],
   "source": [
    "import stanpy as stp\n",
    "\n",
    "s = {\"EI\":32000, \"GA\":20000, \"N\":-1000}\n",
    "bj = stp.bj(x=[-1,0,2,3],**s)\n",
    "print(bj)"
   ]
  },
  {
   "cell_type": "code",
   "execution_count": 5,
   "id": "e75bd511",
   "metadata": {
    "execution": {
     "iopub.execute_input": "2022-04-07T08:52:44.367089Z",
     "iopub.status.busy": "2022-04-07T08:52:44.366088Z",
     "iopub.status.idle": "2022-04-07T08:52:44.573085Z",
     "shell.execute_reply": "2022-04-07T08:52:44.573085Z"
    }
   },
   "outputs": [
    {
     "name": "stdout",
     "output_type": "stream",
     "text": [
      "[[[ 0.       0.       0.54545 -0.1898   0.04869]\n",
      "  [ 0.       0.      -1.1405   0.59504 -0.20262]]\n",
      "\n",
      " [[ 1.       0.       0.       0.       0.     ]\n",
      "  [ 0.       1.       0.       0.       0.     ]]\n",
      "\n",
      " [[ 1.       2.       1.71429  1.0562   0.50369]\n",
      "  [ 0.       1.       1.59184  1.46939  0.94129]]\n",
      "\n",
      " [[ 1.       3.       3.6      3.20794  2.24511]\n",
      "  [ 0.       1.       2.16     2.88     2.71603]]\n",
      "\n",
      " [[ 1.       4.       6.       6.88538  6.29242]\n",
      "  [ 0.       1.       2.625    4.5      5.55731]]]\n"
     ]
    }
   ],
   "source": [
    "import sympy as sym\n",
    "import stanpy as stp\n",
    "\n",
    "x = sym.Symbol(\"x\")\n",
    "E = 32000  # kN/m2\n",
    "b = 0.2  # m\n",
    "ha = hb = 0.3  # m\n",
    "hc = 0.4  # m\n",
    "l = 4  # m\n",
    "hx = ha + (hc - hb) / l * x\n",
    "\n",
    "cs_props = stp.cs(b=b, h=hx)\n",
    "s = {\"E\": E, \"cs\": cs_props, \"l\": l}\n",
    "bj = stp.bj(x=[-1,0,2,3,4],**s)\n",
    "print(bj)"
   ]
  },
  {
   "cell_type": "code",
   "execution_count": 6,
   "id": "34ad1605",
   "metadata": {
    "execution": {
     "iopub.execute_input": "2022-04-07T08:52:44.577090Z",
     "iopub.status.busy": "2022-04-07T08:52:44.577090Z",
     "iopub.status.idle": "2022-04-07T08:52:44.663083Z",
     "shell.execute_reply": "2022-04-07T08:52:44.663083Z"
    }
   },
   "outputs": [
    {
     "name": "stdout",
     "output_type": "stream",
     "text": [
      "[[ 1.69052e-02 -7.03552e-02  0.00000e+00 -0.00000e+00  1.00000e+00]\n",
      " [ 0.00000e+00  0.00000e+00  0.00000e+00 -0.00000e+00  1.00000e+00]\n",
      " [ 1.74893e-01  3.26837e-01 -1.00000e+01 -1.00000e+01  1.00000e+00]\n",
      " [ 7.79550e-01  9.43065e-01 -2.25000e+01 -1.50000e+01  1.00000e+00]\n",
      " [ 2.18487e+00  1.92962e+00 -4.00000e+01 -2.00000e+01  1.00000e+00]]\n"
     ]
    }
   ],
   "source": [
    "import sympy as sym\n",
    "import stanpy as stp\n",
    "\n",
    "x = sym.Symbol(\"x\")\n",
    "E = 32000  # kN/m2\n",
    "b = 0.2  # m\n",
    "ha = hb = 0.3  # m\n",
    "hc = 0.4  # m\n",
    "l = 4  # m\n",
    "q = 5 # kN/m\n",
    "hx = ha + (hc - hb) / l * x\n",
    "\n",
    "cs_props = stp.cs(b=b, h=hx)\n",
    "s = {\"E\": E, \"cs\": cs_props, \"l\": l, \"q\":q}\n",
    "li = stp.load_integral(x=[-1,0,2,3,4],**s)\n",
    "print(li)"
   ]
  },
  {
   "cell_type": "code",
   "execution_count": 7,
   "id": "d126721d",
   "metadata": {
    "execution": {
     "iopub.execute_input": "2022-04-07T08:52:44.667088Z",
     "iopub.status.busy": "2022-04-07T08:52:44.667088Z",
     "iopub.status.idle": "2022-04-07T08:52:44.678083Z",
     "shell.execute_reply": "2022-04-07T08:52:44.678083Z"
    }
   },
   "outputs": [
    {
     "name": "stdout",
     "output_type": "stream",
     "text": [
      "[[[ 1.00000e+00  0.00000e+00  0.00000e+00  0.00000e+00  0.00000e+00]\n",
      "  [ 0.00000e+00  1.00000e+00  0.00000e+00  0.00000e+00  0.00000e+00]\n",
      "  [ 0.00000e+00  0.00000e+00  1.00000e+00  0.00000e+00  0.00000e+00]\n",
      "  [ 0.00000e+00  0.00000e+00  0.00000e+00  1.00000e+00  0.00000e+00]\n",
      "  [ 0.00000e+00  0.00000e+00  0.00000e+00  0.00000e+00  1.00000e+00]]\n",
      "\n",
      " [[ 1.00000e+00  2.50000e+00 -9.76563e-05  4.36198e-05 -2.10775e-04]\n",
      "  [ 0.00000e+00  1.00000e+00 -7.81250e-05 -9.76563e-05  1.62760e-04]\n",
      "  [ 0.00000e+00  0.00000e+00  1.00000e+00  2.50000e+00 -6.25000e+00]\n",
      "  [ 0.00000e+00  0.00000e+00  0.00000e+00  1.00000e+00 -5.00000e+00]\n",
      "  [ 0.00000e+00  0.00000e+00  0.00000e+00  0.00000e+00  1.00000e+00]]\n",
      "\n",
      " [[ 1.00000e+00  5.00000e+00 -3.90625e-04 -4.01042e-04  3.77604e-04]\n",
      "  [ 0.00000e+00  1.00000e+00 -1.56250e-04 -3.90625e-04  1.30208e-03]\n",
      "  [ 0.00000e+00  0.00000e+00  1.00000e+00  5.00000e+00 -2.50000e+01]\n",
      "  [ 0.00000e+00  0.00000e+00  0.00000e+00  1.00000e+00 -1.00000e+01]\n",
      "  [ 0.00000e+00  0.00000e+00  0.00000e+00  0.00000e+00  1.00000e+00]]]\n"
     ]
    }
   ],
   "source": [
    "import stanpy as stp\n",
    "\n",
    "l = 5 #m\n",
    "s = {\"EI\":32000, \"GA\":20000, \"l\":l, \"q\":2}\n",
    "Fik = stp.tr(s, x=[0,l/2,l])\n",
    "print(Fik)"
   ]
  },
  {
   "cell_type": "code",
   "execution_count": 8,
   "id": "f14dc8d8",
   "metadata": {
    "execution": {
     "iopub.execute_input": "2022-04-07T08:52:44.681085Z",
     "iopub.status.busy": "2022-04-07T08:52:44.681085Z",
     "iopub.status.idle": "2022-04-07T08:52:44.693083Z",
     "shell.execute_reply": "2022-04-07T08:52:44.693083Z"
    }
   },
   "outputs": [
    {
     "name": "stdout",
     "output_type": "stream",
     "text": [
      "[[[ 1.00000e+00  0.00000e+00  0.00000e+00  0.00000e+00  0.00000e+00]\n",
      "  [ 0.00000e+00  1.00000e+00  0.00000e+00  0.00000e+00  0.00000e+00]\n",
      "  [ 0.00000e+00  0.00000e+00  1.00000e+00  0.00000e+00  0.00000e+00]\n",
      "  [ 0.00000e+00  0.00000e+00  0.00000e+00  1.00000e+00  0.00000e+00]\n",
      "  [ 0.00000e+00  0.00000e+00  0.00000e+00  0.00000e+00  1.00000e+00]]\n",
      "\n",
      " [[ 1.00000e+00  5.00000e+00 -3.90625e-04 -4.01042e-04  3.77604e-04]\n",
      "  [ 0.00000e+00  1.00000e+00 -1.56250e-04 -3.90625e-04  1.30208e-03]\n",
      "  [ 0.00000e+00  0.00000e+00  1.00000e+00  5.00000e+00 -2.50000e+01]\n",
      "  [ 0.00000e+00  0.00000e+00  0.00000e+00  1.00000e+00 -1.00000e+01]\n",
      "  [ 0.00000e+00  0.00000e+00  0.00000e+00  0.00000e+00  1.00000e+00]]\n",
      "\n",
      " [[ 1.00000e+00  1.00000e+01 -1.56250e-03 -4.70833e-03  2.10417e-02]\n",
      "  [ 0.00000e+00  1.00000e+00 -3.12500e-04 -1.56250e-03  1.04167e-02]\n",
      "  [ 0.00000e+00  0.00000e+00  1.00000e+00  1.00000e+01 -1.00000e+02]\n",
      "  [ 0.00000e+00  0.00000e+00  0.00000e+00  1.00000e+00 -2.00000e+01]\n",
      "  [ 0.00000e+00  0.00000e+00  0.00000e+00  0.00000e+00  1.00000e+00]]]\n"
     ]
    }
   ],
   "source": [
    "import stanpy as stp\n",
    "\n",
    "l = 5 #m\n",
    "s1 = {\"EI\":32000, \"GA\":20000, \"l\":l, \"q\":2}\n",
    "s2 = {\"EI\":32000, \"GA\":20000, \"l\":l, \"q\":2}\n",
    "s = [s1,s2]\n",
    "\n",
    "Fik = stp.tr(*s, x=np.linspace(0, 2*l, 3))\n",
    "print(Fik)"
   ]
  },
  {
   "cell_type": "code",
   "execution_count": 9,
   "id": "adf1d250",
   "metadata": {
    "execution": {
     "iopub.execute_input": "2022-04-07T08:52:44.697086Z",
     "iopub.status.busy": "2022-04-07T08:52:44.696085Z",
     "iopub.status.idle": "2022-04-07T08:52:44.708083Z",
     "shell.execute_reply": "2022-04-07T08:52:44.708083Z"
    }
   },
   "outputs": [
    {
     "name": "stdout",
     "output_type": "stream",
     "text": [
      "[[ 0.00000e+00  0.00000e+00  0.00000e+00  0.00000e+00  1.00000e+00]\n",
      " [-2.10775e-04  1.62760e-04 -6.25000e+00 -5.00000e+00  1.00000e+00]\n",
      " [ 3.77604e-04  1.30208e-03 -2.50000e+01 -1.00000e+01  1.00000e+00]]\n"
     ]
    }
   ],
   "source": [
    "import stanpy as stp\n",
    "\n",
    "l = 5 #m\n",
    "s = {\"EI\":32000, \"GA\":20000, \"l\":l, \"q\":2}\n",
    "load_integral_Q = stp.calc_load_integral_Q(x=[0,l/2,l],**s)\n",
    "print(load_integral_Q)"
   ]
  },
  {
   "cell_type": "code",
   "execution_count": 10,
   "id": "908d2f22",
   "metadata": {
    "execution": {
     "iopub.execute_input": "2022-04-07T08:52:44.712089Z",
     "iopub.status.busy": "2022-04-07T08:52:44.712089Z",
     "iopub.status.idle": "2022-04-07T08:52:44.723082Z",
     "shell.execute_reply": "2022-04-07T08:52:44.723082Z"
    }
   },
   "outputs": [
    {
     "name": "stdout",
     "output_type": "stream",
     "text": [
      "[[ 1.00000e+00  5.00000e+00 -3.90625e-04 -9.01042e-04  3.77604e-04]\n",
      " [ 0.00000e+00  1.00000e+00 -3.90625e-04 -9.01042e-04  1.30208e-03]\n",
      " [ 0.00000e+00  0.00000e+00  1.00000e+00  5.00000e+00 -2.50000e+01]\n",
      " [ 0.00000e+00  0.00000e+00 -0.00000e+00  1.00000e+00 -1.00000e+01]\n",
      " [ 0.00000e+00  0.00000e+00  0.00000e+00  0.00000e+00  1.00000e+00]]\n"
     ]
    }
   ],
   "source": [
    "import stanpy as stp\n",
    "\n",
    "l = 5 #m\n",
    "s = {\"EI\":32000, \"GA\":20000, \"l\":l, \"q\":2}\n",
    "Fik = stp.tr_Q(**s)\n",
    "print(Fik)"
   ]
  },
  {
   "cell_type": "code",
   "execution_count": 11,
   "id": "594babf5",
   "metadata": {
    "execution": {
     "iopub.execute_input": "2022-04-07T08:52:44.727088Z",
     "iopub.status.busy": "2022-04-07T08:52:44.726083Z",
     "iopub.status.idle": "2022-04-07T08:52:44.738082Z",
     "shell.execute_reply": "2022-04-07T08:52:44.738082Z"
    }
   },
   "outputs": [
    {
     "name": "stdout",
     "output_type": "stream",
     "text": [
      "[[ 0.00000e+00  0.00000e+00  0.00000e+00 -0.00000e+00  1.00000e+00]\n",
      " [-2.17002e-04  1.69574e-04 -6.46700e+00 -5.00000e+00  1.00000e+00]\n",
      " [ 4.38933e-04  1.31535e-03 -2.45611e+01 -1.00000e+01  1.00000e+00]]\n"
     ]
    }
   ],
   "source": [
    "import stanpy as stp\n",
    "\n",
    "l = 5 #m\n",
    "s = {\"EI\":32000, \"GA\":20000, \"l\":l, \"q\":2, \"N\":-1000}\n",
    "load_integral_R = stp.calc_load_integral_R(x=[0,l/2,l],**s)\n",
    "print(load_integral_R)"
   ]
  },
  {
   "cell_type": "code",
   "execution_count": 12,
   "id": "48dad35e",
   "metadata": {
    "execution": {
     "iopub.execute_input": "2022-04-07T08:52:44.742090Z",
     "iopub.status.busy": "2022-04-07T08:52:44.741084Z",
     "iopub.status.idle": "2022-04-07T08:52:44.753082Z",
     "shell.execute_reply": "2022-04-07T08:52:44.753082Z"
    }
   },
   "outputs": [
    {
     "name": "stdout",
     "output_type": "stream",
     "text": [
      "[[ 1.00000e+00  4.57087e+00 -3.83767e-04 -4.29130e-04  4.38933e-04]\n",
      " [ 0.00000e+00  6.16233e-01 -1.35698e-04 -3.83767e-04  1.31535e-03]\n",
      " [ 0.00000e+00  4.57087e+03  6.16233e-01  4.57087e+00 -2.45611e+01]\n",
      " [ 0.00000e+00  0.00000e+00  0.00000e+00  1.00000e+00 -1.00000e+01]\n",
      " [ 0.00000e+00  0.00000e+00  0.00000e+00  0.00000e+00  1.00000e+00]]\n"
     ]
    }
   ],
   "source": [
    "import stanpy as stp\n",
    "\n",
    "l = 5 #m\n",
    "s = {\"EI\":32000, \"GA\":20000, \"l\":l, \"q\":2, \"N\":-1000}\n",
    "Fik = stp.tr_R(**s)\n",
    "print(Fik)"
   ]
  },
  {
   "cell_type": "code",
   "execution_count": 13,
   "id": "14aeb0af",
   "metadata": {
    "execution": {
     "iopub.execute_input": "2022-04-07T08:52:44.757089Z",
     "iopub.status.busy": "2022-04-07T08:52:44.756089Z",
     "iopub.status.idle": "2022-04-07T08:52:44.858083Z",
     "shell.execute_reply": "2022-04-07T08:52:44.858083Z"
    }
   },
   "outputs": [
    {
     "name": "stdout",
     "output_type": "stream",
     "text": [
      "[[ 0.00000e+00  0.00000e+00  0.00000e+00  0.00000e+00  1.00000e+00]\n",
      " [ 1.18053e-04  2.94153e-04 -1.12500e+01 -1.50000e+01  1.00000e+00]\n",
      " [ 1.47479e-03  1.73666e-03 -4.50000e+01 -3.00000e+01  1.00000e+00]]\n"
     ]
    }
   ],
   "source": [
    "import stanpy as stp\n",
    "\n",
    "x = sym.Symbol(\"x\")\n",
    "E = 3*10**7  # kN/m2\n",
    "b = 0.2  # m\n",
    "hi = 0.3  # m\n",
    "hk = 0.4  # m\n",
    "l = 3  # m\n",
    "hx = hi + (hk - hi) / l * x\n",
    "\n",
    "cs_props = stp.cs(b=b, h=hx)\n",
    "s = {\"E\": E, \"cs\": cs_props, \"l\": l, \"q\":10}\n",
    "load_integral_Q = stp.calc_load_integral_Q_poly(x=[0,l/2,l],**s)\n",
    "\n",
    "print(load_integral_Q)"
   ]
  },
  {
   "cell_type": "code",
   "execution_count": 14,
   "id": "2de91394",
   "metadata": {
    "execution": {
     "iopub.execute_input": "2022-04-07T08:52:44.862089Z",
     "iopub.status.busy": "2022-04-07T08:52:44.861089Z",
     "iopub.status.idle": "2022-04-07T08:52:44.933086Z",
     "shell.execute_reply": "2022-04-07T08:52:44.933086Z"
    }
   },
   "outputs": [
    {
     "name": "stdout",
     "output_type": "stream",
     "text": [
      "[[ 1.00000e+00  3.00000e+00 -2.50000e-04 -2.15168e-04  1.47479e-03]\n",
      " [ 0.00000e+00  1.00000e+00 -1.45833e-04 -1.87500e-04  1.73666e-03]\n",
      " [ 0.00000e+00  0.00000e+00  1.00000e+00  3.00000e+00 -4.50000e+01]\n",
      " [ 0.00000e+00  0.00000e+00  0.00000e+00  1.00000e+00 -3.00000e+01]\n",
      " [ 0.00000e+00  0.00000e+00  0.00000e+00  0.00000e+00  1.00000e+00]]\n"
     ]
    }
   ],
   "source": [
    "import stanpy as stp\n",
    "\n",
    "x = sym.Symbol(\"x\")\n",
    "E = 3*10**7  # kN/m2\n",
    "b = 0.2  # m\n",
    "hi = 0.3  # m\n",
    "hk = 0.4  # m\n",
    "l = 3  # m\n",
    "hx = hi + (hk - hi) / l * x\n",
    "\n",
    "cs_props = stp.cs(b=b, h=hx)\n",
    "s = {\"E\": E, \"cs\": cs_props, \"l\": l, \"q\":10}\n",
    "\n",
    "Fik = stp.tr_Q_poly(**s)\n",
    "print(Fik)"
   ]
  },
  {
   "cell_type": "code",
   "execution_count": 15,
   "id": "48e3ad87",
   "metadata": {
    "execution": {
     "iopub.execute_input": "2022-04-07T08:52:44.937087Z",
     "iopub.status.busy": "2022-04-07T08:52:44.936083Z",
     "iopub.status.idle": "2022-04-07T08:52:45.068115Z",
     "shell.execute_reply": "2022-04-07T08:52:45.068115Z"
    }
   },
   "outputs": [
    {
     "name": "stdout",
     "output_type": "stream",
     "text": [
      "[[ 0.00000e+00  0.00000e+00  0.00000e+00 -0.00000e+00  1.00000e+00]\n",
      " [ 1.17545e-04  2.92291e-04 -1.11325e+01 -1.50000e+01  1.00000e+00]\n",
      " [ 1.45456e-03  1.70226e-03 -4.35454e+01 -3.00000e+01  1.00000e+00]]\n"
     ]
    }
   ],
   "source": [
    "import stanpy as stp\n",
    "\n",
    "x = sym.Symbol(\"x\")\n",
    "E = 3*10**7  # kN/m2\n",
    "b = 0.2  # m\n",
    "hi = 0.3  # m\n",
    "hk = 0.4  # m\n",
    "l = 3  # m\n",
    "hx = hi + (hk - hi) / l * x\n",
    "\n",
    "cs_props = stp.cs(b=b, h=hx)\n",
    "s = {\"E\": E, \"cs\": cs_props, \"l\": l, \"q\":10, \"N\":-1000}\n",
    "load_integral_R = stp.calc_load_integral_R_poly(x=[0,l/2,l],**s)\n",
    "\n",
    "print(load_integral_R)"
   ]
  },
  {
   "cell_type": "code",
   "execution_count": 16,
   "id": "baf23259",
   "metadata": {
    "execution": {
     "iopub.execute_input": "2022-04-07T08:52:45.072117Z",
     "iopub.status.busy": "2022-04-07T08:52:45.071117Z",
     "iopub.status.idle": "2022-04-07T08:52:45.173114Z",
     "shell.execute_reply": "2022-04-07T08:52:45.173114Z"
    }
   },
   "outputs": [
    {
     "name": "stdout",
     "output_type": "stream",
     "text": [
      "[[ 1.00000e+00  2.78942e+00 -2.40910e-04 -2.10583e-04  1.45456e-03]\n",
      " [ 0.00000e+00  8.18939e-01 -1.35638e-04 -1.81061e-04  1.70226e-03]\n",
      " [ 0.00000e+00  2.78942e+03  7.59090e-01  2.78942e+00 -4.35454e+01]\n",
      " [ 0.00000e+00  0.00000e+00  0.00000e+00  1.00000e+00 -3.00000e+01]\n",
      " [ 0.00000e+00  0.00000e+00  0.00000e+00  0.00000e+00  1.00000e+00]]\n"
     ]
    }
   ],
   "source": [
    "import stanpy as stp\n",
    "\n",
    "x = sym.Symbol(\"x\")\n",
    "E = 3*10**7  # kN/m2\n",
    "b = 0.2  # m\n",
    "hi = 0.3  # m\n",
    "hk = 0.4  # m\n",
    "l = 3  # m\n",
    "hx = hi + (hk - hi) / l * x\n",
    "\n",
    "cs_props = stp.cs(b=b, h=hx)\n",
    "s = {\"E\": E, \"cs\": cs_props, \"l\": l, \"q\":10, \"N\":-1000}\n",
    "\n",
    "Fik = stp.tr_R_poly(**s)\n",
    "print(Fik)"
   ]
  }
 ],
 "metadata": {
  "kernelspec": {
   "display_name": "Python 3 (ipykernel)",
   "language": "python",
   "name": "python3"
  },
  "language_info": {
   "codemirror_mode": {
    "name": "ipython",
    "version": 3
   },
   "file_extension": ".py",
   "mimetype": "text/x-python",
   "name": "python",
   "nbconvert_exporter": "python",
   "pygments_lexer": "ipython3",
   "version": "3.9.7"
  }
 },
 "nbformat": 4,
 "nbformat_minor": 5
}