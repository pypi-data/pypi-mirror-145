{
 "cells": [
  {
   "cell_type": "markdown",
   "metadata": {},
   "source": [
    "## Purpose: simple problem with errors in both x and y.\n",
    "\n",
    "In problems with errors in xdata and ydata the positions of all the xdata need to be optimized too. So we have an extra set of parameters that not actually are part of the model to be fitted. These kind of parameters are called nuisance parameters. \n",
    "\n",
    "These kind of problems can be solved with NestedSampler using the ErrorsInXandYProblem in stead of the default ClassicProblem.\n",
    "\n",
    "Gull (1989) proved that for linear models the optimal solution is found by minimizing the perpendicular distances of the datapoints to the line.\n",
    "\n",
    "Demonstration: \n",
    "1. Linear Model of artificial data\n",
    "2. Parameter fit with errors in x and y\n",
    "\n",
    "Author: Do Kester\n"
   ]
  },
  {
   "cell_type": "markdown",
   "metadata": {},
   "source": [
    "Import classes"
   ]
  },
  {
   "cell_type": "code",
   "execution_count": 1,
   "metadata": {
    "execution": {
     "iopub.execute_input": "2021-10-28T16:53:32.796571Z",
     "iopub.status.busy": "2021-10-28T16:53:32.795949Z",
     "iopub.status.idle": "2021-10-28T16:53:33.371211Z",
     "shell.execute_reply": "2021-10-28T16:53:33.371389Z"
    }
   },
   "outputs": [],
   "source": [
    "import numpy as numpy\n",
    "import math\n",
    "\n",
    "from BayesicFitting import PolynomialModel\n",
    "\n",
    "from BayesicFitting import NestedSampler\n",
    "from BayesicFitting import ErrorsInXandYProblem\n",
    "from BayesicFitting import GaussPrior\n",
    "from BayesicFitting import UniformPrior\n",
    "from BayesicFitting import LaplacePrior\n",
    "from BayesicFitting import Tools\n",
    "from BayesicFitting import formatter as fmt\n",
    "from BayesicFitting import plotFit\n",
    "import matplotlib.pyplot as plt\n",
    "import matplotlib.gridspec as gridspec\n",
    "\n",
    "#%matplotlib osx"
   ]
  },
  {
   "cell_type": "markdown",
   "metadata": {},
   "source": [
    "Define the constants of the linear relation. "
   ]
  },
  {
   "cell_type": "code",
   "execution_count": 2,
   "metadata": {
    "execution": {}
   },
   "outputs": [],
   "source": [
    "# define some constants\n",
    "N = 41\n",
    "b0 = 0.2            # offset of background\n",
    "b1 = 0.5            # slope of background\n",
    "\n",
    "sig = 0.5"
   ]
  },
  {
   "cell_type": "markdown",
   "metadata": {},
   "source": [
    "Make a 1st-degree polynomial"
   ]
  },
  {
   "cell_type": "code",
   "execution_count": 3,
   "metadata": {},
   "outputs": [],
   "source": [
    "xm = numpy.linspace( -2.0, 5.0, N, dtype=float )\n",
    "ym = b0 + b1 * xm\n",
    "\n",
    "numpy.random.seed( 1308 )\n",
    "y = ym + sig * numpy.random.randn( N )\n",
    "x = xm + sig * numpy.random.randn( N )"
   ]
  },
  {
   "cell_type": "markdown",
   "metadata": {},
   "source": [
    "Define the model and define the limits on the model parameters"
   ]
  },
  {
   "cell_type": "code",
   "execution_count": 4,
   "metadata": {},
   "outputs": [],
   "source": [
    "mdl = PolynomialModel( 2 )\n",
    "mdl.setLimits( -10, 10 )\n"
   ]
  },
  {
   "cell_type": "markdown",
   "metadata": {},
   "source": [
    "We need to set a specific Problem in this case: ErrorsInXandYProblem. It adds N extra parameters to the list, one for each datapoint present. These extra (nuisance) parameters need Priors. The same Prior for all, but centered on each of the x-points. \n",
    "[Gull (1989)](https://bayes.wustl.edu/sfg/line.pdf) argues for a Gaussian prior with a sigma about the same size as in the error distribution. \n",
    "\n",
    "\n",
    "The ErrorsInXandYProblem automatically enlists both the GalileanEngine and the GibbsEngine. The latter might be more efficient in moving the extra parameters around. They are all independent of each other and GibbsEngine tries to move the parameters one at a time."
   ]
  },
  {
   "cell_type": "code",
   "execution_count": 5,
   "metadata": {},
   "outputs": [],
   "source": [
    "#prior = LaplacePrior(  )\n",
    "prior = UniformPrior( limits=[-3,3] )\n",
    "problem = ErrorsInXandYProblem( mdl, x, y, prior=prior )"
   ]
  },
  {
   "cell_type": "markdown",
   "metadata": {},
   "source": [
    "Invoke the NestedSampler with the problem just instantiated. The limits in the initialisation of NS are passed to the (Jeffreys)Prior of the scale hyperparameter in the (Gauss)Errordistribution. \n",
    "We want to do an extra long run as at the default end (=2.0) the information, H, is not yet completely stabilised."
   ]
  },
  {
   "cell_type": "code",
   "execution_count": 6,
   "metadata": {
    "scrolled": true
   },
   "outputs": [
    {
     "name": "stdout",
     "output_type": "stream",
     "text": [
      "Fit all parameters of\n",
      "  Polynomial: f( x:p ) = p_0 + p_1 * x + p_2 * x^2\n",
      "Using a Gauss error distribution with unknown scale\n",
      "Moving the walkers with   GalileanEngine  GibbsEngine  ChordEngine\n",
      ">>>>>>>>>>>>>>>>>>>>>>>>>>>>>>>>>>>>>>>>>>>>>>>>>>\n",
      ">>>>>>>>>>>>>>>>>>>>>>>>>>>>>>>>>>>>>>>>>>>>>>>>>>\n",
      ">>>>>>>>>>>>\n",
      "Iteration   logZ        H     LowL     npar    parameters\n",
      "   11114      -102.     37.0      -29.5     45 \n",
      "[    0.267    0.440    0.000   -2.003   -2.351   -1.369   -1.361   -0.871   -0.612   -1.080   -0.743   -0.704   -0.220\n",
      "    -0.046   -0.509   -0.351    0.004    0.354    0.099    1.077    0.764    1.163    0.540    1.474    0.924    2.238\n",
      "     1.514    2.338    3.075    3.280    2.444    2.186    4.194    3.030    3.579    4.129    4.361    4.484    3.914\n",
      "     5.397    3.864    4.545    5.327    4.963    0.430]\n",
      "Engines              success     reject     failed       best      calls\n",
      "GalileanEngine         75202      27002      32573          0      11157\n",
      "GibbsEngine           466106     521489      35959          0      11157\n",
      "ChordEngine            77960     277517          0          0      11157\n",
      "Calls to LogL        1513808   to dLogL      27002\n",
      "Samples       11214\n",
      "Evidence       -44.201 +-      0.264\n"
     ]
    }
   ],
   "source": [
    "ns = NestedSampler( problem=problem, limits=[0.1,1] )\n",
    "\n",
    "# extra long run.\n",
    "ns.end = 3.0\n",
    "\n",
    "# find the solution\n",
    "evid = ns.sample( )\n"
   ]
  },
  {
   "cell_type": "code",
   "execution_count": 7,
   "metadata": {
    "scrolled": true
   },
   "outputs": [
    {
     "name": "stdout",
     "output_type": "stream",
     "text": [
      "Parameters : [    0.266    0.370    0.004]\n",
      "StDevs     : [    0.212    0.123    0.030]\n",
      "xdata      : [   -1.953   -1.940   -1.452   -1.827   -0.923   -0.399   -1.018   -0.677   -0.680   -0.118 ...]\n",
      "Nuisance   : [   -1.925   -2.056   -1.557   -1.740   -0.796   -0.404   -1.057   -0.843   -0.842   -0.155 ...]\n",
      "StdevNuis  : [    0.967    0.915    0.908    0.948    0.946    0.966    0.915    0.891    0.958    0.945 ...]\n",
      "Scale      :     0.939\n"
     ]
    }
   ],
   "source": [
    "pars = ns.parameters\n",
    "print( \"Parameters :\", fmt( pars, max=None ) )\n",
    "print( \"StDevs     :\", fmt( ns.stdevs, max=10 ) )\n",
    "xopt = ns.samples.nuisance\n",
    "print( \"xdata      :\", fmt( x, max=10))\n",
    "print( \"Nuisance   :\", fmt( xopt, max=10 ) )\n",
    "print( \"StdevNuis  :\", fmt( ns.samples.stdevNuis, max=10 ))\n",
    "print( \"Scale      :\", fmt( ns.scale ) )\n"
   ]
  },
  {
   "cell_type": "markdown",
   "metadata": {},
   "source": [
    "Plot the line and the connections of the datapoints to their targets.\n",
    "Note that the axes are scaled to the same size to show that the distances are perpendicular (more or less)."
   ]
  },
  {
   "cell_type": "code",
   "execution_count": 8,
   "metadata": {},
   "outputs": [
    {
     "data": {
      "image/png": "[encoded data removed]",
      "text/plain": [
       "<Figure size 432x432 with 1 Axes>"
      ]
     },
     "metadata": {
      "needs_background": "light"
     },
     "output_type": "display_data"
    }
   ],
   "source": [
    "xx = numpy.linspace( min(xopt), max(xopt), 101 )\n",
    "\n",
    "yfit = mdl.result( xx, pars )\n",
    "plt.figure( \"Errors in X and Y\", figsize=(6,6) )\n",
    "\n",
    "plt.plot( xx, yfit, 'k-' )\n",
    "yopt = mdl.result( xopt, pars )\n",
    "#plt.plot( xopt, yopt, 'k-' )\n",
    "for k in range( N ):\n",
    "    plt.plot( [x[k],xopt[k]], [y[k],yopt[k]], 'g-')\n",
    "plt.axis( [-3.0, 7.0, -3.0, 7.0] )\n",
    "    \n",
    "plt.show()"
   ]
  },
  {
   "cell_type": "code",
   "execution_count": null,
   "metadata": {},
   "outputs": [],
   "source": []
  }
 ],
 "metadata": {
  "anaconda-cloud": {},
  "kernelspec": {
   "display_name": "Python 3 (ipykernel)",
   "language": "python",
   "name": "python3"
  },
  "language_info": {
   "codemirror_mode": {
    "name": "ipython",
    "version": 3
   },
   "file_extension": ".py",
   "mimetype": "text/x-python",
   "name": "python",
   "nbconvert_exporter": "python",
   "pygments_lexer": "ipython3",
   "version": "3.8.12"
  }
 },
 "nbformat": 4,
 "nbformat_minor": 1
}
