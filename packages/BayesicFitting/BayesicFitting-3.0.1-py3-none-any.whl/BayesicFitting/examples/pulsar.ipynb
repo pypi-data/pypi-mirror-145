{
 "cells": [
  {
   "cell_type": "markdown",
   "metadata": {},
   "source": [
    "## Pulsars\n",
    "\n",
    "\n",
    "\n",
    "The data is taken from HTRU2, a data set which describes a sample of pulsar candidates collected during the\n",
    "High Time Resolution Universe Survey (South).\n",
    "\n",
    "Author: Rob Lyon, School of Computer Science & Jodrell Bank Centre for Astrophysics,\n",
    "                University of Manchester, Kilburn Building, Oxford Road, Manchester M13 9PL.\n",
    "\n",
    "Contact:        rob@scienceguyrob.com or robert.lyon@.manchester.ac.uk\n",
    "Web:            http://www.scienceguyrob.com or http://www.cs.manchester.ac.uk\n",
    "                        or alternatively http://www.jb.man.ac.uk\n",
    "\n",
    "\n",
    "The text below is copied from the Readme.txt file:\n",
    "\n",
    "Pulsars are a rare type of Neutron star that produce radio emission detectable here on\n",
    "Earth. They are of considerable scientific interest as probes of space-time, the inter-\n",
    "stellar medium, and states of matter.\n",
    "        \n",
    "As pulsars rotate, their emission beam sweeps across the sky, and when this crosses\n",
    "our line of sight, produces a detectable pattern of broadband radio emission. As pulsars\n",
    "rotate rapidly, this pattern repeats periodically. Thus pulsar search involves looking\n",
    "for periodic radio signals with large radio telescopes.\n",
    "        \n",
    "Each pulsar produces a slightly different emission pattern, which varies slightly with each\n",
    "rotation (see [2] for an introduction to pulsar astrophysics to find out why). Thus a \n",
    "potential signal detection known as a 'candidate', is averaged over many rotations of the\n",
    "pulsar, as determined by the length of an observation. In the absence of additional info,\n",
    "each candidate could potentially describe a real pulsar. However in practice almost all\n",
    "detections are caused by radio frequency interference (RFI) and noise, making legitimate\n",
    "signals hard to find.\n",
    "        \n",
    "Machine learning tools are now being used to automatically label pulsar candidates to\n",
    "facilitate rapid analysis. Classification systems in particular are being widely adopted,\n",
    "(see [4,5,6,7,8,9]) which treat the candidate data sets  as binary classification problems.\n",
    "Here the legitimate pulsar examples are a minority positive class, and spurious examples\n",
    "the majority negative class. At present multi-class labels are unavailable, given the\n",
    "costs associated with data annotation.\n",
    "        \n",
    "The data set shared here contains 16,259 spurious examples caused by RFI/noise, and 1,639\n",
    "real pulsar examples. These examples have all been checked by human annotators. Each\n",
    "candidate is described by 8 continuous variables. The first four are simple statistics\n",
    "obtained from the integrated pulse profile (folded profile). This is an array of continuous\n",
    "variables that describe a longitude-resolved version of the signal that has been averaged\n",
    "in both time and frequency (see [3] for more details). The remaining four variables are\n",
    "similarly obtained from the DM-SNR curve (again see [3] for more details). These are \n",
    "summarised below:\n",
    "        \n",
    "1. Mean of the integrated profile.\n",
    "2. Standard deviation of the integrated profile.\n",
    "3. Excess kurtosis of the integrated profile.\n",
    "4. Skewness of the integrated profile.\n",
    "5. Mean of the DM-SNR curve.\n",
    "6. Standard deviation of the DM-SNR curve.\n",
    "7. Excess kurtosis of the DM-SNR curve.\n",
    "8. Skewness of the DM-SNR curve.\n",
    "\n",
    "9. 0 : noise\n",
    "   1 : pulsar\n",
    "   \n",
    "Demonstration:\n",
    "1. SoftMaxModel\n",
    "2. Multiple input and output\n",
    "3. Bernoulli ErrorDistribution\n",
    "4. NestedSampler"
   ]
  },
  {
   "cell_type": "code",
   "execution_count": 1,
   "metadata": {},
   "outputs": [],
   "source": [
    "import numpy as numpy\n",
    "import math\n",
    "\n",
    "from astropy.io import ascii\n",
    "from BayesicFitting import SoftMaxModel\n",
    "from BayesicFitting import BernoulliErrorDistribution\n",
    "from BayesicFitting import LaplacePrior\n",
    "from BayesicFitting import CauchyPrior\n",
    "\n",
    "from BayesicFitting import ClassicProblem\n",
    "from BayesicFitting import MultipleOutputProblem\n",
    "from BayesicFitting import NestedSampler\n",
    "from BayesicFitting import formatter as fmt\n",
    "from BayesicFitting import plotFit\n",
    "from BayesicFitting import Tools\n",
    "import matplotlib.pyplot as plt\n",
    "\n"
   ]
  },
  {
   "cell_type": "code",
   "execution_count": 2,
   "metadata": {},
   "outputs": [],
   "source": [
    "#%matplotlib osx"
   ]
  },
  {
   "cell_type": "code",
   "execution_count": 3,
   "metadata": {},
   "outputs": [],
   "source": [
    "tbl = ascii.read( \"data/HTRU.csv\" )\n"
   ]
  },
  {
   "cell_type": "code",
   "execution_count": 4,
   "metadata": {},
   "outputs": [
    {
     "name": "stdout",
     "output_type": "stream",
     "text": [
      "[[  140.562  102.508  103.016  136.750   88.727 ...  119.336  114.508   57.062]\n",
      " [   55.684   58.882   39.342   57.178   40.672 ...   59.936   53.902   85.797]\n",
      " [   -0.235    0.465    0.323   -0.068    0.601 ...    0.159    0.201    1.406]\n",
      " [   -0.700   -0.515    1.051   -0.636    1.123 ...   -0.743   -0.025    0.090]\n",
      " [    3.200    1.677    3.121    3.643    1.179 ...   21.431    1.946  188.306]\n",
      " [   19.110   14.860   21.745   20.959   11.469 ...   58.872   13.382   64.713]\n",
      " [    7.976   10.576    7.736    6.896   14.270 ...    2.500   10.008   -1.598]\n",
      " [   74.242  127.394   63.172   53.594  252.567 ...    4.595  134.239    1.429]]\n"
     ]
    }
   ],
   "source": [
    "xall = numpy.zeros( (8,17898), dtype=float )\n",
    "for k in range( 8 ) :\n",
    "    key = 'col%d' % (k+1)\n",
    "    xall[k,:] = tbl[key].data\n",
    "\n",
    "y = tbl[\"col9\"].data\n",
    "\n",
    "print( fmt( xall, tail=3 ) )\n",
    "\n",
    "#w = numpy.ones_like( y )\n",
    "#wgt = numpy.where( y == 0, w, 10 * w )"
   ]
  },
  {
   "cell_type": "markdown",
   "metadata": {},
   "source": [
    "Rescale the data"
   ]
  },
  {
   "cell_type": "code",
   "execution_count": 5,
   "metadata": {},
   "outputs": [
    {
     "name": "stdout",
     "output_type": "stream",
     "text": [
      "[  111.080   46.550    0.478    1.770   12.614   26.327    8.304  104.858]\n",
      "[[    1.406    5.568   -0.235   -0.700    0.320    1.911    7.976    7.424]\n",
      " [    1.025    5.888    0.465   -0.515    0.168    1.486   10.576   12.739]\n",
      " [    1.030    3.934    0.323    1.051    0.312    2.174    7.736    6.317]\n",
      " [    1.367    5.718   -0.068   -0.636    0.364    2.096    6.896    5.359]\n",
      " [    0.887    4.067    0.601    1.123    0.118    1.147   14.270   25.257]\n",
      "  ...\n",
      " [    1.193    5.994    0.159   -0.743    2.143    5.887    2.500    0.460]\n",
      " [    1.145    5.390    0.201   -0.025    0.195    1.338   10.008   13.424]\n",
      " [    0.571    8.580    1.406    0.090   18.831    6.471   -1.598    0.143]]\n"
     ]
    }
   ],
   "source": [
    "xdata = xall.T\n",
    "xm = numpy.mean( xdata, 0 )\n",
    "print( fmt( xm, max=None ) )\n",
    "\n",
    "xmm = [100, 10, 1, 1, 10, 10, 1, 10]\n",
    "xdat = xdata / xmm\n",
    "print( fmt( xdat, tail=3 ) )\n"
   ]
  },
  {
   "cell_type": "markdown",
   "metadata": {},
   "source": [
    "Start a SoftMaxModel (logistic) with 8 inputs and 2 outputs"
   ]
  },
  {
   "cell_type": "code",
   "execution_count": 6,
   "metadata": {},
   "outputs": [],
   "source": [
    "mdl = SoftMaxModel( ndim=8, ndout=2, offset=True )\n",
    "mdl.setPrior( 0, CauchyPrior( ) )\n",
    "\n",
    "#Tools.printclass( mdl )\n",
    "\n",
    "problem = ClassicProblem( model=mdl, xdata=xdat, ydata=y )    #, weights=wgt )"
   ]
  },
  {
   "cell_type": "markdown",
   "metadata": {},
   "source": [
    "Use NestedSampler with a BernoulliErrdorDistribution, for categorials"
   ]
  },
  {
   "cell_type": "code",
   "execution_count": 7,
   "metadata": {},
   "outputs": [
    {
     "name": "stderr",
     "output_type": "stream",
     "text": [
      "/opt/local/Library/Frameworks/Python.framework/Versions/3.8/lib/python3.8/site-packages/BayesicFitting/source/NeuralNetUtilities.py:287: RuntimeWarning: overflow encountered in exp\n",
      "  res = numpy.exp( xdata )\n",
      "/opt/local/Library/Frameworks/Python.framework/Versions/3.8/lib/python3.8/site-packages/BayesicFitting/source/NeuralNetUtilities.py:289: RuntimeWarning: invalid value encountered in true_divide\n",
      "  return ( res.T / sum ).T\n",
      "/opt/local/Library/Frameworks/Python.framework/Versions/3.8/lib/python3.8/site-packages/BayesicFitting/source/BernoulliErrorDistribution.py:156: RuntimeWarning: divide by zero encountered in log\n",
      "  return numpy.log( lld )\n"
     ]
    },
    {
     "name": "stdout",
     "output_type": "stream",
     "text": [
      "Fit all parameters of\n",
      "  SoftMax: f_n( x:p ) = exp( sum_i( x_i * p_in ) + q_n)/ sum_n )\n",
      "Using a Bernoulli error distribution\n",
      "Moving the walkers with   GalileanEngine  ChordEngine\n",
      "Iteration     logZ        H       LowL     npar parameters\n",
      "       0  -2.81e+06 941097.6  -1.87e+06     18  [   -0.161  -29.288   -0.643    0.866 ...]\n"
     ]
    },
    {
     "name": "stderr",
     "output_type": "stream",
     "text": [
      "/opt/local/Library/Frameworks/Python.framework/Versions/3.8/lib/python3.8/site-packages/BayesicFitting/source/NeuralNetUtilities.py:296: RuntimeWarning: overflow encountered in multiply\n",
      "  n2 = norm * norm\n",
      "/opt/local/Library/Frameworks/Python.framework/Versions/3.8/lib/python3.8/site-packages/BayesicFitting/source/NeuralNetUtilities.py:303: RuntimeWarning: overflow encountered in multiply\n",
      "  dfdx[k,:,n] = - ( f[:,k] * f[:,n] / n2 )\n",
      "/opt/local/Library/Frameworks/Python.framework/Versions/3.8/lib/python3.8/site-packages/BayesicFitting/source/NeuralNetUtilities.py:303: RuntimeWarning: invalid value encountered in true_divide\n",
      "  dfdx[k,:,n] = - ( f[:,k] * f[:,n] / n2 )\n",
      "/opt/local/Library/Frameworks/Python.framework/Versions/3.8/lib/python3.8/site-packages/BayesicFitting/source/NeuralNetUtilities.py:304: RuntimeWarning: overflow encountered in multiply\n",
      "  dfdx[n,:,n] = ( ( norm - f[:,n]  ) * f[:,n] / n2 ).T\n",
      "/opt/local/Library/Frameworks/Python.framework/Versions/3.8/lib/python3.8/site-packages/BayesicFitting/source/NeuralNetUtilities.py:304: RuntimeWarning: invalid value encountered in true_divide\n",
      "  dfdx[n,:,n] = ( ( norm - f[:,n]  ) * f[:,n] / n2 ).T\n",
      "/opt/local/Library/Frameworks/Python.framework/Versions/3.8/lib/python3.8/site-packages/BayesicFitting/source/BernoulliErrorDistribution.py:223: RuntimeWarning: overflow encountered in true_divide\n",
      "  dLdM[q,k] = 1.0 / mock[q,k]\n",
      "/opt/local/Library/Frameworks/Python.framework/Versions/3.8/lib/python3.8/site-packages/numpy/core/fromnumeric.py:86: RuntimeWarning: invalid value encountered in reduce\n",
      "  return ufunc.reduce(obj, axis, dtype, out, **passkwargs)\n"
     ]
    },
    {
     "name": "stdout",
     "output_type": "stream",
     "text": [
      "     100  -1.27e+05   4388.3  -1.22e+05     18  [   -0.048   -1.023   -1.223    0.052 ...]\n",
      "     200  -5.40e+04     88.0  -5.39e+04     18  [    0.121   -0.066    1.500   -0.383 ...]\n",
      "     300  -2.45e+04     90.9  -2.45e+04     18  [    0.994    0.872   -0.990   -1.905 ...]\n",
      "     400  -1.39e+04     11.4  -1.39e+04     18  [    0.167    0.604    0.161   -4.999 ...]\n",
      "     500  -9.33e+03     39.8  -9.29e+03     18  [   -1.779    0.509   -1.111   -0.819 ...]\n",
      "     600  -6.56e+03     34.1  -6.53e+03     18  [    3.917   -1.480   -0.098   -1.265 ...]\n",
      "     700  -4.83e+03     11.8  -4.81e+03     18  [   -0.198    1.190   -2.026   -0.346 ...]\n",
      "     800  -3.95e+03     13.8  -3.94e+03     18  [   -1.982    0.416   -0.984   -2.310 ...]\n",
      "     900  -3.47e+03     15.2  -3.46e+03     18  [    0.987    1.129   -3.242   -0.524 ...]\n",
      "    1000  -3.03e+03     24.4  -3.00e+03     18  [    1.422    1.012    0.307   -0.245 ...]\n",
      "    1100  -2.60e+03     17.1  -2.58e+03     18  [   -2.793    0.214   -0.643   -1.630 ...]\n",
      "    1200  -2.33e+03     16.3  -2.31e+03     18  [    5.344    0.355    0.944   -0.829 ...]\n",
      "    1300  -2.14e+03     20.6  -2.12e+03     18  [    3.250    0.468   -0.952   -0.712 ...]\n",
      "    1400  -1.95e+03     18.6  -1.93e+03     18  [    5.021   -1.150   -0.488   -0.024 ...]\n",
      "    1500  -1.82e+03     22.1  -1.80e+03     18  [    4.148   -0.593   -1.867    0.226 ...]\n",
      "    1600  -1.72e+03     20.2  -1.70e+03     18  [    3.520    1.354   -3.443   -1.010 ...]\n",
      "    1700  -1.67e+03     22.2  -1.64e+03     18  [    6.478    0.498   -4.382    0.622 ...]\n",
      "    1800  -1.61e+03     22.0  -1.59e+03     18  [    1.884    0.481   -1.576   -1.532 ...]\n",
      "    1900  -1.57e+03     22.5  -1.54e+03     18  [    2.967    0.619   -2.940   -0.733 ...]\n",
      "    2000  -1.53e+03     22.5  -1.51e+03     18  [    3.822    1.090   -3.022   -0.670 ...]\n",
      "    2100  -1.50e+03     23.0  -1.48e+03     18  [    2.400    1.709   -1.284   -0.878 ...]\n",
      "    2200  -1.48e+03     24.3  -1.46e+03     18  [    1.215    0.055   -2.235    0.349 ...]\n",
      "    2300  -1.46e+03     24.5  -1.44e+03     18  [    0.997    0.271   -3.928    0.273 ...]\n",
      "    2400  -1.45e+03     25.7  -1.42e+03     18  [    1.937    0.241   -1.687    1.321 ...]\n",
      "    2500  -1.44e+03     26.4  -1.41e+03     18  [    0.725    0.375   -2.783    0.488 ...]\n",
      "    2600  -1.43e+03     27.3  -1.40e+03     18  [    0.875    0.399   -2.864    0.495 ...]\n",
      "    2700  -1.42e+03     27.7  -1.39e+03     18  [    0.820    0.073   -1.758    0.284 ...]\n",
      "    2800  -1.41e+03     28.4  -1.38e+03     18  [    1.130    0.479   -3.812   -0.134 ...]\n",
      "    2900  -1.41e+03     29.5  -1.38e+03     18  [    1.107    0.275   -3.032    0.403 ...]\n",
      "    3000  -1.40e+03     30.3  -1.37e+03     18  [    1.158   -0.062   -2.493    0.452 ...]\n",
      "    3100  -1.40e+03     31.1  -1.37e+03     18  [    0.637    0.177   -3.305   -0.109 ...]\n",
      "    3200  -1.40e+03     32.1  -1.36e+03     18  [    0.721    0.166   -2.558    0.326 ...]\n",
      "    3300  -1.39e+03     33.2  -1.36e+03     18  [    1.436    0.540   -3.452   -0.269 ...]\n",
      "    3400  -1.39e+03     33.9  -1.35e+03     18  [    1.118    0.581   -2.359    0.034 ...]\n",
      "    3500  -1.39e+03     34.6  -1.35e+03     18  [    0.893    0.552   -3.325    0.072 ...]\n",
      "    3600  -1.38e+03     35.8  -1.35e+03     18  [    1.033    0.709   -3.019    0.075 ...]\n",
      "    3700  -1.38e+03     36.7  -1.34e+03     18  [    0.911    0.433   -3.080   -0.119 ...]\n",
      "    3800  -1.38e+03     37.5  -1.34e+03     18  [    0.893    0.584   -3.087    0.004 ...]\n",
      "    3900  -1.38e+03     37.8  -1.34e+03     18  [    0.902    0.553   -2.962   -0.207 ...]\n",
      "    4000  -1.38e+03     38.2  -1.34e+03     18  [    0.838    0.706   -2.876   -0.024 ...]\n",
      "    4100  -1.37e+03     38.9  -1.33e+03     18  [    0.824    0.567   -3.091   -0.045 ...]\n",
      "    4200  -1.37e+03     39.5  -1.33e+03     18  [    0.910    0.572   -3.103   -0.011 ...]\n",
      "    4300  -1.37e+03     39.9  -1.33e+03     18  [    0.821    0.657   -3.270   -0.110 ...]\n",
      "    4400  -1.37e+03     40.2  -1.33e+03     18  [    0.843    0.516   -3.110   -0.102 ...]\n",
      "    4500  -1.37e+03     40.5  -1.33e+03     18  [    0.770    0.584   -2.830   -0.035 ...]\n",
      "    4600  -1.37e+03     40.8  -1.33e+03     18  [    0.718    0.554   -2.769   -0.103 ...]\n",
      "    4700  -1.37e+03     41.0  -1.33e+03     18  [    0.749    0.458   -2.878   -0.096 ...]\n",
      "    4800  -1.37e+03     41.2  -1.33e+03     18  [    0.774    0.501   -2.930   -0.053 ...]\n",
      "    4900  -1.37e+03     41.3  -1.33e+03     18  [    0.766    0.458   -2.883   -0.058 ...]\n",
      "    5000  -1.37e+03     41.4  -1.33e+03     18  [    0.746    0.452   -2.839   -0.061 ...]\n",
      "    5100  -1.37e+03     41.5  -1.33e+03     18  [    0.622    0.587   -3.265   -0.079 ...]\n",
      "    5200  -1.37e+03     41.5  -1.33e+03     18  [    0.659    0.572   -2.977   -0.147 ...]\n",
      "    5300  -1.37e+03     41.5  -1.33e+03     18  [    0.550    0.698   -2.701   -0.155 ...]\n",
      "    5400  -1.37e+03     41.5  -1.33e+03     18  [    0.618    0.602   -2.697   -0.175 ...]\n",
      "    5500  -1.37e+03     41.5  -1.32e+03     18  [    0.564    0.645   -2.648   -0.146 ...]\n",
      "    5600  -1.37e+03     41.5  -1.32e+03     18  [    0.566    0.647   -2.613   -0.144 ...]\n",
      "    5700  -1.37e+03     41.5  -1.32e+03     18  [    0.474    0.433   -2.693   -0.178 ...]\n",
      "    5800  -1.37e+03     41.5  -1.32e+03     18  [    0.521    0.698   -2.767   -0.161 ...]\n",
      "    5900  -1.37e+03     41.5  -1.32e+03     18  [    0.471    0.454   -2.668   -0.176 ...]\n",
      "    6000  -1.37e+03     41.5  -1.32e+03     18  [    0.525    0.672   -2.912   -0.175 ...]\n",
      "    6100  -1.37e+03     41.5  -1.32e+03     18  [    0.512    0.581   -3.053   -0.186 ...]\n",
      "    6200  -1.37e+03     41.5  -1.32e+03     18  [    0.403    0.526   -2.490   -0.207 ...]\n",
      "    6300  -1.37e+03     41.5  -1.32e+03     18  [    0.437    0.596   -2.762   -0.194 ...]\n",
      "    6400  -1.37e+03     41.5  -1.32e+03     18  [    0.413    0.419   -2.761   -0.160 ...]\n",
      "    6500  -1.37e+03     41.5  -1.32e+03     18  [    0.426    0.574   -2.565   -0.190 ...]\n",
      "    6600  -1.37e+03     41.5  -1.32e+03     18  [    0.411    0.609   -2.840   -0.186 ...]\n",
      "    6700  -1.37e+03     41.5  -1.32e+03     18  [    0.334    0.742   -3.313   -0.210 ...]\n",
      "    6800  -1.37e+03     41.5  -1.32e+03     18  [    0.338    0.715   -3.087   -0.215 ...]\n",
      "    6900  -1.37e+03     41.5  -1.32e+03     18  [    0.345    0.776   -3.172   -0.208 ...]\n",
      "    7000  -1.37e+03     41.5  -1.32e+03     18  [    0.346    0.758   -3.304   -0.221 ...]\n",
      "    7100  -1.37e+03     41.5  -1.32e+03     18  [    0.325    0.730   -3.109   -0.218 ...]\n",
      "    7200  -1.37e+03     41.5  -1.32e+03     18  [    0.331    0.707   -3.025   -0.200 ...]\n",
      "    7300  -1.37e+03     41.5  -1.32e+03     18  [    0.344    0.722   -3.025   -0.208 ...]\n",
      "    7400  -1.37e+03     41.5  -1.32e+03     18  [    0.283    0.742   -3.299   -0.197 ...]\n",
      "    7500  -1.37e+03     41.5  -1.32e+03     18  [    0.300    0.729   -3.284   -0.186 ...]\n",
      "    7600  -1.37e+03     41.5  -1.32e+03     18  [    0.300    0.729   -3.347   -0.230 ...]\n",
      "    7700  -1.37e+03     41.5  -1.32e+03     18  [    0.299    0.721   -3.357   -0.213 ...]\n",
      "    7800  -1.37e+03     41.5  -1.32e+03     18  [    0.285    0.764   -3.373   -0.216 ...]\n",
      "    7900  -1.37e+03     41.5  -1.32e+03     18  [    0.288    0.767   -3.256   -0.210 ...]\n",
      "    8000  -1.37e+03     41.5  -1.32e+03     18  [    0.263    0.783   -2.975   -0.199 ...]\n",
      "    8100  -1.37e+03     41.5  -1.32e+03     18  [    0.268    0.777   -2.969   -0.212 ...]\n",
      "    8200  -1.37e+03     41.5  -1.32e+03     18  [    0.251    0.748   -2.838   -0.209 ...]\n",
      "    8300  -1.37e+03     41.5  -1.32e+03     18  [    0.265    0.846   -2.833   -0.222 ...]\n",
      "    8308  -1.37e+03     41.5  -1.32e+03     18 \n",
      "[    0.278    0.782   -3.380   -0.219   -0.522   -0.361   -0.248   -0.234    0.628    0.607    2.166   -0.738   -0.822\n",
      "     0.195   -0.215   -0.273    0.092   -6.502]\n",
      "Engines              success     reject     failed       best      calls\n",
      "GalileanEngine         57059      20872      26326          0       8977\n",
      "ChordEngine            62805     202801          0          0       8977\n",
      "Calls to LogL         369863   to dLogL      20872\n",
      "Samples        8408\n",
      "Evidence      -596.070 +-      0.280\n"
     ]
    }
   ],
   "source": [
    "ns = NestedSampler( problem=problem, distribution=\"bernoulli\", verbose=2 )\n",
    "\n",
    "loge = ns.sample()"
   ]
  },
  {
   "cell_type": "code",
   "execution_count": 8,
   "metadata": {},
   "outputs": [
    {
     "name": "stdout",
     "output_type": "stream",
     "text": [
      "(17898, 2)\n"
     ]
    }
   ],
   "source": [
    "sl = ns.samples\n",
    "pars = sl[-1].parameters\n",
    "yfit = mdl.result( xdat, pars )\n",
    "print( yfit.shape )\n",
    "yfit = yfit[:,1]"
   ]
  },
  {
   "cell_type": "markdown",
   "metadata": {},
   "source": [
    "As there are only 2 outputs yfit1 is the reverse of yfit2 (= 1 - yfit1 )"
   ]
  },
  {
   "cell_type": "code",
   "execution_count": 9,
   "metadata": {},
   "outputs": [
    {
     "name": "stdout",
     "output_type": "stream",
     "text": [
      "[12186 14049 13504 ...   537  4422  9937]\n"
     ]
    },
    {
     "data": {
      "image/png": "[encoded data removed]",
      "text/plain": [
       "<Figure size 864x576 with 1 Axes>"
      ]
     },
     "metadata": {
      "needs_background": "light"
     },
     "output_type": "display_data"
    }
   ],
   "source": [
    "\n",
    "#yfit = ns.yfit\n",
    "kst = numpy.argsort( yfit )\n",
    "yf = yfit[kst]\n",
    "yy = y[kst]\n",
    "\n",
    "print( kst )\n",
    "q = numpy.where( ( yy == 0 ) & ( yf > 0.6 ) )\n",
    "\n",
    "xx = numpy.arange( len( y ) )\n",
    "plt.figure( 1, figsize=[12,8] )\n",
    "col = ['k.','r.','g.','b.','c.','m.','y.'] \n",
    "plt.plot( xx, yf, 'g-' )\n",
    "plt.plot( xx, yy, 'k,')\n",
    "plt.plot( q[0], yy[q], 'r,' )\n",
    "plt.plot( q[0], yf[q], 'r.' )\n",
    "plt.show()\n"
   ]
  },
  {
   "cell_type": "markdown",
   "metadata": {},
   "source": [
    "The separation between pulsars and noise is not perfect, based on the data at hand.\n",
    "\n",
    "One might surmise that the red dots might be pulsars too, in stead of noise. "
   ]
  }
 ],
 "metadata": {
  "kernelspec": {
   "display_name": "Python 3 (ipykernel)",
   "language": "python",
   "name": "python3"
  },
  "language_info": {
   "codemirror_mode": {
    "name": "ipython",
    "version": 3
   },
   "file_extension": ".py",
   "mimetype": "text/x-python",
   "name": "python",
   "nbconvert_exporter": "python",
   "pygments_lexer": "ipython3",
   "version": "3.8.12"
  }
 },
 "nbformat": 4,
 "nbformat_minor": 2
}
