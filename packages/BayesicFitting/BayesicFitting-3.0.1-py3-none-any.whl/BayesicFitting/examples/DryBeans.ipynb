{
 "cells": [
  {
   "cell_type": "markdown",
   "metadata": {},
   "source": [
    "## Dry Beans\n",
    "\n",
    "Data taken from http://archive.ics.uci.edu/ml/datasets/Dry+Bean+Dataset\n",
    "\n",
    "The data were collected by Murat Koklu and Ilker Ali Ozkan.\n",
    "\n",
    "Several physical measurements of 7 different kinds of dry beans.\n",
    "\n",
    "Can the beans be classified from the measurements.\n",
    "\n",
    "Demonstration:\n",
    "1. Multidimensional input and output\n",
    "2. SoftMax model with many (>100) parameters\n",
    "3. Categorical output\n",
    "4. Bernoulli errordistribution"
   ]
  },
  {
   "cell_type": "code",
   "execution_count": 1,
   "metadata": {
    "execution": {
     "iopub.execute_input": "2021-10-28T15:58:39.428576Z",
     "iopub.status.busy": "2021-10-28T15:58:39.428000Z",
     "iopub.status.idle": "2021-10-28T15:58:40.035139Z",
     "shell.execute_reply": "2021-10-28T15:58:40.035299Z"
    }
   },
   "outputs": [],
   "source": [
    "import numpy as numpy\n",
    "import math\n",
    "\n",
    "from astropy.io import ascii\n",
    "from BayesicFitting import SoftMaxModel\n",
    "from BayesicFitting import BernoulliErrorDistribution\n",
    "from BayesicFitting import LaplacePrior\n",
    "\n",
    "from BayesicFitting import ClassicProblem\n",
    "from BayesicFitting import MultipleOutputProblem\n",
    "from BayesicFitting import NestedSampler\n",
    "from BayesicFitting import formatter as fmt\n",
    "from BayesicFitting import plotFit\n",
    "from BayesicFitting import Tools\n",
    "import matplotlib.pyplot as plt\n",
    "\n"
   ]
  },
  {
   "cell_type": "code",
   "execution_count": 2,
   "metadata": {
    "execution": {
     "iopub.execute_input": "2021-10-28T15:58:40.037136Z",
     "iopub.status.busy": "2021-10-28T15:58:40.036856Z",
     "iopub.status.idle": "2021-10-28T15:58:40.038060Z",
     "shell.execute_reply": "2021-10-28T15:58:40.038232Z"
    }
   },
   "outputs": [],
   "source": [
    "#%matplotlib osx"
   ]
  },
  {
   "cell_type": "code",
   "execution_count": 3,
   "metadata": {
    "execution": {
     "iopub.execute_input": "2021-10-28T15:58:40.040057Z",
     "iopub.status.busy": "2021-10-28T15:58:40.039792Z",
     "iopub.status.idle": "2021-10-28T15:58:40.796713Z",
     "shell.execute_reply": "2021-10-28T15:58:40.796945Z"
    }
   },
   "outputs": [
    {
     "name": "stdout",
     "output_type": "stream",
     "text": [
      " col1        col2              col3               col4        ...       col15              col16         col17  \n",
      "----- ----------------- ------------------ ------------------ ... ------------------ ------------------ --------\n",
      "28395 610.2909999999998 208.17811670852728 173.88874704163598 ... 0.8342223882455564 0.9987238890131684    SEKER\n",
      "28734 638.0179999999999 200.52479566364806 182.73441935102403 ... 0.9098505063979352 0.9984303314497069    SEKER\n",
      "29380            624.11 212.82612986020646 175.93114261271373 ... 0.8258706165800325 0.9990661373632715    SEKER\n",
      "30008 645.8839999999999  210.5579989609251 182.51651569530466 ... 0.8617944254467547   0.99419884850682    SEKER\n",
      "30140 620.1339999999999 201.84788216673786 190.27927878664835 ... 0.9419003808526663 0.9991660589607774    SEKER\n",
      "30279           634.927  212.5605564253862  181.5101815997528 ... 0.8532696335168767 0.9992357810603374    SEKER\n",
      "30477           670.033 211.05015532184015 184.03905011294344 ... 0.8711861881403341 0.9990487356266151    SEKER\n",
      "30519 629.7269999999999  212.9967550563458 182.73720376406496 ... 0.8565139556832061  0.998344559636264    SEKER\n",
      "30685 635.6809999999999 213.53414516451642 183.15714629597372 ... 0.8568436543472606 0.9989529809282945    SEKER\n",
      "30834           631.934 217.22781276440924 180.89746857382104 ... 0.8319727999725202 0.9990611424380447    SEKER\n",
      "30917           640.765 213.56008939309797 184.43987085903285 ... 0.8631122423032895 0.9993843888746166    SEKER\n",
      "31091           638.558  210.4862548708281 188.32684762014023 ... 0.8935057004967586 0.9986397105878477    SEKER\n",
      "31107           640.594 214.64854850760176 184.96925258564633 ... 0.8596315287174005 0.9975639589348673    SEKER\n",
      "31158           642.626 216.48483620856237 183.64431215611992 ... 0.8464956464505574 0.9978717512215809    SEKER\n",
      "31158           641.105 212.06697513850028  187.1929600683684 ... 0.8821320636578552 0.9993488982933998    SEKER\n",
      "31178 636.8879999999999 212.97592517558783 186.56208823218967 ... 0.8751799192076016 0.9990896583252051    SEKER\n",
      "31202 644.4539999999998 215.64069469843406 184.47168424549938 ... 0.8543407204232316  0.998693253193524    SEKER\n",
      "31203 639.7819999999999 215.06773695216492 184.87487594412093 ... 0.8589263757660944 0.9992020327325237    SEKER\n",
      "31272 638.6659999999998 212.45031894918174 187.53593899411055 ... 0.8821673930385504 0.9993644152841227    SEKER\n",
      "  ...               ...                ...                ... ...                ...                ...      ...\n",
      "41966           746.121  273.5086784154536 195.44915348486924 ... 0.7142750378544392 0.9995460105374141 DERMASON\n",
      "41979           757.238 272.57992017454717  196.5807060243304 ... 0.7193735862170031 0.9974874883318363 DERMASON\n",
      "41992           763.279 293.22412213026803 182.87952247904974 ... 0.6218380444054665 0.9970384447984534 DERMASON\n",
      "41995           765.763  284.0731777922192  188.5919566180672 ... 0.6625936128588352 0.9980546178373163 DERMASON\n",
      "42008           759.454  280.3327165874974 191.21813607084417 ... 0.6806040870070217 0.9977902543749524 DERMASON\n",
      "42008 773.1579999999999  294.4922025203752 181.84735861606202 ... 0.6167292175402843 0.9987604275054002 DERMASON\n",
      "42012 778.0430000000001  297.9128117073527 179.71183573961048 ...  0.602705444479277 0.9991199124820667 DERMASON\n",
      "42023           746.715  272.9626857858725  196.3340473924524 ... 0.7181093914311836 0.9983855106969578 DERMASON\n",
      "42026            751.05  278.0711406529184 192.95676003429065 ... 0.6920163222742653 0.9972688598784801 DERMASON\n",
      "42042           771.515 288.08267411770544 186.34708959848243 ... 0.6449992462247378 0.9971344766193763 DERMASON\n",
      "42047 768.9359999999999 292.97500733548736  183.1391409147197 ... 0.6237118364244997 0.9977767665558115 DERMASON\n",
      "42049           770.185  290.1634033084052 185.05168512513018 ... 0.6358878365721641 0.9970802408928794 DERMASON\n",
      "42070           763.489  289.0223733637728 186.12343389845492 ... 0.6412386699519993 0.9957495324488225 DERMASON\n",
      "42070 760.7009999999999 276.69165062642804 193.94536647332566 ... 0.6996656008343161 0.9981761023819259 DERMASON\n",
      "42097 759.6959999999999 288.72161204221896 185.94470544010682 ... 0.6429877193192076 0.9983852479466693 DERMASON\n",
      "42101           757.499 281.57639233416154 190.71313645035534 ... 0.6760986201188287 0.9982186537250977 DERMASON\n",
      "42139           759.321 281.53992791425856 191.18797890118992 ... 0.6768841638893502 0.9967672643592382 DERMASON\n",
      "42147           763.779  283.3826363799513 190.27573077099427 ... 0.6682366838424528 0.9952224197261494 DERMASON\n",
      "42159           772.237  295.1427409885261 182.20471589551335 ... 0.6162205923408897 0.9981796233054678 DERMASON\n",
      "Length = 13611 rows\n"
     ]
    }
   ],
   "source": [
    "tbl = ascii.read( \"data/Dry_Bean_Dataset.csv\" )\n",
    "\n",
    "print( tbl )\n",
    "\n"
   ]
  },
  {
   "cell_type": "code",
   "execution_count": 4,
   "metadata": {
    "execution": {
     "iopub.execute_input": "2021-10-28T15:58:40.798769Z",
     "iopub.status.busy": "2021-10-28T15:58:40.798506Z",
     "iopub.status.idle": "2021-10-28T15:58:40.800425Z",
     "shell.execute_reply": "2021-10-28T15:58:40.800634Z"
    }
   },
   "outputs": [
    {
     "name": "stdout",
     "output_type": "stream",
     "text": [
      "['BARBUNYA' 'BOMBAY' 'CALI' 'DERMASON' 'HOROZ' 'SEKER' 'SIRA']\n"
     ]
    }
   ],
   "source": [
    "names = tbl['col17'].data\n",
    "unik = numpy.unique( names )\n",
    "\n",
    "print( unik )"
   ]
  },
  {
   "cell_type": "code",
   "execution_count": 5,
   "metadata": {
    "execution": {
     "iopub.execute_input": "2021-10-28T15:58:40.802561Z",
     "iopub.status.busy": "2021-10-28T15:58:40.802224Z",
     "iopub.status.idle": "2021-10-28T15:58:40.803867Z",
     "shell.execute_reply": "2021-10-28T15:58:40.804029Z"
    }
   },
   "outputs": [
    {
     "name": "stdout",
     "output_type": "stream",
     "text": [
      "[[ 28395.000 28734.000 29380.000 30008.000 30140.000 ... 42139.000 42147.000 42159.000]\n",
      " [  610.291  638.018  624.110  645.884  620.134 ...  759.321  763.779  772.237]\n",
      " [  208.178  200.525  212.826  210.558  201.848 ...  281.540  283.383  295.143]\n",
      " [  173.889  182.734  175.931  182.517  190.279 ...  191.188  190.276  182.205]\n",
      " [    1.197    1.097    1.210    1.154    1.061 ...    1.473    1.489    1.620]\n",
      "  ...\n",
      " [    0.003    0.004    0.003    0.003    0.004 ...    0.002    0.002    0.002]\n",
      " [    0.834    0.910    0.826    0.862    0.942 ...    0.677    0.668    0.616]\n",
      " [    0.999    0.998    0.999    0.994    0.999 ...    0.997    0.995    0.998]]\n"
     ]
    }
   ],
   "source": [
    "xall = numpy.zeros( (16, 13611), dtype=float )\n",
    "for k in range( 16 ) :\n",
    "    key = 'col%d' % (k+1)\n",
    "    xall[k,:] = tbl[key].data\n",
    "\n",
    "print( fmt( xall, tail=3 ) )"
   ]
  },
  {
   "cell_type": "code",
   "execution_count": 6,
   "metadata": {
    "execution": {
     "iopub.execute_input": "2021-10-28T15:58:40.806456Z",
     "iopub.status.busy": "2021-10-28T15:58:40.806140Z",
     "iopub.status.idle": "2021-10-28T15:58:40.808417Z",
     "shell.execute_reply": "2021-10-28T15:58:40.808638Z"
    }
   },
   "outputs": [
    {
     "name": "stdout",
     "output_type": "stream",
     "text": [
      "BARBUNYA 1322\n",
      "BOMBAY 522\n",
      "CALI 1630\n",
      "DERMASON 3546\n",
      "HOROZ 1928\n",
      "SEKER 2027\n",
      "SIRA 2636\n",
      "[[ 41487.000  815.900  299.047  177.081    1.689 ...    0.002    0.591    0.997]\n",
      " [ 41488.000  759.552  283.143  186.985    1.514 ...    0.002    0.659    0.998]\n",
      " [ 42012.000  809.770  266.700  202.381    1.318 ...    0.002    0.752    0.991]\n",
      " [ 43122.000  838.186  296.405  185.658    1.597 ...    0.002    0.625    0.998]\n",
      " [ 43145.000  799.426  273.403  201.267    1.358 ...    0.002    0.735    0.998]\n",
      "  ...\n",
      " [ 36814.000  719.256  265.845  176.894    1.503 ...    0.002    0.663    0.997]\n",
      " [ 36821.000  716.892  273.987  171.582    1.597 ...    0.002    0.625    0.997]\n",
      " [ 36849.000  711.732  256.821  182.995    1.403 ...    0.002    0.711    0.998]]\n"
     ]
    }
   ],
   "source": [
    "npb = 100\n",
    "xdata = numpy.zeros( (16, 7*npb), dtype=float )\n",
    "k = 0\n",
    "for nm in unik :\n",
    "    q = numpy.where( names == nm )[0]\n",
    "    print( nm, len(q) )\n",
    "    qq = q[:npb]\n",
    "    xdata[:,k:k+npb] = xall[:,qq]\n",
    "    k += npb\n",
    "    \n",
    "xdata = xdata.T    \n",
    "print( fmt( xdata, tail=3 ) )"
   ]
  },
  {
   "cell_type": "code",
   "execution_count": 7,
   "metadata": {
    "execution": {
     "iopub.execute_input": "2021-10-28T15:58:40.810917Z",
     "iopub.status.busy": "2021-10-28T15:58:40.810636Z",
     "iopub.status.idle": "2021-10-28T15:58:40.811728Z",
     "shell.execute_reply": "2021-10-28T15:58:40.811943Z"
    }
   },
   "outputs": [
    {
     "name": "stdout",
     "output_type": "stream",
     "text": [
      "[ 54264.023  846.244  311.362  204.336    1.531    0.730 55012.224  250.938    0.754    0.986    0.874    0.813    0.007\n",
      "     0.002    0.665    0.995]\n",
      "[    4.149    8.159    2.990    1.771    1.689    8.058    4.248    2.298    6.892    9.766    7.832    7.685    7.208\n",
      "     1.551    5.907    9.975]\n",
      "[[    4.149    8.159    2.990    1.771    1.689 ...    1.551    5.907    9.975]\n",
      " [    4.149    7.596    2.831    1.870    1.514 ...    1.828    6.589    9.977]\n",
      " [    4.201    8.098    2.667    2.024    1.318 ...    2.215    7.520    9.910]\n",
      " [    4.312    8.382    2.964    1.857    1.597 ...    1.656    6.249    9.977]\n",
      " [    4.314    7.994    2.734    2.013    1.358 ...    2.111    7.349    9.983]\n",
      "  ...\n",
      " [    3.681    7.193    2.658    1.769    1.503 ...    1.959    6.632    9.967]\n",
      " [    3.682    7.169    2.740    1.716    1.597 ...    1.790    6.245    9.973]\n",
      " [    3.685    7.117    2.568    1.830    1.403 ...    2.175    7.113    9.983]]\n"
     ]
    }
   ],
   "source": [
    "xm = numpy.mean( xdata, 0 )\n",
    "print( fmt( xm, max=None ) )\n",
    "\n",
    "xmm = [10000, 100, 100, 100, 1, 0.1, 10000, 100, 0.1, 0.1, 0.1, 0.1, 0.001, 0.001, 0.1, 0.1 ]\n",
    "xdat = xdata / xmm\n",
    "print( fmt( xdat[0,:], max=None ) )\n",
    "print( fmt( xdat, tail=3 ) )\n"
   ]
  },
  {
   "cell_type": "code",
   "execution_count": 8,
   "metadata": {
    "execution": {
     "iopub.execute_input": "2021-10-28T15:58:40.814256Z",
     "iopub.status.busy": "2021-10-28T15:58:40.813986Z",
     "iopub.status.idle": "2021-10-28T15:58:40.814957Z",
     "shell.execute_reply": "2021-10-28T15:58:40.815169Z"
    }
   },
   "outputs": [],
   "source": [
    "mdl = SoftMaxModel( ndim=16, ndout=7, offset=True )\n",
    "mdl.setPrior( 0, LaplacePrior( ) )\n",
    "\n",
    "#Tools.printclass( mdl )\n",
    "\n",
    "y = []\n",
    "for k in range( 7 ):\n",
    "    y += [k]*npb\n",
    "y = numpy.asarray( y, dtype=int )\n",
    "\n",
    "problem = ClassicProblem( model=mdl, xdata=xdat, ydata=y )"
   ]
  },
  {
   "cell_type": "code",
   "execution_count": 9,
   "metadata": {
    "execution": {
     "iopub.execute_input": "2021-10-28T15:58:40.817977Z",
     "iopub.status.busy": "2021-10-28T15:58:40.817706Z",
     "iopub.status.idle": "2021-10-28T16:31:07.408111Z",
     "shell.execute_reply": "2021-10-28T16:31:07.408277Z"
    }
   },
   "outputs": [
    {
     "name": "stdout",
     "output_type": "stream",
     "text": [
      "Fit all parameters of\n",
      "  SoftMax: f_n( x:p ) = exp( sum_i( x_i * p_in ) + q_n)/ sum_n )\n",
      "Using a Bernoulli error distribution\n",
      "Moving the walkers with   GalileanEngine  ChordEngine\n",
      "Iteration     logZ        H       LowL     npar parameters\n",
      "       0  -8.39e+04  17467.5  -6.64e+04    119  [   -0.892   -0.923    0.389    0.495 ...]\n",
      "     100  -3.06e+04     84.2  -3.05e+04    119  [    0.186    0.427   -3.790    0.447 ...]\n",
      "     200  -2.29e+04     45.0  -2.28e+04    119  [   -0.898    1.015   -0.144    2.903 ...]\n",
      "     300  -1.92e+04     11.4  -1.92e+04    119  [    0.196    1.375    2.363    1.368 ...]\n",
      "     400  -1.63e+04     56.0  -1.63e+04    119  [    3.190   -0.053   -4.643   -0.610 ...]\n",
      "     500  -1.40e+04     10.5  -1.40e+04    119  [    0.952   -0.807   -0.562    1.087 ...]\n",
      "     600  -1.21e+04     10.9  -1.21e+04    119  [   -0.336   -1.559    0.366    1.371 ...]\n",
      "     700  -1.07e+04     26.1  -1.07e+04    119  [   -1.534    0.289   -0.334   -4.605 ...]\n",
      "     800  -9.47e+03     15.6  -9.46e+03    119  [   -0.855   -0.027   -1.066   -0.346 ...]\n",
      "     900  -8.47e+03     13.8  -8.46e+03    119  [   -0.481    3.178   -3.879   -1.000 ...]\n",
      "    1000  -7.52e+03     16.5  -7.51e+03    119  [   -1.926   -0.183    1.097   -1.433 ...]\n",
      "    1100  -6.56e+03     15.6  -6.55e+03    119  [    2.908    1.173    0.075    0.519 ...]\n",
      "    1200  -5.76e+03     33.0  -5.73e+03    119  [   -1.104    3.637   -1.498   -0.030 ...]\n",
      "    1300  -5.03e+03     20.3  -5.01e+03    119  [   -1.060    3.845   -0.784   -0.973 ...]\n",
      "    1400  -4.41e+03     19.6  -4.39e+03    119  [   -1.003    1.230   -0.920   -1.073 ...]\n",
      "    1500  -3.88e+03     21.6  -3.86e+03    119  [   -0.001    0.947   -0.301   -2.972 ...]\n",
      "    1600  -3.43e+03     20.7  -3.41e+03    119  [   -0.335    1.403   -0.267   -0.829 ...]\n",
      "    1700  -3.04e+03     23.8  -3.01e+03    119  [   -0.885    0.409   -0.143   -2.302 ...]\n",
      "    1800  -2.63e+03     31.2  -2.60e+03    119  [   -1.431    2.466   -2.029    0.046 ...]\n",
      "    1900  -2.31e+03     24.6  -2.28e+03    119  [    0.283   -1.936    1.214   -0.679 ...]\n",
      "    2000  -2.03e+03     24.4  -2.01e+03    119  [   -0.323    0.870    0.155   -0.288 ...]\n",
      "    2100  -1.83e+03     25.5  -1.80e+03    119  [   -0.850   -0.592    1.217   -0.589 ...]\n",
      "    2200  -1.63e+03     28.1  -1.60e+03    119  [   -0.855   -0.557    1.241   -0.698 ...]\n",
      "    2300  -1.43e+03     29.4  -1.40e+03    119  [   -0.666   -0.534    1.541   -0.530 ...]\n",
      "    2400  -1.29e+03     27.7  -1.26e+03    119  [   -0.704   -0.681    1.062   -0.585 ...]\n",
      "    2500  -1.18e+03     29.3  -1.15e+03    119  [   -1.931    0.084   -0.150   -0.262 ...]\n",
      "    2600  -1.08e+03     30.2  -1.05e+03    119  [   -0.039   -1.402    1.743   -0.709 ...]\n",
      "    2700  -1.00e+03     30.0      -969.    119  [   -0.981   -0.536    1.208   -0.644 ...]\n",
      "    2800      -935.     32.5      -902.    119  [    0.163   -1.606    3.056   -0.493 ...]\n",
      "    2900      -883.     32.3      -849.    119  [   -0.693   -0.825    1.217   -0.758 ...]\n",
      "    3000      -835.     32.8      -801.    119  [   -0.538   -0.540    1.219   -0.460 ...]\n",
      "    3100      -791.     34.5      -756.    119  [    0.145   -1.070    2.073   -0.542 ...]\n",
      "    3200      -747.     35.5      -711.    119  [   -0.898   -0.946    1.306   -0.679 ...]\n",
      "    3300      -706.     36.0      -670.    119  [   -0.891   -0.883    1.335   -0.658 ...]\n",
      "    3400      -668.     37.0      -630.    119  [   -1.035   -0.684    1.158   -0.752 ...]\n",
      "    3500      -636.     37.6      -597.    119  [    0.713   -0.343    1.028   -0.462 ...]\n",
      "    3600      -600.     38.3      -561.    119  [   -0.910   -0.841    1.004   -0.681 ...]\n",
      "    3700      -571.     39.0      -531.    119  [    0.146   -1.187    1.592   -0.282 ...]\n",
      "    3800      -549.     40.1      -508.    119  [    0.245   -1.191    1.601   -0.305 ...]\n",
      "    3900      -527.     41.3      -484.    119  [    0.320   -0.188    0.952   -0.367 ...]\n",
      "    4000      -510.     41.8      -468.    119  [    0.350   -0.257    1.020   -0.485 ...]\n",
      "    4100      -495.     42.5      -452.    119  [   -0.820   -0.596    1.512   -0.780 ...]\n",
      "    4200      -478.     43.8      -433.    119  [    0.542   -0.256    0.969   -0.491 ...]\n",
      "    4300      -464.     44.3      -418.    119  [    0.306   -0.338    1.056   -0.591 ...]\n",
      "    4400      -454.     45.5      -407.    119  [   -0.839   -0.571    1.871   -0.661 ...]\n",
      "    4500      -442.     46.8      -394.    119  [   -0.733   -0.675    1.474   -0.771 ...]\n",
      "    4600      -429.     47.5      -381.    119  [   -0.718   -0.604    1.716   -0.767 ...]\n",
      "    4700      -418.     48.5      -368.    119  [   -0.545   -0.442    1.532   -0.772 ...]\n",
      "    4800      -406.     49.4      -356.    119  [    0.438   -0.213    1.015   -0.464 ...]\n",
      "    4900      -395.     50.5      -344.    119  [   -1.081   -0.664    1.765   -0.626 ...]\n",
      "    5000      -384.     51.2      -332.    119  [   -0.698   -0.468    1.466   -0.807 ...]\n",
      "    5100      -379.     51.5      -326.    119  [   -0.968   -0.631    1.837   -0.648 ...]\n",
      "    5200      -371.     53.2      -317.    119  [   -0.468   -0.425    1.408   -0.729 ...]\n",
      "    5300      -365.     53.7      -310.    119  [   -0.571   -0.447    1.550   -0.739 ...]\n",
      "    5400      -359.     54.5      -304.    119  [   -0.432   -0.497    1.492   -0.757 ...]\n",
      "    5500      -353.     55.7      -297.    119  [   -0.381   -0.514    1.535   -0.805 ...]\n",
      "    5600      -348.     56.5      -291.    119  [   -0.649   -0.502    1.445   -0.728 ...]\n",
      "    5700      -344.     57.2      -286.    119  [   -0.498   -0.476    1.443   -0.840 ...]\n",
      "    5800      -341.     57.9      -282.    119  [   -0.536   -0.496    1.414   -0.823 ...]\n",
      "    5900      -337.     59.2      -277.    119  [   -0.485   -0.474    1.475   -0.829 ...]\n",
      "    6000      -333.     60.1      -272.    119  [   -0.369   -0.405    1.485   -0.757 ...]\n",
      "    6100      -330.     61.0      -268.    119  [   -0.360   -0.412    1.304   -0.768 ...]\n",
      "    6200      -326.     62.4      -262.    119  [   -0.395   -0.449    1.414   -0.845 ...]\n",
      "    6300      -322.     63.2      -257.    119  [   -0.427   -0.479    1.504   -0.848 ...]\n",
      "    6400      -318.     64.1      -253.    119  [   -0.423   -0.446    1.436   -0.736 ...]\n",
      "    6500      -315.     65.0      -248.    119  [   -0.418   -0.440    1.467   -0.743 ...]\n",
      "    6600      -312.     65.8      -245.    119  [   -0.299   -0.500    1.443   -0.779 ...]\n",
      "    6700      -308.     66.9      -240.    119  [   -0.366   -0.487    1.421   -0.802 ...]\n",
      "    6800      -306.     67.5      -237.    119  [   -0.326   -0.429    1.356   -0.778 ...]\n",
      "    6900      -304.     68.4      -234.    119  [   -0.354   -0.452    1.415   -0.714 ...]\n",
      "    7000      -302.     69.2      -231.    119  [   -0.330   -0.423    1.319   -0.768 ...]\n",
      "    7100      -300.     70.3      -228.    119  [   -0.364   -0.433    1.341   -0.749 ...]\n",
      "    7200      -298.     71.2      -225.    119  [   -0.349   -0.426    1.307   -0.783 ...]\n",
      "    7300      -296.     72.3      -222.    119  [   -0.348   -0.423    1.410   -0.787 ...]\n",
      "    7400      -294.     73.3      -219.    119  [   -0.380   -0.443    1.299   -0.756 ...]\n",
      "    7500      -292.     73.9      -217.    119  [   -0.365   -0.414    1.391   -0.790 ...]\n",
      "    7600      -291.     74.5      -215.    119  [   -0.376   -0.431    1.330   -0.833 ...]\n",
      "    7700      -290.     75.1      -213.    119  [   -0.329   -0.410    1.349   -0.758 ...]\n",
      "    7800      -289.     75.6      -212.    119  [   -0.354   -0.439    1.292   -0.720 ...]\n",
      "    7900      -289.     76.1      -210.    119  [   -0.344   -0.421    1.366   -0.754 ...]\n",
      "    8000      -288.     76.7      -209.    119  [   -0.334   -0.419    1.397   -0.755 ...]\n",
      "    8100      -288.     77.2      -208.    119  [   -0.336   -0.427    1.360   -0.815 ...]\n",
      "    8200      -288.     77.7      -207.    119  [   -0.369   -0.435    1.363   -0.753 ...]\n",
      "    8300      -287.     78.3      -206.    119  [   -0.326   -0.432    1.400   -0.821 ...]\n",
      "    8400      -287.     78.8      -205.    119  [   -0.330   -0.425    1.391   -0.839 ...]\n",
      "    8500      -287.     79.4      -204.    119  [   -0.361   -0.449    1.356   -0.767 ...]\n",
      "    8600      -287.     80.0      -202.    119  [   -0.315   -0.431    1.392   -0.841 ...]\n",
      "    8700      -287.     80.5      -202.    119  [   -0.340   -0.436    1.352   -0.783 ...]\n"
     ]
    },
    {
     "name": "stdout",
     "output_type": "stream",
     "text": [
      "    8800      -286.     80.8      -201.    119  [   -0.367   -0.430    1.327   -0.780 ...]\n",
      "    8900      -286.     81.0      -200.    119  [   -0.369   -0.430    1.337   -0.787 ...]\n",
      "    9000      -286.     81.2      -200.    119  [   -0.306   -0.401    1.392   -0.840 ...]\n",
      "    9100      -286.     81.4      -199.    119  [   -0.392   -0.428    1.328   -0.777 ...]\n",
      "    9200      -286.     81.5      -198.    119  [   -0.299   -0.412    1.375   -0.854 ...]\n",
      "    9300      -286.     81.6      -197.    119  [   -0.274   -0.411    1.376   -0.851 ...]\n",
      "    9400      -286.     81.8      -196.    119  [   -0.291   -0.404    1.414   -0.832 ...]\n",
      "    9500      -286.     82.0      -195.    119  [   -0.299   -0.409    1.415   -0.846 ...]\n",
      "    9600      -286.     82.2      -194.    119  [   -0.297   -0.401    1.388   -0.835 ...]\n",
      "    9700      -286.     82.6      -193.    119  [   -0.299   -0.402    1.392   -0.834 ...]\n",
      "    9800      -286.     82.9      -192.    119  [   -0.290   -0.418    1.397   -0.814 ...]\n",
      "    9900      -286.     83.2      -191.    119  [   -0.299   -0.401    1.398   -0.834 ...]\n",
      "   10000      -286.     83.5      -190.    119  [   -0.286   -0.422    1.396   -0.820 ...]\n",
      "   10100      -286.     83.7      -189.    119  [   -0.286   -0.399    1.403   -0.813 ...]\n",
      "   10200      -286.     83.9      -188.    119  [   -0.311   -0.417    1.400   -0.849 ...]\n",
      "   10300      -286.     84.1      -188.    119  [   -0.287   -0.401    1.383   -0.804 ...]\n",
      "   10400      -286.     84.2      -187.    119  [   -0.289   -0.418    1.389   -0.820 ...]\n",
      "   10500      -286.     84.3      -186.    119  [   -0.299   -0.395    1.430   -0.795 ...]\n",
      "   10600      -286.     84.4      -186.    119  [   -0.299   -0.400    1.366   -0.844 ...]\n",
      "   10700      -286.     84.4      -185.    119  [   -0.304   -0.408    1.368   -0.832 ...]\n",
      "   10800      -286.     84.4      -185.    119  [   -0.289   -0.418    1.369   -0.814 ...]\n",
      "   10900      -286.     84.4      -184.    119  [   -0.283   -0.418    1.368   -0.826 ...]\n",
      "   11000      -286.     84.5      -183.    119  [   -0.287   -0.419    1.362   -0.821 ...]\n",
      "   11100      -286.     84.5      -183.    119  [   -0.294   -0.390    1.416   -0.792 ...]\n",
      "   11200      -286.     84.5      -182.    119  [   -0.297   -0.388    1.405   -0.794 ...]\n",
      "   11300      -286.     84.5      -181.    119  [   -0.297   -0.395    1.425   -0.794 ...]\n",
      "   11400      -286.     84.5      -180.    119  [   -0.295   -0.388    1.423   -0.796 ...]\n",
      "   11500      -286.     84.5      -180.    119  [   -0.295   -0.396    1.405   -0.795 ...]\n",
      "   11600      -286.     84.5      -179.    119  [   -0.292   -0.385    1.404   -0.800 ...]\n",
      "   11700      -286.     84.5      -179.    119  [   -0.294   -0.393    1.414   -0.796 ...]\n",
      "   11800      -286.     84.5      -179.    119  [   -0.289   -0.388    1.408   -0.798 ...]\n",
      "   11900      -286.     84.5      -178.    119  [   -0.301   -0.384    1.415   -0.794 ...]\n",
      "   12000      -286.     84.5      -178.    119  [   -0.289   -0.389    1.407   -0.802 ...]\n",
      "   12100      -286.     84.5      -178.    119  [   -0.288   -0.405    1.425   -0.801 ...]\n",
      "   12200      -286.     84.5      -178.    119  [   -0.292   -0.381    1.411   -0.794 ...]\n",
      "   12300      -286.     84.5      -177.    119  [   -0.293   -0.387    1.407   -0.798 ...]\n",
      "   12400      -286.     84.5      -177.    119  [   -0.291   -0.401    1.433   -0.801 ...]\n",
      "   12500      -286.     84.5      -177.    119  [   -0.290   -0.400    1.423   -0.798 ...]\n",
      "   12600      -286.     84.5      -176.    119  [   -0.289   -0.409    1.415   -0.803 ...]\n",
      "   12700      -286.     84.5      -176.    119  [   -0.290   -0.400    1.421   -0.801 ...]\n",
      "   12800      -286.     84.5      -176.    119  [   -0.289   -0.402    1.436   -0.801 ...]\n",
      "   12900      -286.     84.5      -176.    119  [   -0.288   -0.401    1.429   -0.798 ...]\n",
      "   13000      -286.     84.5      -175.    119  [   -0.289   -0.407    1.420   -0.795 ...]\n",
      "   13100      -286.     84.5      -175.    119  [   -0.289   -0.408    1.426   -0.798 ...]\n",
      "   13200      -286.     84.5      -175.    119  [   -0.288   -0.405    1.433   -0.796 ...]\n",
      "   13300      -286.     84.5      -175.    119  [   -0.288   -0.400    1.435   -0.798 ...]\n",
      "   13400      -286.     84.5      -174.    119  [   -0.289   -0.403    1.421   -0.797 ...]\n",
      "   13500      -286.     84.5      -174.    119  [   -0.289   -0.400    1.427   -0.798 ...]\n",
      "   13600      -286.     84.5      -174.    119  [   -0.291   -0.407    1.456   -0.796 ...]\n",
      "   13700      -286.     84.5      -174.    119  [   -0.290   -0.392    1.417   -0.794 ...]\n",
      "   13800      -286.     84.5      -174.    119  [   -0.290   -0.393    1.418   -0.794 ...]\n",
      "   13900      -286.     84.5      -173.    119  [   -0.291   -0.401    1.463   -0.794 ...]\n",
      "   14000      -286.     84.5      -173.    119  [   -0.289   -0.394    1.423   -0.794 ...]\n",
      "   14100      -286.     84.5      -173.    119  [   -0.291   -0.402    1.462   -0.798 ...]\n",
      "   14200      -286.     84.5      -173.    119  [   -0.292   -0.411    1.479   -0.798 ...]\n",
      "   14300      -286.     84.5      -173.    119  [   -0.291   -0.404    1.447   -0.797 ...]\n",
      "   14400      -286.     84.5      -173.    119  [   -0.292   -0.403    1.460   -0.797 ...]\n",
      "   14500      -286.     84.5      -173.    119  [   -0.291   -0.401    1.429   -0.799 ...]\n",
      "   14600      -286.     84.5      -173.    119  [   -0.291   -0.408    1.452   -0.798 ...]\n",
      "   14700      -286.     84.5      -172.    119  [   -0.291   -0.400    1.436   -0.799 ...]\n",
      "   14800      -286.     84.5      -172.    119  [   -0.288   -0.396    1.396   -0.791 ...]\n",
      "   14900      -286.     84.5      -172.    119  [   -0.289   -0.381    1.418   -0.791 ...]\n",
      "   15000      -286.     84.5      -172.    119  [   -0.288   -0.398    1.404   -0.790 ...]\n",
      "   15100      -286.     84.5      -172.    119  [   -0.293   -0.401    1.407   -0.799 ...]\n",
      "   15200      -286.     84.5      -172.    119  [   -0.288   -0.382    1.390   -0.792 ...]\n",
      "   15300      -286.     84.5      -172.    119  [   -0.290   -0.399    1.421   -0.807 ...]\n",
      "   15400      -286.     84.5      -171.    119  [   -0.289   -0.400    1.446   -0.798 ...]\n",
      "   15500      -286.     84.5      -171.    119  [   -0.289   -0.371    1.392   -0.785 ...]\n",
      "   15600      -286.     84.5      -171.    119  [   -0.286   -0.370    1.412   -0.784 ...]\n",
      "   15700      -286.     84.5      -171.    119  [   -0.290   -0.368    1.411   -0.782 ...]\n",
      "   15800      -286.     84.5      -171.    119  [   -0.289   -0.387    1.388   -0.807 ...]\n",
      "   15900      -286.     84.5      -170.    119  [   -0.285   -0.387    1.386   -0.790 ...]\n",
      "   16000      -286.     84.5      -170.    119  [   -0.287   -0.375    1.386   -0.779 ...]\n",
      "   16100      -286.     84.5      -170.    119  [   -0.284   -0.365    1.368   -0.780 ...]\n",
      "   16200      -286.     84.5      -170.    119  [   -0.286   -0.367    1.381   -0.780 ...]\n",
      "   16300      -286.     84.5      -170.    119  [   -0.286   -0.383    1.384   -0.786 ...]\n",
      "   16400      -286.     84.5      -170.    119  [   -0.289   -0.381    1.372   -0.806 ...]\n",
      "   16500      -286.     84.5      -170.    119  [   -0.284   -0.363    1.370   -0.781 ...]\n",
      "   16600      -286.     84.5      -169.    119  [   -0.282   -0.362    1.357   -0.769 ...]\n",
      "   16700      -286.     84.5      -169.    119  [   -0.287   -0.364    1.369   -0.774 ...]\n",
      "   16800      -286.     84.5      -169.    119  [   -0.284   -0.359    1.371   -0.786 ...]\n",
      "   16900      -286.     84.5      -169.    119  [   -0.285   -0.359    1.364   -0.780 ...]\n",
      "   16901      -286.     84.5      -169.    119 \n",
      "[   -0.285   -0.351    1.377   -0.785   -0.080    0.101   -0.213    2.388   -1.845    3.813   -0.380   -0.127    0.391\n",
      "    -0.938    0.066   -0.697    0.306   -0.168    0.112    2.041   -0.415   -2.238    5.202   -0.244   -1.462    0.399\n",
      "    -0.130   -0.855    0.671    2.358    0.500   -1.018    2.398    0.081   -0.057   -1.107    1.240    0.681    0.004\n",
      "    -0.036   -0.110    0.502   -0.069    0.743    0.435    0.962   -1.147   -0.700   -0.644   -3.797   -1.467    1.833\n",
      "     1.722    0.011   -5.561    0.058    0.861    0.861   -0.224   -1.197    6.129   -0.051   -1.212    1.639    0.954\n",
      "     0.092    0.103   -0.063   -1.243    0.630    0.148   -1.063   -0.532    0.628    1.268   -7.639    6.663    0.640\n",
      "     0.314    0.546   -0.266   -0.960    1.489   -0.838    0.289    1.504   -0.577    0.161    1.427   -0.587   -0.118\n",
      "    -1.716   -0.039    0.265    4.744   -0.840    0.090    0.496   -0.417    0.764    0.933    1.573   -4.105    0.587\n",
      "     0.849    0.478    1.030   -0.078    0.222   -0.596   -0.476   -0.169   -0.985   -1.005   -0.857    0.512    0.607\n",
      "    -3.077   -0.017]\n",
      "Engines              success     reject     failed       best      calls\n",
      "GalileanEngine        116074      51299      74818          0      20138\n",
      "ChordEngine           140714     549079          0          0      20138\n",
      "Calls to LogL         931984   to dLogL      51299\n",
      "Samples       17001\n",
      "Evidence      -124.227 +-      0.399\n"
     ]
    }
   ],
   "source": [
    "ns = NestedSampler( problem=problem, distribution=\"bernoulli\", verbose=2 )\n",
    "\n",
    "loge = ns.sample()"
   ]
  },
  {
   "cell_type": "code",
   "execution_count": 10,
   "metadata": {
    "execution": {
     "iopub.execute_input": "2021-10-28T16:31:07.410314Z",
     "iopub.status.busy": "2021-10-28T16:31:07.410033Z",
     "iopub.status.idle": "2021-10-28T16:31:07.411387Z",
     "shell.execute_reply": "2021-10-28T16:31:07.411536Z"
    }
   },
   "outputs": [],
   "source": [
    "sl = ns.samples\n",
    "pars = sl[-1].parameters\n",
    "yfit = mdl.result( xdat, pars )\n"
   ]
  },
  {
   "cell_type": "code",
   "execution_count": 11,
   "metadata": {
    "execution": {
     "iopub.execute_input": "2021-10-28T16:31:07.414310Z",
     "iopub.status.busy": "2021-10-28T16:31:07.414033Z",
     "iopub.status.idle": "2021-10-28T16:31:07.478075Z",
     "shell.execute_reply": "2021-10-28T16:31:07.478317Z"
    }
   },
   "outputs": [
    {
     "data": {
      "image/png": "[encoded data removed]",
      "text/plain": [
       "<Figure size 864x576 with 1 Axes>"
      ]
     },
     "metadata": {
      "needs_background": "light"
     },
     "output_type": "display_data"
    }
   ],
   "source": [
    "#yfit = ns.yfit\n",
    "n = 0\n",
    "plt.figure( 1, figsize=[12,8] )\n",
    "col = ['k.','r.','g.','b.','c.','m.','y.'] \n",
    "for k in range( 7 ) :\n",
    "    plt.plot( 0.95 * yfit[:,k] + k, col[k], markersize=1 )\n",
    "    plt.text( npb * k + 20, -0.3, unik[k] )\n",
    "\n",
    "plt.show()\n"
   ]
  },
  {
   "cell_type": "code",
   "execution_count": null,
   "metadata": {},
   "outputs": [],
   "source": []
  }
 ],
 "metadata": {
  "kernelspec": {
   "display_name": "Python 3 (ipykernel)",
   "language": "python",
   "name": "python3"
  },
  "language_info": {
   "codemirror_mode": {
    "name": "ipython",
    "version": 3
   },
   "file_extension": ".py",
   "mimetype": "text/x-python",
   "name": "python",
   "nbconvert_exporter": "python",
   "pygments_lexer": "ipython3",
   "version": "3.8.12"
  }
 },
 "nbformat": 4,
 "nbformat_minor": 2
}
