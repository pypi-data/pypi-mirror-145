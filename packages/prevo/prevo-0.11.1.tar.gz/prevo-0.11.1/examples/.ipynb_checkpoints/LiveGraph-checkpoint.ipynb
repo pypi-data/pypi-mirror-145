{
 "cells": [
  {
   "cell_type": "code",
   "execution_count": 9,
   "metadata": {},
   "outputs": [],
   "source": [
    "from prevo.misc import PeriodicSensor, PeriodicTimedSensor\n",
    "from prevo.misc import DummyPressureSensor, DummyTemperatureSensor, DummyElectricalSensor\n",
    "from prevo.plot import OscilloGraph, NumericalGraph\n",
    "%matplotlib qt5"
   ]
  },
  {
   "cell_type": "markdown",
   "metadata": {},
   "source": [
    "# Dummy sensors"
   ]
  },
  {
   "cell_type": "markdown",
   "metadata": {},
   "source": [
    "### Raw sensors"
   ]
  },
  {
   "cell_type": "code",
   "execution_count": 10,
   "metadata": {},
   "outputs": [],
   "source": [
    "pressure_sensor = DummyPressureSensor()\n",
    "temperature_sensor = DummyTemperatureSensor()\n",
    "electrical_sensor = DummyElectricalSensor(interval=0.1, npts=20)"
   ]
  },
  {
   "cell_type": "code",
   "execution_count": 11,
   "metadata": {},
   "outputs": [
    {
     "data": {
      "text/plain": [
       "{'P1 (Pa)': 3170.7630118070147,\n",
       " 'P2 (Pa)': 2338.1783098220903,\n",
       " 'P3 (mbar)': 17.27631090596796}"
      ]
     },
     "execution_count": 11,
     "metadata": {},
     "output_type": "execute_result"
    }
   ],
   "source": [
    "pressure_sensor.read()"
   ]
  },
  {
   "cell_type": "markdown",
   "metadata": {},
   "source": [
    "### Periodic reading of sensors"
   ]
  },
  {
   "cell_type": "code",
   "execution_count": 12,
   "metadata": {},
   "outputs": [],
   "source": [
    "class PressureReading(PeriodicTimedSensor):\n",
    "    \"\"\"Returns individual readings of pressure at each time step\"\"\"\n",
    "    \n",
    "    name = 'P'\n",
    "    data_types = 'P (Pa)', 'P (Pa)', 'P (mbar)'\n",
    "    \n",
    "    def _read_sensor(self):\n",
    "        return tuple(pressure_sensor.read().values())\n",
    "    \n",
    "\n",
    "class TemperatureReading(PeriodicTimedSensor):\n",
    "    \"\"\"Returns individual readings of temperature at each time step\"\"\"\n",
    "    \n",
    "    name = 'T'\n",
    "    data_types = 'T (°C)', 'T (°C)'\n",
    "    \n",
    "    def _read_sensor(self):\n",
    "        return tuple(temperature_sensor.read().values())\n",
    "   \n",
    "\n",
    "class ElectricalReading(PeriodicSensor):\n",
    "    \"\"\"Returns arrays of readings corresponding to different times\"\"\"\n",
    "    \n",
    "    name = 'V'\n",
    "    data_types = 'voltage (V)', 'voltage (V)'\n",
    "    \n",
    "    def _read(self):\n",
    "        data = electrical_sensor.read()\n",
    "        return {'time (unix)': data[0],\n",
    "                'values': data[1:],\n",
    "                'name': self.name}\n",
    "    \n",
    "pressure_reading = PressureReading(interval=0.02)\n",
    "temperature_reading = TemperatureReading(interval=0.7)\n",
    "electrical_reading = ElectricalReading(interval=0.1)\n",
    "\n",
    "readings = pressure_reading, temperature_reading, electrical_reading"
   ]
  },
  {
   "cell_type": "markdown",
   "metadata": {},
   "source": [
    "### Misc. sensor config"
   ]
  },
  {
   "cell_type": "code",
   "execution_count": 13,
   "metadata": {},
   "outputs": [],
   "source": [
    "data_types = {reading.name: reading.data_types for reading in readings}\n",
    "\n",
    "data_ranges = {'P (Pa)': (1000, 4000),\n",
    "               'P (mbar)': (10, 40),\n",
    "               'T (°C)': (20, 30),\n",
    "               'voltage (V)': (-0.5, 1.5)}"
   ]
  },
  {
   "cell_type": "markdown",
   "metadata": {},
   "source": [
    "### Start periodic sensor reading"
   ]
  },
  {
   "cell_type": "code",
   "execution_count": 14,
   "metadata": {},
   "outputs": [],
   "source": [
    "for reading in readings:\n",
    "    reading.start()"
   ]
  },
  {
   "cell_type": "code",
   "execution_count": 15,
   "metadata": {},
   "outputs": [
    {
     "data": {
      "text/plain": [
       "{'time (unix)': 1648142082.873742,\n",
       " 'dt (s)': 6.550000001936951e-06,\n",
       " 'values': (3170.647538291994, 2338.0225200708883, 17.143019333438634),\n",
       " 'name': 'P'}"
      ]
     },
     "execution_count": 15,
     "metadata": {},
     "output_type": "execute_result"
    }
   ],
   "source": [
    "pressure_reading.queue.get()"
   ]
  },
  {
   "cell_type": "markdown",
   "metadata": {},
   "source": [
    "# Live Graphs of sensors"
   ]
  },
  {
   "cell_type": "code",
   "execution_count": 16,
   "metadata": {},
   "outputs": [],
   "source": [
    "colors = {'fig': 'lightgrey',   # set color of figure background around axes\n",
    "          'T': ('k', 'b')}      # set color of curves of the two channels of sensor T"
   ]
  },
  {
   "cell_type": "markdown",
   "metadata": {},
   "source": [
    "## Regular numerical plot"
   ]
  },
  {
   "cell_type": "markdown",
   "metadata": {},
   "source": [
    "### Data as single time values"
   ]
  },
  {
   "cell_type": "code",
   "execution_count": null,
   "metadata": {},
   "outputs": [],
   "source": [
    "numplot = NumericalGraph(names=('P', 'T'),\n",
    "                         data_types=data_types,\n",
    "                         linestyle='.-',\n",
    "                         colors=colors)\n",
    "\n",
    "numplot.run(q_plot={'P': pressure_reading.queue,\n",
    "                    'T': temperature_reading.queue},\n",
    "            dt_graph=0.2)"
   ]
  },
  {
   "cell_type": "markdown",
   "metadata": {},
   "source": [
    "### Data as arrays"
   ]
  },
  {
   "cell_type": "code",
   "execution_count": null,
   "metadata": {},
   "outputs": [],
   "source": [
    "numplot = NumericalGraph(names=('V',),\n",
    "                         data_types=data_types,\n",
    "                         data_as_array=True)\n",
    "\n",
    "numplot.run(q_plot={'V': electrical_reading.queue}, dt_graph=0.2)"
   ]
  },
  {
   "cell_type": "markdown",
   "metadata": {},
   "source": [
    "### Mix of single times and arrays"
   ]
  },
  {
   "cell_type": "code",
   "execution_count": null,
   "metadata": {},
   "outputs": [],
   "source": [
    "numplot = NumericalGraph(names=('P', 'V'),\n",
    "                         data_types=data_types,\n",
    "                         data_as_array={'P': False, 'V': True},\n",
    "                         time_conversion='pandas')\n",
    "\n",
    "numplot.run(q_plot={'P': pressure_reading.queue,\n",
    "                    'V': electrical_reading.queue},\n",
    "            dt_graph=0.2)"
   ]
  },
  {
   "cell_type": "markdown",
   "metadata": {},
   "source": [
    "# Oscilloscope-like graph"
   ]
  },
  {
   "cell_type": "markdown",
   "metadata": {},
   "source": [
    "### Data as single time values"
   ]
  },
  {
   "cell_type": "code",
   "execution_count": null,
   "metadata": {},
   "outputs": [],
   "source": [
    "oscillo = OscilloGraph(names=('P', 'T'),\n",
    "                       data_types=data_types,\n",
    "                       data_ranges=data_ranges,\n",
    "                       window_width=10,\n",
    "                       colors=colors)\n",
    "\n",
    "oscillo.run(q_plot={'P': pressure_reading.queue,\n",
    "                    'T': temperature_reading.queue},\n",
    "            dt_graph=0.02)"
   ]
  },
  {
   "cell_type": "markdown",
   "metadata": {},
   "source": [
    "### Data as arrays"
   ]
  },
  {
   "cell_type": "code",
   "execution_count": null,
   "metadata": {},
   "outputs": [],
   "source": [
    "oscillo = OscilloGraph(names=('V',),\n",
    "                       data_types=data_types,\n",
    "                       data_ranges=data_ranges,\n",
    "                       window_width=5.7,\n",
    "                       data_as_array=True)\n",
    "\n",
    "oscillo.run(q_plot={'V': electrical_reading.queue}, dt_graph=0.02)"
   ]
  },
  {
   "cell_type": "markdown",
   "metadata": {},
   "source": [
    "### Mix of single times and arrays"
   ]
  },
  {
   "cell_type": "code",
   "execution_count": null,
   "metadata": {},
   "outputs": [],
   "source": [
    "oscillo = OscilloGraph(names=('P', 'T', 'V'),\n",
    "                       data_types=data_types,\n",
    "                       data_ranges=data_ranges,\n",
    "                       window_width=5.7,\n",
    "                       colors=colors,\n",
    "                       data_as_array={'P': False, 'T': False, 'V': True})\n",
    "\n",
    "oscillo.run(q_plot={'P': pressure_reading.queue,\n",
    "                    'T': temperature_reading.queue,\n",
    "                    'V': electrical_reading.queue},\n",
    "            dt_graph=0.02)"
   ]
  },
  {
   "cell_type": "markdown",
   "metadata": {},
   "source": [
    "# Stop dummy sensors"
   ]
  },
  {
   "cell_type": "code",
   "execution_count": null,
   "metadata": {},
   "outputs": [],
   "source": [
    "for reading in readings:\n",
    "    reading.stop()"
   ]
  },
  {
   "cell_type": "code",
   "execution_count": null,
   "metadata": {},
   "outputs": [],
   "source": []
  }
 ],
 "metadata": {
  "kernelspec": {
   "display_name": "Python 3",
   "language": "python",
   "name": "python3"
  },
  "language_info": {
   "codemirror_mode": {
    "name": "ipython",
    "version": 3
   },
   "file_extension": ".py",
   "mimetype": "text/x-python",
   "name": "python",
   "nbconvert_exporter": "python",
   "pygments_lexer": "ipython3",
   "version": "3.8.5"
  }
 },
 "nbformat": 4,
 "nbformat_minor": 4
}
