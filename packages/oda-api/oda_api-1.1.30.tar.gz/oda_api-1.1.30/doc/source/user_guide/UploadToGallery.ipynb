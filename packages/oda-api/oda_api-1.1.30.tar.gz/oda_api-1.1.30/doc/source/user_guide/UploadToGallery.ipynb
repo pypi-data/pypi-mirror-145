{
 "cells": [
  {
   "cell_type": "markdown",
   "metadata": {},
   "source": [
    "# Quick Start (oda api v1.1.26)"
   ]
  },
  {
   "cell_type": "code",
   "execution_count": 1,
   "metadata": {},
   "outputs": [],
   "source": [
    "from oda_api.api import DispatcherAPI\n",
    "from oda_api.plot_tools import OdaImage,OdaLightCurve\n",
    "from oda_api.data_products import BinaryData\n",
    "import os\n",
    "\n",
    "from importlib import reload\n",
    "\n",
    "from oda_api.token import discover_token\n",
    "\n",
    "import logging\n",
    "logging.getLogger('oda_api').addHandler(logging.StreamHandler())\n",
    "logging.getLogger().setLevel(logging.DEBUG)\n",
    "\n",
    "\n"
   ]
  },
  {
   "cell_type": "markdown",
   "metadata": {},
   "source": [
    "## Connection to the dispatcher "
   ]
  },
  {
   "cell_type": "markdown",
   "metadata": {},
   "source": [
    "### build the dispatcher object"
   ]
  },
  {
   "cell_type": "code",
   "execution_count": 2,
   "metadata": {},
   "outputs": [
    {
     "name": "stderr",
     "output_type": "stream",
     "text": [
      "\u001b[37m NO custom formatter for instrument mock \u001b[0m\n"
     ]
    }
   ],
   "source": [
    "#TODO: change to prod\n",
    "# disp=DispatcherAPI(url='https://frontend-staging.obsuks1.unige.ch/mmoda/dispatch-data',instrument='mock')\n",
    "disp=DispatcherAPI(url='http://0.0.0.0:8001',instrument='mock')"
   ]
  },
  {
   "cell_type": "markdown",
   "metadata": {},
   "source": [
    "### Get the list of instruments available on the gallery"
   ]
  },
  {
   "cell_type": "code",
   "execution_count": 3,
   "metadata": {},
   "outputs": [
    {
     "name": "stderr",
     "output_type": "stream",
     "text": [
      "Getting the list of available instruments on the gallery\n",
      "List of terms from the group instruments successfully returned\n"
     ]
    },
    {
     "data": {
      "text/plain": [
       "['isgri',\n",
       " 'jemx',\n",
       " 'polar',\n",
       " 'empty',\n",
       " 'empty-async',\n",
       " 'empty-semi-async',\n",
       " 'spi_acs',\n",
       " 'legacysurvey',\n",
       " 'gw',\n",
       " 'jemx1',\n",
       " 'jemx2',\n",
       " 'antares']"
      ]
     },
     "execution_count": 3,
     "metadata": {},
     "output_type": "execute_result"
    }
   ],
   "source": [
    "import time\n",
    "import jwt\n",
    "\n",
    "secret_key = 'secretkey_test'\n",
    "default_exp_time = int(time.time()) + 5000\n",
    "token_payload = {\n",
    "    'sub': \"mtm@mtmco.net\",\n",
    "    'name': \"mmeharga\",\n",
    "    'exp': default_exp_time,\n",
    "    'tem': 0,\n",
    "    'mstout': True,\n",
    "    'mssub': True,\n",
    "    'roles': 'general, gallery contributor'\n",
    "}\n",
    "token = jwt.encode(token_payload, secret_key, algorithm='HS256')\n",
    "\n",
    "disp.get_list_terms_gallery(group='instruments', token=token)"
   ]
  },
  {
   "cell_type": "markdown",
   "metadata": {},
   "source": [
    "### Get the list of products available on the gallery"
   ]
  },
  {
   "cell_type": "code",
   "execution_count": 4,
   "metadata": {},
   "outputs": [
    {
     "name": "stderr",
     "output_type": "stream",
     "text": [
      "Getting the list of available instruments on the gallery\n",
      "List of terms from the group products successfully returned\n"
     ]
    },
    {
     "data": {
      "text/plain": [
       "['numerical', 'dummy', 'parametrical']"
      ]
     },
     "execution_count": 4,
     "metadata": {},
     "output_type": "execute_result"
    }
   ],
   "source": [
    "disp.get_list_terms_gallery(group='products', parent='development', token=token)"
   ]
  },
  {
   "cell_type": "markdown",
   "metadata": {},
   "source": [
    "### Get the list of sources available on the gallery"
   ]
  },
  {
   "cell_type": "code",
   "execution_count": 5,
   "metadata": {},
   "outputs": [
    {
     "name": "stderr",
     "output_type": "stream",
     "text": [
      "Getting the list of available instruments on the gallery\n",
      "List of terms from the group sources successfully returned\n"
     ]
    },
    {
     "data": {
      "text/plain": [
       "['OAO 1657-415', 'GX 1+4', 'Cyg X-1', 'Crab']"
      ]
     },
     "execution_count": 5,
     "metadata": {},
     "output_type": "execute_result"
    }
   ],
   "source": [
    "disp.get_list_terms_gallery(group='sources', token=token)"
   ]
  },
  {
   "cell_type": "code",
   "execution_count": 6,
   "metadata": {
    "scrolled": false
   },
   "outputs": [
    {
     "name": "stderr",
     "output_type": "stream",
     "text": [
      "dig_list unable to literal_eval empty; problem malformed node or string: <_ast.Name object at 0x7f1f4c2176a0>\n",
      "dig_list unable to literal_eval empty-async; problem unexpected EOF while parsing (<unknown>, line 1)\n",
      "dig_list unable to literal_eval empty-semi-async; problem unexpected EOF while parsing (<unknown>, line 1)\n"
     ]
    },
    {
     "name": "stdout",
     "output_type": "stream",
     "text": [
      "empty\n",
      "empty-async\n",
      "empty-semi-async\n"
     ]
    }
   ],
   "source": [
    "instr_list=disp.get_instruments_list()\n",
    "for i in instr_list:\n",
    "    print (i)"
   ]
  },
  {
   "cell_type": "markdown",
   "metadata": {},
   "source": [
    "### get the description of the instrument"
   ]
  },
  {
   "cell_type": "code",
   "execution_count": 7,
   "metadata": {},
   "outputs": [
    {
     "name": "stderr",
     "output_type": "stream",
     "text": [
      "unable to dig list, instance not a dict by <class 'list'>; object was [{'query_name': 'src_query'}, {'name': 'src_name', 'units': 'str', 'value': '1E 1740.7-2942'}, {'name': 'RA', 'units': 'deg', 'value': 265.97845833}, {'name': 'DEC', 'units': 'deg', 'value': -29.74516667}, {'name': 'T1', 'units': 'isot', 'value': '2017-03-06T13:26:48.000'}, {'name': 'T2', 'units': 'isot', 'value': '2017-03-06T15:32:27.000'}, {'name': 'token', 'units': 'str', 'value': None}]\n",
      "\n",
      "--------------\n",
      "query_name: src_query\n",
      " name: src_name,  value: 1E 1740.7-2942,  units: str, \n",
      " name: RA,  value: 265.97845833,  units: deg, \n",
      " name: DEC,  value: -29.74516667,  units: deg, \n",
      " name: T1,  value: 2017-03-06T13:26:48.000,  units: isot, \n",
      " name: T2,  value: 2017-03-06T15:32:27.000,  units: isot, \n",
      " name: token,  value: None,  units: str, \n",
      "unable to dig list, instance not a dict by <class 'list'>; object was [{'query_name': 'empty_instrument_query'}, {'name': 'user_catalog', 'units': None, 'value': None}, {'name': 'p_list', 'units': None, 'value': []}, {'name': 'selected_catalog', 'units': None, 'value': None}]\n",
      "\n",
      "--------------\n",
      "query_name: empty_instrument_query\n",
      " name: user_catalog,  value: None,  units: None, \n",
      " name: p_list,  value: [],  units: None, \n",
      " name: selected_catalog,  value: None,  units: None, \n",
      "unable to dig list, instance not a dict by <class 'list'>; object was [{'query_name': 'empty_parameters_dummy_query'}, {'product_name': 'dummy'}]\n",
      "\n",
      "--------------\n",
      "query_name: empty_parameters_dummy_query\n",
      " product_name: dummy\n",
      "unable to dig list, instance not a dict by <class 'list'>; object was [{'query_name': 'numerical_parameters_dummy_query'}, {'product_name': 'numerical'}, {'name': 'p', 'units': 'W', 'value': 10.0}]\n",
      "\n",
      "--------------\n",
      "query_name: numerical_parameters_dummy_query\n",
      " product_name: numerical\n",
      " name: p,  value: 10.0,  units: W, \n",
      "unable to dig list, instance not a dict by <class 'list'>; object was [{'query_name': 'failing_parameters_dummy_query'}, {'product_name': 'failing'}]\n",
      "\n",
      "--------------\n",
      "query_name: failing_parameters_dummy_query\n",
      " product_name: failing\n",
      "unable to dig list, instance not a dict by <class 'list'>; object was [{'query_name': 'parametrical_parameters_dummy_query'}, {'product_name': 'parametrical'}, {'name': 'sb', 'units': 'keV', 'value': 10.0}]\n",
      "\n",
      "--------------\n",
      "query_name: parametrical_parameters_dummy_query\n",
      " product_name: parametrical\n",
      " name: sb,  value: 10.0,  units: keV, \n",
      "unable to dig list, instance not a dict by <class 'list'>; object was [{'query_name': 'echo_parameters_dummy_query'}, {'product_name': 'echo'}, {'name': 'ang', 'units': 'arcsec', 'value': 1.0}, {'name': 'ang_deg', 'units': 'deg', 'value': 1.0}, {'name': 'energ', 'units': 'MeV', 'value': 1.0}]\n",
      "\n",
      "--------------\n",
      "query_name: echo_parameters_dummy_query\n",
      " product_name: echo\n",
      " name: ang,  value: 1.0,  units: arcsec, \n",
      " name: ang_deg,  value: 1.0,  units: deg, \n",
      " name: energ,  value: 1.0,  units: MeV, \n"
     ]
    },
    {
     "data": {
      "text/plain": [
       "[[{'instrumet': 'empty'},\n",
       "  {'prod_dict': {'dummy': 'empty_parameters_dummy_query',\n",
       "    'echo': 'echo_parameters_dummy_query',\n",
       "    'failing': 'failing_parameters_dummy_query',\n",
       "    'numerical': 'numerical_parameters_dummy_query',\n",
       "    'parametrical': 'parametrical_parameters_dummy_query'}},\n",
       "  '[{\"query_name\": \"src_query\"}, {\"name\": \"src_name\", \"units\": \"str\", \"value\": \"1E 1740.7-2942\"}, {\"name\": \"RA\", \"units\": \"deg\", \"value\": 265.97845833}, {\"name\": \"DEC\", \"units\": \"deg\", \"value\": -29.74516667}, {\"name\": \"T1\", \"units\": \"isot\", \"value\": \"2017-03-06T13:26:48.000\"}, {\"name\": \"T2\", \"units\": \"isot\", \"value\": \"2017-03-06T15:32:27.000\"}, {\"name\": \"token\", \"units\": \"str\", \"value\": None}]',\n",
       "  '[{\"query_name\": \"empty_instrument_query\"}, {\"name\": \"user_catalog\", \"units\": None, \"value\": None}, {\"name\": \"p_list\", \"units\": None, \"value\": []}, {\"name\": \"selected_catalog\", \"units\": None, \"value\": None}]',\n",
       "  '[{\"query_name\": \"empty_parameters_dummy_query\"}, {\"product_name\": \"dummy\"}]',\n",
       "  '[{\"query_name\": \"numerical_parameters_dummy_query\"}, {\"product_name\": \"numerical\"}, {\"name\": \"p\", \"units\": \"W\", \"value\": 10.0}]',\n",
       "  '[{\"query_name\": \"failing_parameters_dummy_query\"}, {\"product_name\": \"failing\"}]',\n",
       "  '[{\"query_name\": \"parametrical_parameters_dummy_query\"}, {\"product_name\": \"parametrical\"}, {\"name\": \"sb\", \"units\": \"keV\", \"value\": 10.0}]',\n",
       "  '[{\"query_name\": \"echo_parameters_dummy_query\"}, {\"product_name\": \"echo\"}, {\"name\": \"ang\", \"units\": \"arcsec\", \"value\": 1.0}, {\"name\": \"ang_deg\", \"units\": \"deg\", \"value\": 1.0}, {\"name\": \"energ\", \"units\": \"MeV\", \"value\": 1.0}]']]"
      ]
     },
     "execution_count": 7,
     "metadata": {},
     "output_type": "execute_result"
    }
   ],
   "source": [
    "disp.get_instrument_description('empty')"
   ]
  },
  {
   "cell_type": "markdown",
   "metadata": {},
   "source": [
    "### We generate a dummy image"
   ]
  },
  {
   "cell_type": "code",
   "execution_count": 6,
   "metadata": {},
   "outputs": [
    {
     "name": "stderr",
     "output_type": "stream",
     "text": [
      "please beware that by default, in a typical setup, oda_api will not output much. To learn how to increase the verbosity, please refer to the documentation: https://oda-api.readthedocs.io/en/latest/user_guide/ScienceWindowList.html?highlight=logging#Let's-get-some-logging . \n",
      "To disable this message you can pass `.get_product(..., silent=True)`\n",
      "dig_list unable to literal_eval src_name; problem malformed node or string: <_ast.Name object at 0x7f1f9c056ac0>\n",
      "dig_list unable to literal_eval RA; problem malformed node or string: <_ast.Name object at 0x7f1f4c244e20>\n",
      "dig_list unable to literal_eval DEC; problem malformed node or string: <_ast.Name object at 0x7f1f4c244fd0>\n",
      "dig_list unable to literal_eval T1; problem malformed node or string: <_ast.Name object at 0x7f1f4c244730>\n",
      "dig_list unable to literal_eval T2; problem malformed node or string: <_ast.Name object at 0x7f1f4c1ac0a0>\n",
      "dig_list unable to literal_eval token; problem malformed node or string: <_ast.Name object at 0x7f1f4c1ac220>\n",
      "dig_list unable to literal_eval p_list; problem malformed node or string: <_ast.Name object at 0x7f1f4c244f40>\n",
      "dig_list unable to literal_eval selected_catalog; problem malformed node or string: <_ast.Name object at 0x7f1f4c244ac0>\n",
      "dig_list unable to literal_eval p; problem malformed node or string: <_ast.Name object at 0x7f1f4c244190>\n",
      "/home/gabriele/Workspace/oda_api/oda_api/api.py:1041: UserWarning: \n",
      "----------------------------------------------------------------------------\n",
      "the parameter: integral_data_rights   is not among valid ones:\n",
      "['src_name', 'RA', 'DEC', 'T1', 'T2', 'token', 'p_list', 'selected_catalog', 'p']\n",
      "this will throw an error in a future version \n",
      "and might break the current request!\n",
      " ----------------------------------------------------------------------------\n",
      "\n",
      "  warnings.warn(msg)\n",
      "/home/gabriele/Workspace/oda_api/oda_api/api.py:1041: UserWarning: \n",
      "----------------------------------------------------------------------------\n",
      "the parameter: osa_version   is not among valid ones:\n",
      "['src_name', 'RA', 'DEC', 'T1', 'T2', 'token', 'p_list', 'selected_catalog', 'p']\n",
      "this will throw an error in a future version \n",
      "and might break the current request!\n",
      " ----------------------------------------------------------------------------\n",
      "\n",
      "  warnings.warn(msg)\n",
      "/home/gabriele/Workspace/oda_api/oda_api/api.py:1041: UserWarning: \n",
      "----------------------------------------------------------------------------\n",
      "the parameter: max_pointings   is not among valid ones:\n",
      "['src_name', 'RA', 'DEC', 'T1', 'T2', 'token', 'p_list', 'selected_catalog', 'p']\n",
      "this will throw an error in a future version \n",
      "and might break the current request!\n",
      " ----------------------------------------------------------------------------\n",
      "\n",
      "  warnings.warn(msg)\n",
      "/home/gabriele/Workspace/oda_api/oda_api/api.py:1041: UserWarning: \n",
      "----------------------------------------------------------------------------\n",
      "the parameter: detection_threshold   is not among valid ones:\n",
      "['src_name', 'RA', 'DEC', 'T1', 'T2', 'token', 'p_list', 'selected_catalog', 'p']\n",
      "this will throw an error in a future version \n",
      "and might break the current request!\n",
      " ----------------------------------------------------------------------------\n",
      "\n",
      "  warnings.warn(msg)\n",
      "/home/gabriele/Workspace/oda_api/oda_api/api.py:1041: UserWarning: \n",
      "----------------------------------------------------------------------------\n",
      "the parameter: radius   is not among valid ones:\n",
      "['src_name', 'RA', 'DEC', 'T1', 'T2', 'token', 'p_list', 'selected_catalog', 'p']\n",
      "this will throw an error in a future version \n",
      "and might break the current request!\n",
      " ----------------------------------------------------------------------------\n",
      "\n",
      "  warnings.warn(msg)\n",
      "\u001b[37m NO custom formatter for instrument empty \u001b[0m\n",
      "- waiting for remote response (since 2022-03-11 10:11:22), please wait for http://0.0.0.0:8001/run_analysis\n",
      "payload size 700, max for GET is 1000\n",
      "session: R7I4BX6DTDW8W9KW job: 472c7f98bbddf74e\n",
      "\n",
      "... query status \u001b[35mprepared\u001b[0m => \u001b[35mdone\u001b[0m\n",
      "... assigned job id: \u001b[33m472c7f98bbddf74e\u001b[0m\n",
      "\u001b[32mquery COMPLETED SUCCESSFULLY (state done)\u001b[0m\n",
      "poll returing data: complete\n",
      "query complete: terminating\n"
     ]
    }
   ],
   "source": [
    "import time\n",
    "import jwt\n",
    "\n",
    "secret_key = 'secretkey_test'\n",
    "default_exp_time = int(time.time()) + 5000\n",
    "token_payload = {\n",
    "    'sub': \"mtm@mtmco.net\",\n",
    "    'name': \"mmeharga\",\n",
    "    'exp': default_exp_time,\n",
    "    'tem': 0,\n",
    "    'mstout': True,\n",
    "    'mssub': True,\n",
    "    'roles': 'general, gallery contributor'\n",
    "}\n",
    "token = jwt.encode(token_payload, secret_key, algorithm='HS256')\n",
    "\n",
    "data_collection=disp.get_product(instrument='empty',\n",
    "                                 product='numerical',\n",
    "                                 T1='2003-03-15T23:27:40.0',\n",
    "                                 T2='2023-03-16T00:03:12.0',\n",
    "                                 integral_data_rights=\"public\",\n",
    "                                 osa_version='OSA10.2',\n",
    "                                 RA=50,\n",
    "                                 DEC=45,\n",
    "                                 max_pointings=1,\n",
    "                                 detection_threshold=5.0,\n",
    "                                 radius=15.,\n",
    "                                 product_type='Dummy',\n",
    "                                 token=token\n",
    "                                )\n",
    "\n"
   ]
  },
  {
   "cell_type": "markdown",
   "metadata": {},
   "source": [
    "### We upload the dummy product to the gallery applying some changes to some parameters"
   ]
  },
  {
   "cell_type": "code",
   "execution_count": 9,
   "metadata": {},
   "outputs": [
    {
     "name": "stderr",
     "output_type": "stream",
     "text": [
      "WARNING: FITSFixedWarning: RADECSYS= 'FK5 ' \n",
      "the RADECSYS keyword is deprecated, use RADESYSa. [astropy.wcs.wcs]\n",
      "WARNING: FITSFixedWarning: 'datfix' made the change 'Set DATEREF to '2000-01-01' from MJDREF.\n",
      "Set MJD-OBS to 54735.165023 from DATE-OBS.\n",
      "Set MJD-END to 54735.638125 from DATE-END'. [astropy.wcs.wcs]\n",
      "/home/gabriele/Workspace/oda_api/oda_api/plot_tools.py:129: MatplotlibDeprecationWarning: You are modifying the state of a globally registered colormap. This has been deprecated since 3.3 and in 3.6, you will not be able to modify a registered colormap in-place. To remove this warning, you can make a copy of the colormap first. cmap = mpl.cm.get_cmap(\"gist_earth\").copy()\n",
      "  self.cs.cmap.set_under('k')\n",
      "Posting a product on the gallery\n",
      "Getting the list of available instruments on the gallery\n",
      "List of terms from the group instruments successfully returned\n",
      "\n",
      "We noticed no instrument has been specified, the following instruments are available:\n",
      "['isgri', 'jemx', 'polar', 'empty', 'empty-async', 'empty-semi-async', 'spi_acs', 'legacysurvey', 'gw', 'jemx1', 'jemx2', 'antares']\n",
      "Please remember that this can be set at a later stage.\n",
      "\n",
      "Product successfully posted on the gallery, at the link http://cdciweb02.internal.odahub.io/mmoda/gallery/node/1685.\n",
      "Using the above link you can modify the newly created product in the future.\n",
      "For example, you will be able to change the instrument as well as the product type.\n",
      "\n"
     ]
    },
    {
     "data": {
      "text/plain": [
       "{'DEC': 38.208833, 'RA': 166.113808, 'name': 'Mrk 421', 'resolver': 'NED'}"
      ]
     },
     "execution_count": 11,
     "metadata": {},
     "output_type": "execute_result"
    }
   ],
   "source": [
    "source_name='Mrk 421'\n",
    "\n",
    "disp.resolve_source(source_name, token)"
   ]
  },
  {
   "cell_type": "code",
   "execution_count": 12,
   "metadata": {},
   "outputs": [
    {
     "name": "stderr",
     "output_type": "stream",
     "text": [
      "Searching the object Mrk 421\n",
      " name: Mrk 421, \n",
      "source Mrk 421 validated using the service NED\n",
      "Posting a product on the gallery\n",
      "Product successfully posted on the gallery, at the link http://cdciweb02.isdc.unige.ch/mmoda/gallery/node/2308\n"
     ]
    }
   ],
   "source": [
    "image_product = oda_api.plot_tools.OdaImage(data_collection)\n",
    "# img_fn = image_product.get_image_for_gallery()\n",
    "\n",
    "# generate two dummy fits files\n",
    "# fits_file_fn_1 = image_product.write_fits(file_prefix='first')\n",
    "# fits_file_fn_2 = image_product.write_fits(file_prefix='second')\n",
    "\n",
    "    \n",
    "# token = discover_token()\n",
    "\n",
    "\n",
    "insert_new_source=True\n",
    "force_insert_new_source=True\n",
    "\n",
    "d = disp.post_data_product_to_gallery(token=token,\n",
    "                                      RA=55, DEC=46, e1_kev=20, e2_kev=40,\n",
    "                                      instrument='empty', product_type='numerical',\n",
    "                                      product_title=\"very nice title\",\n",
    "                                      src_name=source_name,\n",
    "                                      validate_source=True,\n",
    "                                      insert_new_source=insert_new_source,\n",
    "                                      force_insert_new_source=force_insert_new_source,\n",
    "#                                       gallery_image_path=img_fn,\n",
    "#                                       fits_file_path=[fits_file_fn_1, fits_file_fn_2]\n",
    "                                     )"
   ]
  },
  {
   "cell_type": "code",
   "execution_count": null,
   "metadata": {},
   "outputs": [],
   "source": []
  }
 ],
 "metadata": {
  "kernel_info": {
   "name": "python2"
  },
  "kernelspec": {
   "display_name": "Python 3",
   "language": "python",
   "name": "python3"
  },
  "language_info": {
   "codemirror_mode": {
    "name": "ipython",
    "version": 3
   },
   "file_extension": ".py",
   "mimetype": "text/x-python",
   "name": "python",
   "nbconvert_exporter": "python",
   "pygments_lexer": "ipython3",
   "version": "3.8.10"
  },
  "nteract": {
   "version": "0.15.0"
  }
 },
 "nbformat": 4,
 "nbformat_minor": 2
}
