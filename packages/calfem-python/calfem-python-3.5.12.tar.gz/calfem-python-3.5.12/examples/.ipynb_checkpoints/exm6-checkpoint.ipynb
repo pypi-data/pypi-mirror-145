{
 "cells": [
  {
   "cell_type": "markdown",
   "metadata": {},
   "source": [
    "# Example 6\n",
    "\n",
    "Solves a plane stress 2D problem using a structured mesh. Shows how to draw von Mises effective stress as an element value with drawElementValues(). Shows use of GmshMesher attribute 'nodesOnCurve' (dictionary that says which nodes are on a given geometry curve)"
   ]
  },
  {
   "cell_type": "code",
   "execution_count": 1,
   "metadata": {},
   "outputs": [],
   "source": [
    "import calfem.geometry as cfg\n",
    "import calfem.mesh as cfm\n",
    "import calfem.vis_mpl as cfv\n",
    "import calfem.utils as cfu\n",
    "import calfem.core as cfc\n",
    "import numpy as np\n",
    "\n",
    "from math import sqrt"
   ]
  },
  {
   "cell_type": "markdown",
   "metadata": {},
   "source": [
    "## Define problem variables"
   ]
  },
  {
   "cell_type": "code",
   "execution_count": 2,
   "metadata": {},
   "outputs": [],
   "source": [
    "t = 0.2\n",
    "v = 0.35\n",
    "E = 2.1e9\n",
    "ptype = 1\n",
    "ep = [ptype,t]\n",
    "D=cfc.hooke(ptype, E, v)"
   ]
  },
  {
   "cell_type": "markdown",
   "metadata": {},
   "source": [
    "## Define geometry"
   ]
  },
  {
   "cell_type": "code",
   "execution_count": 3,
   "metadata": {},
   "outputs": [],
   "source": [
    "g = cfg.geometry()"
   ]
  },
  {
   "cell_type": "markdown",
   "metadata": {},
   "source": [
    "### Create points\n",
    "\n",
    "Just a shorthand. We use this to make the circle arcs."
   ]
  },
  {
   "cell_type": "code",
   "execution_count": 4,
   "metadata": {},
   "outputs": [],
   "source": [
    "s2 = 1/sqrt(2) "
   ]
  },
  {
   "cell_type": "markdown",
   "metadata": {},
   "source": [
    "Using this we then define our points:"
   ]
  },
  {
   "cell_type": "code",
   "execution_count": 5,
   "metadata": {},
   "outputs": [],
   "source": [
    "points = [[0, 3], [2.5, 3], [3, 3], [4-s2, 3-s2], [4, 2],     #0-4\n",
    "          [4+s2, 3-s2], [5, 3], [5.5, 3], [8,3], [0, 1.5],    #5-9\n",
    "          [2.5, 1.5], [4, 1.5], [5.5, 1.5], [8, 1.5], [0, 0], #10-14\n",
    "          [2.5, 0], [3, 0], [4-s2, s2], [4, 1], [4+s2, s2],   #15-19\n",
    "          [5, 0], [5.5, 0], [8,0], [4,3], [4,0]]              #20-24\n",
    "          \n",
    "for xp, yp in points:\n",
    "    g.point([xp*0.1, yp*0.1])"
   ]
  },
  {
   "cell_type": "markdown",
   "metadata": {},
   "source": [
    "Now we create our curves:"
   ]
  },
  {
   "cell_type": "code",
   "execution_count": 6,
   "metadata": {},
   "outputs": [],
   "source": [
    "splines = [[0,1], [1,2], [6,7], [7,8], [8,13],          #0-4\n",
    "           [13,22], [22,21], [21,20], [16,15], [15,14], #5-9\n",
    "           [14,9], [9,0], [9,10], [10,1], [10, 15],     #10-14\n",
    "           [10,11], [11,4], [11,18], [11,12], [12,7],   #15-19\n",
    "           [12,21], [12,13], [3,10], [5,12], [10,17],   #20-24\n",
    "           [12,19]]                                     #25\n",
    "           \n",
    "for s in splines:\n",
    "    g.spline(s, el_on_curve=10)"
   ]
  },
  {
   "cell_type": "markdown",
   "metadata": {},
   "source": [
    "In this case we use special functions to assign IDs to our curves."
   ]
  },
  {
   "cell_type": "code",
   "execution_count": 7,
   "metadata": {},
   "outputs": [],
   "source": [
    "g.curve_marker(ID=4,  marker=7) #Assign marker 7 to the splines on the right.\n",
    "g.curve_marker(ID=5,  marker=7) # We will apply a force on nodes with marker 7.\n",
    "g.curve_marker(ID=10, marker=5) #Assign marker 5 to the splines on the left.\n",
    "g.curve_marker(ID=11, marker=5) # The nodes with marker 5 will be locked in place."
   ]
  },
  {
   "cell_type": "markdown",
   "metadata": {},
   "source": [
    "Next we create our circle arcs."
   ]
  },
  {
   "cell_type": "code",
   "execution_count": 8,
   "metadata": {},
   "outputs": [],
   "source": [
    "# Points in circle arcs are [start, center, end]\n",
    "\n",
    "circlearcs = [[2, 23, 3], [3, 23, 4], [4, 23, 5], [5, 23, 6],           #26-29\n",
    "              [16, 24, 17], [17, 24, 18], [18, 24, 19], [19, 24, 20]]   #30-33\n",
    "              \n",
    "for c in circlearcs:\n",
    "    g.circle(c, el_on_curve=10)"
   ]
  },
  {
   "cell_type": "markdown",
   "metadata": {},
   "source": [
    "Finally we create our structured surfaces:"
   ]
  },
  {
   "cell_type": "code",
   "execution_count": 9,
   "metadata": {},
   "outputs": [],
   "source": [
    "g.struct_surf([11,12,13,0]) #0\n",
    "g.struct_surf([14, 12, 10, 9])\n",
    "g.struct_surf([8, 30, 24, 14])\n",
    "g.struct_surf([24, 31, 17, 15])\n",
    "g.struct_surf([15, 16, 27, 22]) #4\n",
    "g.struct_surf([22, 26, 1, 13]) \n",
    "g.struct_surf([16, 18, 23, 28])\n",
    "g.struct_surf([19, 2, 29, 23])\n",
    "g.struct_surf([19, 21, 4, 3]) #8\n",
    "g.struct_surf([20, 6, 5, 21])\n",
    "g.struct_surf([25, 20, 7, 33])\n",
    "g.struct_surf([32, 17, 18, 25]) #11"
   ]
  },
  {
   "cell_type": "markdown",
   "metadata": {},
   "source": [
    "## Create mesh"
   ]
  },
  {
   "cell_type": "code",
   "execution_count": 10,
   "metadata": {},
   "outputs": [],
   "source": [
    "mesh = cfm.GmshMesh(g)\n",
    "\n",
    "mesh.el_type = 3\n",
    "mesh.dofs_per_node = 2\n",
    "\n",
    "coords, edof, dofs, bdofs, elementmarkers = mesh.create()"
   ]
  },
  {
   "cell_type": "markdown",
   "metadata": {},
   "source": [
    "## Solve problem\n",
    "\n",
    "### Assemble system matrix"
   ]
  },
  {
   "cell_type": "code",
   "execution_count": 11,
   "metadata": {},
   "outputs": [],
   "source": [
    "nDofs = np.size(dofs)\n",
    "ex, ey = cfc.coordxtr(edof, coords, dofs)\n",
    "K = np.zeros([nDofs,nDofs])\n",
    "\n",
    "for eltopo, elx, ely in zip(edof, ex, ey):\n",
    "    Ke = cfc.planqe(elx, ely, ep, D)\n",
    "    cfc.assem(eltopo, K, Ke)"
   ]
  },
  {
   "cell_type": "markdown",
   "metadata": {},
   "source": [
    "### Solve equation system"
   ]
  },
  {
   "cell_type": "code",
   "execution_count": 12,
   "metadata": {},
   "outputs": [],
   "source": [
    "f = np.zeros([nDofs,1])\n",
    "\n",
    "bc = np.array([],'i')\n",
    "bcVal = np.array([],'f')\n",
    "\n",
    "bc, bcVal = cfu.applybc(bdofs, bc, bcVal, 5, 0.0, 0)\n",
    "\n",
    "cfu.applyforce(bdofs, f, 7, 10e5, 1)\n",
    "\n",
    "a,r = cfc.solveq(K,f,bc,bcVal)"
   ]
  },
  {
   "cell_type": "markdown",
   "metadata": {},
   "source": [
    "### Compute element forces"
   ]
  },
  {
   "cell_type": "code",
   "execution_count": null,
   "metadata": {},
   "outputs": [],
   "source": [
    "ed = cfc.extract_eldisp(edof,a)\n",
    "\n",
    "vonMises = []\n",
    "\n",
    "# For each element:\n",
    "\n",
    "for i in range(edof.shape[0]): \n",
    "\n",
    "    # Determine element stresses and strains in the element.\n",
    "    \n",
    "    es, et = cfc.planqs(ex[i,:], ey[i,:], ep, D, ed[i,:]) \n",
    "\n",
    "    # Calc and append effective stress to list.    \n",
    "    \n",
    "    vonMises.append( sqrt( pow(es[0],2) - es[0]*es[1] + pow(es[1],2) + 3*es[2] ) ) \n",
    "\n",
    "    ## es: [sigx sigy tauxy]"
   ]
  },
  {
   "cell_type": "markdown",
   "metadata": {},
   "source": [
    "## Visualise results"
   ]
  },
  {
   "cell_type": "code",
   "execution_count": null,
   "metadata": {},
   "outputs": [],
   "source": [
    "%matplotlib inline"
   ]
  },
  {
   "cell_type": "code",
   "execution_count": null,
   "metadata": {},
   "outputs": [],
   "source": [
    "cfv.figure(figsize=(10,10))\n",
    "cfv.draw_geometry(g, draw_points=True, label_curves=True, label_points=True)"
   ]
  },
  {
   "cell_type": "code",
   "execution_count": null,
   "metadata": {},
   "outputs": [],
   "source": [
    "cfv.figure(figsize=(10,10))\n",
    "cfv.draw_mesh(coords, edof, dofs_per_node=mesh.dofs_per_node, el_type=mesh.el_type)"
   ]
  },
  {
   "cell_type": "code",
   "execution_count": null,
   "metadata": {},
   "outputs": [],
   "source": [
    "cfv.figure(figsize=(10,10))\n",
    "cfv.draw_element_values(vonMises, coords, edof, mesh.dofs_per_node, mesh.el_type, None, draw_elements=False, draw_undisplaced_mesh=False, title=\"Example 6 - Effective stress\")"
   ]
  },
  {
   "cell_type": "code",
   "execution_count": null,
   "metadata": {},
   "outputs": [],
   "source": [
    "cfv.figure(figsize=(10,10))\n",
    "cfv.draw_displacements(a, coords, edof, mesh.dofs_per_node, mesh.el_type, draw_undisplaced_mesh=True, title=\"Example 06 - Displacements\")"
   ]
  }
 ],
 "metadata": {
  "kernelspec": {
   "display_name": "Python 3",
   "language": "python",
   "name": "python3"
  },
  "language_info": {
   "codemirror_mode": {
    "name": "ipython",
    "version": 3
   },
   "file_extension": ".py",
   "mimetype": "text/x-python",
   "name": "python",
   "nbconvert_exporter": "python",
   "pygments_lexer": "ipython3",
   "version": "3.7.4"
  }
 },
 "nbformat": 4,
 "nbformat_minor": 4
}
