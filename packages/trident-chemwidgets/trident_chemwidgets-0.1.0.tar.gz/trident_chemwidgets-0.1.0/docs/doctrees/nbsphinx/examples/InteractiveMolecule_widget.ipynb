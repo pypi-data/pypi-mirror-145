{
 "cells": [
  {
   "cell_type": "markdown",
   "metadata": {},
   "source": [
    "# Using the InteractiveMolecule widget\n",
    "\n",
    "For this example we need to install pandas and RDKit. If you don't have these packages yet, just execute the cell bellow to install. Note that you will need conda to install RDKit."
   ]
  },
  {
   "cell_type": "markdown",
   "metadata": {},
   "source": [
    "```shell\n",
    "!conda install -c conda-forge pandas rdkit\n",
    "```"
   ]
  },
  {
   "cell_type": "markdown",
   "metadata": {},
   "source": [
    "Now we can import the `trident_chemwidgets` and the `pandas` lib to import our csv dataset."
   ]
  },
  {
   "cell_type": "code",
   "execution_count": 1,
   "metadata": {
    "execution": {
     "iopub.execute_input": "2022-04-05T13:40:44.432548Z",
     "iopub.status.busy": "2022-04-05T13:40:44.432548Z",
     "iopub.status.idle": "2022-04-05T13:40:45.866194Z",
     "shell.execute_reply": "2022-04-05T13:40:45.865184Z"
    }
   },
   "outputs": [],
   "source": [
    "import trident_chemwidgets as tcw\n",
    "import pandas as pd\n",
    "from rdkit import Chem"
   ]
  },
  {
   "cell_type": "markdown",
   "metadata": {},
   "source": [
    "Now we can create a small function to featurize our molecules with basic information per atom. \n",
    "\n",
    "**IMPORTANT:** *the order of the data rows in the pandas DataFrame or dict must match the standard ordering of atoms as returned by the RDKit `.GetAtoms()` function.* You can generate this data any way you see fit (e.g. calculated values from RDKit as in the function below or attention values from a Graph Attention Network. The only constraint is the atom ordering. If you are using RDKit-based featurizers like those from DeepChem, this standard ordering should already be the default. Take care when using cutom featurizers."
   ]
  },
  {
   "cell_type": "code",
   "execution_count": 2,
   "metadata": {
    "execution": {
     "iopub.execute_input": "2022-04-05T13:40:45.872186Z",
     "iopub.status.busy": "2022-04-05T13:40:45.872186Z",
     "iopub.status.idle": "2022-04-05T13:40:45.882184Z",
     "shell.execute_reply": "2022-04-05T13:40:45.881183Z"
    }
   },
   "outputs": [],
   "source": [
    "def featurize_mol(smiles):\n",
    "    # Init feature dict\n",
    "    feature_dict = {\n",
    "        'Chiral Tag': [],\n",
    "        'Formal Charge': [],\n",
    "        'Mass': [],\n",
    "        'Total Hs': [],\n",
    "        'Total Valence': []\n",
    "    }\n",
    "    \n",
    "    # Get atoms from SMILES\n",
    "    atoms = Chem.MolFromSmiles(smiles).GetAtoms()\n",
    "    \n",
    "    # Use RDKit to get all the atom properties\n",
    "    for atom in atoms:\n",
    "        feature_dict['Chiral Tag'].append(atom.GetChiralTag())\n",
    "        feature_dict['Formal Charge'].append(atom.GetFormalCharge())\n",
    "        feature_dict['Mass'].append(atom.GetMass())\n",
    "        feature_dict['Total Hs'].append(atom.GetTotalNumHs())\n",
    "        feature_dict['Total Valence'].append(atom.GetTotalValence())\n",
    "        \n",
    "    return pd.DataFrame.from_dict(feature_dict)"
   ]
  },
  {
   "cell_type": "markdown",
   "metadata": {},
   "source": [
    "Here we'll be exploring the atom features from the ibuprofen molecule, smiles string `CC(C)CC1=CC=C(C=C1)C(C)C(=O)O`. We'll use the function we defined above to get some data at the atom level."
   ]
  },
  {
   "cell_type": "code",
   "execution_count": 3,
   "metadata": {
    "execution": {
     "iopub.execute_input": "2022-04-05T13:40:45.887185Z",
     "iopub.status.busy": "2022-04-05T13:40:45.887185Z",
     "iopub.status.idle": "2022-04-05T13:40:45.943970Z",
     "shell.execute_reply": "2022-04-05T13:40:45.943970Z"
    }
   },
   "outputs": [
    {
     "data": {
      "text/html": [
       "<div>\n",
       "<style scoped>\n",
       "    .dataframe tbody tr th:only-of-type {\n",
       "        vertical-align: middle;\n",
       "    }\n",
       "\n",
       "    .dataframe tbody tr th {\n",
       "        vertical-align: top;\n",
       "    }\n",
       "\n",
       "    .dataframe thead th {\n",
       "        text-align: right;\n",
       "    }\n",
       "</style>\n",
       "<table border=\"1\" class=\"dataframe\">\n",
       "  <thead>\n",
       "    <tr style=\"text-align: right;\">\n",
       "      <th></th>\n",
       "      <th>Chiral Tag</th>\n",
       "      <th>Formal Charge</th>\n",
       "      <th>Mass</th>\n",
       "      <th>Total Hs</th>\n",
       "      <th>Total Valence</th>\n",
       "    </tr>\n",
       "  </thead>\n",
       "  <tbody>\n",
       "    <tr>\n",
       "      <th>0</th>\n",
       "      <td>0</td>\n",
       "      <td>0</td>\n",
       "      <td>12.011</td>\n",
       "      <td>3</td>\n",
       "      <td>4</td>\n",
       "    </tr>\n",
       "    <tr>\n",
       "      <th>1</th>\n",
       "      <td>0</td>\n",
       "      <td>0</td>\n",
       "      <td>12.011</td>\n",
       "      <td>1</td>\n",
       "      <td>4</td>\n",
       "    </tr>\n",
       "    <tr>\n",
       "      <th>2</th>\n",
       "      <td>0</td>\n",
       "      <td>0</td>\n",
       "      <td>12.011</td>\n",
       "      <td>3</td>\n",
       "      <td>4</td>\n",
       "    </tr>\n",
       "    <tr>\n",
       "      <th>3</th>\n",
       "      <td>0</td>\n",
       "      <td>0</td>\n",
       "      <td>12.011</td>\n",
       "      <td>2</td>\n",
       "      <td>4</td>\n",
       "    </tr>\n",
       "    <tr>\n",
       "      <th>4</th>\n",
       "      <td>0</td>\n",
       "      <td>0</td>\n",
       "      <td>12.011</td>\n",
       "      <td>0</td>\n",
       "      <td>4</td>\n",
       "    </tr>\n",
       "  </tbody>\n",
       "</table>\n",
       "</div>"
      ],
      "text/plain": [
       "   Chiral Tag  Formal Charge    Mass  Total Hs  Total Valence\n",
       "0           0              0  12.011         3              4\n",
       "1           0              0  12.011         1              4\n",
       "2           0              0  12.011         3              4\n",
       "3           0              0  12.011         2              4\n",
       "4           0              0  12.011         0              4"
      ]
     },
     "execution_count": 3,
     "metadata": {},
     "output_type": "execute_result"
    }
   ],
   "source": [
    "atom_data = featurize_mol('CC(C)CC1=CC=C(C=C1)C(C)C(=O)O')\n",
    "atom_data.head()"
   ]
  },
  {
   "cell_type": "markdown",
   "metadata": {},
   "source": [
    "Now we can use the InteractiveMolecule widget to explore the data attached to each atom."
   ]
  },
  {
   "cell_type": "code",
   "execution_count": 4,
   "metadata": {
    "execution": {
     "iopub.execute_input": "2022-04-05T13:40:45.948964Z",
     "iopub.status.busy": "2022-04-05T13:40:45.948964Z",
     "iopub.status.idle": "2022-04-05T13:40:45.959965Z",
     "shell.execute_reply": "2022-04-05T13:40:45.959965Z"
    }
   },
   "outputs": [],
   "source": [
    "w = tcw.InteractiveMolecule('CC(C)CC1=CC=C(C=C1)C(C)C(=O)O', data=atom_data)\n",
    "# w # Uncomment this line to run locally"
   ]
  },
  {
   "cell_type": "markdown",
   "metadata": {},
   "source": [
    "<div align='center'>\n",
    "<img src='https://raw.githubusercontent.com/tridentbio/trident-chemwidgets/master/examples/gifs/interactive_molecule_demo_small.gif'/>\n",
    "</div>"
   ]
  },
  {
   "cell_type": "markdown",
   "metadata": {},
   "source": [
    "The value of the widget will match what you typed into the input."
   ]
  },
  {
   "cell_type": "code",
   "execution_count": 5,
   "metadata": {
    "execution": {
     "iopub.execute_input": "2022-04-05T13:40:45.963965Z",
     "iopub.status.busy": "2022-04-05T13:40:45.963965Z",
     "iopub.status.idle": "2022-04-05T13:40:45.977001Z",
     "shell.execute_reply": "2022-04-05T13:40:45.975007Z"
    }
   },
   "outputs": [
    {
     "data": {
      "text/plain": [
       "'CC(C)CC1=CC=C(C=C1)C(C)C(=O)O'"
      ]
     },
     "execution_count": 5,
     "metadata": {},
     "output_type": "execute_result"
    }
   ],
   "source": [
    "w.smiles"
   ]
  }
 ],
 "metadata": {
  "kernelspec": {
   "display_name": "Python 3 (ipykernel)",
   "language": "python",
   "name": "python3"
  },
  "language_info": {
   "codemirror_mode": {
    "name": "ipython",
    "version": 3
   },
   "file_extension": ".py",
   "mimetype": "text/x-python",
   "name": "python",
   "nbconvert_exporter": "python",
   "pygments_lexer": "ipython3",
   "version": "3.8.12"
  },
  "widgets": {
   "application/vnd.jupyter.widget-state+json": {
    "state": {
     "09d9c80c296946539d563caf30d65441": {
      "model_module": "trident-chemwidgets",
      "model_module_version": "^0.1.0",
      "model_name": "InteractiveMoleculeModel",
      "state": {
       "_dom_classes": [],
       "_model_module": "trident-chemwidgets",
       "_model_module_version": "^0.1.0",
       "_model_name": "InteractiveMoleculeModel",
       "_view_count": null,
       "_view_module": "trident-chemwidgets",
       "_view_module_version": "^0.1.0",
       "_view_name": "InteractiveMoleculeView",
       "data": [
        {
         "Chiral Tag": 0,
         "Formal Charge": 0,
         "Mass": 12.011,
         "Total Hs": 3,
         "Total Valence": 4
        },
        {
         "Chiral Tag": 0,
         "Formal Charge": 0,
         "Mass": 12.011,
         "Total Hs": 1,
         "Total Valence": 4
        },
        {
         "Chiral Tag": 0,
         "Formal Charge": 0,
         "Mass": 12.011,
         "Total Hs": 3,
         "Total Valence": 4
        },
        {
         "Chiral Tag": 0,
         "Formal Charge": 0,
         "Mass": 12.011,
         "Total Hs": 2,
         "Total Valence": 4
        },
        {
         "Chiral Tag": 0,
         "Formal Charge": 0,
         "Mass": 12.011,
         "Total Hs": 0,
         "Total Valence": 4
        },
        {
         "Chiral Tag": 0,
         "Formal Charge": 0,
         "Mass": 12.011,
         "Total Hs": 1,
         "Total Valence": 4
        },
        {
         "Chiral Tag": 0,
         "Formal Charge": 0,
         "Mass": 12.011,
         "Total Hs": 1,
         "Total Valence": 4
        },
        {
         "Chiral Tag": 0,
         "Formal Charge": 0,
         "Mass": 12.011,
         "Total Hs": 0,
         "Total Valence": 4
        },
        {
         "Chiral Tag": 0,
         "Formal Charge": 0,
         "Mass": 12.011,
         "Total Hs": 1,
         "Total Valence": 4
        },
        {
         "Chiral Tag": 0,
         "Formal Charge": 0,
         "Mass": 12.011,
         "Total Hs": 1,
         "Total Valence": 4
        },
        {
         "Chiral Tag": 0,
         "Formal Charge": 0,
         "Mass": 12.011,
         "Total Hs": 1,
         "Total Valence": 4
        },
        {
         "Chiral Tag": 0,
         "Formal Charge": 0,
         "Mass": 12.011,
         "Total Hs": 3,
         "Total Valence": 4
        },
        {
         "Chiral Tag": 0,
         "Formal Charge": 0,
         "Mass": 12.011,
         "Total Hs": 0,
         "Total Valence": 4
        },
        {
         "Chiral Tag": 0,
         "Formal Charge": 0,
         "Mass": 15.999,
         "Total Hs": 0,
         "Total Valence": 2
        },
        {
         "Chiral Tag": 0,
         "Formal Charge": 0,
         "Mass": 15.999,
         "Total Hs": 1,
         "Total Valence": 2
        }
       ],
       "layout": "IPY_MODEL_4591e8e048fa4b53af4b2607458790bf",
       "smiles": "CC(C)CC1=CC=C(C=C1)C(C)C(=O)O"
      }
     },
     "4591e8e048fa4b53af4b2607458790bf": {
      "model_module": "@jupyter-widgets/base",
      "model_module_version": "1.2.0",
      "model_name": "LayoutModel",
      "state": {
       "_model_module": "@jupyter-widgets/base",
       "_model_module_version": "1.2.0",
       "_model_name": "LayoutModel",
       "_view_count": null,
       "_view_module": "@jupyter-widgets/base",
       "_view_module_version": "1.2.0",
       "_view_name": "LayoutView",
       "align_content": null,
       "align_items": null,
       "align_self": null,
       "border": null,
       "bottom": null,
       "display": null,
       "flex": null,
       "flex_flow": null,
       "grid_area": null,
       "grid_auto_columns": null,
       "grid_auto_flow": null,
       "grid_auto_rows": null,
       "grid_column": null,
       "grid_gap": null,
       "grid_row": null,
       "grid_template_areas": null,
       "grid_template_columns": null,
       "grid_template_rows": null,
       "height": null,
       "justify_content": null,
       "justify_items": null,
       "left": null,
       "margin": null,
       "max_height": null,
       "max_width": null,
       "min_height": null,
       "min_width": null,
       "object_fit": null,
       "object_position": null,
       "order": null,
       "overflow": null,
       "overflow_x": null,
       "overflow_y": null,
       "padding": null,
       "right": null,
       "top": null,
       "visibility": null,
       "width": null
      }
     }
    },
    "version_major": 2,
    "version_minor": 0
   }
  }
 },
 "nbformat": 4,
 "nbformat_minor": 4
}
