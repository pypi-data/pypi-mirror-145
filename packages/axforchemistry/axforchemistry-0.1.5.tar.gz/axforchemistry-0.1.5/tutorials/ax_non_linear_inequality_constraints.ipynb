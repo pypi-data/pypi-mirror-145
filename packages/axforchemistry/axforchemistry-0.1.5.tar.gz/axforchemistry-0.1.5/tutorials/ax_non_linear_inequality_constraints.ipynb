{
 "cells": [
  {
   "cell_type": "markdown",
   "metadata": {
    "code_folding": [],
    "customInput": null,
    "hidden_ranges": [],
    "originalKey": "34d91651-ca5e-42c0-8777-c40309ae9178",
    "showInput": false
   },
   "source": [
    "## Using non-linear inequality constraints in Ax\n",
    "This notebook comes with the following caveats:\n",
    "1. The search space has to be [0, 1]^d\n",
    "2. We need to pass in explicit `batch_initial_conditions` that satisfy the non-linear inequality constraints as starting points for optimizing the acquisition function.\n",
    "3. BATCH_SIZE must be equal to 1."
   ]
  },
  {
   "cell_type": "code",
   "execution_count": 1,
   "metadata": {
    "code_folding": [],
    "executionStartTime": 1643400429671,
    "executionStopTime": 1643400429679,
    "hidden_ranges": [],
    "originalKey": "cd818119-565c-4722-ba64-ebe91b0b3c37",
    "requestMsgId": "bc0c0458-b476-4543-bb12-128df078438a",
    "showInput": true
   },
   "outputs": [],
   "source": [
    "import random\n",
    "\n",
    "import torch\n",
    "from ax import Data, Experiment, ParameterType, RangeParameter, SearchSpace\n",
    "from ax.modelbridge.registry import Models\n",
    "from ax.runners.synthetic import SyntheticRunner\n",
    "from torch.quasirandom import SobolEngine"
   ]
  },
  {
   "cell_type": "code",
   "execution_count": 2,
   "metadata": {
    "code_folding": [],
    "customInput": null,
    "executionStartTime": 1643400429688,
    "executionStopTime": 1643400429771,
    "hidden_ranges": [],
    "originalKey": "8c79f294-bbc2-45a2-99b0-1319abebe6e6",
    "requestMsgId": "cb4e8d23-99ec-48d9-b000-d10136cb0b22",
    "showInput": true
   },
   "outputs": [],
   "source": [
    "from ax.core.objective import Objective\n",
    "from ax.core.optimization_config import OptimizationConfig\n",
    "from ax.metrics.hartmann6 import Hartmann6Metric\n",
    "\n",
    "\n",
    "search_space = SearchSpace(\n",
    "    parameters=[\n",
    "        RangeParameter(name=f\"x{i}\", parameter_type=ParameterType.FLOAT, lower=0.0, upper=1.0) for i in range(6)\n",
    "    ]\n",
    ")\n",
    "\n",
    "optimization_config = OptimizationConfig(\n",
    "    objective=Objective(\n",
    "        metric=Hartmann6Metric(\n",
    "            name=\"objective\",\n",
    "            param_names=[f\"x{i}\" for i in range(6)],\n",
    "            noise_sd=0.0,\n",
    "        ),\n",
    "        minimize=True,\n",
    "    )\n",
    ")"
   ]
  },
  {
   "cell_type": "markdown",
   "metadata": {
    "code_folding": [],
    "customInput": null,
    "hidden_ranges": [],
    "originalKey": "82463719-6f1c-4e76-9785-e6530023c961",
    "showInput": false
   },
   "source": [
    "We want to optimize $f_{\\text{hartmann6}}(x)$ subject to an additional constraint $|| x ||_0 <= 3$. \n",
    "\n",
    "This constraint isn't differentiable, but it can be approximated by a differentiable relaxation using a sum of narrow Gaussian basis functions. \n",
    "Given a univariate Gaussian basis function $g_{\\ell}(x)$ centered at zero with $\\ell > 0$ small, \n",
    "we can approximate the constraint by: $|| x ||_0 \\approx 6 - \\sum_{i=1}^6 g_{\\ell}(x_i) \\leq 3$, which reduces to $\\sum_{i=1}^6 g_{\\ell}(x_i) \\geq 3$."
   ]
  },
  {
   "cell_type": "code",
   "execution_count": 3,
   "metadata": {
    "code_folding": [],
    "customInput": null,
    "executionStartTime": 1643400429785,
    "executionStopTime": 1643400429869,
    "hidden_ranges": [],
    "originalKey": "bd75693c-a798-47c3-b2df-5707c27418a5",
    "requestMsgId": "7f05f873-2fc8-42f3-a737-39559ea62309",
    "showInput": true
   },
   "outputs": [],
   "source": [
    "def narrow_gaussian(x, ell):\n",
    "    return torch.exp(-0.5 * (x / ell) ** 2)\n",
    "\n",
    "\n",
    "def ineq_constraint(x, ell=1e-3):\n",
    "    # Approximation of || x ||_0 <= 3. The constraint is >= 0 to conform with SLSQP\n",
    "    return narrow_gaussian(x, ell).sum(dim=-1) - 3"
   ]
  },
  {
   "cell_type": "markdown",
   "metadata": {
    "code_folding": [],
    "customInput": null,
    "hidden_ranges": [],
    "originalKey": "7698b121-6606-4566-b8d4-d31fc63888f8",
    "showInput": false
   },
   "source": [
    "## BO-loop"
   ]
  },
  {
   "cell_type": "code",
   "execution_count": 4,
   "metadata": {
    "code_folding": [],
    "customInput": null,
    "executionStartTime": 1643400982230,
    "executionStopTime": 1643400982234,
    "hidden_ranges": [],
    "originalKey": "ed065c68-9c45-4baa-9ae8-f0c3c58aa462",
    "requestMsgId": "90f821c2-1c2e-4a4c-8b47-6f86255f12ff",
    "showInput": true
   },
   "outputs": [],
   "source": [
    "from botorch.acquisition import ExpectedImprovement\n",
    "from botorch.fit import fit_gpytorch_model\n",
    "from botorch.models import SingleTaskGP\n",
    "from botorch.models.transforms import Standardize\n",
    "from gpytorch.mlls import ExactMarginalLogLikelihood\n",
    "from torch.nn.functional import normalize\n",
    "\n",
    "\n",
    "def get_batch_initial_conditions(n, X, Y, raw_samples):\n",
    "    \"\"\"Generate starting points for the acquisition function optimization.\"\"\"\n",
    "    # 1. Draw `raw_samples` Sobol points and randomly set three parameters to zero to satisfy the constraint\n",
    "    X_cand = SobolEngine(dimension=6, scramble=True).draw(raw_samples).to(torch.double)\n",
    "    inds = torch.argsort(torch.rand(raw_samples, 6), dim=-1)[:, :3]\n",
    "    X_cand[torch.arange(X_cand.shape[0]).unsqueeze(-1), inds] = 0\n",
    "    X_cand = normalize(X_cand, p=1.0, dim = 0)\n",
    "\n",
    "    # 2. Fit a GP to the observed data, the right thing to do is to use the Ax model here\n",
    "    gp = SingleTaskGP(X, Y, outcome_transform=Standardize(m=1))\n",
    "    mll = ExactMarginalLogLikelihood(gp.likelihood, gp)\n",
    "    fit_gpytorch_model(mll)\n",
    "\n",
    "    # 3. Use EI to select the best points. Ideally, we should use the Ax acquisition function here as well\n",
    "    EI = ExpectedImprovement(model=gp, best_f=Y.min(), maximize=False)\n",
    "    X_cand = X_cand.unsqueeze(1)\n",
    "    acq_vals = EI(X_cand)\n",
    "    return X_cand[acq_vals.topk(n).indices]"
   ]
  },
  {
   "cell_type": "code",
   "execution_count": 5,
   "metadata": {
    "code_folding": [],
    "customInput": null,
    "executionStartTime": 1643400982522,
    "executionStopTime": 1643400982626,
    "hidden_ranges": [],
    "originalKey": "c05c1f1a-1612-4108-8bc8-47836d9141dc",
    "requestMsgId": "8e92049a-08e5-4b9f-b585-f17ac53116a1",
    "showInput": true
   },
   "outputs": [
    {
     "name": "stdout",
     "output_type": "stream",
     "text": [
      "Doing 30 evaluations\n"
     ]
    }
   ],
   "source": [
    "N_INIT = 10\n",
    "BATCH_SIZE = 1\n",
    "N_BATCHES = 20\n",
    "print(f\"Doing {N_INIT + N_BATCHES * BATCH_SIZE} evaluations\")"
   ]
  },
  {
   "cell_type": "code",
   "execution_count": 6,
   "metadata": {
    "code_folding": [],
    "customInput": null,
    "executionStartTime": 1643400982833,
    "executionStopTime": 1643401440335,
    "hidden_ranges": [],
    "originalKey": "b1e024c7-c064-49eb-b3ab-045bfdd7dad2",
    "requestMsgId": "6eb6608d-6f1a-445b-9e5f-aaba4704f8d7",
    "showInput": true
   },
   "outputs": [
    {
     "name": "stdout",
     "output_type": "stream",
     "text": [
      "Iteration: 0, Best in iteration -0.005, Best so far: -0.396\n",
      "Iteration: 1, Best in iteration -0.005, Best so far: -0.396\n",
      "Iteration: 2, Best in iteration -0.005, Best so far: -0.396\n",
      "Iteration: 3, Best in iteration -0.005, Best so far: -0.396\n",
      "Iteration: 4, Best in iteration -0.005, Best so far: -0.396\n",
      "Iteration: 5, Best in iteration -0.005, Best so far: -0.396\n"
     ]
    },
    {
     "ename": "KeyboardInterrupt",
     "evalue": "",
     "output_type": "error",
     "traceback": [
      "\u001b[1;31m---------------------------------------------------------------------------\u001b[0m",
      "\u001b[1;31mKeyboardInterrupt\u001b[0m                         Traceback (most recent call last)",
      "Input \u001b[1;32mIn [6]\u001b[0m, in \u001b[0;36m<module>\u001b[1;34m\u001b[0m\n\u001b[0;32m     23\u001b[0m data \u001b[38;5;241m=\u001b[39m experiment\u001b[38;5;241m.\u001b[39mfetch_data()\n\u001b[0;32m     24\u001b[0m \u001b[38;5;28;01mfor\u001b[39;00m i \u001b[38;5;129;01min\u001b[39;00m \u001b[38;5;28mrange\u001b[39m(N_BATCHES):\n\u001b[1;32m---> 25\u001b[0m     model \u001b[38;5;241m=\u001b[39m \u001b[43mModels\u001b[49m\u001b[38;5;241;43m.\u001b[39;49m\u001b[43mFULLYBAYESIAN\u001b[49m\u001b[43m(\u001b[49m\n\u001b[0;32m     26\u001b[0m \u001b[43m        \u001b[49m\u001b[43mexperiment\u001b[49m\u001b[38;5;241;43m=\u001b[39;49m\u001b[43mexperiment\u001b[49m\u001b[43m,\u001b[49m\n\u001b[0;32m     27\u001b[0m \u001b[43m        \u001b[49m\u001b[43mdata\u001b[49m\u001b[38;5;241;43m=\u001b[39;49m\u001b[43mdata\u001b[49m\u001b[43m,\u001b[49m\n\u001b[0;32m     28\u001b[0m \u001b[43m        \u001b[49m\u001b[43mnum_samples\u001b[49m\u001b[38;5;241;43m=\u001b[39;49m\u001b[38;5;241;43m256\u001b[39;49m\u001b[43m,\u001b[49m\u001b[43m  \u001b[49m\u001b[38;5;66;43;03m# Increasing this may result in better model fits\u001b[39;49;00m\n\u001b[0;32m     29\u001b[0m \u001b[43m        \u001b[49m\u001b[43mwarmup_steps\u001b[49m\u001b[38;5;241;43m=\u001b[39;49m\u001b[38;5;241;43m512\u001b[39;49m\u001b[43m,\u001b[49m\u001b[43m  \u001b[49m\u001b[38;5;66;43;03m# Increasing this may result in better model fits\u001b[39;49;00m\n\u001b[0;32m     30\u001b[0m \u001b[43m        \u001b[49m\u001b[43mgp_kernel\u001b[49m\u001b[38;5;241;43m=\u001b[39;49m\u001b[38;5;124;43m\"\u001b[39;49m\u001b[38;5;124;43mmatern\u001b[39;49m\u001b[38;5;124;43m\"\u001b[39;49m\u001b[43m,\u001b[49m\u001b[43m  \u001b[49m\u001b[38;5;66;43;03m# \"rbf\" is the default in the paper, but we also support \"matern\"\u001b[39;49;00m\n\u001b[0;32m     31\u001b[0m \u001b[43m        \u001b[49m\u001b[43mtorch_dtype\u001b[49m\u001b[38;5;241;43m=\u001b[39;49m\u001b[43mtorch\u001b[49m\u001b[38;5;241;43m.\u001b[39;49m\u001b[43mdouble\u001b[49m\u001b[43m,\u001b[49m\n\u001b[0;32m     32\u001b[0m \u001b[43m        \u001b[49m\u001b[43mverbose\u001b[49m\u001b[38;5;241;43m=\u001b[39;49m\u001b[38;5;28;43;01mFalse\u001b[39;49;00m\u001b[43m,\u001b[49m\u001b[43m  \u001b[49m\u001b[38;5;66;43;03m# Set to True to print stats from MCMC\u001b[39;49;00m\n\u001b[0;32m     33\u001b[0m \u001b[43m        \u001b[49m\u001b[43mdisable_progbar\u001b[49m\u001b[38;5;241;43m=\u001b[39;49m\u001b[38;5;28;43;01mTrue\u001b[39;49;00m\u001b[43m,\u001b[49m\u001b[43m  \u001b[49m\u001b[38;5;66;43;03m# Set to False to print a progress bar from MCMC\u001b[39;49;00m\n\u001b[0;32m     34\u001b[0m \u001b[43m    \u001b[49m\u001b[43m)\u001b[49m\n\u001b[0;32m     35\u001b[0m     batch_initial_conditions \u001b[38;5;241m=\u001b[39m get_batch_initial_conditions(\n\u001b[0;32m     36\u001b[0m         n\u001b[38;5;241m=\u001b[39m\u001b[38;5;241m20\u001b[39m, X\u001b[38;5;241m=\u001b[39mmodel\u001b[38;5;241m.\u001b[39mmodel\u001b[38;5;241m.\u001b[39mXs[\u001b[38;5;241m0\u001b[39m], Y\u001b[38;5;241m=\u001b[39mmodel\u001b[38;5;241m.\u001b[39mmodel\u001b[38;5;241m.\u001b[39mYs[\u001b[38;5;241m0\u001b[39m], raw_samples\u001b[38;5;241m=\u001b[39m\u001b[38;5;241m1024\u001b[39m\n\u001b[0;32m     37\u001b[0m     )\n\u001b[0;32m     38\u001b[0m     \u001b[38;5;28;01mwith\u001b[39;00m warnings\u001b[38;5;241m.\u001b[39mcatch_warnings():\n",
      "File \u001b[1;32mc:\\users\\sterg\\documents\\github\\sparks-baird\\ax-dme65\\ax\\modelbridge\\registry.py:342\u001b[0m, in \u001b[0;36mModelRegistryBase.__call__\u001b[1;34m(self, search_space, experiment, data, silently_filter_kwargs, **kwargs)\u001b[0m\n\u001b[0;32m    329\u001b[0m bridge_kwargs \u001b[38;5;241m=\u001b[39m consolidate_kwargs(\n\u001b[0;32m    330\u001b[0m     kwargs_iterable\u001b[38;5;241m=\u001b[39m[\n\u001b[0;32m    331\u001b[0m         get_function_default_arguments(bridge_class),\n\u001b[1;32m   (...)\u001b[0m\n\u001b[0;32m    338\u001b[0m     ),\n\u001b[0;32m    339\u001b[0m )\n\u001b[0;32m    341\u001b[0m \u001b[38;5;66;03m# Create model bridge with the consolidated kwargs.\u001b[39;00m\n\u001b[1;32m--> 342\u001b[0m model_bridge \u001b[38;5;241m=\u001b[39m bridge_class(\n\u001b[0;32m    343\u001b[0m     search_space\u001b[38;5;241m=\u001b[39msearch_space \u001b[38;5;129;01mor\u001b[39;00m not_none(experiment)\u001b[38;5;241m.\u001b[39msearch_space,\n\u001b[0;32m    344\u001b[0m     experiment\u001b[38;5;241m=\u001b[39mexperiment,\n\u001b[0;32m    345\u001b[0m     data\u001b[38;5;241m=\u001b[39mdata,\n\u001b[0;32m    346\u001b[0m     model\u001b[38;5;241m=\u001b[39mmodel,\n\u001b[0;32m    347\u001b[0m     \u001b[38;5;241m*\u001b[39m\u001b[38;5;241m*\u001b[39mbridge_kwargs,\n\u001b[0;32m    348\u001b[0m )\n\u001b[0;32m    350\u001b[0m \u001b[38;5;28;01mif\u001b[39;00m model_setup_info\u001b[38;5;241m.\u001b[39mnot_saved_model_kwargs:\n\u001b[0;32m    351\u001b[0m     \u001b[38;5;28;01mfor\u001b[39;00m key \u001b[38;5;129;01min\u001b[39;00m model_setup_info\u001b[38;5;241m.\u001b[39mnot_saved_model_kwargs:\n",
      "File \u001b[1;32mc:\\users\\sterg\\documents\\github\\sparks-baird\\ax-dme65\\ax\\modelbridge\\torch.py:99\u001b[0m, in \u001b[0;36mTorchModelBridge.__init__\u001b[1;34m(self, experiment, search_space, data, model, transforms, transform_configs, torch_dtype, torch_device, status_quo_name, status_quo_features, optimization_config, fit_out_of_design, objective_thresholds, default_model_gen_options)\u001b[0m\n\u001b[0;32m     92\u001b[0m     optimization_config \u001b[38;5;241m=\u001b[39m checked_cast(\n\u001b[0;32m     93\u001b[0m         MultiObjectiveOptimizationConfig, optimization_config\n\u001b[0;32m     94\u001b[0m     )\n\u001b[0;32m     95\u001b[0m     optimization_config \u001b[38;5;241m=\u001b[39m optimization_config\u001b[38;5;241m.\u001b[39mclone_with_args(\n\u001b[0;32m     96\u001b[0m         objective_thresholds\u001b[38;5;241m=\u001b[39mobjective_thresholds\n\u001b[0;32m     97\u001b[0m     )\n\u001b[1;32m---> 99\u001b[0m \u001b[38;5;28;43msuper\u001b[39;49m\u001b[43m(\u001b[49m\u001b[43m)\u001b[49m\u001b[38;5;241;43m.\u001b[39;49m\u001b[38;5;21;43m__init__\u001b[39;49m\u001b[43m(\u001b[49m\n\u001b[0;32m    100\u001b[0m \u001b[43m    \u001b[49m\u001b[43mexperiment\u001b[49m\u001b[38;5;241;43m=\u001b[39;49m\u001b[43mexperiment\u001b[49m\u001b[43m,\u001b[49m\n\u001b[0;32m    101\u001b[0m \u001b[43m    \u001b[49m\u001b[43msearch_space\u001b[49m\u001b[38;5;241;43m=\u001b[39;49m\u001b[43msearch_space\u001b[49m\u001b[43m,\u001b[49m\n\u001b[0;32m    102\u001b[0m \u001b[43m    \u001b[49m\u001b[43mdata\u001b[49m\u001b[38;5;241;43m=\u001b[39;49m\u001b[43mdata\u001b[49m\u001b[43m,\u001b[49m\n\u001b[0;32m    103\u001b[0m \u001b[43m    \u001b[49m\u001b[43mmodel\u001b[49m\u001b[38;5;241;43m=\u001b[39;49m\u001b[43mmodel\u001b[49m\u001b[43m,\u001b[49m\n\u001b[0;32m    104\u001b[0m \u001b[43m    \u001b[49m\u001b[43mtransforms\u001b[49m\u001b[38;5;241;43m=\u001b[39;49m\u001b[43mtransforms\u001b[49m\u001b[43m,\u001b[49m\n\u001b[0;32m    105\u001b[0m \u001b[43m    \u001b[49m\u001b[43mtransform_configs\u001b[49m\u001b[38;5;241;43m=\u001b[39;49m\u001b[43mtransform_configs\u001b[49m\u001b[43m,\u001b[49m\n\u001b[0;32m    106\u001b[0m \u001b[43m    \u001b[49m\u001b[43mstatus_quo_name\u001b[49m\u001b[38;5;241;43m=\u001b[39;49m\u001b[43mstatus_quo_name\u001b[49m\u001b[43m,\u001b[49m\n\u001b[0;32m    107\u001b[0m \u001b[43m    \u001b[49m\u001b[43mstatus_quo_features\u001b[49m\u001b[38;5;241;43m=\u001b[39;49m\u001b[43mstatus_quo_features\u001b[49m\u001b[43m,\u001b[49m\n\u001b[0;32m    108\u001b[0m \u001b[43m    \u001b[49m\u001b[43moptimization_config\u001b[49m\u001b[38;5;241;43m=\u001b[39;49m\u001b[43moptimization_config\u001b[49m\u001b[43m,\u001b[49m\n\u001b[0;32m    109\u001b[0m \u001b[43m    \u001b[49m\u001b[43mfit_out_of_design\u001b[49m\u001b[38;5;241;43m=\u001b[39;49m\u001b[43mfit_out_of_design\u001b[49m\u001b[43m,\u001b[49m\n\u001b[0;32m    110\u001b[0m \u001b[43m\u001b[49m\u001b[43m)\u001b[49m\n",
      "File \u001b[1;32mc:\\users\\sterg\\documents\\github\\sparks-baird\\ax-dme65\\ax\\modelbridge\\base.py:181\u001b[0m, in \u001b[0;36mModelBridge.__init__\u001b[1;34m(self, search_space, model, transforms, experiment, data, transform_configs, status_quo_name, status_quo_features, optimization_config, fit_out_of_design, fit_abandoned)\u001b[0m\n\u001b[0;32m    179\u001b[0m \u001b[38;5;28mself\u001b[39m\u001b[38;5;241m.\u001b[39mmodel \u001b[38;5;241m=\u001b[39m model\n\u001b[0;32m    180\u001b[0m \u001b[38;5;28;01mtry\u001b[39;00m:\n\u001b[1;32m--> 181\u001b[0m     \u001b[38;5;28;43mself\u001b[39;49m\u001b[38;5;241;43m.\u001b[39;49m\u001b[43m_fit\u001b[49m\u001b[43m(\u001b[49m\n\u001b[0;32m    182\u001b[0m \u001b[43m        \u001b[49m\u001b[43mmodel\u001b[49m\u001b[38;5;241;43m=\u001b[39;49m\u001b[43mmodel\u001b[49m\u001b[43m,\u001b[49m\n\u001b[0;32m    183\u001b[0m \u001b[43m        \u001b[49m\u001b[43msearch_space\u001b[49m\u001b[38;5;241;43m=\u001b[39;49m\u001b[43msearch_space\u001b[49m\u001b[43m,\u001b[49m\n\u001b[0;32m    184\u001b[0m \u001b[43m        \u001b[49m\u001b[43mobservation_features\u001b[49m\u001b[38;5;241;43m=\u001b[39;49m\u001b[43mobs_feats\u001b[49m\u001b[43m,\u001b[49m\n\u001b[0;32m    185\u001b[0m \u001b[43m        \u001b[49m\u001b[43mobservation_data\u001b[49m\u001b[38;5;241;43m=\u001b[39;49m\u001b[43mobs_data\u001b[49m\u001b[43m,\u001b[49m\n\u001b[0;32m    186\u001b[0m \u001b[43m    \u001b[49m\u001b[43m)\u001b[49m\n\u001b[0;32m    187\u001b[0m     \u001b[38;5;28mself\u001b[39m\u001b[38;5;241m.\u001b[39mfit_time \u001b[38;5;241m=\u001b[39m time\u001b[38;5;241m.\u001b[39mtime() \u001b[38;5;241m-\u001b[39m t_fit_start\n\u001b[0;32m    188\u001b[0m     \u001b[38;5;28mself\u001b[39m\u001b[38;5;241m.\u001b[39mfit_time_since_gen \u001b[38;5;241m=\u001b[39m \u001b[38;5;28mfloat\u001b[39m(\u001b[38;5;28mself\u001b[39m\u001b[38;5;241m.\u001b[39mfit_time)\n",
      "File \u001b[1;32mc:\\users\\sterg\\documents\\github\\sparks-baird\\ax-dme65\\ax\\modelbridge\\torch.py:131\u001b[0m, in \u001b[0;36mTorchModelBridge._fit\u001b[1;34m(self, model, search_space, observation_features, observation_data)\u001b[0m\n\u001b[0;32m    123\u001b[0m \u001b[38;5;28;01mdef\u001b[39;00m \u001b[38;5;21m_fit\u001b[39m(\n\u001b[0;32m    124\u001b[0m     \u001b[38;5;28mself\u001b[39m,\n\u001b[0;32m    125\u001b[0m     model: TorchModel,\n\u001b[1;32m   (...)\u001b[0m\n\u001b[0;32m    128\u001b[0m     observation_data: List[ObservationData],\n\u001b[0;32m    129\u001b[0m ) \u001b[38;5;241m-\u001b[39m\u001b[38;5;241m>\u001b[39m \u001b[38;5;28;01mNone\u001b[39;00m:  \u001b[38;5;66;03m# pragma: no cover\u001b[39;00m\n\u001b[0;32m    130\u001b[0m     \u001b[38;5;28mself\u001b[39m\u001b[38;5;241m.\u001b[39m_validate_observation_data(observation_data)\n\u001b[1;32m--> 131\u001b[0m     \u001b[38;5;28;43msuper\u001b[39;49m\u001b[43m(\u001b[49m\u001b[43m)\u001b[49m\u001b[38;5;241;43m.\u001b[39;49m\u001b[43m_fit\u001b[49m\u001b[43m(\u001b[49m\n\u001b[0;32m    132\u001b[0m \u001b[43m        \u001b[49m\u001b[43mmodel\u001b[49m\u001b[38;5;241;43m=\u001b[39;49m\u001b[43mmodel\u001b[49m\u001b[43m,\u001b[49m\n\u001b[0;32m    133\u001b[0m \u001b[43m        \u001b[49m\u001b[43msearch_space\u001b[49m\u001b[38;5;241;43m=\u001b[39;49m\u001b[43msearch_space\u001b[49m\u001b[43m,\u001b[49m\n\u001b[0;32m    134\u001b[0m \u001b[43m        \u001b[49m\u001b[43mobservation_features\u001b[49m\u001b[38;5;241;43m=\u001b[39;49m\u001b[43mobservation_features\u001b[49m\u001b[43m,\u001b[49m\n\u001b[0;32m    135\u001b[0m \u001b[43m        \u001b[49m\u001b[43mobservation_data\u001b[49m\u001b[38;5;241;43m=\u001b[39;49m\u001b[43mobservation_data\u001b[49m\u001b[43m,\u001b[49m\n\u001b[0;32m    136\u001b[0m \u001b[43m    \u001b[49m\u001b[43m)\u001b[49m\n",
      "File \u001b[1;32mc:\\users\\sterg\\documents\\github\\sparks-baird\\ax-dme65\\ax\\modelbridge\\array.py:102\u001b[0m, in \u001b[0;36mArrayModelBridge._fit\u001b[1;34m(self, model, search_space, observation_features, observation_data)\u001b[0m\n\u001b[0;32m     98\u001b[0m search_space_digest \u001b[38;5;241m=\u001b[39m extract_search_space_digest(\n\u001b[0;32m     99\u001b[0m     search_space\u001b[38;5;241m=\u001b[39msearch_space, param_names\u001b[38;5;241m=\u001b[39m\u001b[38;5;28mself\u001b[39m\u001b[38;5;241m.\u001b[39mparameters\n\u001b[0;32m    100\u001b[0m )\n\u001b[0;32m    101\u001b[0m \u001b[38;5;66;03m# Fit\u001b[39;00m\n\u001b[1;32m--> 102\u001b[0m \u001b[38;5;28;43mself\u001b[39;49m\u001b[38;5;241;43m.\u001b[39;49m\u001b[43m_model_fit\u001b[49m\u001b[43m(\u001b[49m\n\u001b[0;32m    103\u001b[0m \u001b[43m    \u001b[49m\u001b[43mmodel\u001b[49m\u001b[38;5;241;43m=\u001b[39;49m\u001b[43mmodel\u001b[49m\u001b[43m,\u001b[49m\n\u001b[0;32m    104\u001b[0m \u001b[43m    \u001b[49m\u001b[43mXs\u001b[49m\u001b[38;5;241;43m=\u001b[39;49m\u001b[43mXs_array\u001b[49m\u001b[43m,\u001b[49m\n\u001b[0;32m    105\u001b[0m \u001b[43m    \u001b[49m\u001b[43mYs\u001b[49m\u001b[38;5;241;43m=\u001b[39;49m\u001b[43mYs_array\u001b[49m\u001b[43m,\u001b[49m\n\u001b[0;32m    106\u001b[0m \u001b[43m    \u001b[49m\u001b[43mYvars\u001b[49m\u001b[38;5;241;43m=\u001b[39;49m\u001b[43mYvars_array\u001b[49m\u001b[43m,\u001b[49m\n\u001b[0;32m    107\u001b[0m \u001b[43m    \u001b[49m\u001b[43msearch_space_digest\u001b[49m\u001b[38;5;241;43m=\u001b[39;49m\u001b[43msearch_space_digest\u001b[49m\u001b[43m,\u001b[49m\n\u001b[0;32m    108\u001b[0m \u001b[43m    \u001b[49m\u001b[43mmetric_names\u001b[49m\u001b[38;5;241;43m=\u001b[39;49m\u001b[38;5;28;43mself\u001b[39;49m\u001b[38;5;241;43m.\u001b[39;49m\u001b[43moutcomes\u001b[49m\u001b[43m,\u001b[49m\n\u001b[0;32m    109\u001b[0m \u001b[43m    \u001b[49m\u001b[43mcandidate_metadata\u001b[49m\u001b[38;5;241;43m=\u001b[39;49m\u001b[43mcandidate_metadata\u001b[49m\u001b[43m,\u001b[49m\n\u001b[0;32m    110\u001b[0m \u001b[43m\u001b[49m\u001b[43m)\u001b[49m\n",
      "File \u001b[1;32mc:\\users\\sterg\\documents\\github\\sparks-baird\\ax-dme65\\ax\\modelbridge\\torch.py:197\u001b[0m, in \u001b[0;36mTorchModelBridge._model_fit\u001b[1;34m(self, model, Xs, Ys, Yvars, search_space_digest, metric_names, candidate_metadata)\u001b[0m\n\u001b[0;32m    195\u001b[0m Yvars: List[Tensor] \u001b[38;5;241m=\u001b[39m \u001b[38;5;28mself\u001b[39m\u001b[38;5;241m.\u001b[39m_array_list_to_tensors(Yvars)\n\u001b[0;32m    196\u001b[0m \u001b[38;5;66;03m# pyre-fixme[16]: `Optional` has no attribute `fit`.\u001b[39;00m\n\u001b[1;32m--> 197\u001b[0m \u001b[38;5;28;43mself\u001b[39;49m\u001b[38;5;241;43m.\u001b[39;49m\u001b[43mmodel\u001b[49m\u001b[38;5;241;43m.\u001b[39;49m\u001b[43mfit\u001b[49m\u001b[43m(\u001b[49m\n\u001b[0;32m    198\u001b[0m \u001b[43m    \u001b[49m\u001b[43mXs\u001b[49m\u001b[38;5;241;43m=\u001b[39;49m\u001b[43mXs\u001b[49m\u001b[43m,\u001b[49m\n\u001b[0;32m    199\u001b[0m \u001b[43m    \u001b[49m\u001b[43mYs\u001b[49m\u001b[38;5;241;43m=\u001b[39;49m\u001b[43mYs\u001b[49m\u001b[43m,\u001b[49m\n\u001b[0;32m    200\u001b[0m \u001b[43m    \u001b[49m\u001b[43mYvars\u001b[49m\u001b[38;5;241;43m=\u001b[39;49m\u001b[43mYvars\u001b[49m\u001b[43m,\u001b[49m\n\u001b[0;32m    201\u001b[0m \u001b[43m    \u001b[49m\u001b[43msearch_space_digest\u001b[49m\u001b[38;5;241;43m=\u001b[39;49m\u001b[43msearch_space_digest\u001b[49m\u001b[43m,\u001b[49m\n\u001b[0;32m    202\u001b[0m \u001b[43m    \u001b[49m\u001b[43mmetric_names\u001b[49m\u001b[38;5;241;43m=\u001b[39;49m\u001b[43mmetric_names\u001b[49m\u001b[43m,\u001b[49m\n\u001b[0;32m    203\u001b[0m \u001b[43m    \u001b[49m\u001b[43mcandidate_metadata\u001b[49m\u001b[38;5;241;43m=\u001b[39;49m\u001b[43mcandidate_metadata\u001b[49m\u001b[43m,\u001b[49m\n\u001b[0;32m    204\u001b[0m \u001b[43m\u001b[49m\u001b[43m)\u001b[49m\n",
      "File \u001b[1;32mc:\\users\\sterg\\documents\\github\\sparks-baird\\ax-dme65\\ax\\models\\torch\\botorch.py:296\u001b[0m, in \u001b[0;36mBotorchModel.fit\u001b[1;34m(self, Xs, Ys, Yvars, search_space_digest, metric_names, candidate_metadata)\u001b[0m\n\u001b[0;32m    292\u001b[0m \u001b[38;5;28mself\u001b[39m\u001b[38;5;241m.\u001b[39mfidelity_features \u001b[38;5;241m=\u001b[39m normalize_indices(\n\u001b[0;32m    293\u001b[0m     search_space_digest\u001b[38;5;241m.\u001b[39mfidelity_features, d\u001b[38;5;241m=\u001b[39mXs[\u001b[38;5;241m0\u001b[39m]\u001b[38;5;241m.\u001b[39msize(\u001b[38;5;241m-\u001b[39m\u001b[38;5;241m1\u001b[39m)\n\u001b[0;32m    294\u001b[0m )\n\u001b[0;32m    295\u001b[0m \u001b[38;5;28mself\u001b[39m\u001b[38;5;241m.\u001b[39mmetric_names \u001b[38;5;241m=\u001b[39m metric_names\n\u001b[1;32m--> 296\u001b[0m \u001b[38;5;28mself\u001b[39m\u001b[38;5;241m.\u001b[39mmodel \u001b[38;5;241m=\u001b[39m \u001b[38;5;28mself\u001b[39m\u001b[38;5;241m.\u001b[39mmodel_constructor(  \u001b[38;5;66;03m# pyre-ignore [28]\u001b[39;00m\n\u001b[0;32m    297\u001b[0m     Xs\u001b[38;5;241m=\u001b[39mXs,\n\u001b[0;32m    298\u001b[0m     Ys\u001b[38;5;241m=\u001b[39mYs,\n\u001b[0;32m    299\u001b[0m     Yvars\u001b[38;5;241m=\u001b[39mYvars,\n\u001b[0;32m    300\u001b[0m     task_features\u001b[38;5;241m=\u001b[39m\u001b[38;5;28mself\u001b[39m\u001b[38;5;241m.\u001b[39mtask_features,\n\u001b[0;32m    301\u001b[0m     fidelity_features\u001b[38;5;241m=\u001b[39m\u001b[38;5;28mself\u001b[39m\u001b[38;5;241m.\u001b[39mfidelity_features,\n\u001b[0;32m    302\u001b[0m     metric_names\u001b[38;5;241m=\u001b[39m\u001b[38;5;28mself\u001b[39m\u001b[38;5;241m.\u001b[39mmetric_names,\n\u001b[0;32m    303\u001b[0m     use_input_warping\u001b[38;5;241m=\u001b[39m\u001b[38;5;28mself\u001b[39m\u001b[38;5;241m.\u001b[39muse_input_warping,\n\u001b[0;32m    304\u001b[0m     use_loocv_pseudo_likelihood\u001b[38;5;241m=\u001b[39m\u001b[38;5;28mself\u001b[39m\u001b[38;5;241m.\u001b[39muse_loocv_pseudo_likelihood,\n\u001b[0;32m    305\u001b[0m     \u001b[38;5;241m*\u001b[39m\u001b[38;5;241m*\u001b[39m\u001b[38;5;28mself\u001b[39m\u001b[38;5;241m.\u001b[39m_kwargs,\n\u001b[0;32m    306\u001b[0m )\n",
      "File \u001b[1;32mc:\\users\\sterg\\documents\\github\\sparks-baird\\ax-dme65\\ax\\models\\torch\\fully_bayesian.py:346\u001b[0m, in \u001b[0;36mget_and_fit_model_mcmc\u001b[1;34m(Xs, Ys, Yvars, task_features, fidelity_features, metric_names, state_dict, refit_model, use_input_warping, use_loocv_pseudo_likelihood, num_samples, warmup_steps, thinning, max_tree_depth, disable_progbar, gp_kernel, verbose, **kwargs)\u001b[0m\n\u001b[0;32m    322\u001b[0m \u001b[38;5;28;01mdef\u001b[39;00m \u001b[38;5;21mget_and_fit_model_mcmc\u001b[39m(\n\u001b[0;32m    323\u001b[0m     Xs: List[Tensor],\n\u001b[0;32m    324\u001b[0m     Ys: List[Tensor],\n\u001b[1;32m   (...)\u001b[0m\n\u001b[0;32m    340\u001b[0m     \u001b[38;5;241m*\u001b[39m\u001b[38;5;241m*\u001b[39mkwargs: Any,\n\u001b[0;32m    341\u001b[0m ) \u001b[38;5;241m-\u001b[39m\u001b[38;5;241m>\u001b[39m GPyTorchModel:\n\u001b[0;32m    342\u001b[0m     \u001b[38;5;124mr\u001b[39m\u001b[38;5;124;03m\"\"\"Instantiates a batched GPyTorchModel(ModelListGP) based on the given data and\u001b[39;00m\n\u001b[0;32m    343\u001b[0m \u001b[38;5;124;03m    fit the model based on MCMC in pyro. The batch dimension corresponds to sampled\u001b[39;00m\n\u001b[0;32m    344\u001b[0m \u001b[38;5;124;03m    hyperparameters from MCMC.\u001b[39;00m\n\u001b[0;32m    345\u001b[0m \u001b[38;5;124;03m    \"\"\"\u001b[39;00m\n\u001b[1;32m--> 346\u001b[0m     model, mcmc_samples_list \u001b[38;5;241m=\u001b[39m \u001b[43m_get_model_mcmc_samples\u001b[49m\u001b[43m(\u001b[49m\n\u001b[0;32m    347\u001b[0m \u001b[43m        \u001b[49m\u001b[43mXs\u001b[49m\u001b[38;5;241;43m=\u001b[39;49m\u001b[43mXs\u001b[49m\u001b[43m,\u001b[49m\n\u001b[0;32m    348\u001b[0m \u001b[43m        \u001b[49m\u001b[43mYs\u001b[49m\u001b[38;5;241;43m=\u001b[39;49m\u001b[43mYs\u001b[49m\u001b[43m,\u001b[49m\n\u001b[0;32m    349\u001b[0m \u001b[43m        \u001b[49m\u001b[43mYvars\u001b[49m\u001b[38;5;241;43m=\u001b[39;49m\u001b[43mYvars\u001b[49m\u001b[43m,\u001b[49m\n\u001b[0;32m    350\u001b[0m \u001b[43m        \u001b[49m\u001b[43mtask_features\u001b[49m\u001b[38;5;241;43m=\u001b[39;49m\u001b[43mtask_features\u001b[49m\u001b[43m,\u001b[49m\n\u001b[0;32m    351\u001b[0m \u001b[43m        \u001b[49m\u001b[43mfidelity_features\u001b[49m\u001b[38;5;241;43m=\u001b[39;49m\u001b[43mfidelity_features\u001b[49m\u001b[43m,\u001b[49m\n\u001b[0;32m    352\u001b[0m \u001b[43m        \u001b[49m\u001b[43mmetric_names\u001b[49m\u001b[38;5;241;43m=\u001b[39;49m\u001b[43mmetric_names\u001b[49m\u001b[43m,\u001b[49m\n\u001b[0;32m    353\u001b[0m \u001b[43m        \u001b[49m\u001b[43mstate_dict\u001b[49m\u001b[38;5;241;43m=\u001b[39;49m\u001b[43mstate_dict\u001b[49m\u001b[43m,\u001b[49m\n\u001b[0;32m    354\u001b[0m \u001b[43m        \u001b[49m\u001b[43mrefit_model\u001b[49m\u001b[38;5;241;43m=\u001b[39;49m\u001b[43mrefit_model\u001b[49m\u001b[43m,\u001b[49m\n\u001b[0;32m    355\u001b[0m \u001b[43m        \u001b[49m\u001b[43muse_input_warping\u001b[49m\u001b[38;5;241;43m=\u001b[39;49m\u001b[43muse_input_warping\u001b[49m\u001b[43m,\u001b[49m\n\u001b[0;32m    356\u001b[0m \u001b[43m        \u001b[49m\u001b[43muse_loocv_pseudo_likelihood\u001b[49m\u001b[38;5;241;43m=\u001b[39;49m\u001b[43muse_loocv_pseudo_likelihood\u001b[49m\u001b[43m,\u001b[49m\n\u001b[0;32m    357\u001b[0m \u001b[43m        \u001b[49m\u001b[43mnum_samples\u001b[49m\u001b[38;5;241;43m=\u001b[39;49m\u001b[43mnum_samples\u001b[49m\u001b[43m,\u001b[49m\n\u001b[0;32m    358\u001b[0m \u001b[43m        \u001b[49m\u001b[43mwarmup_steps\u001b[49m\u001b[38;5;241;43m=\u001b[39;49m\u001b[43mwarmup_steps\u001b[49m\u001b[43m,\u001b[49m\n\u001b[0;32m    359\u001b[0m \u001b[43m        \u001b[49m\u001b[43mthinning\u001b[49m\u001b[38;5;241;43m=\u001b[39;49m\u001b[43mthinning\u001b[49m\u001b[43m,\u001b[49m\n\u001b[0;32m    360\u001b[0m \u001b[43m        \u001b[49m\u001b[43mmax_tree_depth\u001b[49m\u001b[38;5;241;43m=\u001b[39;49m\u001b[43mmax_tree_depth\u001b[49m\u001b[43m,\u001b[49m\n\u001b[0;32m    361\u001b[0m \u001b[43m        \u001b[49m\u001b[43mdisable_progbar\u001b[49m\u001b[38;5;241;43m=\u001b[39;49m\u001b[43mdisable_progbar\u001b[49m\u001b[43m,\u001b[49m\n\u001b[0;32m    362\u001b[0m \u001b[43m        \u001b[49m\u001b[43mgp_kernel\u001b[49m\u001b[38;5;241;43m=\u001b[39;49m\u001b[43mgp_kernel\u001b[49m\u001b[43m,\u001b[49m\n\u001b[0;32m    363\u001b[0m \u001b[43m        \u001b[49m\u001b[43mverbose\u001b[49m\u001b[38;5;241;43m=\u001b[39;49m\u001b[43mverbose\u001b[49m\u001b[43m,\u001b[49m\n\u001b[0;32m    364\u001b[0m \u001b[43m        \u001b[49m\u001b[43mpyro_model\u001b[49m\u001b[38;5;241;43m=\u001b[39;49m\u001b[43msingle_task_pyro_model\u001b[49m\u001b[43m,\u001b[49m\n\u001b[0;32m    365\u001b[0m \u001b[43m        \u001b[49m\u001b[43mget_gpytorch_model\u001b[49m\u001b[38;5;241;43m=\u001b[39;49m\u001b[43m_get_single_task_gpytorch_model\u001b[49m\u001b[43m,\u001b[49m\n\u001b[0;32m    366\u001b[0m \u001b[43m    \u001b[49m\u001b[43m)\u001b[49m\n\u001b[0;32m    367\u001b[0m     \u001b[38;5;28;01mfor\u001b[39;00m i, mcmc_samples \u001b[38;5;129;01min\u001b[39;00m \u001b[38;5;28menumerate\u001b[39m(mcmc_samples_list):\n\u001b[0;32m    368\u001b[0m         load_mcmc_samples_to_model(model\u001b[38;5;241m=\u001b[39mmodel\u001b[38;5;241m.\u001b[39mmodels[i], mcmc_samples\u001b[38;5;241m=\u001b[39mmcmc_samples)\n",
      "File \u001b[1;32mc:\\users\\sterg\\documents\\github\\sparks-baird\\ax-dme65\\ax\\models\\torch\\fully_bayesian.py:302\u001b[0m, in \u001b[0;36m_get_model_mcmc_samples\u001b[1;34m(Xs, Ys, Yvars, task_features, fidelity_features, metric_names, state_dict, refit_model, use_input_warping, use_loocv_pseudo_likelihood, num_samples, warmup_steps, thinning, max_tree_depth, disable_progbar, gp_kernel, verbose, pyro_model, get_gpytorch_model, rank, **kwargs)\u001b[0m\n\u001b[0;32m    300\u001b[0m \u001b[38;5;28;01mif\u001b[39;00m state_dict \u001b[38;5;129;01mis\u001b[39;00m \u001b[38;5;28;01mNone\u001b[39;00m \u001b[38;5;129;01mor\u001b[39;00m refit_model:\n\u001b[0;32m    301\u001b[0m     \u001b[38;5;28;01mfor\u001b[39;00m X, Y, Yvar \u001b[38;5;129;01min\u001b[39;00m \u001b[38;5;28mzip\u001b[39m(Xs, Ys, Yvars):\n\u001b[1;32m--> 302\u001b[0m         mcmc_samples \u001b[38;5;241m=\u001b[39m \u001b[43mrun_inference\u001b[49m\u001b[43m(\u001b[49m\n\u001b[0;32m    303\u001b[0m \u001b[43m            \u001b[49m\u001b[43mpyro_model\u001b[49m\u001b[38;5;241;43m=\u001b[39;49m\u001b[43mpyro_model\u001b[49m\u001b[43m,\u001b[49m\n\u001b[0;32m    304\u001b[0m \u001b[43m            \u001b[49m\u001b[43mX\u001b[49m\u001b[38;5;241;43m=\u001b[39;49m\u001b[43mX\u001b[49m\u001b[43m,\u001b[49m\n\u001b[0;32m    305\u001b[0m \u001b[43m            \u001b[49m\u001b[43mY\u001b[49m\u001b[38;5;241;43m=\u001b[39;49m\u001b[43mY\u001b[49m\u001b[43m,\u001b[49m\n\u001b[0;32m    306\u001b[0m \u001b[43m            \u001b[49m\u001b[43mYvar\u001b[49m\u001b[38;5;241;43m=\u001b[39;49m\u001b[43mYvar\u001b[49m\u001b[43m,\u001b[49m\n\u001b[0;32m    307\u001b[0m \u001b[43m            \u001b[49m\u001b[43mnum_samples\u001b[49m\u001b[38;5;241;43m=\u001b[39;49m\u001b[43mnum_samples\u001b[49m\u001b[43m,\u001b[49m\n\u001b[0;32m    308\u001b[0m \u001b[43m            \u001b[49m\u001b[43mwarmup_steps\u001b[49m\u001b[38;5;241;43m=\u001b[39;49m\u001b[43mwarmup_steps\u001b[49m\u001b[43m,\u001b[49m\n\u001b[0;32m    309\u001b[0m \u001b[43m            \u001b[49m\u001b[43mthinning\u001b[49m\u001b[38;5;241;43m=\u001b[39;49m\u001b[43mthinning\u001b[49m\u001b[43m,\u001b[49m\n\u001b[0;32m    310\u001b[0m \u001b[43m            \u001b[49m\u001b[43muse_input_warping\u001b[49m\u001b[38;5;241;43m=\u001b[39;49m\u001b[43muse_input_warping\u001b[49m\u001b[43m,\u001b[49m\n\u001b[0;32m    311\u001b[0m \u001b[43m            \u001b[49m\u001b[43mmax_tree_depth\u001b[49m\u001b[38;5;241;43m=\u001b[39;49m\u001b[43mmax_tree_depth\u001b[49m\u001b[43m,\u001b[49m\n\u001b[0;32m    312\u001b[0m \u001b[43m            \u001b[49m\u001b[43mdisable_progbar\u001b[49m\u001b[38;5;241;43m=\u001b[39;49m\u001b[43mdisable_progbar\u001b[49m\u001b[43m,\u001b[49m\n\u001b[0;32m    313\u001b[0m \u001b[43m            \u001b[49m\u001b[43mgp_kernel\u001b[49m\u001b[38;5;241;43m=\u001b[39;49m\u001b[43mgp_kernel\u001b[49m\u001b[43m,\u001b[49m\n\u001b[0;32m    314\u001b[0m \u001b[43m            \u001b[49m\u001b[43mverbose\u001b[49m\u001b[38;5;241;43m=\u001b[39;49m\u001b[43mverbose\u001b[49m\u001b[43m,\u001b[49m\n\u001b[0;32m    315\u001b[0m \u001b[43m            \u001b[49m\u001b[43mtask_feature\u001b[49m\u001b[38;5;241;43m=\u001b[39;49m\u001b[43mtask_feature\u001b[49m\u001b[43m,\u001b[49m\n\u001b[0;32m    316\u001b[0m \u001b[43m            \u001b[49m\u001b[43mrank\u001b[49m\u001b[38;5;241;43m=\u001b[39;49m\u001b[43mrank\u001b[49m\u001b[43m,\u001b[49m\n\u001b[0;32m    317\u001b[0m \u001b[43m        \u001b[49m\u001b[43m)\u001b[49m\n\u001b[0;32m    318\u001b[0m         mcmc_samples_list\u001b[38;5;241m.\u001b[39mappend(mcmc_samples)\n\u001b[0;32m    319\u001b[0m \u001b[38;5;28;01mreturn\u001b[39;00m model, mcmc_samples_list\n",
      "File \u001b[1;32mc:\\users\\sterg\\documents\\github\\sparks-baird\\ax-dme65\\ax\\models\\torch\\fully_bayesian.py:407\u001b[0m, in \u001b[0;36mrun_inference\u001b[1;34m(pyro_model, X, Y, Yvar, num_samples, warmup_steps, thinning, use_input_warping, max_tree_depth, disable_progbar, gp_kernel, verbose, task_feature, rank)\u001b[0m\n\u001b[0;32m    394\u001b[0m kernel \u001b[38;5;241m=\u001b[39m NUTS(\n\u001b[0;32m    395\u001b[0m     pyro_model,\n\u001b[0;32m    396\u001b[0m     jit_compile\u001b[38;5;241m=\u001b[39m\u001b[38;5;28;01mTrue\u001b[39;00m,\n\u001b[1;32m   (...)\u001b[0m\n\u001b[0;32m    399\u001b[0m     max_tree_depth\u001b[38;5;241m=\u001b[39mmax_tree_depth,\n\u001b[0;32m    400\u001b[0m )\n\u001b[0;32m    401\u001b[0m mcmc \u001b[38;5;241m=\u001b[39m MCMC(\n\u001b[0;32m    402\u001b[0m     kernel,\n\u001b[0;32m    403\u001b[0m     warmup_steps\u001b[38;5;241m=\u001b[39mwarmup_steps,\n\u001b[0;32m    404\u001b[0m     num_samples\u001b[38;5;241m=\u001b[39mnum_samples,\n\u001b[0;32m    405\u001b[0m     disable_progbar\u001b[38;5;241m=\u001b[39mdisable_progbar,\n\u001b[0;32m    406\u001b[0m )\n\u001b[1;32m--> 407\u001b[0m \u001b[43mmcmc\u001b[49m\u001b[38;5;241;43m.\u001b[39;49m\u001b[43mrun\u001b[49m\u001b[43m(\u001b[49m\n\u001b[0;32m    408\u001b[0m \u001b[43m    \u001b[49m\u001b[43mX\u001b[49m\u001b[43m,\u001b[49m\n\u001b[0;32m    409\u001b[0m \u001b[43m    \u001b[49m\u001b[43mY\u001b[49m\u001b[43m,\u001b[49m\n\u001b[0;32m    410\u001b[0m \u001b[43m    \u001b[49m\u001b[43mYvar\u001b[49m\u001b[43m,\u001b[49m\n\u001b[0;32m    411\u001b[0m \u001b[43m    \u001b[49m\u001b[43muse_input_warping\u001b[49m\u001b[38;5;241;43m=\u001b[39;49m\u001b[43muse_input_warping\u001b[49m\u001b[43m,\u001b[49m\n\u001b[0;32m    412\u001b[0m \u001b[43m    \u001b[49m\u001b[43mgp_kernel\u001b[49m\u001b[38;5;241;43m=\u001b[39;49m\u001b[43mgp_kernel\u001b[49m\u001b[43m,\u001b[49m\n\u001b[0;32m    413\u001b[0m \u001b[43m    \u001b[49m\u001b[43mtask_feature\u001b[49m\u001b[38;5;241;43m=\u001b[39;49m\u001b[43mtask_feature\u001b[49m\u001b[43m,\u001b[49m\n\u001b[0;32m    414\u001b[0m \u001b[43m    \u001b[49m\u001b[43mrank\u001b[49m\u001b[38;5;241;43m=\u001b[39;49m\u001b[43mrank\u001b[49m\u001b[43m,\u001b[49m\n\u001b[0;32m    415\u001b[0m \u001b[43m\u001b[49m\u001b[43m)\u001b[49m\n\u001b[0;32m    417\u001b[0m \u001b[38;5;66;03m# compute the true lengthscales and get rid of the temporary variables\u001b[39;00m\n\u001b[0;32m    418\u001b[0m samples \u001b[38;5;241m=\u001b[39m mcmc\u001b[38;5;241m.\u001b[39mget_samples()\n",
      "File \u001b[1;32m~\\Miniconda3\\envs\\botorch-latest\\lib\\site-packages\\pyro\\poutine\\messenger.py:12\u001b[0m, in \u001b[0;36m_context_wrap\u001b[1;34m(context, fn, *args, **kwargs)\u001b[0m\n\u001b[0;32m     10\u001b[0m \u001b[38;5;28;01mdef\u001b[39;00m \u001b[38;5;21m_context_wrap\u001b[39m(context, fn, \u001b[38;5;241m*\u001b[39margs, \u001b[38;5;241m*\u001b[39m\u001b[38;5;241m*\u001b[39mkwargs):\n\u001b[0;32m     11\u001b[0m     \u001b[38;5;28;01mwith\u001b[39;00m context:\n\u001b[1;32m---> 12\u001b[0m         \u001b[38;5;28;01mreturn\u001b[39;00m fn(\u001b[38;5;241m*\u001b[39margs, \u001b[38;5;241m*\u001b[39m\u001b[38;5;241m*\u001b[39mkwargs)\n",
      "File \u001b[1;32m~\\Miniconda3\\envs\\botorch-latest\\lib\\site-packages\\pyro\\infer\\mcmc\\api.py:563\u001b[0m, in \u001b[0;36mMCMC.run\u001b[1;34m(self, *args, **kwargs)\u001b[0m\n\u001b[0;32m    554\u001b[0m \u001b[38;5;28;01mwith\u001b[39;00m optional(\n\u001b[0;32m    555\u001b[0m     pyro\u001b[38;5;241m.\u001b[39mvalidation_enabled(\u001b[38;5;129;01mnot\u001b[39;00m \u001b[38;5;28mself\u001b[39m\u001b[38;5;241m.\u001b[39mdisable_validation),\n\u001b[0;32m    556\u001b[0m     \u001b[38;5;28mself\u001b[39m\u001b[38;5;241m.\u001b[39mdisable_validation \u001b[38;5;129;01mis\u001b[39;00m \u001b[38;5;129;01mnot\u001b[39;00m \u001b[38;5;28;01mNone\u001b[39;00m,\n\u001b[1;32m   (...)\u001b[0m\n\u001b[0;32m    560\u001b[0m     \u001b[38;5;66;03m# This also resolves \"RuntimeError: Cowardly refusing to serialize non-leaf tensor which\u001b[39;00m\n\u001b[0;32m    561\u001b[0m     \u001b[38;5;66;03m# requires_grad\", which happens with `jit_compile` under PyTorch 1.7\u001b[39;00m\n\u001b[0;32m    562\u001b[0m     args \u001b[38;5;241m=\u001b[39m [arg\u001b[38;5;241m.\u001b[39mdetach() \u001b[38;5;28;01mif\u001b[39;00m torch\u001b[38;5;241m.\u001b[39mis_tensor(arg) \u001b[38;5;28;01melse\u001b[39;00m arg \u001b[38;5;28;01mfor\u001b[39;00m arg \u001b[38;5;129;01min\u001b[39;00m args]\n\u001b[1;32m--> 563\u001b[0m     \u001b[38;5;28;01mfor\u001b[39;00m x, chain_id \u001b[38;5;129;01min\u001b[39;00m \u001b[38;5;28mself\u001b[39m\u001b[38;5;241m.\u001b[39msampler\u001b[38;5;241m.\u001b[39mrun(\u001b[38;5;241m*\u001b[39margs, \u001b[38;5;241m*\u001b[39m\u001b[38;5;241m*\u001b[39mkwargs):\n\u001b[0;32m    564\u001b[0m         \u001b[38;5;28;01mif\u001b[39;00m num_samples[chain_id] \u001b[38;5;241m==\u001b[39m \u001b[38;5;241m0\u001b[39m:\n\u001b[0;32m    565\u001b[0m             num_samples[chain_id] \u001b[38;5;241m+\u001b[39m\u001b[38;5;241m=\u001b[39m \u001b[38;5;241m1\u001b[39m\n",
      "File \u001b[1;32m~\\Miniconda3\\envs\\botorch-latest\\lib\\site-packages\\pyro\\infer\\mcmc\\api.py:223\u001b[0m, in \u001b[0;36m_UnarySampler.run\u001b[1;34m(self, *args, **kwargs)\u001b[0m\n\u001b[0;32m    221\u001b[0m logger \u001b[38;5;241m=\u001b[39m initialize_logger(logger, \u001b[38;5;124m\"\u001b[39m\u001b[38;5;124m\"\u001b[39m, progress_bar)\n\u001b[0;32m    222\u001b[0m hook_w_logging \u001b[38;5;241m=\u001b[39m _add_logging_hook(logger, progress_bar, \u001b[38;5;28mself\u001b[39m\u001b[38;5;241m.\u001b[39mhook)\n\u001b[1;32m--> 223\u001b[0m \u001b[38;5;28;01mfor\u001b[39;00m sample \u001b[38;5;129;01min\u001b[39;00m _gen_samples(\n\u001b[0;32m    224\u001b[0m     \u001b[38;5;28mself\u001b[39m\u001b[38;5;241m.\u001b[39mkernel,\n\u001b[0;32m    225\u001b[0m     \u001b[38;5;28mself\u001b[39m\u001b[38;5;241m.\u001b[39mwarmup_steps,\n\u001b[0;32m    226\u001b[0m     \u001b[38;5;28mself\u001b[39m\u001b[38;5;241m.\u001b[39mnum_samples,\n\u001b[0;32m    227\u001b[0m     hook_w_logging,\n\u001b[0;32m    228\u001b[0m     i \u001b[38;5;28;01mif\u001b[39;00m \u001b[38;5;28mself\u001b[39m\u001b[38;5;241m.\u001b[39mnum_chains \u001b[38;5;241m>\u001b[39m \u001b[38;5;241m1\u001b[39m \u001b[38;5;28;01melse\u001b[39;00m \u001b[38;5;28;01mNone\u001b[39;00m,\n\u001b[0;32m    229\u001b[0m     \u001b[38;5;241m*\u001b[39margs,\n\u001b[0;32m    230\u001b[0m     \u001b[38;5;241m*\u001b[39m\u001b[38;5;241m*\u001b[39mkwargs\n\u001b[0;32m    231\u001b[0m ):\n\u001b[0;32m    232\u001b[0m     \u001b[38;5;28;01myield\u001b[39;00m sample, i  \u001b[38;5;66;03m# sample, chain_id\u001b[39;00m\n\u001b[0;32m    233\u001b[0m \u001b[38;5;28mself\u001b[39m\u001b[38;5;241m.\u001b[39mkernel\u001b[38;5;241m.\u001b[39mcleanup()\n",
      "File \u001b[1;32m~\\Miniconda3\\envs\\botorch-latest\\lib\\site-packages\\pyro\\infer\\mcmc\\api.py:150\u001b[0m, in \u001b[0;36m_gen_samples\u001b[1;34m(kernel, warmup_steps, num_samples, hook, chain_id, *args, **kwargs)\u001b[0m\n\u001b[0;32m    148\u001b[0m \u001b[38;5;28;01myield\u001b[39;00m {name: params[name]\u001b[38;5;241m.\u001b[39mshape \u001b[38;5;28;01mfor\u001b[39;00m name \u001b[38;5;129;01min\u001b[39;00m save_params}\n\u001b[0;32m    149\u001b[0m \u001b[38;5;28;01mfor\u001b[39;00m i \u001b[38;5;129;01min\u001b[39;00m \u001b[38;5;28mrange\u001b[39m(warmup_steps):\n\u001b[1;32m--> 150\u001b[0m     params \u001b[38;5;241m=\u001b[39m \u001b[43mkernel\u001b[49m\u001b[38;5;241;43m.\u001b[39;49m\u001b[43msample\u001b[49m\u001b[43m(\u001b[49m\u001b[43mparams\u001b[49m\u001b[43m)\u001b[49m\n\u001b[0;32m    151\u001b[0m     hook(\n\u001b[0;32m    152\u001b[0m         kernel,\n\u001b[0;32m    153\u001b[0m         params,\n\u001b[0;32m    154\u001b[0m         \u001b[38;5;124m\"\u001b[39m\u001b[38;5;124mWarmup [\u001b[39m\u001b[38;5;132;01m{}\u001b[39;00m\u001b[38;5;124m]\u001b[39m\u001b[38;5;124m\"\u001b[39m\u001b[38;5;241m.\u001b[39mformat(chain_id) \u001b[38;5;28;01mif\u001b[39;00m chain_id \u001b[38;5;129;01mis\u001b[39;00m \u001b[38;5;129;01mnot\u001b[39;00m \u001b[38;5;28;01mNone\u001b[39;00m \u001b[38;5;28;01melse\u001b[39;00m \u001b[38;5;124m\"\u001b[39m\u001b[38;5;124mWarmup\u001b[39m\u001b[38;5;124m\"\u001b[39m,\n\u001b[0;32m    155\u001b[0m         i,\n\u001b[0;32m    156\u001b[0m     )\n\u001b[0;32m    157\u001b[0m \u001b[38;5;28;01mfor\u001b[39;00m i \u001b[38;5;129;01min\u001b[39;00m \u001b[38;5;28mrange\u001b[39m(num_samples):\n",
      "File \u001b[1;32m~\\Miniconda3\\envs\\botorch-latest\\lib\\site-packages\\pyro\\infer\\mcmc\\nuts.py:437\u001b[0m, in \u001b[0;36mNUTS.sample\u001b[1;34m(self, params)\u001b[0m\n\u001b[0;32m    433\u001b[0m direction \u001b[38;5;241m=\u001b[39m \u001b[38;5;28mint\u001b[39m(direction\u001b[38;5;241m.\u001b[39mitem())\n\u001b[0;32m    434\u001b[0m \u001b[38;5;28;01mif\u001b[39;00m (\n\u001b[0;32m    435\u001b[0m     direction \u001b[38;5;241m==\u001b[39m \u001b[38;5;241m1\u001b[39m\n\u001b[0;32m    436\u001b[0m ):  \u001b[38;5;66;03m# go to the right, start from the right leaf of current tree\u001b[39;00m\n\u001b[1;32m--> 437\u001b[0m     new_tree \u001b[38;5;241m=\u001b[39m \u001b[38;5;28;43mself\u001b[39;49m\u001b[38;5;241;43m.\u001b[39;49m\u001b[43m_build_tree\u001b[49m\u001b[43m(\u001b[49m\n\u001b[0;32m    438\u001b[0m \u001b[43m        \u001b[49m\u001b[43mz_right\u001b[49m\u001b[43m,\u001b[49m\n\u001b[0;32m    439\u001b[0m \u001b[43m        \u001b[49m\u001b[43mr_right\u001b[49m\u001b[43m,\u001b[49m\n\u001b[0;32m    440\u001b[0m \u001b[43m        \u001b[49m\u001b[43mz_right_grads\u001b[49m\u001b[43m,\u001b[49m\n\u001b[0;32m    441\u001b[0m \u001b[43m        \u001b[49m\u001b[43mlog_slice\u001b[49m\u001b[43m,\u001b[49m\n\u001b[0;32m    442\u001b[0m \u001b[43m        \u001b[49m\u001b[43mdirection\u001b[49m\u001b[43m,\u001b[49m\n\u001b[0;32m    443\u001b[0m \u001b[43m        \u001b[49m\u001b[43mtree_depth\u001b[49m\u001b[43m,\u001b[49m\n\u001b[0;32m    444\u001b[0m \u001b[43m        \u001b[49m\u001b[43menergy_current\u001b[49m\u001b[43m,\u001b[49m\n\u001b[0;32m    445\u001b[0m \u001b[43m    \u001b[49m\u001b[43m)\u001b[49m\n\u001b[0;32m    446\u001b[0m     \u001b[38;5;66;03m# update leaf for the next doubling process\u001b[39;00m\n\u001b[0;32m    447\u001b[0m     z_right \u001b[38;5;241m=\u001b[39m new_tree\u001b[38;5;241m.\u001b[39mz_right\n",
      "File \u001b[1;32m~\\Miniconda3\\envs\\botorch-latest\\lib\\site-packages\\pyro\\infer\\mcmc\\nuts.py:259\u001b[0m, in \u001b[0;36mNUTS._build_tree\u001b[1;34m(self, z, r, z_grads, log_slice, direction, tree_depth, energy_current)\u001b[0m\n\u001b[0;32m    254\u001b[0m     \u001b[38;5;28;01mreturn\u001b[39;00m \u001b[38;5;28mself\u001b[39m\u001b[38;5;241m.\u001b[39m_build_basetree(\n\u001b[0;32m    255\u001b[0m         z, r, z_grads, log_slice, direction, energy_current\n\u001b[0;32m    256\u001b[0m     )\n\u001b[0;32m    258\u001b[0m \u001b[38;5;66;03m# build the first half of tree\u001b[39;00m\n\u001b[1;32m--> 259\u001b[0m half_tree \u001b[38;5;241m=\u001b[39m \u001b[38;5;28;43mself\u001b[39;49m\u001b[38;5;241;43m.\u001b[39;49m\u001b[43m_build_tree\u001b[49m\u001b[43m(\u001b[49m\n\u001b[0;32m    260\u001b[0m \u001b[43m    \u001b[49m\u001b[43mz\u001b[49m\u001b[43m,\u001b[49m\u001b[43m \u001b[49m\u001b[43mr\u001b[49m\u001b[43m,\u001b[49m\u001b[43m \u001b[49m\u001b[43mz_grads\u001b[49m\u001b[43m,\u001b[49m\u001b[43m \u001b[49m\u001b[43mlog_slice\u001b[49m\u001b[43m,\u001b[49m\u001b[43m \u001b[49m\u001b[43mdirection\u001b[49m\u001b[43m,\u001b[49m\u001b[43m \u001b[49m\u001b[43mtree_depth\u001b[49m\u001b[43m \u001b[49m\u001b[38;5;241;43m-\u001b[39;49m\u001b[43m \u001b[49m\u001b[38;5;241;43m1\u001b[39;49m\u001b[43m,\u001b[49m\u001b[43m \u001b[49m\u001b[43menergy_current\u001b[49m\n\u001b[0;32m    261\u001b[0m \u001b[43m\u001b[49m\u001b[43m)\u001b[49m\n\u001b[0;32m    262\u001b[0m z_proposal \u001b[38;5;241m=\u001b[39m half_tree\u001b[38;5;241m.\u001b[39mz_proposal\n\u001b[0;32m    263\u001b[0m z_proposal_pe \u001b[38;5;241m=\u001b[39m half_tree\u001b[38;5;241m.\u001b[39mz_proposal_pe\n",
      "File \u001b[1;32m~\\Miniconda3\\envs\\botorch-latest\\lib\\site-packages\\pyro\\infer\\mcmc\\nuts.py:259\u001b[0m, in \u001b[0;36mNUTS._build_tree\u001b[1;34m(self, z, r, z_grads, log_slice, direction, tree_depth, energy_current)\u001b[0m\n\u001b[0;32m    254\u001b[0m     \u001b[38;5;28;01mreturn\u001b[39;00m \u001b[38;5;28mself\u001b[39m\u001b[38;5;241m.\u001b[39m_build_basetree(\n\u001b[0;32m    255\u001b[0m         z, r, z_grads, log_slice, direction, energy_current\n\u001b[0;32m    256\u001b[0m     )\n\u001b[0;32m    258\u001b[0m \u001b[38;5;66;03m# build the first half of tree\u001b[39;00m\n\u001b[1;32m--> 259\u001b[0m half_tree \u001b[38;5;241m=\u001b[39m \u001b[38;5;28;43mself\u001b[39;49m\u001b[38;5;241;43m.\u001b[39;49m\u001b[43m_build_tree\u001b[49m\u001b[43m(\u001b[49m\n\u001b[0;32m    260\u001b[0m \u001b[43m    \u001b[49m\u001b[43mz\u001b[49m\u001b[43m,\u001b[49m\u001b[43m \u001b[49m\u001b[43mr\u001b[49m\u001b[43m,\u001b[49m\u001b[43m \u001b[49m\u001b[43mz_grads\u001b[49m\u001b[43m,\u001b[49m\u001b[43m \u001b[49m\u001b[43mlog_slice\u001b[49m\u001b[43m,\u001b[49m\u001b[43m \u001b[49m\u001b[43mdirection\u001b[49m\u001b[43m,\u001b[49m\u001b[43m \u001b[49m\u001b[43mtree_depth\u001b[49m\u001b[43m \u001b[49m\u001b[38;5;241;43m-\u001b[39;49m\u001b[43m \u001b[49m\u001b[38;5;241;43m1\u001b[39;49m\u001b[43m,\u001b[49m\u001b[43m \u001b[49m\u001b[43menergy_current\u001b[49m\n\u001b[0;32m    261\u001b[0m \u001b[43m\u001b[49m\u001b[43m)\u001b[49m\n\u001b[0;32m    262\u001b[0m z_proposal \u001b[38;5;241m=\u001b[39m half_tree\u001b[38;5;241m.\u001b[39mz_proposal\n\u001b[0;32m    263\u001b[0m z_proposal_pe \u001b[38;5;241m=\u001b[39m half_tree\u001b[38;5;241m.\u001b[39mz_proposal_pe\n",
      "File \u001b[1;32m~\\Miniconda3\\envs\\botorch-latest\\lib\\site-packages\\pyro\\infer\\mcmc\\nuts.py:254\u001b[0m, in \u001b[0;36mNUTS._build_tree\u001b[1;34m(self, z, r, z_grads, log_slice, direction, tree_depth, energy_current)\u001b[0m\n\u001b[0;32m    250\u001b[0m \u001b[38;5;28;01mdef\u001b[39;00m \u001b[38;5;21m_build_tree\u001b[39m(\n\u001b[0;32m    251\u001b[0m     \u001b[38;5;28mself\u001b[39m, z, r, z_grads, log_slice, direction, tree_depth, energy_current\n\u001b[0;32m    252\u001b[0m ):\n\u001b[0;32m    253\u001b[0m     \u001b[38;5;28;01mif\u001b[39;00m tree_depth \u001b[38;5;241m==\u001b[39m \u001b[38;5;241m0\u001b[39m:\n\u001b[1;32m--> 254\u001b[0m         \u001b[38;5;28;01mreturn\u001b[39;00m \u001b[38;5;28;43mself\u001b[39;49m\u001b[38;5;241;43m.\u001b[39;49m\u001b[43m_build_basetree\u001b[49m\u001b[43m(\u001b[49m\n\u001b[0;32m    255\u001b[0m \u001b[43m            \u001b[49m\u001b[43mz\u001b[49m\u001b[43m,\u001b[49m\u001b[43m \u001b[49m\u001b[43mr\u001b[49m\u001b[43m,\u001b[49m\u001b[43m \u001b[49m\u001b[43mz_grads\u001b[49m\u001b[43m,\u001b[49m\u001b[43m \u001b[49m\u001b[43mlog_slice\u001b[49m\u001b[43m,\u001b[49m\u001b[43m \u001b[49m\u001b[43mdirection\u001b[49m\u001b[43m,\u001b[49m\u001b[43m \u001b[49m\u001b[43menergy_current\u001b[49m\n\u001b[0;32m    256\u001b[0m \u001b[43m        \u001b[49m\u001b[43m)\u001b[49m\n\u001b[0;32m    258\u001b[0m     \u001b[38;5;66;03m# build the first half of tree\u001b[39;00m\n\u001b[0;32m    259\u001b[0m     half_tree \u001b[38;5;241m=\u001b[39m \u001b[38;5;28mself\u001b[39m\u001b[38;5;241m.\u001b[39m_build_tree(\n\u001b[0;32m    260\u001b[0m         z, r, z_grads, log_slice, direction, tree_depth \u001b[38;5;241m-\u001b[39m \u001b[38;5;241m1\u001b[39m, energy_current\n\u001b[0;32m    261\u001b[0m     )\n",
      "File \u001b[1;32m~\\Miniconda3\\envs\\botorch-latest\\lib\\site-packages\\pyro\\infer\\mcmc\\nuts.py:199\u001b[0m, in \u001b[0;36mNUTS._build_basetree\u001b[1;34m(self, z, r, z_grads, log_slice, direction, energy_current)\u001b[0m\n\u001b[0;32m    197\u001b[0m \u001b[38;5;28;01mdef\u001b[39;00m \u001b[38;5;21m_build_basetree\u001b[39m(\u001b[38;5;28mself\u001b[39m, z, r, z_grads, log_slice, direction, energy_current):\n\u001b[0;32m    198\u001b[0m     step_size \u001b[38;5;241m=\u001b[39m \u001b[38;5;28mself\u001b[39m\u001b[38;5;241m.\u001b[39mstep_size \u001b[38;5;28;01mif\u001b[39;00m direction \u001b[38;5;241m==\u001b[39m \u001b[38;5;241m1\u001b[39m \u001b[38;5;28;01melse\u001b[39;00m \u001b[38;5;241m-\u001b[39m\u001b[38;5;28mself\u001b[39m\u001b[38;5;241m.\u001b[39mstep_size\n\u001b[1;32m--> 199\u001b[0m     z_new, r_new, z_grads, potential_energy \u001b[38;5;241m=\u001b[39m \u001b[43mvelocity_verlet\u001b[49m\u001b[43m(\u001b[49m\n\u001b[0;32m    200\u001b[0m \u001b[43m        \u001b[49m\u001b[43mz\u001b[49m\u001b[43m,\u001b[49m\n\u001b[0;32m    201\u001b[0m \u001b[43m        \u001b[49m\u001b[43mr\u001b[49m\u001b[43m,\u001b[49m\n\u001b[0;32m    202\u001b[0m \u001b[43m        \u001b[49m\u001b[38;5;28;43mself\u001b[39;49m\u001b[38;5;241;43m.\u001b[39;49m\u001b[43mpotential_fn\u001b[49m\u001b[43m,\u001b[49m\n\u001b[0;32m    203\u001b[0m \u001b[43m        \u001b[49m\u001b[38;5;28;43mself\u001b[39;49m\u001b[38;5;241;43m.\u001b[39;49m\u001b[43mmass_matrix_adapter\u001b[49m\u001b[38;5;241;43m.\u001b[39;49m\u001b[43mkinetic_grad\u001b[49m\u001b[43m,\u001b[49m\n\u001b[0;32m    204\u001b[0m \u001b[43m        \u001b[49m\u001b[43mstep_size\u001b[49m\u001b[43m,\u001b[49m\n\u001b[0;32m    205\u001b[0m \u001b[43m        \u001b[49m\u001b[43mz_grads\u001b[49m\u001b[38;5;241;43m=\u001b[39;49m\u001b[43mz_grads\u001b[49m\u001b[43m,\u001b[49m\n\u001b[0;32m    206\u001b[0m \u001b[43m    \u001b[49m\u001b[43m)\u001b[49m\n\u001b[0;32m    207\u001b[0m     r_new_unscaled \u001b[38;5;241m=\u001b[39m \u001b[38;5;28mself\u001b[39m\u001b[38;5;241m.\u001b[39mmass_matrix_adapter\u001b[38;5;241m.\u001b[39munscale(r_new)\n\u001b[0;32m    208\u001b[0m     energy_new \u001b[38;5;241m=\u001b[39m potential_energy \u001b[38;5;241m+\u001b[39m \u001b[38;5;28mself\u001b[39m\u001b[38;5;241m.\u001b[39m_kinetic_energy(r_new_unscaled)\n",
      "File \u001b[1;32m~\\Miniconda3\\envs\\botorch-latest\\lib\\site-packages\\pyro\\ops\\integrator.py:32\u001b[0m, in \u001b[0;36mvelocity_verlet\u001b[1;34m(z, r, potential_fn, kinetic_grad, step_size, num_steps, z_grads)\u001b[0m\n\u001b[0;32m     30\u001b[0m r_next \u001b[38;5;241m=\u001b[39m r\u001b[38;5;241m.\u001b[39mcopy()\n\u001b[0;32m     31\u001b[0m \u001b[38;5;28;01mfor\u001b[39;00m _ \u001b[38;5;129;01min\u001b[39;00m \u001b[38;5;28mrange\u001b[39m(num_steps):\n\u001b[1;32m---> 32\u001b[0m     z_next, r_next, z_grads, potential_energy \u001b[38;5;241m=\u001b[39m \u001b[43m_single_step_verlet\u001b[49m\u001b[43m(\u001b[49m\n\u001b[0;32m     33\u001b[0m \u001b[43m        \u001b[49m\u001b[43mz_next\u001b[49m\u001b[43m,\u001b[49m\u001b[43m \u001b[49m\u001b[43mr_next\u001b[49m\u001b[43m,\u001b[49m\u001b[43m \u001b[49m\u001b[43mpotential_fn\u001b[49m\u001b[43m,\u001b[49m\u001b[43m \u001b[49m\u001b[43mkinetic_grad\u001b[49m\u001b[43m,\u001b[49m\u001b[43m \u001b[49m\u001b[43mstep_size\u001b[49m\u001b[43m,\u001b[49m\u001b[43m \u001b[49m\u001b[43mz_grads\u001b[49m\n\u001b[0;32m     34\u001b[0m \u001b[43m    \u001b[49m\u001b[43m)\u001b[49m\n\u001b[0;32m     35\u001b[0m \u001b[38;5;28;01mreturn\u001b[39;00m z_next, r_next, z_grads, potential_energy\n",
      "File \u001b[1;32m~\\Miniconda3\\envs\\botorch-latest\\lib\\site-packages\\pyro\\ops\\integrator.py:54\u001b[0m, in \u001b[0;36m_single_step_verlet\u001b[1;34m(z, r, potential_fn, kinetic_grad, step_size, z_grads)\u001b[0m\n\u001b[0;32m     51\u001b[0m \u001b[38;5;28;01mfor\u001b[39;00m site_name \u001b[38;5;129;01min\u001b[39;00m z:\n\u001b[0;32m     52\u001b[0m     z[site_name] \u001b[38;5;241m=\u001b[39m z[site_name] \u001b[38;5;241m+\u001b[39m step_size \u001b[38;5;241m*\u001b[39m r_grads[site_name]  \u001b[38;5;66;03m# z(n+1)\u001b[39;00m\n\u001b[1;32m---> 54\u001b[0m z_grads, potential_energy \u001b[38;5;241m=\u001b[39m \u001b[43mpotential_grad\u001b[49m\u001b[43m(\u001b[49m\u001b[43mpotential_fn\u001b[49m\u001b[43m,\u001b[49m\u001b[43m \u001b[49m\u001b[43mz\u001b[49m\u001b[43m)\u001b[49m\n\u001b[0;32m     55\u001b[0m \u001b[38;5;28;01mfor\u001b[39;00m site_name \u001b[38;5;129;01min\u001b[39;00m r:\n\u001b[0;32m     56\u001b[0m     r[site_name] \u001b[38;5;241m=\u001b[39m r[site_name] \u001b[38;5;241m+\u001b[39m \u001b[38;5;241m0.5\u001b[39m \u001b[38;5;241m*\u001b[39m step_size \u001b[38;5;241m*\u001b[39m (\u001b[38;5;241m-\u001b[39mz_grads[site_name])  \u001b[38;5;66;03m# r(n+1)\u001b[39;00m\n",
      "File \u001b[1;32m~\\Miniconda3\\envs\\botorch-latest\\lib\\site-packages\\pyro\\ops\\integrator.py:76\u001b[0m, in \u001b[0;36mpotential_grad\u001b[1;34m(potential_fn, z)\u001b[0m\n\u001b[0;32m     74\u001b[0m     node\u001b[38;5;241m.\u001b[39mrequires_grad_(\u001b[38;5;28;01mTrue\u001b[39;00m)\n\u001b[0;32m     75\u001b[0m \u001b[38;5;28;01mtry\u001b[39;00m:\n\u001b[1;32m---> 76\u001b[0m     potential_energy \u001b[38;5;241m=\u001b[39m \u001b[43mpotential_fn\u001b[49m\u001b[43m(\u001b[49m\u001b[43mz\u001b[49m\u001b[43m)\u001b[49m\n\u001b[0;32m     77\u001b[0m \u001b[38;5;66;03m# deal with singular matrices\u001b[39;00m\n\u001b[0;32m     78\u001b[0m \u001b[38;5;28;01mexcept\u001b[39;00m \u001b[38;5;167;01mRuntimeError\u001b[39;00m \u001b[38;5;28;01mas\u001b[39;00m e:\n",
      "File \u001b[1;32m~\\Miniconda3\\envs\\botorch-latest\\lib\\site-packages\\pyro\\infer\\mcmc\\util.py:294\u001b[0m, in \u001b[0;36m_PEMaker._potential_fn_jit\u001b[1;34m(self, skip_jit_warnings, jit_options, params)\u001b[0m\n\u001b[0;32m    291\u001b[0m names, vals \u001b[38;5;241m=\u001b[39m \u001b[38;5;28mzip\u001b[39m(\u001b[38;5;241m*\u001b[39m\u001b[38;5;28msorted\u001b[39m(params\u001b[38;5;241m.\u001b[39mitems()))\n\u001b[0;32m    293\u001b[0m \u001b[38;5;28;01mif\u001b[39;00m \u001b[38;5;28mself\u001b[39m\u001b[38;5;241m.\u001b[39m_compiled_fn:\n\u001b[1;32m--> 294\u001b[0m     \u001b[38;5;28;01mreturn\u001b[39;00m \u001b[38;5;28;43mself\u001b[39;49m\u001b[38;5;241;43m.\u001b[39;49m\u001b[43m_compiled_fn\u001b[49m\u001b[43m(\u001b[49m\u001b[38;5;241;43m*\u001b[39;49m\u001b[43mvals\u001b[49m\u001b[43m)\u001b[49m\n\u001b[0;32m    296\u001b[0m \u001b[38;5;28;01mwith\u001b[39;00m pyro\u001b[38;5;241m.\u001b[39mvalidation_enabled(\u001b[38;5;28;01mFalse\u001b[39;00m):\n\u001b[0;32m    297\u001b[0m     tmp \u001b[38;5;241m=\u001b[39m []\n",
      "\u001b[1;31mKeyboardInterrupt\u001b[0m: "
     ]
    }
   ],
   "source": [
    "import warnings\n",
    "\n",
    "\n",
    "# Experiment\n",
    "experiment = Experiment(\n",
    "    name=\"saasbo_experiment\",\n",
    "    search_space=search_space,\n",
    "    optimization_config=optimization_config,\n",
    "    runner=SyntheticRunner(),\n",
    ")\n",
    "\n",
    "# Initial Sobol points (set three random parameters to zero)\n",
    "sobol = Models.SOBOL(search_space=experiment.search_space)\n",
    "for _ in range(N_INIT):\n",
    "    trial = sobol.gen(1)\n",
    "    keys = [f\"x{i}\" for i in range(6)]\n",
    "    random.shuffle(keys)\n",
    "    for k in keys[:3]:\n",
    "        trial.arms[0]._parameters[k] = 0.0\n",
    "    experiment.new_trial(trial).run()\n",
    "\n",
    "# Run SAASBO\n",
    "data = experiment.fetch_data()\n",
    "for i in range(N_BATCHES):\n",
    "    model = Models.FULLYBAYESIAN(\n",
    "        experiment=experiment,\n",
    "        data=data,\n",
    "        num_samples=256,  # Increasing this may result in better model fits\n",
    "        warmup_steps=512,  # Increasing this may result in better model fits\n",
    "        gp_kernel=\"matern\",  # \"rbf\" is the default in the paper, but we also support \"matern\"\n",
    "        torch_dtype=torch.double,\n",
    "        verbose=False,  # Set to True to print stats from MCMC\n",
    "        disable_progbar=True,  # Set to False to print a progress bar from MCMC\n",
    "    )\n",
    "    batch_initial_conditions = get_batch_initial_conditions(\n",
    "        n=20, X=model.model.Xs[0], Y=model.model.Ys[0], raw_samples=1024\n",
    "    )\n",
    "    with warnings.catch_warnings():\n",
    "        warnings.simplefilter(\"ignore\")  # Filter SLSQP warnings\n",
    "        generator_run = model.gen(\n",
    "            BATCH_SIZE,\n",
    "            model_gen_options={\n",
    "                \"optimizer_kwargs\": {\n",
    "                    \"nonlinear_inequality_constraints\": [ineq_constraint],\n",
    "                    \"batch_initial_conditions\": batch_initial_conditions,\n",
    "                }\n",
    "            },\n",
    "        )\n",
    "        \n",
    "    trial = experiment.new_batch_trial(generator_run=generator_run)\n",
    "    for arm in trial.arms:\n",
    "        arm._parameters = {k: 0.0 if v < 1e-3 else v for k, v in arm.parameters.items()}\n",
    "        assert sum([v > 1e-3 for v in arm.parameters.values()]) <= 3\n",
    "    trial.run()\n",
    "    data = Data.from_multiple_data([data, trial.fetch_data()])\n",
    "\n",
    "    new_value = trial.fetch_data().df[\"mean\"].min()\n",
    "    print(\n",
    "        f\"Iteration: {i}, Best in iteration {new_value:.3f}, Best so far: {data.df['mean'].min():.3f}\"\n",
    "    )"
   ]
  },
  {
   "cell_type": "code",
   "execution_count": null,
   "metadata": {},
   "outputs": [
    {
     "data": {
      "text/plain": [
       "{'0_0': Arm(name='0_0', parameters={'x0': 0.0, 'x1': 0.4455820322036743, 'x2': 0.0, 'x3': 0.9617909789085388, 'x4': 0.0, 'x5': 0.15791743993759155}),\n",
       " '1_0': Arm(name='1_0', parameters={'x0': 0.5026367688551545, 'x1': 0.5347584886476398, 'x2': 0.0, 'x3': 0.0, 'x4': 0.0, 'x5': 0.5060048000887036}),\n",
       " '2_0': Arm(name='2_0', parameters={'x0': 0.0, 'x1': 0.0, 'x2': 0.3405718030408025, 'x3': 0.0, 'x4': 0.6972264060750604, 'x5': 0.9694211464375257}),\n",
       " '3_0': Arm(name='3_0', parameters={'x0': 0.0, 'x1': 0.8104246631264687, 'x2': 0.0, 'x3': 0.0, 'x4': 0.44710575230419636, 'x5': 0.31956832204014063}),\n",
       " '4_0': Arm(name='4_0', parameters={'x0': 0.08048771508038044, 'x1': 0.05134351830929518, 'x2': 0.0, 'x3': 0.0, 'x4': 0.37000979389995337, 'x5': 0.0}),\n",
       " '5_0': Arm(name='5_0', parameters={'x0': 0.0, 'x1': 0.9680270021781325, 'x2': 0.0011541564017534256, 'x3': 0.0, 'x4': 0.0, 'x5': 0.6523743728175759}),\n",
       " '6_0': Arm(name='6_0', parameters={'x0': 0.0, 'x1': 0.2918516546487808, 'x2': 0.0, 'x3': 0.06977956462651491, 'x4': 0.846000799909234, 'x5': 0.0}),\n",
       " '7_0': Arm(name='7_0', parameters={'x0': 0.2679779902100563, 'x1': 0.0, 'x2': 0.0, 'x3': 0.0, 'x4': 0.09612142387777567, 'x5': 0.46589260268956423}),\n",
       " '8_0': Arm(name='8_0', parameters={'x0': 0.3508077906444669, 'x1': 0.0, 'x2': 0.5531887132674456, 'x3': 0.0, 'x4': 0.0, 'x5': 0.2649967046454549}),\n",
       " '9_0': Arm(name='9_0', parameters={'x0': 0.0, 'x1': 0.8544716881588101, 'x2': 0.420687073841691, 'x3': 0.3965896023437381, 'x4': 0.0, 'x5': 0.0}),\n",
       " '10_0': Arm(name='10_0', parameters={'x0': 0.9999999999999999, 'x1': 0.0, 'x2': 0.0, 'x3': 0.008764072205745174, 'x4': 0.0, 'x5': 1.0}),\n",
       " '11_0': Arm(name='11_0', parameters={'x0': 0.2785794370658571, 'x1': 0.0, 'x2': 0.0, 'x3': 0.0, 'x4': 0.0, 'x5': 0.0}),\n",
       " '12_0': Arm(name='12_0', parameters={'x0': 0.0, 'x1': 0.0, 'x2': 0.0, 'x3': 0.003985934903047902, 'x4': 0.0, 'x5': 0.0038397620528908983}),\n",
       " '13_0': Arm(name='13_0', parameters={'x0': 0.0, 'x1': 0.003525322732853803, 'x2': 0.003598531902456917, 'x3': 0.0, 'x4': 0.0, 'x5': 0.0}),\n",
       " '14_0': Arm(name='14_0', parameters={'x0': 0.0, 'x1': 0.0, 'x2': 0.0, 'x3': 0.002932957694005458, 'x4': 0.0, 'x5': 0.0}),\n",
       " '15_0': Arm(name='15_0', parameters={'x0': 0.0021843328695721476, 'x1': 0.0, 'x2': 0.0034224894541001693, 'x3': 0.001050339916952808, 'x4': 0.0, 'x5': 0.0}),\n",
       " '16_0': Arm(name='16_0', parameters={'x0': 0.0, 'x1': 0.0034950062683328765, 'x2': 0.0025148649051360944, 'x3': 0.0, 'x4': 0.0, 'x5': 0.0}),\n",
       " '17_0': Arm(name='17_0', parameters={'x0': 0.0, 'x1': 0.0, 'x2': 0.0035790577121572005, 'x3': 0.002706698927365835, 'x4': 0.0, 'x5': 0.0011019916056453829}),\n",
       " '18_0': Arm(name='18_0', parameters={'x0': 0.0, 'x1': 0.0031033416092017714, 'x2': 0.0, 'x3': 0.0, 'x4': 0.0, 'x5': 0.0015219826727380324}),\n",
       " '19_0': Arm(name='19_0', parameters={'x0': 0.0, 'x1': 0.0, 'x2': 0.002358088032672353, 'x3': 0.0, 'x4': 0.0, 'x5': 0.002637886268082661}),\n",
       " '20_0': Arm(name='20_0', parameters={'x0': 0.0, 'x1': 0.0, 'x2': 0.002031810753045783, 'x3': 0.0, 'x4': 0.0, 'x5': 0.0016659103542707458}),\n",
       " '21_0': Arm(name='21_0', parameters={'x0': 0.0, 'x1': 0.0, 'x2': 0.0, 'x3': 0.001566230837575268, 'x4': 0.004059053563924213, 'x5': 0.0}),\n",
       " '22_0': Arm(name='22_0', parameters={'x0': 0.0, 'x1': 0.003654958226144345, 'x2': 0.0017806825229464101, 'x3': 0.0, 'x4': 0.001312447036199564, 'x5': 0.0}),\n",
       " '23_0': Arm(name='23_0', parameters={'x0': 0.0015543658227054288, 'x1': 0.0, 'x2': 0.0, 'x3': 0.0, 'x4': 0.002184810757805344, 'x5': 0.0022927154117958187}),\n",
       " '24_0': Arm(name='24_0', parameters={'x0': 0.0, 'x1': 0.001536971503804832, 'x2': 0.001033324854417385, 'x3': 0.0, 'x4': 0.0, 'x5': 0.0}),\n",
       " '25_0': Arm(name='25_0', parameters={'x0': 0.0, 'x1': 0.0025849602286504756, 'x2': 0.0011818052634094214, 'x3': 0.0, 'x4': 0.0, 'x5': 0.0}),\n",
       " '26_0': Arm(name='26_0', parameters={'x0': 0.0, 'x1': 0.0, 'x2': 0.0, 'x3': 0.0, 'x4': 0.003974193022973427, 'x5': 0.0029550091304759237}),\n",
       " '27_0': Arm(name='27_0', parameters={'x0': 0.0, 'x1': 0.002733051043837349, 'x2': 0.0013521772138190959, 'x3': 0.002030102909588163, 'x4': 0.0, 'x5': 0.0}),\n",
       " '28_0': Arm(name='28_0', parameters={'x0': 0.0, 'x1': 0.0, 'x2': 0.0033659430183321302, 'x3': 0.0035768134627898766, 'x4': 0.0, 'x5': 0.002796778138715324}),\n",
       " '29_0': Arm(name='29_0', parameters={'x0': 0.0, 'x1': 0.0, 'x2': 0.002836646228120021, 'x3': 0.0021245101569126817, 'x4': 0.0, 'x5': 0.0})}"
      ]
     },
     "execution_count": 7,
     "metadata": {},
     "output_type": "execute_result"
    }
   ],
   "source": [
    "experiment.arms_by_name"
   ]
  }
 ],
 "metadata": {
  "bento_stylesheets": {
   "bento/extensions/flow/main.css": true,
   "bento/extensions/kernel_selector/main.css": true,
   "bento/extensions/kernel_ui/main.css": true,
   "bento/extensions/new_kernel/main.css": true,
   "bento/extensions/system_usage/main.css": true,
   "bento/extensions/theme/main.css": true
  },
  "kernelspec": {
   "display_name": "Python 3",
   "language": "python",
   "name": "python3"
  },
  "language_info": {
   "codemirror_mode": {
    "name": "ipython",
    "version": 3
   },
   "file_extension": ".py",
   "mimetype": "text/x-python",
   "name": "python",
   "nbconvert_exporter": "python",
   "pygments_lexer": "ipython3",
   "version": "3.9.7"
  },
  "last_base_url": "https://devbig817.ftw3.facebook.com:8090/",
  "last_kernel_id": "a3a29b9e-3d97-4d56-8f49-eb912e682727",
  "last_msg_id": "ed93aa61-f9b28ec76d2cb9b921389c08_1453",
  "last_server_session_id": "92d45b19-ad5d-4ad8-a222-4427621ba739",
  "outputWidgetContext": {}
 },
 "nbformat": 4,
 "nbformat_minor": 2
}
