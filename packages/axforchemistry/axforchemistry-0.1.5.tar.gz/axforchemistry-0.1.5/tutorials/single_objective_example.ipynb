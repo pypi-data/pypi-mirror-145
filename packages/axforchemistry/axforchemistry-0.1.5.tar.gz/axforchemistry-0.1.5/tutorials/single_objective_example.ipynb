{
 "cells": [
  {
   "cell_type": "code",
   "execution_count": null,
   "id": "bc3434a3",
   "metadata": {},
   "outputs": [],
   "source": [
    "\"\"\"Multi-step script to generate Sobol candidates and Bayesian suggestions.\n",
    "\n",
    "The first step is to generate a list of Sobol candidates, to be synthesized in a wetlab\n",
    "environment or calculated if a simulation, etc. Once these candidates have been added\n",
    "as a new .csv file (default is \"post-sobol.csv\") following the same format as the\n",
    "training data, the second step is to flip the `sobol_complete` flag to True and run,\n",
    "which will call `mo.bayes_opt()`. At this point, it will suggest a batch of next best\n",
    "experiments to run for a single adaptive design iteration.\n",
    "\n",
    "At this point, once the new data has been recorded, then the script can be run again to\n",
    "generate another batch. The setup of this script assumes that there is some time between\n",
    "when the experiments are suggested and when they are completed, and that experiments are\n",
    "carried out \"offline\" (meaning this is not a closed-loop optimization process).\n",
    "\"\"\"\n",
    "from axforchemistry.axforchemistry_ import FormulationOptimization"
   ]
  },
  {
   "cell_type": "code",
   "execution_count": null,
   "id": "2f23ef2d",
   "metadata": {},
   "outputs": [],
   "source": [
    "sobol_complete = False  # change to True once all Sobol wetlab experiments recorded"
   ]
  },
  {
   "cell_type": "code",
   "execution_count": null,
   "id": "6c6f5d4a",
   "metadata": {},
   "outputs": [],
   "source": [
    "mo = FormulationOptimization(\n",
    "    dummy=False,  # whether to use fictitious compositional data or not\n",
    "    dummy_max_val=1.0,\n",
    "    train_max_val=0.4,\n",
    "    sobol_max_val=0.25,\n",
    "    sobol_min_val=0.15,\n",
    "    bayes_max_val=None,  # default to Sobol equivalent\n",
    "    bayes_min_val=None,  # default to Sobol equivalent\n",
    "    seed=12345,\n",
    "    n_bayes_batch=5,\n",
    "    n_sobol=10,  # None --> 2*num_parameters, 10/90 Sobol/Bayes, total=100 iterations is convention for SAASBO\n",
    "    num_samples=256,  # set to 256 for real run, 16 for dummy run\n",
    "    warmup_steps=512,  # set to 512 for real run, 32 for dummy run\n",
    "    exp_name=\"dummy\",\n",
    "    target_name=\"target\",\n",
    "    exp_dir=\"experiments\",\n",
    "    data_dir=\"data\",\n",
    "    train_fname=\"train.csv\",\n",
    "    post_sobol_fname=\"post-sobol-fake.csv\",  # same format as `train_fname` + train data\n",
    ")"
   ]
  },
  {
   "cell_type": "code",
   "execution_count": null,
   "id": "7ba7bd2f",
   "metadata": {},
   "outputs": [],
   "source": [
    "if not sobol_complete:\n",
    "    print(\"generating Sobol candidates and saving to .csv\")\n",
    "    sobol_df, ax_sobol = mo.train_and_sobol()\n",
    "else:\n",
    "    print(\"generating Bayes candidates and saving to .csv\")\n",
    "    bayes_df, ax_bayes = mo.bayes_opt()"
   ]
  },
  {
   "cell_type": "code",
   "execution_count": null,
   "id": "fa30f347",
   "metadata": {},
   "outputs": [],
   "source": [
    "1 + 1"
   ]
  }
 ],
 "metadata": {
  "jupytext": {
   "cell_metadata_filter": "-all",
   "main_language": "python",
   "notebook_metadata_filter": "-all"
  }
 },
 "nbformat": 4,
 "nbformat_minor": 5
}
