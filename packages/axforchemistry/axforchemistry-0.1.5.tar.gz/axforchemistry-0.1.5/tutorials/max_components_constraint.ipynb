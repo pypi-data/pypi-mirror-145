{
 "cells": [
  {
   "cell_type": "code",
   "execution_count": null,
   "id": "800bd846",
   "metadata": {},
   "outputs": [],
   "source": [
    "from timeit import default_timer as timer\n",
    "import string\n",
    "import numpy as np\n",
    "from constraint import Problem"
   ]
  },
  {
   "cell_type": "code",
   "execution_count": null,
   "id": "d79c7d2d",
   "metadata": {},
   "outputs": [],
   "source": [
    "start = timer()"
   ]
  },
  {
   "cell_type": "code",
   "execution_count": null,
   "id": "21231f33",
   "metadata": {},
   "outputs": [],
   "source": [
    "problem = Problem()"
   ]
  },
  {
   "cell_type": "code",
   "execution_count": null,
   "id": "f2d462a4",
   "metadata": {},
   "outputs": [],
   "source": [
    "n_vars = 13\n",
    "n_slots = 5\n",
    "n_values = 10\n",
    "vars = list(string.ascii_lowercase)[0:n_vars]\n",
    "values = list(range(n_values))\n",
    "[problem.addVariable(var, values) for var in vars]"
   ]
  },
  {
   "cell_type": "code",
   "execution_count": null,
   "id": "17f21985",
   "metadata": {},
   "outputs": [],
   "source": [
    "def count_nonzero_components(*values, tol=1e-3):\n",
    "    n_components = np.count_nonzero([value if value > tol else 0 for value in values])\n",
    "    return n_components"
   ]
  },
  {
   "cell_type": "code",
   "execution_count": null,
   "id": "740754bc",
   "metadata": {},
   "outputs": [],
   "source": [
    "def in_component_range(*values, min_components=1, max_components=n_slots):\n",
    "    n_components = count_nonzero_components(*values)\n",
    "    in_range = n_components >= min_components and n_components <= max_components\n",
    "    return in_range"
   ]
  },
  {
   "cell_type": "code",
   "execution_count": null,
   "id": "5f50321b",
   "metadata": {},
   "outputs": [],
   "source": [
    "problem.addConstraint(in_component_range, vars)"
   ]
  },
  {
   "cell_type": "code",
   "execution_count": null,
   "id": "244f8c0f",
   "metadata": {},
   "outputs": [],
   "source": [
    "params = problem.getSolutions()"
   ]
  },
  {
   "cell_type": "code",
   "execution_count": null,
   "id": "11f0edff",
   "metadata": {},
   "outputs": [],
   "source": [
    "end = timer()\n",
    "print(end - start)"
   ]
  },
  {
   "cell_type": "code",
   "execution_count": null,
   "id": "162c00b5",
   "metadata": {},
   "outputs": [],
   "source": [
    "1 + 1"
   ]
  }
 ],
 "metadata": {
  "jupytext": {
   "cell_metadata_filter": "-all",
   "main_language": "python",
   "notebook_metadata_filter": "-all"
  }
 },
 "nbformat": 4,
 "nbformat_minor": 5
}
