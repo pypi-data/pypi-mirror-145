{
  "cells": [
    {
      "cell_type": "markdown",
      "metadata": {
        "colab_type": "text",
        "id": "view-in-github"
      },
      "source": [
        "<a href=\"https://colab.research.google.com/github/sparks-baird/AxForChemistry/blob/main/tutorials/multi_objective_example.ipynb\" target=\"_parent\"><img src=\"https://colab.research.google.com/assets/colab-badge.svg\" alt=\"Open In Colab\"/></a>"
      ]
    },
    {
      "cell_type": "markdown",
      "metadata": {
        "id": "Tg9BZ4TjCZ7k"
      },
      "source": [
        "# Generate Sobol and multi-objective SAASBO Bayesian candidates for wetlab experiments\n",
        "\n",
        "The first step is to generate a list of Sobol candidates, to be synthesized in a wetlab\n",
        "environment or calculated if a simulation, etc. Once these candidates have been added\n",
        "as a new .csv file (default is \"post-sobol.csv\") following the same format as the\n",
        "training data, the second step will call `form.bayes_opt()`. At this point, it will suggest a batch of next best\n",
        "experiments based on Pareto front-aware multi-objective optimization (MOO) to run for\n",
        "a single adaptive design iteration. Note that the CSV file that gets loaded should be\n",
        "stripped of any extra columns, otherwise these will be treated as search parameters. For\n",
        "example, if you give it a CSV with multiple objectives and run a single-objective\n",
        "optimization, the additional objectives will be erroneously considered as part of the\n",
        "parameter search space.\n",
        "\n",
        "For more information, see https://ax.dev/tutorials/saasbo_nehvi.html\n",
        "\n",
        "Additional batches can then be generated. The setup of this tutorial assumes that there is some time between\n",
        "when the experiments are suggested and when they are completed, and that experiments are\n",
        "carried out \"offline\" (meaning this is not a closed-loop optimization process)."
      ]
    },
    {
      "cell_type": "markdown",
      "metadata": {
        "id": "UvBWC66lCZ7o"
      },
      "source": [
        "## Installation"
      ]
    },
    {
      "cell_type": "code",
      "execution_count": 4,
      "metadata": {
        "colab": {
          "base_uri": "https://localhost:8080/"
        },
        "id": "1k2uEO9dCZ7p",
        "outputId": "1485650b-5fc9-4bad-baa0-2265810aafdf"
      },
      "outputs": [
        {
          "name": "stdout",
          "output_type": "stream",
          "text": [
            "Collecting axforchemistry\n",
            "  Downloading axforchemistry-0.1.1-py3-none-any.whl (25 kB)\n",
            "Requirement already satisfied: tqdm in /usr/local/lib/python3.7/dist-packages (from axforchemistry) (4.63.0)\n",
            "Requirement already satisfied: scikit_learn in /usr/local/lib/python3.7/dist-packages (from axforchemistry) (1.0.2)\n",
            "Collecting ax_platform>=0.2.4\n",
            "  Downloading ax_platform-0.2.4-py3-none-any.whl (950 kB)\n",
            "\u001b[K     |████████████████████████████████| 950 kB 6.1 MB/s \n",
            "\u001b[?25hRequirement already satisfied: matplotlib in /usr/local/lib/python3.7/dist-packages (from axforchemistry) (3.2.2)\n",
            "Requirement already satisfied: plotly in /usr/local/lib/python3.7/dist-packages (from axforchemistry) (5.5.0)\n",
            "Requirement already satisfied: pandas in /usr/local/lib/python3.7/dist-packages (from axforchemistry) (1.3.5)\n",
            "Requirement already satisfied: numpy in /usr/local/lib/python3.7/dist-packages (from axforchemistry) (1.21.5)\n",
            "Requirement already satisfied: ipython in /usr/local/lib/python3.7/dist-packages (from axforchemistry) (5.5.0)\n",
            "Requirement already satisfied: scipy in /usr/local/lib/python3.7/dist-packages (from axforchemistry) (1.4.1)\n",
            "Collecting pyro-ppl==1.8.1\n",
            "  Downloading pyro_ppl-1.8.1-py3-none-any.whl (718 kB)\n",
            "\u001b[K     |████████████████████████████████| 718 kB 57.7 MB/s \n",
            "\u001b[?25hCollecting torch>=1.11.0\n",
            "  Downloading torch-1.11.0-cp37-cp37m-manylinux1_x86_64.whl (750.6 MB)\n",
            "\u001b[K     |████████████████████████████████| 750.6 MB 11 kB/s \n",
            "\u001b[?25hRequirement already satisfied: opt-einsum>=2.3.2 in /usr/local/lib/python3.7/dist-packages (from pyro-ppl==1.8.1->axforchemistry) (3.3.0)\n",
            "Collecting pyro-api>=0.1.1\n",
            "  Downloading pyro_api-0.1.2-py3-none-any.whl (11 kB)\n",
            "Collecting botorch==0.6.2\n",
            "  Downloading botorch-0.6.2-py3-none-any.whl (347 kB)\n",
            "\u001b[K     |████████████████████████████████| 347 kB 59.5 MB/s \n",
            "\u001b[?25hRequirement already satisfied: jinja2 in /usr/local/lib/python3.7/dist-packages (from ax_platform>=0.2.4->axforchemistry) (2.11.3)\n",
            "Requirement already satisfied: typeguard in /usr/local/lib/python3.7/dist-packages (from ax_platform>=0.2.4->axforchemistry) (2.7.1)\n",
            "Collecting gpytorch>=1.6\n",
            "  Downloading gpytorch-1.6.0.tar.gz (310 kB)\n",
            "\u001b[K     |████████████████████████████████| 310 kB 67.7 MB/s \n",
            "\u001b[?25hCollecting multipledispatch\n",
            "  Downloading multipledispatch-0.6.0-py3-none-any.whl (11 kB)\n",
            "Requirement already satisfied: typing-extensions in /usr/local/lib/python3.7/dist-packages (from torch>=1.11.0->pyro-ppl==1.8.1->axforchemistry) (3.10.0.2)\n",
            "Requirement already satisfied: setuptools>=18.5 in /usr/local/lib/python3.7/dist-packages (from ipython->axforchemistry) (57.4.0)\n",
            "Requirement already satisfied: prompt-toolkit<2.0.0,>=1.0.4 in /usr/local/lib/python3.7/dist-packages (from ipython->axforchemistry) (1.0.18)\n",
            "Requirement already satisfied: traitlets>=4.2 in /usr/local/lib/python3.7/dist-packages (from ipython->axforchemistry) (5.1.1)\n",
            "Requirement already satisfied: pexpect in /usr/local/lib/python3.7/dist-packages (from ipython->axforchemistry) (4.8.0)\n",
            "Requirement already satisfied: simplegeneric>0.8 in /usr/local/lib/python3.7/dist-packages (from ipython->axforchemistry) (0.8.1)\n",
            "Requirement already satisfied: pygments in /usr/local/lib/python3.7/dist-packages (from ipython->axforchemistry) (2.6.1)\n",
            "Requirement already satisfied: decorator in /usr/local/lib/python3.7/dist-packages (from ipython->axforchemistry) (4.4.2)\n",
            "Requirement already satisfied: pickleshare in /usr/local/lib/python3.7/dist-packages (from ipython->axforchemistry) (0.7.5)\n",
            "Requirement already satisfied: wcwidth in /usr/local/lib/python3.7/dist-packages (from prompt-toolkit<2.0.0,>=1.0.4->ipython->axforchemistry) (0.2.5)\n",
            "Requirement already satisfied: six>=1.9.0 in /usr/local/lib/python3.7/dist-packages (from prompt-toolkit<2.0.0,>=1.0.4->ipython->axforchemistry) (1.15.0)\n",
            "Requirement already satisfied: MarkupSafe>=0.23 in /usr/local/lib/python3.7/dist-packages (from jinja2->ax_platform>=0.2.4->axforchemistry) (2.0.1)\n",
            "Requirement already satisfied: python-dateutil>=2.1 in /usr/local/lib/python3.7/dist-packages (from matplotlib->axforchemistry) (2.8.2)\n",
            "Requirement already satisfied: pyparsing!=2.0.4,!=2.1.2,!=2.1.6,>=2.0.1 in /usr/local/lib/python3.7/dist-packages (from matplotlib->axforchemistry) (3.0.7)\n",
            "Requirement already satisfied: cycler>=0.10 in /usr/local/lib/python3.7/dist-packages (from matplotlib->axforchemistry) (0.11.0)\n",
            "Requirement already satisfied: kiwisolver>=1.0.1 in /usr/local/lib/python3.7/dist-packages (from matplotlib->axforchemistry) (1.4.0)\n",
            "Requirement already satisfied: pytz>=2017.3 in /usr/local/lib/python3.7/dist-packages (from pandas->axforchemistry) (2018.9)\n",
            "Requirement already satisfied: ptyprocess>=0.5 in /usr/local/lib/python3.7/dist-packages (from pexpect->ipython->axforchemistry) (0.7.0)\n",
            "Requirement already satisfied: tenacity>=6.2.0 in /usr/local/lib/python3.7/dist-packages (from plotly->axforchemistry) (8.0.1)\n",
            "Requirement already satisfied: joblib>=0.11 in /usr/local/lib/python3.7/dist-packages (from scikit_learn->axforchemistry) (1.1.0)\n",
            "Requirement already satisfied: threadpoolctl>=2.0.0 in /usr/local/lib/python3.7/dist-packages (from scikit_learn->axforchemistry) (3.1.0)\n",
            "Building wheels for collected packages: gpytorch\n",
            "  Building wheel for gpytorch (setup.py) ... \u001b[?25l\u001b[?25hdone\n",
            "  Created wheel for gpytorch: filename=gpytorch-1.6.0-py2.py3-none-any.whl size=509889 sha256=6b90663439be9ee0682456d2c9121c00230f7ee004f8725e87122e4ea419d074\n",
            "  Stored in directory: /root/.cache/pip/wheels/66/b5/89/34c06ad393a6feb72b4cdde46d0f1c667f3e2632960f9df109\n",
            "Successfully built gpytorch\n",
            "Installing collected packages: torch, multipledispatch, gpytorch, pyro-api, botorch, pyro-ppl, ax-platform, axforchemistry\n",
            "  Attempting uninstall: torch\n",
            "    Found existing installation: torch 1.10.0+cu111\n",
            "    Uninstalling torch-1.10.0+cu111:\n",
            "      Successfully uninstalled torch-1.10.0+cu111\n",
            "\u001b[31mERROR: pip's dependency resolver does not currently take into account all the packages that are installed. This behaviour is the source of the following dependency conflicts.\n",
            "torchvision 0.11.1+cu111 requires torch==1.10.0, but you have torch 1.11.0 which is incompatible.\n",
            "torchtext 0.11.0 requires torch==1.10.0, but you have torch 1.11.0 which is incompatible.\n",
            "torchaudio 0.10.0+cu111 requires torch==1.10.0, but you have torch 1.11.0 which is incompatible.\u001b[0m\n",
            "Successfully installed ax-platform-0.2.4 axforchemistry-0.1.1 botorch-0.6.2 gpytorch-1.6.0 multipledispatch-0.6.0 pyro-api-0.1.2 pyro-ppl-1.8.1 torch-1.11.0\n"
          ]
        }
      ],
      "source": [
        "!pip install axforchemistry"
      ]
    },
    {
      "cell_type": "markdown",
      "metadata": {
        "id": "5wo69ns1CZ7q"
      },
      "source": [
        "## Imports"
      ]
    },
    {
      "cell_type": "code",
      "execution_count": 1,
      "metadata": {
        "id": "e-dSnDowCZ7r"
      },
      "outputs": [
        {
          "name": "stderr",
          "output_type": "stream",
          "text": [
            "C:\\Users\\sterg\\Miniconda3\\envs\\axforchemistry\\lib\\site-packages\\tqdm\\auto.py:22: TqdmWarning: IProgress not found. Please update jupyter and ipywidgets. See https://ipywidgets.readthedocs.io/en/stable/user_install.html\n",
            "  from .autonotebook import tqdm as notebook_tqdm\n"
          ]
        }
      ],
      "source": [
        "from os import path\n",
        "from pathlib import Path\n",
        "import numpy as np\n",
        "import pandas as pd\n",
        "from axforchemistry.axforchemistry_ import FormulationOptimization\n",
        "from ax.service.utils.instantiation import ObjectiveProperties\n",
        "from axforchemistry.utils.plotting import cv_plot\n",
        "from sklearn.preprocessing import normalize # for dummy data\n",
        "from sklearn.datasets import make_regression # for dummy data\n"
      ]
    },
    {
      "cell_type": "markdown",
      "metadata": {
        "id": "_S4PBgngCZ7r"
      },
      "source": [
        "## Setup"
      ]
    },
    {
      "cell_type": "markdown",
      "metadata": {
        "id": "5Z-lG_MUCZ7s"
      },
      "source": [
        "To perform multi-objective optimization (MOO), specify the names of the objectives based\n",
        "on the columns in the CSV file(s) of interest and whether the objective should be\n",
        "minimized or maximized. `threshold == None` means to infer a threshold that the model\n",
        "uses to help focus the search to a more useful range for the objective values. This\n",
        "threshold acts as a soft constraint, and is set as a scalar value. For example, by\n",
        "specifying `threshold=200` for the `\"Compressive Strength (MPa)\"` objective, where\n",
        "greater is better (`minimize=False`), candidates that are likely to perform worse than this threshold are\n",
        "less likely to be suggested as next experiments. In other words, this is a place where\n",
        "you can bake-in domain knowledge to help the model decide what is useful or not."
      ]
    },
    {
      "cell_type": "code",
      "execution_count": 2,
      "metadata": {
        "id": "BKhn9rLnCZ7s"
      },
      "outputs": [],
      "source": [
        "compressive_key = \"Compressive Strength (MPa)\"\n",
        "flexural_key = \"Flexural Strength (MPa)\"\n",
        "vickers_key = \"Vickers Hardness\"\n",
        "shrinkage_key = \"Shrinkage (%)\"\n",
        "moo_objectives = {\n",
        "    compressive_key: ObjectiveProperties(minimize=False, threshold=None),\n",
        "    flexural_key: ObjectiveProperties(minimize=False, threshold=None),\n",
        "    vickers_key: ObjectiveProperties(minimize=False, threshold=None),\n",
        "    shrinkage_key: ObjectiveProperties(minimize=True, threshold=None),\n",
        "}\n",
        "\n",
        "data_dir = \"data\"\n",
        "train_fname = \"train-moo-fake.csv\"\n",
        "post_sobol_fname = \"post-sobol-moo-fake.csv\"\n",
        "\n",
        "figdir = path.join(\"figures\", \"moo\")\n",
        "\n",
        "# trim the data down to the first 10 datapoints so it runs very fast (dummy run)\n",
        "trim = False\n",
        "if trim:\n",
        "    df = pd.read_csv(path.join(data_dir, post_sobol_fname))\n",
        "    df = df.head(10)\n",
        "    post_sobol_fname = \"post-sobol-moo-fake-dummy.csv\"\n",
        "    df.to_csv(path.join(data_dir, post_sobol_fname), index=False)\n"
      ]
    },
    {
      "cell_type": "markdown",
      "metadata": {
        "id": "PerRSUDfDtPx"
      },
      "source": [
        "### Generate dummy data\n",
        "\n",
        "The following is generated from a linear model and then the inputs are reworked to conform to our compositional constraint, such that each component is positive and `component_0 + component_1 + ... + component_n == 1.0`. We reparameterize this to `component_0 + component_1 + ... + component_{n-1} <= 1.0` to remove a degenerate dimension of the search and thereby increase the search efficiency."
      ]
    },
    {
      "cell_type": "code",
      "execution_count": 7,
      "metadata": {
        "colab": {
          "base_uri": "https://localhost:8080/",
          "height": 522
        },
        "id": "gdxk0H8nDm_j",
        "outputId": "f204e968-07a0-46a4-f195-e8f0548304bd"
      },
      "outputs": [
        {
          "data": {
            "text/html": [
              "<div>\n",
              "<style scoped>\n",
              "    .dataframe tbody tr th:only-of-type {\n",
              "        vertical-align: middle;\n",
              "    }\n",
              "\n",
              "    .dataframe tbody tr th {\n",
              "        vertical-align: top;\n",
              "    }\n",
              "\n",
              "    .dataframe thead th {\n",
              "        text-align: right;\n",
              "    }\n",
              "</style>\n",
              "<table border=\"1\" class=\"dataframe\">\n",
              "  <thead>\n",
              "    <tr style=\"text-align: right;\">\n",
              "      <th></th>\n",
              "      <th>component_0</th>\n",
              "      <th>component_1</th>\n",
              "      <th>component_2</th>\n",
              "      <th>component_3</th>\n",
              "      <th>component_4</th>\n",
              "      <th>component_5</th>\n",
              "      <th>component_6</th>\n",
              "      <th>component_7</th>\n",
              "      <th>component_8</th>\n",
              "      <th>Compressive Strength (MPa)</th>\n",
              "      <th>Flexural Strength (MPa)</th>\n",
              "      <th>Vickers Hardness</th>\n",
              "      <th>Shrinkage (%)</th>\n",
              "    </tr>\n",
              "  </thead>\n",
              "  <tbody>\n",
              "    <tr>\n",
              "      <th>0</th>\n",
              "      <td>0.002403</td>\n",
              "      <td>0.034239</td>\n",
              "      <td>0.004367</td>\n",
              "      <td>0.004468</td>\n",
              "      <td>0.011043</td>\n",
              "      <td>0.053800</td>\n",
              "      <td>0.035516</td>\n",
              "      <td>0.015384</td>\n",
              "      <td>0.026792</td>\n",
              "      <td>-0.842453</td>\n",
              "      <td>6.378010</td>\n",
              "      <td>16.113686</td>\n",
              "      <td>-0.182803</td>\n",
              "    </tr>\n",
              "    <tr>\n",
              "      <th>1</th>\n",
              "      <td>0.031704</td>\n",
              "      <td>0.015127</td>\n",
              "      <td>0.000709</td>\n",
              "      <td>0.017091</td>\n",
              "      <td>0.003308</td>\n",
              "      <td>0.011786</td>\n",
              "      <td>0.069879</td>\n",
              "      <td>0.005531</td>\n",
              "      <td>0.033135</td>\n",
              "      <td>7.924150</td>\n",
              "      <td>34.715943</td>\n",
              "      <td>-12.922357</td>\n",
              "      <td>14.210516</td>\n",
              "    </tr>\n",
              "    <tr>\n",
              "      <th>2</th>\n",
              "      <td>0.028576</td>\n",
              "      <td>0.006921</td>\n",
              "      <td>0.006749</td>\n",
              "      <td>0.023859</td>\n",
              "      <td>0.032643</td>\n",
              "      <td>0.019061</td>\n",
              "      <td>0.035840</td>\n",
              "      <td>0.015922</td>\n",
              "      <td>0.024884</td>\n",
              "      <td>-4.763083</td>\n",
              "      <td>4.973592</td>\n",
              "      <td>12.775977</td>\n",
              "      <td>-12.304001</td>\n",
              "    </tr>\n",
              "    <tr>\n",
              "      <th>3</th>\n",
              "      <td>0.035261</td>\n",
              "      <td>0.000048</td>\n",
              "      <td>0.011189</td>\n",
              "      <td>0.032966</td>\n",
              "      <td>0.007851</td>\n",
              "      <td>0.017034</td>\n",
              "      <td>0.012578</td>\n",
              "      <td>0.045711</td>\n",
              "      <td>0.021746</td>\n",
              "      <td>3.218917</td>\n",
              "      <td>13.445902</td>\n",
              "      <td>8.737994</td>\n",
              "      <td>12.464910</td>\n",
              "    </tr>\n",
              "    <tr>\n",
              "      <th>4</th>\n",
              "      <td>0.019397</td>\n",
              "      <td>0.018287</td>\n",
              "      <td>0.015303</td>\n",
              "      <td>0.013213</td>\n",
              "      <td>0.032407</td>\n",
              "      <td>0.035748</td>\n",
              "      <td>0.045505</td>\n",
              "      <td>0.013697</td>\n",
              "      <td>0.006148</td>\n",
              "      <td>8.734551</td>\n",
              "      <td>15.655272</td>\n",
              "      <td>8.198462</td>\n",
              "      <td>39.635678</td>\n",
              "    </tr>\n",
              "    <tr>\n",
              "      <th>...</th>\n",
              "      <td>...</td>\n",
              "      <td>...</td>\n",
              "      <td>...</td>\n",
              "      <td>...</td>\n",
              "      <td>...</td>\n",
              "      <td>...</td>\n",
              "      <td>...</td>\n",
              "      <td>...</td>\n",
              "      <td>...</td>\n",
              "      <td>...</td>\n",
              "      <td>...</td>\n",
              "      <td>...</td>\n",
              "      <td>...</td>\n",
              "    </tr>\n",
              "    <tr>\n",
              "      <th>95</th>\n",
              "      <td>0.035853</td>\n",
              "      <td>0.041514</td>\n",
              "      <td>0.029545</td>\n",
              "      <td>0.032611</td>\n",
              "      <td>0.004861</td>\n",
              "      <td>0.006579</td>\n",
              "      <td>0.008914</td>\n",
              "      <td>0.011108</td>\n",
              "      <td>0.025297</td>\n",
              "      <td>19.967873</td>\n",
              "      <td>0.787274</td>\n",
              "      <td>-10.575234</td>\n",
              "      <td>37.528432</td>\n",
              "    </tr>\n",
              "    <tr>\n",
              "      <th>96</th>\n",
              "      <td>0.021292</td>\n",
              "      <td>0.010481</td>\n",
              "      <td>0.015105</td>\n",
              "      <td>0.004949</td>\n",
              "      <td>0.012140</td>\n",
              "      <td>0.045672</td>\n",
              "      <td>0.032233</td>\n",
              "      <td>0.006331</td>\n",
              "      <td>0.017173</td>\n",
              "      <td>7.677474</td>\n",
              "      <td>14.213193</td>\n",
              "      <td>12.790518</td>\n",
              "      <td>14.493199</td>\n",
              "    </tr>\n",
              "    <tr>\n",
              "      <th>97</th>\n",
              "      <td>0.012554</td>\n",
              "      <td>0.023068</td>\n",
              "      <td>0.001666</td>\n",
              "      <td>0.035635</td>\n",
              "      <td>0.011997</td>\n",
              "      <td>0.012511</td>\n",
              "      <td>0.025997</td>\n",
              "      <td>0.032655</td>\n",
              "      <td>0.035409</td>\n",
              "      <td>-10.300538</td>\n",
              "      <td>24.042803</td>\n",
              "      <td>0.128413</td>\n",
              "      <td>-10.940054</td>\n",
              "    </tr>\n",
              "    <tr>\n",
              "      <th>98</th>\n",
              "      <td>0.011046</td>\n",
              "      <td>0.007264</td>\n",
              "      <td>0.010200</td>\n",
              "      <td>0.010444</td>\n",
              "      <td>0.023268</td>\n",
              "      <td>0.011309</td>\n",
              "      <td>0.046783</td>\n",
              "      <td>0.051603</td>\n",
              "      <td>0.008341</td>\n",
              "      <td>-5.650777</td>\n",
              "      <td>4.093064</td>\n",
              "      <td>-2.467657</td>\n",
              "      <td>13.962996</td>\n",
              "    </tr>\n",
              "    <tr>\n",
              "      <th>99</th>\n",
              "      <td>0.052502</td>\n",
              "      <td>0.019189</td>\n",
              "      <td>0.009742</td>\n",
              "      <td>0.005212</td>\n",
              "      <td>0.000446</td>\n",
              "      <td>0.007234</td>\n",
              "      <td>0.002543</td>\n",
              "      <td>0.008996</td>\n",
              "      <td>0.033274</td>\n",
              "      <td>15.262263</td>\n",
              "      <td>-8.694347</td>\n",
              "      <td>13.609308</td>\n",
              "      <td>20.805315</td>\n",
              "    </tr>\n",
              "  </tbody>\n",
              "</table>\n",
              "<p>100 rows × 13 columns</p>\n",
              "</div>"
            ],
            "text/plain": [
              "    component_0  component_1  component_2  component_3  component_4  \\\n",
              "0      0.002403     0.034239     0.004367     0.004468     0.011043   \n",
              "1      0.031704     0.015127     0.000709     0.017091     0.003308   \n",
              "2      0.028576     0.006921     0.006749     0.023859     0.032643   \n",
              "3      0.035261     0.000048     0.011189     0.032966     0.007851   \n",
              "4      0.019397     0.018287     0.015303     0.013213     0.032407   \n",
              "..          ...          ...          ...          ...          ...   \n",
              "95     0.035853     0.041514     0.029545     0.032611     0.004861   \n",
              "96     0.021292     0.010481     0.015105     0.004949     0.012140   \n",
              "97     0.012554     0.023068     0.001666     0.035635     0.011997   \n",
              "98     0.011046     0.007264     0.010200     0.010444     0.023268   \n",
              "99     0.052502     0.019189     0.009742     0.005212     0.000446   \n",
              "\n",
              "    component_5  component_6  component_7  component_8  \\\n",
              "0      0.053800     0.035516     0.015384     0.026792   \n",
              "1      0.011786     0.069879     0.005531     0.033135   \n",
              "2      0.019061     0.035840     0.015922     0.024884   \n",
              "3      0.017034     0.012578     0.045711     0.021746   \n",
              "4      0.035748     0.045505     0.013697     0.006148   \n",
              "..          ...          ...          ...          ...   \n",
              "95     0.006579     0.008914     0.011108     0.025297   \n",
              "96     0.045672     0.032233     0.006331     0.017173   \n",
              "97     0.012511     0.025997     0.032655     0.035409   \n",
              "98     0.011309     0.046783     0.051603     0.008341   \n",
              "99     0.007234     0.002543     0.008996     0.033274   \n",
              "\n",
              "    Compressive Strength (MPa)  Flexural Strength (MPa)  Vickers Hardness  \\\n",
              "0                    -0.842453                 6.378010         16.113686   \n",
              "1                     7.924150                34.715943        -12.922357   \n",
              "2                    -4.763083                 4.973592         12.775977   \n",
              "3                     3.218917                13.445902          8.737994   \n",
              "4                     8.734551                15.655272          8.198462   \n",
              "..                         ...                      ...               ...   \n",
              "95                   19.967873                 0.787274        -10.575234   \n",
              "96                    7.677474                14.213193         12.790518   \n",
              "97                  -10.300538                24.042803          0.128413   \n",
              "98                   -5.650777                 4.093064         -2.467657   \n",
              "99                   15.262263                -8.694347         13.609308   \n",
              "\n",
              "    Shrinkage (%)  \n",
              "0       -0.182803  \n",
              "1       14.210516  \n",
              "2      -12.304001  \n",
              "3       12.464910  \n",
              "4       39.635678  \n",
              "..            ...  \n",
              "95      37.528432  \n",
              "96      14.493199  \n",
              "97     -10.940054  \n",
              "98      13.962996  \n",
              "99      20.805315  \n",
              "\n",
              "[100 rows x 13 columns]"
            ]
          },
          "execution_count": 7,
          "metadata": {},
          "output_type": "execute_result"
        }
      ],
      "source": [
        "n_samples = 100\n",
        "n_features = 10\n",
        "n_targets = len(moo_objectives)\n",
        "X, y, coef = make_regression(n_samples=n_samples,\n",
        "                       n_features=n_features,\n",
        "                       n_informative=n_features-2,\n",
        "                       n_targets=n_targets,\n",
        "                       random_state=1,\n",
        "                       coef=True)\n",
        "X[X < 0.0] = -1 * X[X < 0.0]\n",
        "X = 0.2 * normalize(X, norm=\"l1\", axis=1)\n",
        "y = X @ coef # recompute the targets\n",
        "y = y + np.random.normal(size=(n_samples, n_targets), scale=10.0) # add noise\n",
        "feat_columns = [f\"component_{i}\" for i in range(n_features)] # component_0, component_1, etc.\n",
        "X_df = pd.DataFrame(X, columns=feat_columns)\n",
        "targ_columns = [compressive_key, flexural_key, vickers_key, shrinkage_key]\n",
        "y_df = pd.DataFrame(y, columns=targ_columns)\n",
        "df = pd.concat((X_df, y_df), axis=1)\n",
        "df.drop(columns=feat_columns[-1], inplace=True)\n",
        "train_path = path.join(data_dir, train_fname)\n",
        "Path(data_dir).mkdir(exist_ok=True, parents=True)\n",
        "df.to_csv(train_path, index=False)\n",
        "df"
      ]
    },
    {
      "cell_type": "markdown",
      "metadata": {
        "id": "i1rUr8iUCZ7t"
      },
      "source": [
        "## Optimization"
      ]
    },
    {
      "cell_type": "markdown",
      "metadata": {
        "id": "js4wIoSxCZ7u"
      },
      "source": [
        "The optimization takes place with the FormulationOptimization class, which refers to\n",
        "optimization of a formulation of components (i.e. `component_1 + component_2 +\n",
        "component_3 + ... + component_n`) such that the sum of the fractional contributions of\n",
        "all the components is equal to one."
      ]
    },
    {
      "cell_type": "code",
      "execution_count": 8,
      "metadata": {
        "colab": {
          "base_uri": "https://localhost:8080/"
        },
        "id": "na5om7YZCZ7u",
        "outputId": "8c1e8d69-fb92-4f40-b7a0-e4d864befbbc"
      },
      "outputs": [
        {
          "name": "stdout",
          "output_type": "stream",
          "text": [
            "loaded unique_components (ensure no extras):  ['component_0', 'component_1', 'component_2', 'component_3', 'component_4', 'component_5', 'component_6', 'component_7', 'component_8', 'last_component']\n"
          ]
        }
      ],
      "source": [
        "# TODO: allow passing DataFrames directly\n",
        "form = FormulationOptimization(\n",
        "    train_max_val=0.4,  # i.e. i.e. x_1 + x_2 + x_3 + ... + x_{n-1} <= train_max_val\n",
        "    sobol_max_val=0.25,  # i.e. x_1 + x_2 + x_3 + ... + x_{n-1} <= sobol_max_val\n",
        "    sobol_min_val=0.15,  # i.e. x_1 + x_2 + x_3 + ... + x_{n-1} >= sobol_min_val\n",
        "    bayes_max_val=None,  # default to Sobol equivalent\n",
        "    bayes_min_val=None,  # default to Sobol equivalent\n",
        "    seed=12345,\n",
        "    n_bayes_batch=5,\n",
        "    n_sobol=10,  # None --> 2*num_parameters\n",
        "    num_samples=64,  # set to 256+ for real run (lower if OOM), 16 for dummy run\n",
        "    warmup_steps=128,  # set to 512+ for real run (lower if OOM), 32 for dummy run\n",
        "    exp_name=\"moo-example\",\n",
        "    moo_objectives=moo_objectives,\n",
        "    exp_dir=path.join(\"experiments\", \"moo\"),\n",
        "    save_dir=path.join(\"results\", \"moo\"),\n",
        "    data_dir=data_dir,\n",
        "    train_fname=train_fname,\n",
        "    post_sobol_fname=post_sobol_fname,  # same format as `train_fname` + train data\n",
        ")\n"
      ]
    },
    {
      "cell_type": "markdown",
      "metadata": {
        "id": "PXg18-UFCZ7v"
      },
      "source": [
        "## Sobol candidates"
      ]
    },
    {
      "cell_type": "markdown",
      "metadata": {
        "id": "baTRsGuZCZ7v"
      },
      "source": [
        "First, we generate the suggested (pseudo-random) Sobol experiments to provide an initial\n",
        "scaffolding for the initial model fit."
      ]
    },
    {
      "cell_type": "code",
      "execution_count": 9,
      "metadata": {
        "colab": {
          "base_uri": "https://localhost:8080/",
          "height": 1000
        },
        "id": "W8w09i0PCZ7v",
        "outputId": "341319c0-cd72-46ce-ecec-e9318825b5e4"
      },
      "outputs": [
        {
          "name": "stderr",
          "output_type": "stream",
          "text": [
            "[INFO 04-06 22:02:17] ax.service.utils.instantiation: Due to non-specification, we will use the heuristic for selecting objective thresholds.\n",
            "[INFO 04-06 22:02:17] ax.service.utils.instantiation: Inferred value type of ParameterType.FLOAT for parameter component_0. If that is not the expected value type, you can explicity specify 'value_type' ('int', 'float', 'bool' or 'str') in parameter dict.\n",
            "[INFO 04-06 22:02:17] ax.service.utils.instantiation: Inferred value type of ParameterType.FLOAT for parameter component_1. If that is not the expected value type, you can explicity specify 'value_type' ('int', 'float', 'bool' or 'str') in parameter dict.\n",
            "[INFO 04-06 22:02:17] ax.service.utils.instantiation: Inferred value type of ParameterType.FLOAT for parameter component_2. If that is not the expected value type, you can explicity specify 'value_type' ('int', 'float', 'bool' or 'str') in parameter dict.\n",
            "[INFO 04-06 22:02:17] ax.service.utils.instantiation: Inferred value type of ParameterType.FLOAT for parameter component_3. If that is not the expected value type, you can explicity specify 'value_type' ('int', 'float', 'bool' or 'str') in parameter dict.\n",
            "[INFO 04-06 22:02:17] ax.service.utils.instantiation: Inferred value type of ParameterType.FLOAT for parameter component_4. If that is not the expected value type, you can explicity specify 'value_type' ('int', 'float', 'bool' or 'str') in parameter dict.\n",
            "[INFO 04-06 22:02:17] ax.service.utils.instantiation: Inferred value type of ParameterType.FLOAT for parameter component_5. If that is not the expected value type, you can explicity specify 'value_type' ('int', 'float', 'bool' or 'str') in parameter dict.\n",
            "[INFO 04-06 22:02:17] ax.service.utils.instantiation: Inferred value type of ParameterType.FLOAT for parameter component_6. If that is not the expected value type, you can explicity specify 'value_type' ('int', 'float', 'bool' or 'str') in parameter dict.\n",
            "[INFO 04-06 22:02:17] ax.service.utils.instantiation: Inferred value type of ParameterType.FLOAT for parameter component_7. If that is not the expected value type, you can explicity specify 'value_type' ('int', 'float', 'bool' or 'str') in parameter dict.\n",
            "[INFO 04-06 22:02:17] ax.service.utils.instantiation: Inferred value type of ParameterType.FLOAT for parameter component_8. If that is not the expected value type, you can explicity specify 'value_type' ('int', 'float', 'bool' or 'str') in parameter dict.\n",
            "[INFO 04-06 22:02:17] ax.service.utils.instantiation: Inferred value type of ParameterType.FLOAT for parameter last_component. If that is not the expected value type, you can explicity specify 'value_type' ('int', 'float', 'bool' or 'str') in parameter dict.\n",
            "[INFO 04-06 22:02:17] ax.service.utils.instantiation: Created search space: SearchSpace(parameters=[RangeParameter(name='component_0', parameter_type=FLOAT, range=[0.0, 0.4]), RangeParameter(name='component_1', parameter_type=FLOAT, range=[0.0, 0.4]), RangeParameter(name='component_2', parameter_type=FLOAT, range=[0.0, 0.4]), RangeParameter(name='component_3', parameter_type=FLOAT, range=[0.0, 0.4]), RangeParameter(name='component_4', parameter_type=FLOAT, range=[0.0, 0.4]), RangeParameter(name='component_5', parameter_type=FLOAT, range=[0.0, 0.4]), RangeParameter(name='component_6', parameter_type=FLOAT, range=[0.0, 0.4]), RangeParameter(name='component_7', parameter_type=FLOAT, range=[0.0, 0.4]), RangeParameter(name='component_8', parameter_type=FLOAT, range=[0.0, 0.4]), RangeParameter(name='last_component', parameter_type=FLOAT, range=[0.6, 1.0])], parameter_constraints=[ParameterConstraint(1.0*component_0 + 1.0*component_1 + 1.0*component_2 + 1.0*component_3 + 1.0*component_4 + 1.0*component_5 + 1.0*component_6 + 1.0*component_7 + 1.0*component_8 <= 0.4)]).\n",
            "[WARNING 04-06 22:02:17] ax.service.ax_client: Random seed set to 12345. Note that this setting only affects the Sobol quasi-random generator and BoTorch-powered Bayesian optimization models. For the latter models, setting random seed to the same number for two optimizations will make the generated trials similar, but not exactly the same, and over time the trials will diverge more.\n",
            "[INFO 04-06 22:02:17] ax.service.utils.instantiation: Inferred value type of ParameterType.FLOAT for parameter component_0. If that is not the expected value type, you can explicity specify 'value_type' ('int', 'float', 'bool' or 'str') in parameter dict.\n",
            "[INFO 04-06 22:02:17] ax.service.utils.instantiation: Inferred value type of ParameterType.FLOAT for parameter component_1. If that is not the expected value type, you can explicity specify 'value_type' ('int', 'float', 'bool' or 'str') in parameter dict.\n",
            "[INFO 04-06 22:02:17] ax.service.utils.instantiation: Inferred value type of ParameterType.FLOAT for parameter component_2. If that is not the expected value type, you can explicity specify 'value_type' ('int', 'float', 'bool' or 'str') in parameter dict.\n",
            "[INFO 04-06 22:02:17] ax.service.utils.instantiation: Inferred value type of ParameterType.FLOAT for parameter component_3. If that is not the expected value type, you can explicity specify 'value_type' ('int', 'float', 'bool' or 'str') in parameter dict.\n",
            "[INFO 04-06 22:02:17] ax.service.utils.instantiation: Inferred value type of ParameterType.FLOAT for parameter component_4. If that is not the expected value type, you can explicity specify 'value_type' ('int', 'float', 'bool' or 'str') in parameter dict.\n",
            "[INFO 04-06 22:02:17] ax.service.utils.instantiation: Inferred value type of ParameterType.FLOAT for parameter component_5. If that is not the expected value type, you can explicity specify 'value_type' ('int', 'float', 'bool' or 'str') in parameter dict.\n",
            "[INFO 04-06 22:02:17] ax.service.utils.instantiation: Inferred value type of ParameterType.FLOAT for parameter component_6. If that is not the expected value type, you can explicity specify 'value_type' ('int', 'float', 'bool' or 'str') in parameter dict.\n",
            "[INFO 04-06 22:02:17] ax.service.utils.instantiation: Inferred value type of ParameterType.FLOAT for parameter component_7. If that is not the expected value type, you can explicity specify 'value_type' ('int', 'float', 'bool' or 'str') in parameter dict.\n",
            "[INFO 04-06 22:02:17] ax.service.utils.instantiation: Inferred value type of ParameterType.FLOAT for parameter component_8. If that is not the expected value type, you can explicity specify 'value_type' ('int', 'float', 'bool' or 'str') in parameter dict.\n",
            "[INFO 04-06 22:02:17] ax.service.utils.instantiation: Inferred value type of ParameterType.FLOAT for parameter last_component. If that is not the expected value type, you can explicity specify 'value_type' ('int', 'float', 'bool' or 'str') in parameter dict.\n",
            "[INFO 04-06 22:02:17] ax.service.utils.instantiation: Created search space: SearchSpace(parameters=[RangeParameter(name='component_0', parameter_type=FLOAT, range=[0.0, 0.25]), RangeParameter(name='component_1', parameter_type=FLOAT, range=[0.0, 0.25]), RangeParameter(name='component_2', parameter_type=FLOAT, range=[0.0, 0.25]), RangeParameter(name='component_3', parameter_type=FLOAT, range=[0.0, 0.25]), RangeParameter(name='component_4', parameter_type=FLOAT, range=[0.0, 0.25]), RangeParameter(name='component_5', parameter_type=FLOAT, range=[0.0, 0.25]), RangeParameter(name='component_6', parameter_type=FLOAT, range=[0.0, 0.25]), RangeParameter(name='component_7', parameter_type=FLOAT, range=[0.0, 0.25]), RangeParameter(name='component_8', parameter_type=FLOAT, range=[0.0, 0.25]), RangeParameter(name='last_component', parameter_type=FLOAT, range=[0.75, 0.85])], parameter_constraints=[ParameterConstraint(1.0*component_0 + 1.0*component_1 + 1.0*component_2 + 1.0*component_3 + 1.0*component_4 + 1.0*component_5 + 1.0*component_6 + 1.0*component_7 + 1.0*component_8 <= 0.25), ParameterConstraint(-1.0*component_0 + -1.0*component_1 + -1.0*component_2 + -1.0*component_3 + -1.0*component_4 + -1.0*component_5 + -1.0*component_6 + -1.0*component_7 + -1.0*component_8 <= -0.15)]).\n",
            "[INFO 04-06 22:02:17] ax.core.experiment: Attached data has some metrics ({'Flexural Strength (MPa)', 'Shrinkage (%)', 'Vickers Hardness'}) that are not among the metrics on this experiment. Note that attaching data will not automatically add those metrics to the experiment. For these metrics to be automatically fetched by `experiment.fetch_data`, add them via `experiment.add_tracking_metric` or update the experiment's optimization config.\n",
            "[INFO 04-06 22:02:17] ax.core.experiment: Attached data has some metrics ({'Flexural Strength (MPa)', 'Shrinkage (%)', 'Vickers Hardness'}) that are not among the metrics on this experiment. Note that attaching data will not automatically add those metrics to the experiment. For these metrics to be automatically fetched by `experiment.fetch_data`, add them via `experiment.add_tracking_metric` or update the experiment's optimization config.\n",
            "[INFO 04-06 22:02:17] ax.core.experiment: Attached data has some metrics ({'Flexural Strength (MPa)', 'Shrinkage (%)', 'Vickers Hardness'}) that are not among the metrics on this experiment. Note that attaching data will not automatically add those metrics to the experiment. For these metrics to be automatically fetched by `experiment.fetch_data`, add them via `experiment.add_tracking_metric` or update the experiment's optimization config.\n",
            "[INFO 04-06 22:02:17] ax.core.experiment: Attached data has some metrics ({'Flexural Strength (MPa)', 'Shrinkage (%)', 'Vickers Hardness'}) that are not among the metrics on this experiment. Note that attaching data will not automatically add those metrics to the experiment. For these metrics to be automatically fetched by `experiment.fetch_data`, add them via `experiment.add_tracking_metric` or update the experiment's optimization config.\n",
            "[INFO 04-06 22:02:17] ax.core.experiment: Attached data has some metrics ({'Flexural Strength (MPa)', 'Shrinkage (%)', 'Vickers Hardness'}) that are not among the metrics on this experiment. Note that attaching data will not automatically add those metrics to the experiment. For these metrics to be automatically fetched by `experiment.fetch_data`, add them via `experiment.add_tracking_metric` or update the experiment's optimization config.\n",
            "[INFO 04-06 22:02:17] ax.core.experiment: Attached data has some metrics ({'Flexural Strength (MPa)', 'Shrinkage (%)', 'Vickers Hardness'}) that are not among the metrics on this experiment. Note that attaching data will not automatically add those metrics to the experiment. For these metrics to be automatically fetched by `experiment.fetch_data`, add them via `experiment.add_tracking_metric` or update the experiment's optimization config.\n",
            "[INFO 04-06 22:02:17] ax.core.experiment: Attached data has some metrics ({'Flexural Strength (MPa)', 'Shrinkage (%)', 'Vickers Hardness'}) that are not among the metrics on this experiment. Note that attaching data will not automatically add those metrics to the experiment. For these metrics to be automatically fetched by `experiment.fetch_data`, add them via `experiment.add_tracking_metric` or update the experiment's optimization config.\n",
            "[INFO 04-06 22:02:17] ax.core.experiment: Attached data has some metrics ({'Flexural Strength (MPa)', 'Shrinkage (%)', 'Vickers Hardness'}) that are not among the metrics on this experiment. Note that attaching data will not automatically add those metrics to the experiment. For these metrics to be automatically fetched by `experiment.fetch_data`, add them via `experiment.add_tracking_metric` or update the experiment's optimization config.\n",
            "[INFO 04-06 22:02:17] ax.core.experiment: Attached data has some metrics ({'Flexural Strength (MPa)', 'Shrinkage (%)', 'Vickers Hardness'}) that are not among the metrics on this experiment. Note that attaching data will not automatically add those metrics to the experiment. For these metrics to be automatically fetched by `experiment.fetch_data`, add them via `experiment.add_tracking_metric` or update the experiment's optimization config.\n"
          ]
        },
        {
          "name": "stdout",
          "output_type": "stream",
          "text": [
            "generating Sobol candidates and saving to .csv\n"
          ]
        },
        {
          "name": "stderr",
          "output_type": "stream",
          "text": [
            "[INFO 04-06 22:02:17] ax.core.experiment: Attached data has some metrics ({'Flexural Strength (MPa)', 'Shrinkage (%)', 'Vickers Hardness'}) that are not among the metrics on this experiment. Note that attaching data will not automatically add those metrics to the experiment. For these metrics to be automatically fetched by `experiment.fetch_data`, add them via `experiment.add_tracking_metric` or update the experiment's optimization config.\n",
            "[INFO 04-06 22:02:17] ax.core.experiment: Attached data has some metrics ({'Flexural Strength (MPa)', 'Shrinkage (%)', 'Vickers Hardness'}) that are not among the metrics on this experiment. Note that attaching data will not automatically add those metrics to the experiment. For these metrics to be automatically fetched by `experiment.fetch_data`, add them via `experiment.add_tracking_metric` or update the experiment's optimization config.\n",
            "[INFO 04-06 22:02:17] ax.core.experiment: Attached data has some metrics ({'Flexural Strength (MPa)', 'Shrinkage (%)', 'Vickers Hardness'}) that are not among the metrics on this experiment. Note that attaching data will not automatically add those metrics to the experiment. For these metrics to be automatically fetched by `experiment.fetch_data`, add them via `experiment.add_tracking_metric` or update the experiment's optimization config.\n",
            "[INFO 04-06 22:02:17] ax.core.experiment: Attached data has some metrics ({'Flexural Strength (MPa)', 'Shrinkage (%)', 'Vickers Hardness'}) that are not among the metrics on this experiment. Note that attaching data will not automatically add those metrics to the experiment. For these metrics to be automatically fetched by `experiment.fetch_data`, add them via `experiment.add_tracking_metric` or update the experiment's optimization config.\n",
            "[INFO 04-06 22:02:17] ax.core.experiment: Attached data has some metrics ({'Flexural Strength (MPa)', 'Shrinkage (%)', 'Vickers Hardness'}) that are not among the metrics on this experiment. Note that attaching data will not automatically add those metrics to the experiment. For these metrics to be automatically fetched by `experiment.fetch_data`, add them via `experiment.add_tracking_metric` or update the experiment's optimization config.\n",
            "[INFO 04-06 22:02:17] ax.core.experiment: Attached data has some metrics ({'Flexural Strength (MPa)', 'Shrinkage (%)', 'Vickers Hardness'}) that are not among the metrics on this experiment. Note that attaching data will not automatically add those metrics to the experiment. For these metrics to be automatically fetched by `experiment.fetch_data`, add them via `experiment.add_tracking_metric` or update the experiment's optimization config.\n",
            "[INFO 04-06 22:02:17] ax.core.experiment: Attached data has some metrics ({'Flexural Strength (MPa)', 'Shrinkage (%)', 'Vickers Hardness'}) that are not among the metrics on this experiment. Note that attaching data will not automatically add those metrics to the experiment. For these metrics to be automatically fetched by `experiment.fetch_data`, add them via `experiment.add_tracking_metric` or update the experiment's optimization config.\n",
            "[INFO 04-06 22:02:17] ax.core.experiment: Attached data has some metrics ({'Flexural Strength (MPa)', 'Shrinkage (%)', 'Vickers Hardness'}) that are not among the metrics on this experiment. Note that attaching data will not automatically add those metrics to the experiment. For these metrics to be automatically fetched by `experiment.fetch_data`, add them via `experiment.add_tracking_metric` or update the experiment's optimization config.\n",
            "[INFO 04-06 22:02:17] ax.core.experiment: Attached data has some metrics ({'Flexural Strength (MPa)', 'Shrinkage (%)', 'Vickers Hardness'}) that are not among the metrics on this experiment. Note that attaching data will not automatically add those metrics to the experiment. For these metrics to be automatically fetched by `experiment.fetch_data`, add them via `experiment.add_tracking_metric` or update the experiment's optimization config.\n",
            "[INFO 04-06 22:02:17] ax.core.experiment: Attached data has some metrics ({'Flexural Strength (MPa)', 'Shrinkage (%)', 'Vickers Hardness'}) that are not among the metrics on this experiment. Note that attaching data will not automatically add those metrics to the experiment. For these metrics to be automatically fetched by `experiment.fetch_data`, add them via `experiment.add_tracking_metric` or update the experiment's optimization config.\n",
            "[INFO 04-06 22:02:17] ax.core.experiment: Attached data has some metrics ({'Flexural Strength (MPa)', 'Shrinkage (%)', 'Vickers Hardness'}) that are not among the metrics on this experiment. Note that attaching data will not automatically add those metrics to the experiment. For these metrics to be automatically fetched by `experiment.fetch_data`, add them via `experiment.add_tracking_metric` or update the experiment's optimization config.\n",
            "[INFO 04-06 22:02:17] ax.core.experiment: Attached data has some metrics ({'Flexural Strength (MPa)', 'Shrinkage (%)', 'Vickers Hardness'}) that are not among the metrics on this experiment. Note that attaching data will not automatically add those metrics to the experiment. For these metrics to be automatically fetched by `experiment.fetch_data`, add them via `experiment.add_tracking_metric` or update the experiment's optimization config.\n",
            "[INFO 04-06 22:02:17] ax.core.experiment: Attached data has some metrics ({'Flexural Strength (MPa)', 'Shrinkage (%)', 'Vickers Hardness'}) that are not among the metrics on this experiment. Note that attaching data will not automatically add those metrics to the experiment. For these metrics to be automatically fetched by `experiment.fetch_data`, add them via `experiment.add_tracking_metric` or update the experiment's optimization config.\n",
            "[INFO 04-06 22:02:17] ax.core.experiment: Attached data has some metrics ({'Flexural Strength (MPa)', 'Shrinkage (%)', 'Vickers Hardness'}) that are not among the metrics on this experiment. Note that attaching data will not automatically add those metrics to the experiment. For these metrics to be automatically fetched by `experiment.fetch_data`, add them via `experiment.add_tracking_metric` or update the experiment's optimization config.\n",
            "[INFO 04-06 22:02:17] ax.core.experiment: Attached data has some metrics ({'Flexural Strength (MPa)', 'Shrinkage (%)', 'Vickers Hardness'}) that are not among the metrics on this experiment. Note that attaching data will not automatically add those metrics to the experiment. For these metrics to be automatically fetched by `experiment.fetch_data`, add them via `experiment.add_tracking_metric` or update the experiment's optimization config.\n",
            "[INFO 04-06 22:02:17] ax.core.experiment: Attached data has some metrics ({'Flexural Strength (MPa)', 'Shrinkage (%)', 'Vickers Hardness'}) that are not among the metrics on this experiment. Note that attaching data will not automatically add those metrics to the experiment. For these metrics to be automatically fetched by `experiment.fetch_data`, add them via `experiment.add_tracking_metric` or update the experiment's optimization config.\n",
            "[INFO 04-06 22:02:17] ax.core.experiment: Attached data has some metrics ({'Flexural Strength (MPa)', 'Shrinkage (%)', 'Vickers Hardness'}) that are not among the metrics on this experiment. Note that attaching data will not automatically add those metrics to the experiment. For these metrics to be automatically fetched by `experiment.fetch_data`, add them via `experiment.add_tracking_metric` or update the experiment's optimization config.\n",
            "[INFO 04-06 22:02:17] ax.core.experiment: Attached data has some metrics ({'Flexural Strength (MPa)', 'Shrinkage (%)', 'Vickers Hardness'}) that are not among the metrics on this experiment. Note that attaching data will not automatically add those metrics to the experiment. For these metrics to be automatically fetched by `experiment.fetch_data`, add them via `experiment.add_tracking_metric` or update the experiment's optimization config.\n",
            "[INFO 04-06 22:02:17] ax.core.experiment: Attached data has some metrics ({'Flexural Strength (MPa)', 'Shrinkage (%)', 'Vickers Hardness'}) that are not among the metrics on this experiment. Note that attaching data will not automatically add those metrics to the experiment. For these metrics to be automatically fetched by `experiment.fetch_data`, add them via `experiment.add_tracking_metric` or update the experiment's optimization config.\n",
            "[INFO 04-06 22:02:17] ax.core.experiment: Attached data has some metrics ({'Flexural Strength (MPa)', 'Shrinkage (%)', 'Vickers Hardness'}) that are not among the metrics on this experiment. Note that attaching data will not automatically add those metrics to the experiment. For these metrics to be automatically fetched by `experiment.fetch_data`, add them via `experiment.add_tracking_metric` or update the experiment's optimization config.\n",
            "[INFO 04-06 22:02:17] ax.core.experiment: Attached data has some metrics ({'Flexural Strength (MPa)', 'Shrinkage (%)', 'Vickers Hardness'}) that are not among the metrics on this experiment. Note that attaching data will not automatically add those metrics to the experiment. For these metrics to be automatically fetched by `experiment.fetch_data`, add them via `experiment.add_tracking_metric` or update the experiment's optimization config.\n",
            "[INFO 04-06 22:02:17] ax.core.experiment: Attached data has some metrics ({'Flexural Strength (MPa)', 'Shrinkage (%)', 'Vickers Hardness'}) that are not among the metrics on this experiment. Note that attaching data will not automatically add those metrics to the experiment. For these metrics to be automatically fetched by `experiment.fetch_data`, add them via `experiment.add_tracking_metric` or update the experiment's optimization config.\n",
            "[INFO 04-06 22:02:17] ax.core.experiment: Attached data has some metrics ({'Flexural Strength (MPa)', 'Shrinkage (%)', 'Vickers Hardness'}) that are not among the metrics on this experiment. Note that attaching data will not automatically add those metrics to the experiment. For these metrics to be automatically fetched by `experiment.fetch_data`, add them via `experiment.add_tracking_metric` or update the experiment's optimization config.\n",
            "[INFO 04-06 22:02:17] ax.core.experiment: Attached data has some metrics ({'Flexural Strength (MPa)', 'Shrinkage (%)', 'Vickers Hardness'}) that are not among the metrics on this experiment. Note that attaching data will not automatically add those metrics to the experiment. For these metrics to be automatically fetched by `experiment.fetch_data`, add them via `experiment.add_tracking_metric` or update the experiment's optimization config.\n",
            "[INFO 04-06 22:02:17] ax.core.experiment: Attached data has some metrics ({'Flexural Strength (MPa)', 'Shrinkage (%)', 'Vickers Hardness'}) that are not among the metrics on this experiment. Note that attaching data will not automatically add those metrics to the experiment. For these metrics to be automatically fetched by `experiment.fetch_data`, add them via `experiment.add_tracking_metric` or update the experiment's optimization config.\n",
            "[INFO 04-06 22:02:17] ax.core.experiment: Attached data has some metrics ({'Flexural Strength (MPa)', 'Shrinkage (%)', 'Vickers Hardness'}) that are not among the metrics on this experiment. Note that attaching data will not automatically add those metrics to the experiment. For these metrics to be automatically fetched by `experiment.fetch_data`, add them via `experiment.add_tracking_metric` or update the experiment's optimization config.\n",
            "[INFO 04-06 22:02:17] ax.core.experiment: Attached data has some metrics ({'Flexural Strength (MPa)', 'Shrinkage (%)', 'Vickers Hardness'}) that are not among the metrics on this experiment. Note that attaching data will not automatically add those metrics to the experiment. For these metrics to be automatically fetched by `experiment.fetch_data`, add them via `experiment.add_tracking_metric` or update the experiment's optimization config.\n",
            "[INFO 04-06 22:02:17] ax.core.experiment: Attached data has some metrics ({'Flexural Strength (MPa)', 'Shrinkage (%)', 'Vickers Hardness'}) that are not among the metrics on this experiment. Note that attaching data will not automatically add those metrics to the experiment. For these metrics to be automatically fetched by `experiment.fetch_data`, add them via `experiment.add_tracking_metric` or update the experiment's optimization config.\n",
            "[INFO 04-06 22:02:17] ax.core.experiment: Attached data has some metrics ({'Flexural Strength (MPa)', 'Shrinkage (%)', 'Vickers Hardness'}) that are not among the metrics on this experiment. Note that attaching data will not automatically add those metrics to the experiment. For these metrics to be automatically fetched by `experiment.fetch_data`, add them via `experiment.add_tracking_metric` or update the experiment's optimization config.\n",
            "[INFO 04-06 22:02:17] ax.core.experiment: Attached data has some metrics ({'Flexural Strength (MPa)', 'Shrinkage (%)', 'Vickers Hardness'}) that are not among the metrics on this experiment. Note that attaching data will not automatically add those metrics to the experiment. For these metrics to be automatically fetched by `experiment.fetch_data`, add them via `experiment.add_tracking_metric` or update the experiment's optimization config.\n",
            "[INFO 04-06 22:02:17] ax.core.experiment: Attached data has some metrics ({'Flexural Strength (MPa)', 'Shrinkage (%)', 'Vickers Hardness'}) that are not among the metrics on this experiment. Note that attaching data will not automatically add those metrics to the experiment. For these metrics to be automatically fetched by `experiment.fetch_data`, add them via `experiment.add_tracking_metric` or update the experiment's optimization config.\n",
            "[INFO 04-06 22:02:17] ax.core.experiment: Attached data has some metrics ({'Flexural Strength (MPa)', 'Shrinkage (%)', 'Vickers Hardness'}) that are not among the metrics on this experiment. Note that attaching data will not automatically add those metrics to the experiment. For these metrics to be automatically fetched by `experiment.fetch_data`, add them via `experiment.add_tracking_metric` or update the experiment's optimization config.\n",
            "[INFO 04-06 22:02:17] ax.core.experiment: Attached data has some metrics ({'Flexural Strength (MPa)', 'Shrinkage (%)', 'Vickers Hardness'}) that are not among the metrics on this experiment. Note that attaching data will not automatically add those metrics to the experiment. For these metrics to be automatically fetched by `experiment.fetch_data`, add them via `experiment.add_tracking_metric` or update the experiment's optimization config.\n",
            "[INFO 04-06 22:02:17] ax.core.experiment: Attached data has some metrics ({'Flexural Strength (MPa)', 'Shrinkage (%)', 'Vickers Hardness'}) that are not among the metrics on this experiment. Note that attaching data will not automatically add those metrics to the experiment. For these metrics to be automatically fetched by `experiment.fetch_data`, add them via `experiment.add_tracking_metric` or update the experiment's optimization config.\n",
            "[INFO 04-06 22:02:17] ax.core.experiment: Attached data has some metrics ({'Flexural Strength (MPa)', 'Shrinkage (%)', 'Vickers Hardness'}) that are not among the metrics on this experiment. Note that attaching data will not automatically add those metrics to the experiment. For these metrics to be automatically fetched by `experiment.fetch_data`, add them via `experiment.add_tracking_metric` or update the experiment's optimization config.\n",
            "[INFO 04-06 22:02:17] ax.core.experiment: Attached data has some metrics ({'Flexural Strength (MPa)', 'Shrinkage (%)', 'Vickers Hardness'}) that are not among the metrics on this experiment. Note that attaching data will not automatically add those metrics to the experiment. For these metrics to be automatically fetched by `experiment.fetch_data`, add them via `experiment.add_tracking_metric` or update the experiment's optimization config.\n",
            "[INFO 04-06 22:02:17] ax.core.experiment: Attached data has some metrics ({'Flexural Strength (MPa)', 'Shrinkage (%)', 'Vickers Hardness'}) that are not among the metrics on this experiment. Note that attaching data will not automatically add those metrics to the experiment. For these metrics to be automatically fetched by `experiment.fetch_data`, add them via `experiment.add_tracking_metric` or update the experiment's optimization config.\n",
            "[INFO 04-06 22:02:17] ax.core.experiment: Attached data has some metrics ({'Flexural Strength (MPa)', 'Shrinkage (%)', 'Vickers Hardness'}) that are not among the metrics on this experiment. Note that attaching data will not automatically add those metrics to the experiment. For these metrics to be automatically fetched by `experiment.fetch_data`, add them via `experiment.add_tracking_metric` or update the experiment's optimization config.\n",
            "[INFO 04-06 22:02:17] ax.core.experiment: Attached data has some metrics ({'Flexural Strength (MPa)', 'Shrinkage (%)', 'Vickers Hardness'}) that are not among the metrics on this experiment. Note that attaching data will not automatically add those metrics to the experiment. For these metrics to be automatically fetched by `experiment.fetch_data`, add them via `experiment.add_tracking_metric` or update the experiment's optimization config.\n",
            "[INFO 04-06 22:02:18] ax.core.experiment: Attached data has some metrics ({'Flexural Strength (MPa)', 'Shrinkage (%)', 'Vickers Hardness'}) that are not among the metrics on this experiment. Note that attaching data will not automatically add those metrics to the experiment. For these metrics to be automatically fetched by `experiment.fetch_data`, add them via `experiment.add_tracking_metric` or update the experiment's optimization config.\n",
            "[INFO 04-06 22:02:18] ax.core.experiment: Attached data has some metrics ({'Flexural Strength (MPa)', 'Shrinkage (%)', 'Vickers Hardness'}) that are not among the metrics on this experiment. Note that attaching data will not automatically add those metrics to the experiment. For these metrics to be automatically fetched by `experiment.fetch_data`, add them via `experiment.add_tracking_metric` or update the experiment's optimization config.\n",
            "[INFO 04-06 22:02:18] ax.core.experiment: Attached data has some metrics ({'Flexural Strength (MPa)', 'Shrinkage (%)', 'Vickers Hardness'}) that are not among the metrics on this experiment. Note that attaching data will not automatically add those metrics to the experiment. For these metrics to be automatically fetched by `experiment.fetch_data`, add them via `experiment.add_tracking_metric` or update the experiment's optimization config.\n",
            "[INFO 04-06 22:02:18] ax.core.experiment: Attached data has some metrics ({'Flexural Strength (MPa)', 'Shrinkage (%)', 'Vickers Hardness'}) that are not among the metrics on this experiment. Note that attaching data will not automatically add those metrics to the experiment. For these metrics to be automatically fetched by `experiment.fetch_data`, add them via `experiment.add_tracking_metric` or update the experiment's optimization config.\n",
            "[INFO 04-06 22:02:18] ax.core.experiment: Attached data has some metrics ({'Flexural Strength (MPa)', 'Shrinkage (%)', 'Vickers Hardness'}) that are not among the metrics on this experiment. Note that attaching data will not automatically add those metrics to the experiment. For these metrics to be automatically fetched by `experiment.fetch_data`, add them via `experiment.add_tracking_metric` or update the experiment's optimization config.\n",
            "[INFO 04-06 22:02:18] ax.core.experiment: Attached data has some metrics ({'Flexural Strength (MPa)', 'Shrinkage (%)', 'Vickers Hardness'}) that are not among the metrics on this experiment. Note that attaching data will not automatically add those metrics to the experiment. For these metrics to be automatically fetched by `experiment.fetch_data`, add them via `experiment.add_tracking_metric` or update the experiment's optimization config.\n",
            "[INFO 04-06 22:02:18] ax.core.experiment: Attached data has some metrics ({'Flexural Strength (MPa)', 'Shrinkage (%)', 'Vickers Hardness'}) that are not among the metrics on this experiment. Note that attaching data will not automatically add those metrics to the experiment. For these metrics to be automatically fetched by `experiment.fetch_data`, add them via `experiment.add_tracking_metric` or update the experiment's optimization config.\n",
            "[INFO 04-06 22:02:18] ax.core.experiment: Attached data has some metrics ({'Flexural Strength (MPa)', 'Shrinkage (%)', 'Vickers Hardness'}) that are not among the metrics on this experiment. Note that attaching data will not automatically add those metrics to the experiment. For these metrics to be automatically fetched by `experiment.fetch_data`, add them via `experiment.add_tracking_metric` or update the experiment's optimization config.\n",
            "[INFO 04-06 22:02:18] ax.core.experiment: Attached data has some metrics ({'Flexural Strength (MPa)', 'Shrinkage (%)', 'Vickers Hardness'}) that are not among the metrics on this experiment. Note that attaching data will not automatically add those metrics to the experiment. For these metrics to be automatically fetched by `experiment.fetch_data`, add them via `experiment.add_tracking_metric` or update the experiment's optimization config.\n",
            "[INFO 04-06 22:02:18] ax.core.experiment: Attached data has some metrics ({'Flexural Strength (MPa)', 'Shrinkage (%)', 'Vickers Hardness'}) that are not among the metrics on this experiment. Note that attaching data will not automatically add those metrics to the experiment. For these metrics to be automatically fetched by `experiment.fetch_data`, add them via `experiment.add_tracking_metric` or update the experiment's optimization config.\n",
            "[INFO 04-06 22:02:18] ax.core.experiment: Attached data has some metrics ({'Flexural Strength (MPa)', 'Shrinkage (%)', 'Vickers Hardness'}) that are not among the metrics on this experiment. Note that attaching data will not automatically add those metrics to the experiment. For these metrics to be automatically fetched by `experiment.fetch_data`, add them via `experiment.add_tracking_metric` or update the experiment's optimization config.\n",
            "[INFO 04-06 22:02:18] ax.core.experiment: Attached data has some metrics ({'Flexural Strength (MPa)', 'Shrinkage (%)', 'Vickers Hardness'}) that are not among the metrics on this experiment. Note that attaching data will not automatically add those metrics to the experiment. For these metrics to be automatically fetched by `experiment.fetch_data`, add them via `experiment.add_tracking_metric` or update the experiment's optimization config.\n",
            "[INFO 04-06 22:02:18] ax.core.experiment: Attached data has some metrics ({'Flexural Strength (MPa)', 'Shrinkage (%)', 'Vickers Hardness'}) that are not among the metrics on this experiment. Note that attaching data will not automatically add those metrics to the experiment. For these metrics to be automatically fetched by `experiment.fetch_data`, add them via `experiment.add_tracking_metric` or update the experiment's optimization config.\n",
            "[INFO 04-06 22:02:18] ax.core.experiment: Attached data has some metrics ({'Flexural Strength (MPa)', 'Shrinkage (%)', 'Vickers Hardness'}) that are not among the metrics on this experiment. Note that attaching data will not automatically add those metrics to the experiment. For these metrics to be automatically fetched by `experiment.fetch_data`, add them via `experiment.add_tracking_metric` or update the experiment's optimization config.\n",
            "[INFO 04-06 22:02:18] ax.core.experiment: Attached data has some metrics ({'Flexural Strength (MPa)', 'Shrinkage (%)', 'Vickers Hardness'}) that are not among the metrics on this experiment. Note that attaching data will not automatically add those metrics to the experiment. For these metrics to be automatically fetched by `experiment.fetch_data`, add them via `experiment.add_tracking_metric` or update the experiment's optimization config.\n",
            "[INFO 04-06 22:02:18] ax.core.experiment: Attached data has some metrics ({'Flexural Strength (MPa)', 'Shrinkage (%)', 'Vickers Hardness'}) that are not among the metrics on this experiment. Note that attaching data will not automatically add those metrics to the experiment. For these metrics to be automatically fetched by `experiment.fetch_data`, add them via `experiment.add_tracking_metric` or update the experiment's optimization config.\n",
            "[INFO 04-06 22:02:18] ax.core.experiment: Attached data has some metrics ({'Flexural Strength (MPa)', 'Shrinkage (%)', 'Vickers Hardness'}) that are not among the metrics on this experiment. Note that attaching data will not automatically add those metrics to the experiment. For these metrics to be automatically fetched by `experiment.fetch_data`, add them via `experiment.add_tracking_metric` or update the experiment's optimization config.\n",
            "[INFO 04-06 22:02:18] ax.core.experiment: Attached data has some metrics ({'Flexural Strength (MPa)', 'Shrinkage (%)', 'Vickers Hardness'}) that are not among the metrics on this experiment. Note that attaching data will not automatically add those metrics to the experiment. For these metrics to be automatically fetched by `experiment.fetch_data`, add them via `experiment.add_tracking_metric` or update the experiment's optimization config.\n",
            "[INFO 04-06 22:02:18] ax.core.experiment: Attached data has some metrics ({'Flexural Strength (MPa)', 'Shrinkage (%)', 'Vickers Hardness'}) that are not among the metrics on this experiment. Note that attaching data will not automatically add those metrics to the experiment. For these metrics to be automatically fetched by `experiment.fetch_data`, add them via `experiment.add_tracking_metric` or update the experiment's optimization config.\n",
            "[INFO 04-06 22:02:18] ax.core.experiment: Attached data has some metrics ({'Flexural Strength (MPa)', 'Shrinkage (%)', 'Vickers Hardness'}) that are not among the metrics on this experiment. Note that attaching data will not automatically add those metrics to the experiment. For these metrics to be automatically fetched by `experiment.fetch_data`, add them via `experiment.add_tracking_metric` or update the experiment's optimization config.\n",
            "[INFO 04-06 22:02:18] ax.core.experiment: Attached data has some metrics ({'Flexural Strength (MPa)', 'Shrinkage (%)', 'Vickers Hardness'}) that are not among the metrics on this experiment. Note that attaching data will not automatically add those metrics to the experiment. For these metrics to be automatically fetched by `experiment.fetch_data`, add them via `experiment.add_tracking_metric` or update the experiment's optimization config.\n",
            "[INFO 04-06 22:02:18] ax.core.experiment: Attached data has some metrics ({'Flexural Strength (MPa)', 'Shrinkage (%)', 'Vickers Hardness'}) that are not among the metrics on this experiment. Note that attaching data will not automatically add those metrics to the experiment. For these metrics to be automatically fetched by `experiment.fetch_data`, add them via `experiment.add_tracking_metric` or update the experiment's optimization config.\n",
            "[INFO 04-06 22:02:18] ax.core.experiment: Attached data has some metrics ({'Flexural Strength (MPa)', 'Shrinkage (%)', 'Vickers Hardness'}) that are not among the metrics on this experiment. Note that attaching data will not automatically add those metrics to the experiment. For these metrics to be automatically fetched by `experiment.fetch_data`, add them via `experiment.add_tracking_metric` or update the experiment's optimization config.\n",
            "[INFO 04-06 22:02:18] ax.core.experiment: Attached data has some metrics ({'Flexural Strength (MPa)', 'Shrinkage (%)', 'Vickers Hardness'}) that are not among the metrics on this experiment. Note that attaching data will not automatically add those metrics to the experiment. For these metrics to be automatically fetched by `experiment.fetch_data`, add them via `experiment.add_tracking_metric` or update the experiment's optimization config.\n",
            "[INFO 04-06 22:02:18] ax.core.experiment: Attached data has some metrics ({'Flexural Strength (MPa)', 'Shrinkage (%)', 'Vickers Hardness'}) that are not among the metrics on this experiment. Note that attaching data will not automatically add those metrics to the experiment. For these metrics to be automatically fetched by `experiment.fetch_data`, add them via `experiment.add_tracking_metric` or update the experiment's optimization config.\n",
            "[INFO 04-06 22:02:18] ax.core.experiment: Attached data has some metrics ({'Flexural Strength (MPa)', 'Shrinkage (%)', 'Vickers Hardness'}) that are not among the metrics on this experiment. Note that attaching data will not automatically add those metrics to the experiment. For these metrics to be automatically fetched by `experiment.fetch_data`, add them via `experiment.add_tracking_metric` or update the experiment's optimization config.\n",
            "[INFO 04-06 22:02:18] ax.core.experiment: Attached data has some metrics ({'Flexural Strength (MPa)', 'Shrinkage (%)', 'Vickers Hardness'}) that are not among the metrics on this experiment. Note that attaching data will not automatically add those metrics to the experiment. For these metrics to be automatically fetched by `experiment.fetch_data`, add them via `experiment.add_tracking_metric` or update the experiment's optimization config.\n",
            "[INFO 04-06 22:02:18] ax.core.experiment: Attached data has some metrics ({'Flexural Strength (MPa)', 'Shrinkage (%)', 'Vickers Hardness'}) that are not among the metrics on this experiment. Note that attaching data will not automatically add those metrics to the experiment. For these metrics to be automatically fetched by `experiment.fetch_data`, add them via `experiment.add_tracking_metric` or update the experiment's optimization config.\n",
            "[INFO 04-06 22:02:18] ax.core.experiment: Attached data has some metrics ({'Flexural Strength (MPa)', 'Shrinkage (%)', 'Vickers Hardness'}) that are not among the metrics on this experiment. Note that attaching data will not automatically add those metrics to the experiment. For these metrics to be automatically fetched by `experiment.fetch_data`, add them via `experiment.add_tracking_metric` or update the experiment's optimization config.\n",
            "[INFO 04-06 22:02:18] ax.core.experiment: Attached data has some metrics ({'Flexural Strength (MPa)', 'Shrinkage (%)', 'Vickers Hardness'}) that are not among the metrics on this experiment. Note that attaching data will not automatically add those metrics to the experiment. For these metrics to be automatically fetched by `experiment.fetch_data`, add them via `experiment.add_tracking_metric` or update the experiment's optimization config.\n",
            "[INFO 04-06 22:02:18] ax.core.experiment: Attached data has some metrics ({'Flexural Strength (MPa)', 'Shrinkage (%)', 'Vickers Hardness'}) that are not among the metrics on this experiment. Note that attaching data will not automatically add those metrics to the experiment. For these metrics to be automatically fetched by `experiment.fetch_data`, add them via `experiment.add_tracking_metric` or update the experiment's optimization config.\n",
            "[INFO 04-06 22:02:18] ax.core.experiment: Attached data has some metrics ({'Flexural Strength (MPa)', 'Shrinkage (%)', 'Vickers Hardness'}) that are not among the metrics on this experiment. Note that attaching data will not automatically add those metrics to the experiment. For these metrics to be automatically fetched by `experiment.fetch_data`, add them via `experiment.add_tracking_metric` or update the experiment's optimization config.\n",
            "[INFO 04-06 22:02:18] ax.core.experiment: Attached data has some metrics ({'Flexural Strength (MPa)', 'Shrinkage (%)', 'Vickers Hardness'}) that are not among the metrics on this experiment. Note that attaching data will not automatically add those metrics to the experiment. For these metrics to be automatically fetched by `experiment.fetch_data`, add them via `experiment.add_tracking_metric` or update the experiment's optimization config.\n",
            "[INFO 04-06 22:02:18] ax.core.experiment: Attached data has some metrics ({'Flexural Strength (MPa)', 'Shrinkage (%)', 'Vickers Hardness'}) that are not among the metrics on this experiment. Note that attaching data will not automatically add those metrics to the experiment. For these metrics to be automatically fetched by `experiment.fetch_data`, add them via `experiment.add_tracking_metric` or update the experiment's optimization config.\n",
            "[INFO 04-06 22:02:18] ax.core.experiment: Attached data has some metrics ({'Flexural Strength (MPa)', 'Shrinkage (%)', 'Vickers Hardness'}) that are not among the metrics on this experiment. Note that attaching data will not automatically add those metrics to the experiment. For these metrics to be automatically fetched by `experiment.fetch_data`, add them via `experiment.add_tracking_metric` or update the experiment's optimization config.\n",
            "[INFO 04-06 22:02:18] ax.core.experiment: Attached data has some metrics ({'Flexural Strength (MPa)', 'Shrinkage (%)', 'Vickers Hardness'}) that are not among the metrics on this experiment. Note that attaching data will not automatically add those metrics to the experiment. For these metrics to be automatically fetched by `experiment.fetch_data`, add them via `experiment.add_tracking_metric` or update the experiment's optimization config.\n",
            "[INFO 04-06 22:02:18] ax.core.experiment: Attached data has some metrics ({'Flexural Strength (MPa)', 'Shrinkage (%)', 'Vickers Hardness'}) that are not among the metrics on this experiment. Note that attaching data will not automatically add those metrics to the experiment. For these metrics to be automatically fetched by `experiment.fetch_data`, add them via `experiment.add_tracking_metric` or update the experiment's optimization config.\n",
            "[INFO 04-06 22:02:18] ax.core.experiment: Attached data has some metrics ({'Flexural Strength (MPa)', 'Shrinkage (%)', 'Vickers Hardness'}) that are not among the metrics on this experiment. Note that attaching data will not automatically add those metrics to the experiment. For these metrics to be automatically fetched by `experiment.fetch_data`, add them via `experiment.add_tracking_metric` or update the experiment's optimization config.\n",
            "[INFO 04-06 22:02:18] ax.core.experiment: Attached data has some metrics ({'Flexural Strength (MPa)', 'Shrinkage (%)', 'Vickers Hardness'}) that are not among the metrics on this experiment. Note that attaching data will not automatically add those metrics to the experiment. For these metrics to be automatically fetched by `experiment.fetch_data`, add them via `experiment.add_tracking_metric` or update the experiment's optimization config.\n",
            "[INFO 04-06 22:02:18] ax.core.experiment: Attached data has some metrics ({'Flexural Strength (MPa)', 'Shrinkage (%)', 'Vickers Hardness'}) that are not among the metrics on this experiment. Note that attaching data will not automatically add those metrics to the experiment. For these metrics to be automatically fetched by `experiment.fetch_data`, add them via `experiment.add_tracking_metric` or update the experiment's optimization config.\n",
            "[INFO 04-06 22:02:18] ax.core.experiment: Attached data has some metrics ({'Flexural Strength (MPa)', 'Shrinkage (%)', 'Vickers Hardness'}) that are not among the metrics on this experiment. Note that attaching data will not automatically add those metrics to the experiment. For these metrics to be automatically fetched by `experiment.fetch_data`, add them via `experiment.add_tracking_metric` or update the experiment's optimization config.\n",
            "[INFO 04-06 22:02:18] ax.core.experiment: Attached data has some metrics ({'Flexural Strength (MPa)', 'Shrinkage (%)', 'Vickers Hardness'}) that are not among the metrics on this experiment. Note that attaching data will not automatically add those metrics to the experiment. For these metrics to be automatically fetched by `experiment.fetch_data`, add them via `experiment.add_tracking_metric` or update the experiment's optimization config.\n",
            "[INFO 04-06 22:02:18] ax.core.experiment: Attached data has some metrics ({'Flexural Strength (MPa)', 'Shrinkage (%)', 'Vickers Hardness'}) that are not among the metrics on this experiment. Note that attaching data will not automatically add those metrics to the experiment. For these metrics to be automatically fetched by `experiment.fetch_data`, add them via `experiment.add_tracking_metric` or update the experiment's optimization config.\n",
            "[INFO 04-06 22:02:18] ax.core.experiment: Attached data has some metrics ({'Flexural Strength (MPa)', 'Shrinkage (%)', 'Vickers Hardness'}) that are not among the metrics on this experiment. Note that attaching data will not automatically add those metrics to the experiment. For these metrics to be automatically fetched by `experiment.fetch_data`, add them via `experiment.add_tracking_metric` or update the experiment's optimization config.\n",
            "[INFO 04-06 22:02:18] ax.core.experiment: Attached data has some metrics ({'Flexural Strength (MPa)', 'Shrinkage (%)', 'Vickers Hardness'}) that are not among the metrics on this experiment. Note that attaching data will not automatically add those metrics to the experiment. For these metrics to be automatically fetched by `experiment.fetch_data`, add them via `experiment.add_tracking_metric` or update the experiment's optimization config.\n",
            "[INFO 04-06 22:02:18] ax.core.experiment: Attached data has some metrics ({'Flexural Strength (MPa)', 'Shrinkage (%)', 'Vickers Hardness'}) that are not among the metrics on this experiment. Note that attaching data will not automatically add those metrics to the experiment. For these metrics to be automatically fetched by `experiment.fetch_data`, add them via `experiment.add_tracking_metric` or update the experiment's optimization config.\n",
            "[INFO 04-06 22:02:18] ax.core.experiment: Attached data has some metrics ({'Flexural Strength (MPa)', 'Shrinkage (%)', 'Vickers Hardness'}) that are not among the metrics on this experiment. Note that attaching data will not automatically add those metrics to the experiment. For these metrics to be automatically fetched by `experiment.fetch_data`, add them via `experiment.add_tracking_metric` or update the experiment's optimization config.\n",
            "[INFO 04-06 22:02:19] ax.core.experiment: Attached data has some metrics ({'Flexural Strength (MPa)', 'Shrinkage (%)', 'Vickers Hardness'}) that are not among the metrics on this experiment. Note that attaching data will not automatically add those metrics to the experiment. For these metrics to be automatically fetched by `experiment.fetch_data`, add them via `experiment.add_tracking_metric` or update the experiment's optimization config.\n",
            "[INFO 04-06 22:02:19] ax.core.experiment: Attached data has some metrics ({'Flexural Strength (MPa)', 'Shrinkage (%)', 'Vickers Hardness'}) that are not among the metrics on this experiment. Note that attaching data will not automatically add those metrics to the experiment. For these metrics to be automatically fetched by `experiment.fetch_data`, add them via `experiment.add_tracking_metric` or update the experiment's optimization config.\n",
            "[INFO 04-06 22:02:19] ax.core.experiment: Attached data has some metrics ({'Flexural Strength (MPa)', 'Shrinkage (%)', 'Vickers Hardness'}) that are not among the metrics on this experiment. Note that attaching data will not automatically add those metrics to the experiment. For these metrics to be automatically fetched by `experiment.fetch_data`, add them via `experiment.add_tracking_metric` or update the experiment's optimization config.\n",
            "[INFO 04-06 22:02:19] ax.core.experiment: Attached data has some metrics ({'Flexural Strength (MPa)', 'Shrinkage (%)', 'Vickers Hardness'}) that are not among the metrics on this experiment. Note that attaching data will not automatically add those metrics to the experiment. For these metrics to be automatically fetched by `experiment.fetch_data`, add them via `experiment.add_tracking_metric` or update the experiment's optimization config.\n",
            "[INFO 04-06 22:02:19] ax.core.experiment: Attached data has some metrics ({'Flexural Strength (MPa)', 'Shrinkage (%)', 'Vickers Hardness'}) that are not among the metrics on this experiment. Note that attaching data will not automatically add those metrics to the experiment. For these metrics to be automatically fetched by `experiment.fetch_data`, add them via `experiment.add_tracking_metric` or update the experiment's optimization config.\n",
            "[INFO 04-06 22:02:19] ax.modelbridge.base: Leaving out out-of-design observations for arms: 24_0, 31_0, 86_0, 99_0, 42_0, 93_0, 91_0, 9_0, 39_0, 28_0, 97_0, 26_0, 62_0, 55_0, 21_0, 44_0, 71_0, 82_0, 57_0, 68_0, 46_0, 43_0, 48_0, 96_0, 4_0, 59_0, 6_0, 78_0, 63_0, 7_0, 29_0, 38_0, 51_0, 76_0, 25_0, 88_0, 72_0, 75_0, 83_0, 73_0, 36_0, 52_0, 74_0, 56_0, 49_0, 17_0, 77_0, 53_0, 60_0, 18_0, 64_0, 87_0, 11_0, 54_0, 50_0, 27_0, 66_0, 70_0, 95_0, 12_0, 80_0, 33_0, 14_0, 45_0, 92_0, 16_0, 10_0, 94_0, 8_0, 2_0, 58_0, 85_0, 23_0, 41_0, 35_0, 40_0, 22_0, 89_0, 98_0, 0_0, 79_0, 90_0, 20_0, 13_0, 84_0, 81_0, 61_0, 5_0, 3_0, 1_0, 69_0, 34_0, 15_0, 30_0, 47_0, 67_0, 65_0, 32_0, 19_0, 37_0\n"
          ]
        },
        {
          "ename": "ValueError",
          "evalue": "StandardizeY transform requires non-empty observation data.",
          "output_type": "error",
          "traceback": [
            "\u001b[1;31m---------------------------------------------------------------------------\u001b[0m",
            "\u001b[1;31mValueError\u001b[0m                                Traceback (most recent call last)",
            "\u001b[1;32mc:\\Users\\sterg\\Documents\\GitHub\\sparks-baird\\AxForChemistry\\tutorials\\multi_objective_example.ipynb Cell 17'\u001b[0m in \u001b[0;36m<cell line: 2>\u001b[1;34m()\u001b[0m\n\u001b[0;32m      <a href='vscode-notebook-cell:/c%3A/Users/sterg/Documents/GitHub/sparks-baird/AxForChemistry/tutorials/multi_objective_example.ipynb#ch0000016?line=0'>1</a>\u001b[0m \u001b[39mprint\u001b[39m(\u001b[39m\"\u001b[39m\u001b[39mgenerating Sobol candidates and saving to .csv\u001b[39m\u001b[39m\"\u001b[39m)\n\u001b[1;32m----> <a href='vscode-notebook-cell:/c%3A/Users/sterg/Documents/GitHub/sparks-baird/AxForChemistry/tutorials/multi_objective_example.ipynb#ch0000016?line=1'>2</a>\u001b[0m sobol_df, ax_sobol \u001b[39m=\u001b[39m form\u001b[39m.\u001b[39;49mtrain_and_sobol()\n\u001b[0;32m      <a href='vscode-notebook-cell:/c%3A/Users/sterg/Documents/GitHub/sparks-baird/AxForChemistry/tutorials/multi_objective_example.ipynb#ch0000016?line=2'>3</a>\u001b[0m model \u001b[39m=\u001b[39m form\u001b[39m.\u001b[39mpre_sobol_model\n\u001b[0;32m      <a href='vscode-notebook-cell:/c%3A/Users/sterg/Documents/GitHub/sparks-baird/AxForChemistry/tutorials/multi_objective_example.ipynb#ch0000016?line=3'>4</a>\u001b[0m sobol_df\n",
            "File \u001b[1;32m~\\Documents\\GitHub\\sparks-baird\\AxForChemistry\\axforchemistry\\axforchemistry_.py:205\u001b[0m, in \u001b[0;36mFormulationOptimization.train_and_sobol\u001b[1;34m(self)\u001b[0m\n\u001b[0;32m    <a href='file:///c%3A/Users/sterg/Documents/GitHub/sparks-baird/AxForChemistry/axforchemistry/axforchemistry_.py?line=187'>188</a>\u001b[0m attach_training_data(\n\u001b[0;32m    <a href='file:///c%3A/Users/sterg/Documents/GitHub/sparks-baird/AxForChemistry/axforchemistry/axforchemistry_.py?line=188'>189</a>\u001b[0m     \u001b[39mself\u001b[39m\u001b[39m.\u001b[39mX_train,\n\u001b[0;32m    <a href='file:///c%3A/Users/sterg/Documents/GitHub/sparks-baird/AxForChemistry/axforchemistry/axforchemistry_.py?line=189'>190</a>\u001b[0m     \u001b[39mself\u001b[39m\u001b[39m.\u001b[39my_train,\n\u001b[1;32m   (...)\u001b[0m\n\u001b[0;32m    <a href='file:///c%3A/Users/sterg/Documents/GitHub/sparks-baird/AxForChemistry/axforchemistry/axforchemistry_.py?line=193'>194</a>\u001b[0m     drop_last\u001b[39m=\u001b[39m\u001b[39mFalse\u001b[39;00m,\n\u001b[0;32m    <a href='file:///c%3A/Users/sterg/Documents/GitHub/sparks-baird/AxForChemistry/axforchemistry/axforchemistry_.py?line=194'>195</a>\u001b[0m )\n\u001b[0;32m    <a href='file:///c%3A/Users/sterg/Documents/GitHub/sparks-baird/AxForChemistry/axforchemistry/axforchemistry_.py?line=196'>197</a>\u001b[0m \u001b[39m# Sobol data accounts for the bias introduced when reparameterizing:\u001b[39;00m\n\u001b[0;32m    <a href='file:///c%3A/Users/sterg/Documents/GitHub/sparks-baird/AxForChemistry/axforchemistry/axforchemistry_.py?line=197'>198</a>\u001b[0m \u001b[39m# x_1 + x_2 + ... + x_n == 1.0 --> x_1 + x_2 + ... + x_{n-1} <= 1.0\u001b[39;00m\n\u001b[0;32m    <a href='file:///c%3A/Users/sterg/Documents/GitHub/sparks-baird/AxForChemistry/axforchemistry/axforchemistry_.py?line=198'>199</a>\u001b[0m (\n\u001b[0;32m    <a href='file:///c%3A/Users/sterg/Documents/GitHub/sparks-baird/AxForChemistry/axforchemistry/axforchemistry_.py?line=199'>200</a>\u001b[0m     \u001b[39mself\u001b[39m\u001b[39m.\u001b[39msobol_preds,\n\u001b[0;32m    <a href='file:///c%3A/Users/sterg/Documents/GitHub/sparks-baird/AxForChemistry/axforchemistry/axforchemistry_.py?line=200'>201</a>\u001b[0m     \u001b[39mself\u001b[39m\u001b[39m.\u001b[39msobol_stds,\n\u001b[0;32m    <a href='file:///c%3A/Users/sterg/Documents/GitHub/sparks-baird/AxForChemistry/axforchemistry/axforchemistry_.py?line=201'>202</a>\u001b[0m     \u001b[39mself\u001b[39m\u001b[39m.\u001b[39msobol_experiments,\n\u001b[0;32m    <a href='file:///c%3A/Users/sterg/Documents/GitHub/sparks-baird/AxForChemistry/axforchemistry/axforchemistry_.py?line=202'>203</a>\u001b[0m     \u001b[39mself\u001b[39m\u001b[39m.\u001b[39msobol_trial_indices,\n\u001b[0;32m    <a href='file:///c%3A/Users/sterg/Documents/GitHub/sparks-baird/AxForChemistry/axforchemistry/axforchemistry_.py?line=203'>204</a>\u001b[0m     \u001b[39mself\u001b[39m\u001b[39m.\u001b[39mpre_sobol_model,\n\u001b[1;32m--> <a href='file:///c%3A/Users/sterg/Documents/GitHub/sparks-baird/AxForChemistry/axforchemistry/axforchemistry_.py?line=204'>205</a>\u001b[0m ) \u001b[39m=\u001b[39m generate_sobol_experiments(\n\u001b[0;32m    <a href='file:///c%3A/Users/sterg/Documents/GitHub/sparks-baird/AxForChemistry/axforchemistry/axforchemistry_.py?line=205'>206</a>\u001b[0m     \u001b[39mself\u001b[39;49m\u001b[39m.\u001b[39;49mtarget_name,\n\u001b[0;32m    <a href='file:///c%3A/Users/sterg/Documents/GitHub/sparks-baird/AxForChemistry/axforchemistry/axforchemistry_.py?line=206'>207</a>\u001b[0m     \u001b[39mself\u001b[39;49m\u001b[39m.\u001b[39;49mn_sobol,\n\u001b[0;32m    <a href='file:///c%3A/Users/sterg/Documents/GitHub/sparks-baird/AxForChemistry/axforchemistry/axforchemistry_.py?line=207'>208</a>\u001b[0m     \u001b[39mself\u001b[39;49m\u001b[39m.\u001b[39;49max_sobol,\n\u001b[0;32m    <a href='file:///c%3A/Users/sterg/Documents/GitHub/sparks-baird/AxForChemistry/axforchemistry/axforchemistry_.py?line=208'>209</a>\u001b[0m     tkwargs\u001b[39m=\u001b[39;49m\u001b[39mself\u001b[39;49m\u001b[39m.\u001b[39;49mtkwargs,\n\u001b[0;32m    <a href='file:///c%3A/Users/sterg/Documents/GitHub/sparks-baird/AxForChemistry/axforchemistry/axforchemistry_.py?line=209'>210</a>\u001b[0m     num_samples\u001b[39m=\u001b[39;49m\u001b[39mself\u001b[39;49m\u001b[39m.\u001b[39;49mnum_samples,\n\u001b[0;32m    <a href='file:///c%3A/Users/sterg/Documents/GitHub/sparks-baird/AxForChemistry/axforchemistry/axforchemistry_.py?line=210'>211</a>\u001b[0m     warmup_steps\u001b[39m=\u001b[39;49m\u001b[39mself\u001b[39;49m\u001b[39m.\u001b[39;49mwarmup_steps,\n\u001b[0;32m    <a href='file:///c%3A/Users/sterg/Documents/GitHub/sparks-baird/AxForChemistry/axforchemistry/axforchemistry_.py?line=211'>212</a>\u001b[0m )\n\u001b[0;32m    <a href='file:///c%3A/Users/sterg/Documents/GitHub/sparks-baird/AxForChemistry/axforchemistry/axforchemistry_.py?line=213'>214</a>\u001b[0m \u001b[39mself\u001b[39m\u001b[39m.\u001b[39msobol_df \u001b[39m=\u001b[39m save_output_dataframe(\n\u001b[0;32m    <a href='file:///c%3A/Users/sterg/Documents/GitHub/sparks-baird/AxForChemistry/axforchemistry/axforchemistry_.py?line=214'>215</a>\u001b[0m     \u001b[39mself\u001b[39m\u001b[39m.\u001b[39msobol_preds,\n\u001b[0;32m    <a href='file:///c%3A/Users/sterg/Documents/GitHub/sparks-baird/AxForChemistry/axforchemistry/axforchemistry_.py?line=215'>216</a>\u001b[0m     \u001b[39mself\u001b[39m\u001b[39m.\u001b[39msobol_stds,\n\u001b[1;32m   (...)\u001b[0m\n\u001b[0;32m    <a href='file:///c%3A/Users/sterg/Documents/GitHub/sparks-baird/AxForChemistry/axforchemistry/axforchemistry_.py?line=219'>220</a>\u001b[0m     \u001b[39m\"\u001b[39m\u001b[39msobol.csv\u001b[39m\u001b[39m\"\u001b[39m,\n\u001b[0;32m    <a href='file:///c%3A/Users/sterg/Documents/GitHub/sparks-baird/AxForChemistry/axforchemistry/axforchemistry_.py?line=220'>221</a>\u001b[0m )\n\u001b[0;32m    <a href='file:///c%3A/Users/sterg/Documents/GitHub/sparks-baird/AxForChemistry/axforchemistry/axforchemistry_.py?line=222'>223</a>\u001b[0m \u001b[39mself\u001b[39m\u001b[39m.\u001b[39max_sobol\u001b[39m.\u001b[39msave_to_json_file(path\u001b[39m.\u001b[39mjoin(\u001b[39mself\u001b[39m\u001b[39m.\u001b[39mexp_dir, \u001b[39m\"\u001b[39m\u001b[39msobol.json\u001b[39m\u001b[39m\"\u001b[39m))\n",
            "File \u001b[1;32m~\\Documents\\GitHub\\sparks-baird\\AxForChemistry\\axforchemistry\\utils\\experiment.py:45\u001b[0m, in \u001b[0;36mgenerate_sobol_experiments\u001b[1;34m(target_name, n_sobol, ax_sobol, tkwargs, num_samples, warmup_steps)\u001b[0m\n\u001b[0;32m     <a href='file:///c%3A/Users/sterg/Documents/GitHub/sparks-baird/AxForChemistry/axforchemistry/utils/experiment.py?line=38'>39</a>\u001b[0m     tkwargs \u001b[39m=\u001b[39m {\n\u001b[0;32m     <a href='file:///c%3A/Users/sterg/Documents/GitHub/sparks-baird/AxForChemistry/axforchemistry/utils/experiment.py?line=39'>40</a>\u001b[0m         \u001b[39m\"\u001b[39m\u001b[39mdtype\u001b[39m\u001b[39m\"\u001b[39m: torch\u001b[39m.\u001b[39mfloat32,\n\u001b[0;32m     <a href='file:///c%3A/Users/sterg/Documents/GitHub/sparks-baird/AxForChemistry/axforchemistry/utils/experiment.py?line=40'>41</a>\u001b[0m         \u001b[39m\"\u001b[39m\u001b[39mdevice\u001b[39m\u001b[39m\"\u001b[39m: torch\u001b[39m.\u001b[39mdevice(\u001b[39m\"\u001b[39m\u001b[39mcuda\u001b[39m\u001b[39m\"\u001b[39m \u001b[39mif\u001b[39;00m torch\u001b[39m.\u001b[39mcuda\u001b[39m.\u001b[39mis_available() \u001b[39melse\u001b[39;00m \u001b[39m\"\u001b[39m\u001b[39mcpu\u001b[39m\u001b[39m\"\u001b[39m),\n\u001b[0;32m     <a href='file:///c%3A/Users/sterg/Documents/GitHub/sparks-baird/AxForChemistry/axforchemistry/utils/experiment.py?line=41'>42</a>\u001b[0m     }\n\u001b[0;32m     <a href='file:///c%3A/Users/sterg/Documents/GitHub/sparks-baird/AxForChemistry/axforchemistry/utils/experiment.py?line=43'>44</a>\u001b[0m \u001b[39m# Only used for getting predictions, not used to affect Sobol points in any way\u001b[39;00m\n\u001b[1;32m---> <a href='file:///c%3A/Users/sterg/Documents/GitHub/sparks-baird/AxForChemistry/axforchemistry/utils/experiment.py?line=44'>45</a>\u001b[0m model \u001b[39m=\u001b[39m Models\u001b[39m.\u001b[39;49mFULLYBAYESIAN(\n\u001b[0;32m     <a href='file:///c%3A/Users/sterg/Documents/GitHub/sparks-baird/AxForChemistry/axforchemistry/utils/experiment.py?line=45'>46</a>\u001b[0m     experiment\u001b[39m=\u001b[39;49max_sobol\u001b[39m.\u001b[39;49mexperiment,\n\u001b[0;32m     <a href='file:///c%3A/Users/sterg/Documents/GitHub/sparks-baird/AxForChemistry/axforchemistry/utils/experiment.py?line=46'>47</a>\u001b[0m     data\u001b[39m=\u001b[39;49max_sobol\u001b[39m.\u001b[39;49mexperiment\u001b[39m.\u001b[39;49mlookup_data(),\n\u001b[0;32m     <a href='file:///c%3A/Users/sterg/Documents/GitHub/sparks-baird/AxForChemistry/axforchemistry/utils/experiment.py?line=47'>48</a>\u001b[0m     num_samples\u001b[39m=\u001b[39;49mnum_samples,  \u001b[39m# Increasing this may result in better model fits\u001b[39;49;00m\n\u001b[0;32m     <a href='file:///c%3A/Users/sterg/Documents/GitHub/sparks-baird/AxForChemistry/axforchemistry/utils/experiment.py?line=48'>49</a>\u001b[0m     warmup_steps\u001b[39m=\u001b[39;49mwarmup_steps,  \u001b[39m# Increasing this may result in better model fits\u001b[39;49;00m\n\u001b[0;32m     <a href='file:///c%3A/Users/sterg/Documents/GitHub/sparks-baird/AxForChemistry/axforchemistry/utils/experiment.py?line=49'>50</a>\u001b[0m     gp_kernel\u001b[39m=\u001b[39;49m\u001b[39m\"\u001b[39;49m\u001b[39mrbf\u001b[39;49m\u001b[39m\"\u001b[39;49m,  \u001b[39m# \"rbf\" is the default in the paper, but we also support \"matern\"\u001b[39;49;00m\n\u001b[0;32m     <a href='file:///c%3A/Users/sterg/Documents/GitHub/sparks-baird/AxForChemistry/axforchemistry/utils/experiment.py?line=50'>51</a>\u001b[0m     torch_device\u001b[39m=\u001b[39;49mtkwargs[\u001b[39m\"\u001b[39;49m\u001b[39mdevice\u001b[39;49m\u001b[39m\"\u001b[39;49m],\n\u001b[0;32m     <a href='file:///c%3A/Users/sterg/Documents/GitHub/sparks-baird/AxForChemistry/axforchemistry/utils/experiment.py?line=51'>52</a>\u001b[0m     torch_dtype\u001b[39m=\u001b[39;49mtkwargs[\u001b[39m\"\u001b[39;49m\u001b[39mdtype\u001b[39;49m\u001b[39m\"\u001b[39;49m],\n\u001b[0;32m     <a href='file:///c%3A/Users/sterg/Documents/GitHub/sparks-baird/AxForChemistry/axforchemistry/utils/experiment.py?line=52'>53</a>\u001b[0m     verbose\u001b[39m=\u001b[39;49m\u001b[39mFalse\u001b[39;49;00m,  \u001b[39m# Set to True to print stats from MCMC\u001b[39;49;00m\n\u001b[0;32m     <a href='file:///c%3A/Users/sterg/Documents/GitHub/sparks-baird/AxForChemistry/axforchemistry/utils/experiment.py?line=53'>54</a>\u001b[0m     disable_progbar\u001b[39m=\u001b[39;49m\u001b[39mFalse\u001b[39;49;00m,  \u001b[39m# Set to False to print a progress bar from MCMC\u001b[39;49;00m\n\u001b[0;32m     <a href='file:///c%3A/Users/sterg/Documents/GitHub/sparks-baird/AxForChemistry/axforchemistry/utils/experiment.py?line=54'>55</a>\u001b[0m )\n\u001b[0;32m     <a href='file:///c%3A/Users/sterg/Documents/GitHub/sparks-baird/AxForChemistry/axforchemistry/utils/experiment.py?line=56'>57</a>\u001b[0m y_preds \u001b[39m=\u001b[39m []\n\u001b[0;32m     <a href='file:///c%3A/Users/sterg/Documents/GitHub/sparks-baird/AxForChemistry/axforchemistry/utils/experiment.py?line=57'>58</a>\u001b[0m y_stds \u001b[39m=\u001b[39m []\n",
            "File \u001b[1;32m~\\Miniconda3\\envs\\axforchemistry\\lib\\site-packages\\ax\\modelbridge\\registry.py:342\u001b[0m, in \u001b[0;36mModelRegistryBase.__call__\u001b[1;34m(self, search_space, experiment, data, silently_filter_kwargs, **kwargs)\u001b[0m\n\u001b[0;32m    <a href='file:///c%3A/Users/sterg/Miniconda3/envs/axforchemistry/lib/site-packages/ax/modelbridge/registry.py?line=328'>329</a>\u001b[0m bridge_kwargs \u001b[39m=\u001b[39m consolidate_kwargs(\n\u001b[0;32m    <a href='file:///c%3A/Users/sterg/Miniconda3/envs/axforchemistry/lib/site-packages/ax/modelbridge/registry.py?line=329'>330</a>\u001b[0m     kwargs_iterable\u001b[39m=\u001b[39m[\n\u001b[0;32m    <a href='file:///c%3A/Users/sterg/Miniconda3/envs/axforchemistry/lib/site-packages/ax/modelbridge/registry.py?line=330'>331</a>\u001b[0m         get_function_default_arguments(bridge_class),\n\u001b[1;32m   (...)\u001b[0m\n\u001b[0;32m    <a href='file:///c%3A/Users/sterg/Miniconda3/envs/axforchemistry/lib/site-packages/ax/modelbridge/registry.py?line=337'>338</a>\u001b[0m     ),\n\u001b[0;32m    <a href='file:///c%3A/Users/sterg/Miniconda3/envs/axforchemistry/lib/site-packages/ax/modelbridge/registry.py?line=338'>339</a>\u001b[0m )\n\u001b[0;32m    <a href='file:///c%3A/Users/sterg/Miniconda3/envs/axforchemistry/lib/site-packages/ax/modelbridge/registry.py?line=340'>341</a>\u001b[0m \u001b[39m# Create model bridge with the consolidated kwargs.\u001b[39;00m\n\u001b[1;32m--> <a href='file:///c%3A/Users/sterg/Miniconda3/envs/axforchemistry/lib/site-packages/ax/modelbridge/registry.py?line=341'>342</a>\u001b[0m model_bridge \u001b[39m=\u001b[39m bridge_class(\n\u001b[0;32m    <a href='file:///c%3A/Users/sterg/Miniconda3/envs/axforchemistry/lib/site-packages/ax/modelbridge/registry.py?line=342'>343</a>\u001b[0m     search_space\u001b[39m=\u001b[39msearch_space \u001b[39mor\u001b[39;00m not_none(experiment)\u001b[39m.\u001b[39msearch_space,\n\u001b[0;32m    <a href='file:///c%3A/Users/sterg/Miniconda3/envs/axforchemistry/lib/site-packages/ax/modelbridge/registry.py?line=343'>344</a>\u001b[0m     experiment\u001b[39m=\u001b[39mexperiment,\n\u001b[0;32m    <a href='file:///c%3A/Users/sterg/Miniconda3/envs/axforchemistry/lib/site-packages/ax/modelbridge/registry.py?line=344'>345</a>\u001b[0m     data\u001b[39m=\u001b[39mdata,\n\u001b[0;32m    <a href='file:///c%3A/Users/sterg/Miniconda3/envs/axforchemistry/lib/site-packages/ax/modelbridge/registry.py?line=345'>346</a>\u001b[0m     model\u001b[39m=\u001b[39mmodel,\n\u001b[0;32m    <a href='file:///c%3A/Users/sterg/Miniconda3/envs/axforchemistry/lib/site-packages/ax/modelbridge/registry.py?line=346'>347</a>\u001b[0m     \u001b[39m*\u001b[39m\u001b[39m*\u001b[39mbridge_kwargs,\n\u001b[0;32m    <a href='file:///c%3A/Users/sterg/Miniconda3/envs/axforchemistry/lib/site-packages/ax/modelbridge/registry.py?line=347'>348</a>\u001b[0m )\n\u001b[0;32m    <a href='file:///c%3A/Users/sterg/Miniconda3/envs/axforchemistry/lib/site-packages/ax/modelbridge/registry.py?line=349'>350</a>\u001b[0m \u001b[39mif\u001b[39;00m model_setup_info\u001b[39m.\u001b[39mnot_saved_model_kwargs:\n\u001b[0;32m    <a href='file:///c%3A/Users/sterg/Miniconda3/envs/axforchemistry/lib/site-packages/ax/modelbridge/registry.py?line=350'>351</a>\u001b[0m     \u001b[39mfor\u001b[39;00m key \u001b[39min\u001b[39;00m model_setup_info\u001b[39m.\u001b[39mnot_saved_model_kwargs:\n",
            "File \u001b[1;32m~\\Miniconda3\\envs\\axforchemistry\\lib\\site-packages\\ax\\modelbridge\\torch.py:99\u001b[0m, in \u001b[0;36mTorchModelBridge.__init__\u001b[1;34m(self, experiment, search_space, data, model, transforms, transform_configs, torch_dtype, torch_device, status_quo_name, status_quo_features, optimization_config, fit_out_of_design, objective_thresholds, default_model_gen_options)\u001b[0m\n\u001b[0;32m     <a href='file:///c%3A/Users/sterg/Miniconda3/envs/axforchemistry/lib/site-packages/ax/modelbridge/torch.py?line=91'>92</a>\u001b[0m     optimization_config \u001b[39m=\u001b[39m checked_cast(\n\u001b[0;32m     <a href='file:///c%3A/Users/sterg/Miniconda3/envs/axforchemistry/lib/site-packages/ax/modelbridge/torch.py?line=92'>93</a>\u001b[0m         MultiObjectiveOptimizationConfig, optimization_config\n\u001b[0;32m     <a href='file:///c%3A/Users/sterg/Miniconda3/envs/axforchemistry/lib/site-packages/ax/modelbridge/torch.py?line=93'>94</a>\u001b[0m     )\n\u001b[0;32m     <a href='file:///c%3A/Users/sterg/Miniconda3/envs/axforchemistry/lib/site-packages/ax/modelbridge/torch.py?line=94'>95</a>\u001b[0m     optimization_config \u001b[39m=\u001b[39m optimization_config\u001b[39m.\u001b[39mclone_with_args(\n\u001b[0;32m     <a href='file:///c%3A/Users/sterg/Miniconda3/envs/axforchemistry/lib/site-packages/ax/modelbridge/torch.py?line=95'>96</a>\u001b[0m         objective_thresholds\u001b[39m=\u001b[39mobjective_thresholds\n\u001b[0;32m     <a href='file:///c%3A/Users/sterg/Miniconda3/envs/axforchemistry/lib/site-packages/ax/modelbridge/torch.py?line=96'>97</a>\u001b[0m     )\n\u001b[1;32m---> <a href='file:///c%3A/Users/sterg/Miniconda3/envs/axforchemistry/lib/site-packages/ax/modelbridge/torch.py?line=98'>99</a>\u001b[0m \u001b[39msuper\u001b[39;49m()\u001b[39m.\u001b[39;49m\u001b[39m__init__\u001b[39;49m(\n\u001b[0;32m    <a href='file:///c%3A/Users/sterg/Miniconda3/envs/axforchemistry/lib/site-packages/ax/modelbridge/torch.py?line=99'>100</a>\u001b[0m     experiment\u001b[39m=\u001b[39;49mexperiment,\n\u001b[0;32m    <a href='file:///c%3A/Users/sterg/Miniconda3/envs/axforchemistry/lib/site-packages/ax/modelbridge/torch.py?line=100'>101</a>\u001b[0m     search_space\u001b[39m=\u001b[39;49msearch_space,\n\u001b[0;32m    <a href='file:///c%3A/Users/sterg/Miniconda3/envs/axforchemistry/lib/site-packages/ax/modelbridge/torch.py?line=101'>102</a>\u001b[0m     data\u001b[39m=\u001b[39;49mdata,\n\u001b[0;32m    <a href='file:///c%3A/Users/sterg/Miniconda3/envs/axforchemistry/lib/site-packages/ax/modelbridge/torch.py?line=102'>103</a>\u001b[0m     model\u001b[39m=\u001b[39;49mmodel,\n\u001b[0;32m    <a href='file:///c%3A/Users/sterg/Miniconda3/envs/axforchemistry/lib/site-packages/ax/modelbridge/torch.py?line=103'>104</a>\u001b[0m     transforms\u001b[39m=\u001b[39;49mtransforms,\n\u001b[0;32m    <a href='file:///c%3A/Users/sterg/Miniconda3/envs/axforchemistry/lib/site-packages/ax/modelbridge/torch.py?line=104'>105</a>\u001b[0m     transform_configs\u001b[39m=\u001b[39;49mtransform_configs,\n\u001b[0;32m    <a href='file:///c%3A/Users/sterg/Miniconda3/envs/axforchemistry/lib/site-packages/ax/modelbridge/torch.py?line=105'>106</a>\u001b[0m     status_quo_name\u001b[39m=\u001b[39;49mstatus_quo_name,\n\u001b[0;32m    <a href='file:///c%3A/Users/sterg/Miniconda3/envs/axforchemistry/lib/site-packages/ax/modelbridge/torch.py?line=106'>107</a>\u001b[0m     status_quo_features\u001b[39m=\u001b[39;49mstatus_quo_features,\n\u001b[0;32m    <a href='file:///c%3A/Users/sterg/Miniconda3/envs/axforchemistry/lib/site-packages/ax/modelbridge/torch.py?line=107'>108</a>\u001b[0m     optimization_config\u001b[39m=\u001b[39;49moptimization_config,\n\u001b[0;32m    <a href='file:///c%3A/Users/sterg/Miniconda3/envs/axforchemistry/lib/site-packages/ax/modelbridge/torch.py?line=108'>109</a>\u001b[0m     fit_out_of_design\u001b[39m=\u001b[39;49mfit_out_of_design,\n\u001b[0;32m    <a href='file:///c%3A/Users/sterg/Miniconda3/envs/axforchemistry/lib/site-packages/ax/modelbridge/torch.py?line=109'>110</a>\u001b[0m )\n",
            "File \u001b[1;32m~\\Miniconda3\\envs\\axforchemistry\\lib\\site-packages\\ax\\modelbridge\\base.py:170\u001b[0m, in \u001b[0;36mModelBridge.__init__\u001b[1;34m(self, search_space, model, transforms, experiment, data, transform_configs, status_quo_name, status_quo_features, optimization_config, fit_out_of_design, fit_abandoned)\u001b[0m\n\u001b[0;32m    <a href='file:///c%3A/Users/sterg/Miniconda3/envs/axforchemistry/lib/site-packages/ax/modelbridge/base.py?line=162'>163</a>\u001b[0m \u001b[39m# Set model status quo\u001b[39;00m\n\u001b[0;32m    <a href='file:///c%3A/Users/sterg/Miniconda3/envs/axforchemistry/lib/site-packages/ax/modelbridge/base.py?line=163'>164</a>\u001b[0m \u001b[39m# NOTE: training data must be set before setting the status quo.\u001b[39;00m\n\u001b[0;32m    <a href='file:///c%3A/Users/sterg/Miniconda3/envs/axforchemistry/lib/site-packages/ax/modelbridge/base.py?line=164'>165</a>\u001b[0m \u001b[39mself\u001b[39m\u001b[39m.\u001b[39m_set_status_quo(\n\u001b[0;32m    <a href='file:///c%3A/Users/sterg/Miniconda3/envs/axforchemistry/lib/site-packages/ax/modelbridge/base.py?line=165'>166</a>\u001b[0m     experiment\u001b[39m=\u001b[39mexperiment,\n\u001b[0;32m    <a href='file:///c%3A/Users/sterg/Miniconda3/envs/axforchemistry/lib/site-packages/ax/modelbridge/base.py?line=166'>167</a>\u001b[0m     status_quo_name\u001b[39m=\u001b[39mstatus_quo_name,\n\u001b[0;32m    <a href='file:///c%3A/Users/sterg/Miniconda3/envs/axforchemistry/lib/site-packages/ax/modelbridge/base.py?line=167'>168</a>\u001b[0m     status_quo_features\u001b[39m=\u001b[39mstatus_quo_features,\n\u001b[0;32m    <a href='file:///c%3A/Users/sterg/Miniconda3/envs/axforchemistry/lib/site-packages/ax/modelbridge/base.py?line=168'>169</a>\u001b[0m )\n\u001b[1;32m--> <a href='file:///c%3A/Users/sterg/Miniconda3/envs/axforchemistry/lib/site-packages/ax/modelbridge/base.py?line=169'>170</a>\u001b[0m obs_feats, obs_data, search_space \u001b[39m=\u001b[39m \u001b[39mself\u001b[39;49m\u001b[39m.\u001b[39;49m_transform_data(\n\u001b[0;32m    <a href='file:///c%3A/Users/sterg/Miniconda3/envs/axforchemistry/lib/site-packages/ax/modelbridge/base.py?line=170'>171</a>\u001b[0m     obs_feats\u001b[39m=\u001b[39;49mobs_feats_raw,\n\u001b[0;32m    <a href='file:///c%3A/Users/sterg/Miniconda3/envs/axforchemistry/lib/site-packages/ax/modelbridge/base.py?line=171'>172</a>\u001b[0m     obs_data\u001b[39m=\u001b[39;49mobs_data_raw,\n\u001b[0;32m    <a href='file:///c%3A/Users/sterg/Miniconda3/envs/axforchemistry/lib/site-packages/ax/modelbridge/base.py?line=172'>173</a>\u001b[0m     search_space\u001b[39m=\u001b[39;49msearch_space,\n\u001b[0;32m    <a href='file:///c%3A/Users/sterg/Miniconda3/envs/axforchemistry/lib/site-packages/ax/modelbridge/base.py?line=173'>174</a>\u001b[0m     transforms\u001b[39m=\u001b[39;49mtransforms,\n\u001b[0;32m    <a href='file:///c%3A/Users/sterg/Miniconda3/envs/axforchemistry/lib/site-packages/ax/modelbridge/base.py?line=174'>175</a>\u001b[0m     transform_configs\u001b[39m=\u001b[39;49mtransform_configs,\n\u001b[0;32m    <a href='file:///c%3A/Users/sterg/Miniconda3/envs/axforchemistry/lib/site-packages/ax/modelbridge/base.py?line=175'>176</a>\u001b[0m )\n\u001b[0;32m    <a href='file:///c%3A/Users/sterg/Miniconda3/envs/axforchemistry/lib/site-packages/ax/modelbridge/base.py?line=177'>178</a>\u001b[0m \u001b[39m# Save model, apply terminal transform, and fit\u001b[39;00m\n\u001b[0;32m    <a href='file:///c%3A/Users/sterg/Miniconda3/envs/axforchemistry/lib/site-packages/ax/modelbridge/base.py?line=178'>179</a>\u001b[0m \u001b[39mself\u001b[39m\u001b[39m.\u001b[39mmodel \u001b[39m=\u001b[39m model\n",
            "File \u001b[1;32m~\\Miniconda3\\envs\\axforchemistry\\lib\\site-packages\\ax\\modelbridge\\base.py:209\u001b[0m, in \u001b[0;36mModelBridge._transform_data\u001b[1;34m(self, obs_feats, obs_data, search_space, transforms, transform_configs)\u001b[0m\n\u001b[0;32m    <a href='file:///c%3A/Users/sterg/Miniconda3/envs/axforchemistry/lib/site-packages/ax/modelbridge/base.py?line=205'>206</a>\u001b[0m     transform_configs \u001b[39m=\u001b[39m {}\n\u001b[0;32m    <a href='file:///c%3A/Users/sterg/Miniconda3/envs/axforchemistry/lib/site-packages/ax/modelbridge/base.py?line=207'>208</a>\u001b[0m \u001b[39mfor\u001b[39;00m t \u001b[39min\u001b[39;00m transforms:\n\u001b[1;32m--> <a href='file:///c%3A/Users/sterg/Miniconda3/envs/axforchemistry/lib/site-packages/ax/modelbridge/base.py?line=208'>209</a>\u001b[0m     t_instance \u001b[39m=\u001b[39m t(\n\u001b[0;32m    <a href='file:///c%3A/Users/sterg/Miniconda3/envs/axforchemistry/lib/site-packages/ax/modelbridge/base.py?line=209'>210</a>\u001b[0m         search_space\u001b[39m=\u001b[39;49msearch_space,\n\u001b[0;32m    <a href='file:///c%3A/Users/sterg/Miniconda3/envs/axforchemistry/lib/site-packages/ax/modelbridge/base.py?line=210'>211</a>\u001b[0m         observation_features\u001b[39m=\u001b[39;49mobs_feats,\n\u001b[0;32m    <a href='file:///c%3A/Users/sterg/Miniconda3/envs/axforchemistry/lib/site-packages/ax/modelbridge/base.py?line=211'>212</a>\u001b[0m         observation_data\u001b[39m=\u001b[39;49mobs_data,\n\u001b[0;32m    <a href='file:///c%3A/Users/sterg/Miniconda3/envs/axforchemistry/lib/site-packages/ax/modelbridge/base.py?line=212'>213</a>\u001b[0m         modelbridge\u001b[39m=\u001b[39;49m\u001b[39mself\u001b[39;49m,\n\u001b[0;32m    <a href='file:///c%3A/Users/sterg/Miniconda3/envs/axforchemistry/lib/site-packages/ax/modelbridge/base.py?line=213'>214</a>\u001b[0m         config\u001b[39m=\u001b[39;49mtransform_configs\u001b[39m.\u001b[39;49mget(t\u001b[39m.\u001b[39;49m\u001b[39m__name__\u001b[39;49m, \u001b[39mNone\u001b[39;49;00m),\n\u001b[0;32m    <a href='file:///c%3A/Users/sterg/Miniconda3/envs/axforchemistry/lib/site-packages/ax/modelbridge/base.py?line=214'>215</a>\u001b[0m     )\n\u001b[0;32m    <a href='file:///c%3A/Users/sterg/Miniconda3/envs/axforchemistry/lib/site-packages/ax/modelbridge/base.py?line=215'>216</a>\u001b[0m     search_space \u001b[39m=\u001b[39m t_instance\u001b[39m.\u001b[39mtransform_search_space(search_space)\n\u001b[0;32m    <a href='file:///c%3A/Users/sterg/Miniconda3/envs/axforchemistry/lib/site-packages/ax/modelbridge/base.py?line=216'>217</a>\u001b[0m     obs_feats \u001b[39m=\u001b[39m t_instance\u001b[39m.\u001b[39mtransform_observation_features(obs_feats)\n",
            "File \u001b[1;32m~\\Miniconda3\\envs\\axforchemistry\\lib\\site-packages\\ax\\modelbridge\\transforms\\standardize_y.py:44\u001b[0m, in \u001b[0;36mStandardizeY.__init__\u001b[1;34m(self, search_space, observation_features, observation_data, modelbridge, config)\u001b[0m\n\u001b[0;32m     <a href='file:///c%3A/Users/sterg/Miniconda3/envs/axforchemistry/lib/site-packages/ax/modelbridge/transforms/standardize_y.py?line=34'>35</a>\u001b[0m \u001b[39mdef\u001b[39;00m \u001b[39m__init__\u001b[39m(\n\u001b[0;32m     <a href='file:///c%3A/Users/sterg/Miniconda3/envs/axforchemistry/lib/site-packages/ax/modelbridge/transforms/standardize_y.py?line=35'>36</a>\u001b[0m     \u001b[39mself\u001b[39m,\n\u001b[0;32m     <a href='file:///c%3A/Users/sterg/Miniconda3/envs/axforchemistry/lib/site-packages/ax/modelbridge/transforms/standardize_y.py?line=36'>37</a>\u001b[0m     search_space: SearchSpace,\n\u001b[1;32m   (...)\u001b[0m\n\u001b[0;32m     <a href='file:///c%3A/Users/sterg/Miniconda3/envs/axforchemistry/lib/site-packages/ax/modelbridge/transforms/standardize_y.py?line=40'>41</a>\u001b[0m     config: Optional[TConfig] \u001b[39m=\u001b[39m \u001b[39mNone\u001b[39;00m,\n\u001b[0;32m     <a href='file:///c%3A/Users/sterg/Miniconda3/envs/axforchemistry/lib/site-packages/ax/modelbridge/transforms/standardize_y.py?line=41'>42</a>\u001b[0m ) \u001b[39m-\u001b[39m\u001b[39m>\u001b[39m \u001b[39mNone\u001b[39;00m:\n\u001b[0;32m     <a href='file:///c%3A/Users/sterg/Miniconda3/envs/axforchemistry/lib/site-packages/ax/modelbridge/transforms/standardize_y.py?line=42'>43</a>\u001b[0m     \u001b[39mif\u001b[39;00m \u001b[39mlen\u001b[39m(observation_data) \u001b[39m==\u001b[39m \u001b[39m0\u001b[39m:\n\u001b[1;32m---> <a href='file:///c%3A/Users/sterg/Miniconda3/envs/axforchemistry/lib/site-packages/ax/modelbridge/transforms/standardize_y.py?line=43'>44</a>\u001b[0m         \u001b[39mraise\u001b[39;00m \u001b[39mValueError\u001b[39;00m(\n\u001b[0;32m     <a href='file:///c%3A/Users/sterg/Miniconda3/envs/axforchemistry/lib/site-packages/ax/modelbridge/transforms/standardize_y.py?line=44'>45</a>\u001b[0m             \u001b[39m\"\u001b[39m\u001b[39mStandardizeY transform requires non-empty observation data.\u001b[39m\u001b[39m\"\u001b[39m\n\u001b[0;32m     <a href='file:///c%3A/Users/sterg/Miniconda3/envs/axforchemistry/lib/site-packages/ax/modelbridge/transforms/standardize_y.py?line=45'>46</a>\u001b[0m         )\n\u001b[0;32m     <a href='file:///c%3A/Users/sterg/Miniconda3/envs/axforchemistry/lib/site-packages/ax/modelbridge/transforms/standardize_y.py?line=46'>47</a>\u001b[0m     Ys \u001b[39m=\u001b[39m get_data(observation_data\u001b[39m=\u001b[39mobservation_data)\n\u001b[0;32m     <a href='file:///c%3A/Users/sterg/Miniconda3/envs/axforchemistry/lib/site-packages/ax/modelbridge/transforms/standardize_y.py?line=47'>48</a>\u001b[0m     \u001b[39m# Compute means and SDs\u001b[39;00m\n\u001b[0;32m     <a href='file:///c%3A/Users/sterg/Miniconda3/envs/axforchemistry/lib/site-packages/ax/modelbridge/transforms/standardize_y.py?line=48'>49</a>\u001b[0m     \u001b[39m# pyre-fixme[6]: Expected `DefaultDict[Union[str, Tuple[str, Optional[Union[b...\u001b[39;00m\n",
            "\u001b[1;31mValueError\u001b[0m: StandardizeY transform requires non-empty observation data."
          ]
        }
      ],
      "source": [
        "print(\"generating Sobol candidates and saving to .csv\")\n",
        "sobol_df, ax_sobol = form.train_and_sobol()\n",
        "model = form.pre_sobol_model\n",
        "sobol_df\n"
      ]
    },
    {
      "cell_type": "markdown",
      "metadata": {
        "id": "DXAfKL4vCZ7w"
      },
      "source": [
        "### Plotting"
      ]
    },
    {
      "cell_type": "markdown",
      "metadata": {
        "id": "XlIv2bQgCZ7w"
      },
      "source": [
        "Now, we take a look at the cross-validation (CV) results for the SAASBO model using\n",
        "the existing training data that was supplied to the model."
      ]
    },
    {
      "cell_type": "code",
      "execution_count": null,
      "metadata": {
        "id": "w1L2t7jcCZ7x"
      },
      "outputs": [],
      "source": [
        "figdir2 = path.join(figdir, \"pre-sobol\")\n",
        "cv_results, fig, tile_fig = cv_plot(\n",
        "    model,\n",
        "    figdir=figdir2,\n",
        "    fname=\"moo-cv\",\n",
        "    matplotlibify_kwargs=dict(height_inches=7.0, width_inches=7.0),\n",
        ")\n"
      ]
    },
    {
      "cell_type": "markdown",
      "metadata": {
        "id": "j0eeuHoSCZ7x"
      },
      "source": [
        "## Bayesian candidates"
      ]
    },
    {
      "cell_type": "markdown",
      "metadata": {
        "id": "Z_hJ0fDoCZ7y"
      },
      "source": [
        "### First iteration\n",
        "After completing the Sobol experiments (e.g. via wetlab synthesis and characterization)\n",
        "and recording the measured objectives along with all of the available training data\n",
        "within the `post_sobol_fname` file (e.g. `post-sobol-moo-fake.csv`), run the following cell\n",
        "to generate the first batch of SAASBO Bayesian optimization candidates. The process is\n",
        "then repeated: perform the suggested (real-world) experiments and run the script again\n",
        "to get another batch of suggested candidates. This is meant to be an offline, manual\n",
        "process geared towards manual experimental wetlab synthesis and characterization, though\n",
        "more automated options exist."
      ]
    },
    {
      "cell_type": "code",
      "execution_count": null,
      "metadata": {
        "id": "IwFoLiFlCZ7y"
      },
      "outputs": [],
      "source": [
        "print(\"generating Bayes candidates and saving to .csv\")\n",
        "bayes_df, ax_bayes = form.bayes_opt()\n",
        "model = ax_bayes.generation_strategy.model\n",
        "bayes_df\n"
      ]
    },
    {
      "cell_type": "markdown",
      "metadata": {
        "id": "s4_ctiOECZ7y"
      },
      "source": [
        "At this point, you will run the SAASBO suggested experiments. Note that you are free\n",
        "to run all of them, downselect, or modify the values of individual experiments, but if\n",
        "you add or remove any parameters, these need to be represented for all variables. In the\n",
        "case of a formulation where you decide to include a new component (e.g. a chemical that\n",
        "you haven't used before), this is easy; simply add a column with `0.0` everywhere except\n",
        "where you used the new chemical."
      ]
    },
    {
      "cell_type": "markdown",
      "metadata": {
        "id": "kQaS4J2fCZ7z"
      },
      "source": [
        "### Plotting"
      ]
    },
    {
      "cell_type": "markdown",
      "metadata": {
        "id": "tK-ZGKjGCZ7z"
      },
      "source": [
        "We can take a look at the cross-validation (CV) results for the SAASBO model using\n",
        "whatever fully recorded data was made available to the model (i.e. existing training\n",
        "data and Sobol data)."
      ]
    },
    {
      "cell_type": "code",
      "execution_count": null,
      "metadata": {
        "id": "79ld1kNKCZ70"
      },
      "outputs": [],
      "source": [
        "figdir2 = path.join(figdir, \"post-sobol\")\n",
        "cv_results, fig, tile_fig = cv_plot(\n",
        "    model,\n",
        "    figdir=figdir,\n",
        "    fname=\"moo-cv\",\n",
        "    matplotlibify_kwargs=dict(height_inches=7.0, width_inches=7.0),\n",
        ")"
      ]
    },
    {
      "cell_type": "markdown",
      "metadata": {
        "id": "vyZuWdgWCZ70"
      },
      "source": [
        "### Second iteration\n",
        "Once you have finished running the experiments and have\n",
        "updated the `post_sobol_fname` file (e.g. `post-sobol-moo-fake.csv`), then you can run\n",
        "the second iteration of SAASBO suggested experiments."
      ]
    },
    {
      "cell_type": "code",
      "execution_count": null,
      "metadata": {
        "id": "LT9HcnJECZ71"
      },
      "outputs": [],
      "source": [
        "# ensure that `post_sobol_fname` file was updated with the new information.\n",
        "print(\"generating Bayes candidates and saving to .csv\")\n",
        "bayes_df, ax_bayes = form.bayes_opt()\n",
        "model = ax_bayes.generation_strategy.model\n",
        "bayes_df\n"
      ]
    },
    {
      "cell_type": "markdown",
      "metadata": {
        "id": "sgupbfvpCZ71"
      },
      "source": [
        "### Plotting"
      ]
    },
    {
      "cell_type": "markdown",
      "metadata": {
        "id": "aItPmSZGCZ71"
      },
      "source": [
        "We can take a look at the cross-validation (CV) results for the SAASBO model after\n",
        "the first iteration using whatever fully recorded data was made available to the model\n",
        "(i.e. existing training data, Sobol data, and the first Bayesian batch)."
      ]
    },
    {
      "cell_type": "code",
      "execution_count": null,
      "metadata": {
        "id": "SeZMI_JoCZ71"
      },
      "outputs": [],
      "source": [
        "figdir2 = path.join(figdir, \"bayes-0\")\n",
        "cv_results, fig, tile_fig = cv_plot(\n",
        "    model,\n",
        "    figdir=figdir,\n",
        "    fname=\"moo-cv\",\n",
        "    matplotlibify_kwargs=dict(height_inches=7.0, width_inches=7.0),\n",
        ")"
      ]
    }
  ],
  "metadata": {
    "colab": {
      "include_colab_link": true,
      "name": "multi_objective_example.ipynb",
      "provenance": []
    },
    "interpreter": {
      "hash": "99db43ff1587b120eb4c0093019390e12c9504aa40600b7eccb36212a49a1949"
    },
    "kernelspec": {
      "display_name": "Python 3.9.11 ('axforchemistry')",
      "language": "python",
      "name": "python3"
    },
    "language_info": {
      "codemirror_mode": {
        "name": "ipython",
        "version": 3
      },
      "file_extension": ".py",
      "mimetype": "text/x-python",
      "name": "python",
      "nbconvert_exporter": "python",
      "pygments_lexer": "ipython3",
      "version": "3.9.11"
    },
    "orig_nbformat": 4
  },
  "nbformat": 4,
  "nbformat_minor": 0
}
