{
 "cells": [
  {
   "cell_type": "code",
   "execution_count": 1,
   "id": "de9a7b08",
   "metadata": {
    "ExecuteTime": {
     "end_time": "2021-09-27T15:42:53.573033Z",
     "start_time": "2021-09-27T15:42:53.446549Z"
    }
   },
   "outputs": [],
   "source": [
    "import os\n",
    "import sys\n",
    "# sys.path.append('../cellacdc/')\n",
    "import glob\n",
    "import numpy as np\n",
    "import pandas as pd\n",
    "pd.set_option(\"display.max_columns\", 200)\n",
    "pd.set_option(\"display.max_rows\", 30)\n",
    "pd.set_option('display.max_colwidth', 150)\n",
    "import matplotlib.pyplot as plt\n",
    "import matplotlib.patches as mpatches\n",
    "import matplotlib.lines as mlines\n",
    "import seaborn as sns\n",
    "sns.set_theme()\n",
    "from cellacdc import cca_functions\n",
    "from cellacdc import myutils"
   ]
  },
  {
   "cell_type": "code",
   "execution_count": 2,
   "id": "64830244",
   "metadata": {
    "ExecuteTime": {
     "end_time": "2021-09-27T15:42:53.764798Z",
     "start_time": "2021-09-27T15:42:53.616798Z"
    }
   },
   "outputs": [],
   "source": [
    "%load_ext autoreload\n",
    "%autoreload 2"
   ]
  },
  {
   "cell_type": "markdown",
   "id": "386f3306",
   "metadata": {},
   "source": [
    "# configurations\n",
    "- follow the file selection dialog:\n",
    "    - select microscopy folder in first step\n",
    "    - select positions of the selected folder in second step\n",
    "- repeat to add more positions to the analysis\n",
    "- positions selected within one iteration of the dialog will be pooled together in the following analyses"
   ]
  },
  {
   "cell_type": "code",
   "execution_count": 2,
   "id": "9bcdab2b",
   "metadata": {
    "ExecuteTime": {
     "end_time": "2021-09-27T15:43:09.821037Z",
     "start_time": "2021-09-27T15:42:54.282989Z"
    }
   },
   "outputs": [],
   "source": [
    "data_dirs, positions = cca_functions.configuration_dialog()\n",
    "file_names = [os.path.split(path)[-1] for path in data_dirs]\n",
    "image_folders = [[os.path.join(data_dir, pos_str, 'Images') for pos_str in pos_list] for pos_list, data_dir in zip(positions, data_dirs)]\n",
    "# determine available channels based on first(!) position.\n",
    "# Warn user if one or more of the channels are not available for some positions\n",
    "first_pos_dir = os.path.join(data_dirs[0], positions[0][0], 'Images')\n",
    "first_pos_files = myutils.listdir(first_pos_dir)\n",
    "channels, warn = cca_functions.find_available_channels(first_pos_files, first_pos_dir)"
   ]
  },
  {
   "cell_type": "code",
   "execution_count": null,
   "id": "3ce04ae2-ef64-4e7b-a202-c4b729b6d71d",
   "metadata": {},
   "outputs": [],
   "source": [
    "data_dirs"
   ]
  },
  {
   "cell_type": "markdown",
   "id": "798f7578",
   "metadata": {
    "tags": []
   },
   "source": [
    "# load data and perform all needed calculations on image data"
   ]
  },
  {
   "cell_type": "code",
   "execution_count": null,
   "id": "21df0290-66e2-4059-a25f-ec2c835238d2",
   "metadata": {},
   "outputs": [],
   "source": [
    "data_dirs, positions, file_names"
   ]
  },
  {
   "cell_type": "code",
   "execution_count": 3,
   "id": "97125a6e",
   "metadata": {
    "ExecuteTime": {
     "end_time": "2021-09-27T15:43:13.776899Z",
     "start_time": "2021-09-27T15:43:11.964964Z"
    },
    "scrolled": true
   },
   "outputs": [
    {
     "name": "stdout",
     "output_type": "stream",
     "text": [
      "Load files for timeLapse, Position_6...\n",
      "Number of cells in position: 57\n",
      "Number of annotated frames in position: 302\n",
      "Cell Cycle property data already existing, loaded from disk...\n"
     ]
    }
   ],
   "source": [
    "overall_df, is_timelapse_data, is_zstack_data = cca_functions.calculate_downstream_data(\n",
    "    file_names,\n",
    "    image_folders,\n",
    "    positions,\n",
    "    channels, \n",
    "    force_recalculation=False\n",
    ")"
   ]
  },
  {
   "cell_type": "code",
   "execution_count": null,
   "id": "1e421230-e6bf-40e8-b23f-d19c3eb6b7b7",
   "metadata": {},
   "outputs": [],
   "source": [
    "overall_df"
   ]
  },
  {
   "cell_type": "markdown",
   "id": "5f1c2969-cbf4-4171-99a7-bd980a0e8339",
   "metadata": {},
   "source": [
    "### Check metrics calculated with GUI compared to this notebook"
   ]
  },
  {
   "cell_type": "code",
   "execution_count": 6,
   "id": "e220c169-5f39-44b8-abfc-c5bb9dc1889b",
   "metadata": {},
   "outputs": [
    {
     "data": {
      "image/png": "[encoded data removed]",
      "text/plain": [
       "<Figure size 720x576 with 1 Axes>"
      ]
     },
     "metadata": {},
     "output_type": "display_data"
    }
   ],
   "source": [
    "fig, ax = plt.subplots()\n",
    "fig.set_size_inches(10, 8)\n",
    "sns.regplot(x='gui_Dia_Ph3_amount_autoBkgr', y='Dia_Ph3_corrected_amount', data=overall_df, ax=ax)\n",
    "plt.show()"
   ]
  },
  {
   "cell_type": "code",
   "execution_count": null,
   "id": "84bea3ef",
   "metadata": {
    "ExecuteTime": {
     "end_time": "2021-09-27T15:43:14.104476Z",
     "start_time": "2021-09-27T15:43:13.932425Z"
    }
   },
   "outputs": [],
   "source": [
    "# if cell cycle annotations were performed in ACDC, extend the dataframe by a join on each cells relative cell\n",
    "if 'cell_cycle_stage' in overall_df.columns:\n",
    "    overall_df_with_rel = cca_functions.calculate_relatives_data(overall_df, channels)\n",
    "# If working with timelapse data build dataframe grouped by phases\n",
    "group_cols = [\n",
    "    'Cell_ID', 'generation_num', 'cell_cycle_stage', 'relationship', 'position', 'file', \n",
    "    'max_frame_pos', 'selection_subset', 'max_t'\n",
    "]\n",
    "# calculate data grouped by phase only in the case, that timelapse data is available\n",
    "if is_timelapse_data:\n",
    "    phase_grouped = cca_functions.calculate_per_phase_quantities(overall_df_with_rel, group_cols, channels)\n",
    "    # append phase-grouped data to overall_df_with_rel\n",
    "    overall_df_with_rel = overall_df_with_rel.merge(\n",
    "        phase_grouped,\n",
    "        how='left',\n",
    "        on=group_cols\n",
    "    )"
   ]
  },
  {
   "cell_type": "code",
   "execution_count": null,
   "id": "93b0d417-d1bb-4b33-936d-ffadaf229d67",
   "metadata": {},
   "outputs": [],
   "source": [
    "overall_df_with_rel.shape"
   ]
  },
  {
   "cell_type": "markdown",
   "id": "73928ee9",
   "metadata": {
    "heading_collapsed": true,
    "tags": []
   },
   "source": [
    "# Plot gallery - timelapse data"
   ]
  },
  {
   "cell_type": "markdown",
   "id": "c5bf877b-a2b9-4ef8-8108-6cf9cdf6bad5",
   "metadata": {
    "tags": []
   },
   "source": [
    "## Fluorescence signal per volume in G1 aligned at cell birth\n",
    "- fluorescence concentration per cell over time\n",
    "- 1st-generation G1\n",
    "- align at birth"
   ]
  },
  {
   "cell_type": "code",
   "execution_count": null,
   "id": "79511ff3-4be8-4a0a-a772-e87823721d7e",
   "metadata": {},
   "outputs": [],
   "source": [
    "# set this to match with channel of interest\n",
    "ch_name = 'mCitrine'\n",
    "# filter for relevant rows (first gen G1 cells)\n",
    "plot_data7 = overall_df_with_rel[\n",
    "    (overall_df_with_rel.cell_cycle_stage=='G1') &\n",
    "    (overall_df_with_rel.generation_num==1) &\n",
    "    (overall_df_with_rel.is_history_known) &\n",
    "    (overall_df_with_rel.complete_phase)\n",
    "]\n",
    "# select columns of interest for the plot\n",
    "plot_data7 = plot_data7[\n",
    "    ['file', 'position', 'frame_i', 'Cell_ID', 'phase_begin', 'generation_num', f'{ch_name}_corrected_concentration']\n",
    "]\n",
    "# calculate \"time in phase\" column for x-axis\n",
    "plot_data7['time_in_phase'] = plot_data7['frame_i'] - plot_data7['phase_begin']\n",
    "# calculate a unique cell id accross files by just appending file, pos & cell id\n",
    "plot_data7['f_pos_cell_id'] = plot_data7.apply(lambda x: f'{x[\"file\"]}_{x[\"position\"]}_Cell_{x[\"Cell_ID\"]}_Gen_{int(x[\"generation_num\"])}', axis=1)"
   ]
  },
  {
   "cell_type": "code",
   "execution_count": null,
   "id": "650c1d57-8068-4d1e-9a57-a60d51623000",
   "metadata": {},
   "outputs": [],
   "source": [
    "# Generate figures (aggregated, single traces, combined\n",
    "sns.set_theme(context='talk', font_scale=1.15)\n",
    "sns.set_style(\"whitegrid\", {\"grid.color\": \".95\"})\n",
    "fig, axs = plt.subplots(ncols=3, figsize=(30,10), sharey=False)\n",
    "sns.lineplot(\n",
    "    data=plot_data7,\n",
    "    x=\"time_in_phase\", \n",
    "    y=f'{ch_name}_corrected_concentration',\n",
    "    ci=95,\n",
    "    ax=axs[0]\n",
    ")\n",
    "sns.lineplot(\n",
    "    data=plot_data7,\n",
    "    x=\"time_in_phase\", \n",
    "    y=f'{ch_name}_corrected_concentration',\n",
    "    estimator=None,\n",
    "    units='f_pos_cell_id',\n",
    "    ax=axs[1],\n",
    "    lw=0.5,\n",
    "    #alpha=0.5\n",
    ")\n",
    "sns.lineplot(\n",
    "    data=plot_data7,\n",
    "    x=\"time_in_phase\", \n",
    "    y=f'{ch_name}_corrected_concentration',\n",
    "    ci=95,\n",
    "    ax=axs[2]\n",
    ")\n",
    "sns.lineplot(\n",
    "    data=plot_data7,\n",
    "    x=\"time_in_phase\", \n",
    "    y=f'{ch_name}_corrected_concentration',\n",
    "    estimator=None,\n",
    "    units='f_pos_cell_id',\n",
    "    ax=axs[2],\n",
    "    lw=0.5,\n",
    "    #alpha=0.5\n",
    ")\n",
    "axs[0].set_ylabel(f\"Amount per Volume of {ch_name} [a.u.]\")\n",
    "axs[1].set_ylabel(f\"Amount per Volume of {ch_name} [a.u.]\")\n",
    "axs[2].set_ylabel(f\"Amount per Volume of {ch_name} [a.u.]\")\n",
    "#plt.savefig('../figures/firstgen_g1_concentration.png', dpi=300)\n",
    "plt.show()"
   ]
  },
  {
   "cell_type": "markdown",
   "id": "54adc81a",
   "metadata": {
    "heading_collapsed": true,
    "hidden": true
   },
   "source": [
    "## (Volume) growth in G1 vs. mother+daughter growth in S (1st generation)"
   ]
  },
  {
   "cell_type": "code",
   "execution_count": null,
   "id": "4d50725d",
   "metadata": {
    "ExecuteTime": {
     "end_time": "2021-09-27T14:53:25.316205Z",
     "start_time": "2021-09-27T14:53:25.161012Z"
    },
    "hidden": true
   },
   "outputs": [],
   "source": [
    "# obtain table where one cell cycle is represented by one row: \n",
    "# first set of columns (like phase_length, growth...) for G1, second set of cols for S\n",
    "complete_cc_data = phase_grouped[phase_grouped.all_complete==1]\n",
    "s_data = complete_cc_data[complete_cc_data.cell_cycle_stage==\"S\"]\n",
    "g1_data = complete_cc_data[complete_cc_data.cell_cycle_stage==\"G1\"]\n",
    "plot_data2 = g1_data.merge(\n",
    "    s_data, on=['Cell_ID', 'generation_num', 'position'], how='inner', suffixes=('_g1','_s')\n",
    ")\n",
    "plot_data2 = plot_data2[plot_data2.generation_num==1]\n",
    "plot_data2['combined_motherbud_growth'] = plot_data2['phase_area_growth_s'] + plot_data2['phase_daughter_area_growth_s']\n",
    "plot_data2['combined_motherbud_vol_growth'] = plot_data2['phase_volume_growth_s'] + plot_data2['phase_daughter_volume_growth_s']"
   ]
  },
  {
   "cell_type": "code",
   "execution_count": null,
   "id": "b5124030",
   "metadata": {
    "ExecuteTime": {
     "end_time": "2021-09-27T14:56:52.647950Z",
     "start_time": "2021-09-27T14:56:51.915294Z"
    },
    "hidden": true
   },
   "outputs": [],
   "source": [
    "sns.set_theme(style=\"darkgrid\", font_scale=2)\n",
    "# Initialize the figure\n",
    "g = sns.lmplot(x=\"phase_volume_growth_g1\", y=\"combined_motherbud_vol_growth\", data=plot_data2,\n",
    "    hue=\"selection_subset_g1\", height=10)\n",
    "g._legend.set_title('Position Pool')\n",
    "ax = plt.gca()\n",
    "ax.set_ylabel(\"Combined Mother+Bud S growth [fL]\", fontsize=20)\n",
    "ax.set_xlabel(\"G1 growth [fL]\", fontsize=20)\n",
    "ax.set_title(\"G1 volume growth vs. mother+daughter cell growth in S phase\", fontsize=30)\n",
    "plt.show()"
   ]
  },
  {
   "cell_type": "markdown",
   "id": "04e8965e",
   "metadata": {
    "heading_collapsed": true,
    "hidden": true
   },
   "source": [
    "## Volume at birth vs. G1 duration (1st generation)\n",
    "- Plot to determine if there is a negative correlation between cell size at birth and length of the first G1 phase"
   ]
  },
  {
   "cell_type": "code",
   "execution_count": null,
   "id": "9c8c7c03",
   "metadata": {
    "ExecuteTime": {
     "end_time": "2021-09-27T14:59:51.561716Z",
     "start_time": "2021-09-27T14:59:50.882682Z"
    },
    "hidden": true
   },
   "outputs": [],
   "source": [
    "# obtain table where one cell cycle is represented by one row: \n",
    "# first set of columns (like phase_length, growth...) for G1, second set of cols for S\n",
    "plot_data3 = phase_grouped[phase_grouped.cell_cycle_stage==\"G1\"]\n",
    "plot_data3 = plot_data3[plot_data3.complete_phase==1]\n",
    "plot_data3 = plot_data3[plot_data3.generation_num==1]\n",
    "\n",
    "sns.set_theme(style=\"darkgrid\", font_scale=2)\n",
    "# Initialize the figure\n",
    "g = sns.lmplot(x=\"phase_volume_at_beginning\", y=\"phase_length\", data=plot_data3,\n",
    "    hue=\"selection_subset\", height=10)\n",
    "g._legend.set_title('Position Pool')\n",
    "ax = plt.gca()\n",
    "ax.set_ylabel(\"Duration of first G1 phase [no of frames]\", fontsize=20)\n",
    "ax.set_xlabel(\"Volume at birth (first cytokinesis) [fL]\", fontsize=20)\n",
    "ax.set_title(\"Volume at birth vs G1 duration (1st generation)\", fontsize=30)\n",
    "plt.show()"
   ]
  },
  {
   "cell_type": "markdown",
   "id": "db5fd47b",
   "metadata": {
    "heading_collapsed": true,
    "hidden": true
   },
   "source": [
    "## Volume at birth vs. Signal concentration at birth (1st generation)"
   ]
  },
  {
   "cell_type": "code",
   "execution_count": null,
   "id": "350d8075",
   "metadata": {
    "ExecuteTime": {
     "end_time": "2021-09-27T15:04:36.291413Z",
     "start_time": "2021-09-27T15:04:35.368664Z"
    },
    "hidden": true
   },
   "outputs": [],
   "source": [
    "# set channel name here:\n",
    "ch_name = 'mCitrine'\n",
    "# obtain table where one cell cycle is represented by one row: \n",
    "# first set of columns (like phase_length, growth...) for G1, second set of cols for S\n",
    "plot_data4 = phase_grouped[phase_grouped.cell_cycle_stage==\"G1\"]\n",
    "plot_data4 = plot_data4[plot_data4.complete_phase==1]\n",
    "plot_data4 = plot_data4[plot_data4.generation_num==1]\n",
    "\n",
    "sns.set_theme(style=\"darkgrid\", font_scale=2)\n",
    "# Initialize the figure\n",
    "g = sns.lmplot(x=\"phase_volume_at_beginning\", y=f\"phase_{ch_name}_concentration_at_beginning\", data=plot_data4,\n",
    "    hue=\"selection_subset\", height=10, )\n",
    "g._legend.set_title('Position Pool')\n",
    "g.set(yscale=\"log\")\n",
    "ax = plt.gca()\n",
    "ax.set_ylabel(\"mCitrine signal amount per volume in cell [a.u.]\", fontsize=20)\n",
    "ax.set_xlabel(\"Volume at birth (first cytokinesis) [fL]\", fontsize=20)\n",
    "ax.set_title(\"Volume at birth vs mCitrine signal amount per volume (1st generation)\", fontsize=30)\n",
    "plt.show()"
   ]
  },
  {
   "cell_type": "markdown",
   "id": "558d42fb",
   "metadata": {
    "heading_collapsed": true,
    "hidden": true
   },
   "source": [
    "## G1 vs. S duration (1st generation)"
   ]
  },
  {
   "cell_type": "code",
   "execution_count": null,
   "id": "46dea6d1",
   "metadata": {
    "ExecuteTime": {
     "end_time": "2021-09-27T15:04:47.122941Z",
     "start_time": "2021-09-27T15:04:46.370607Z"
    },
    "hidden": true
   },
   "outputs": [],
   "source": [
    "# obtain table where one cell cycle is represented by one row: \n",
    "# first set of columns (like phase_length, growth...) for G1, second set of cols for S\n",
    "complete_cc_data = phase_grouped[phase_grouped.all_complete==1]\n",
    "s_data = complete_cc_data[complete_cc_data.cell_cycle_stage==\"S\"]\n",
    "g1_data = complete_cc_data[complete_cc_data.cell_cycle_stage==\"G1\"]\n",
    "plot_data1 = g1_data.merge(s_data, on=['Cell_ID', 'generation_num', 'position', 'file'], how='inner')\n",
    "plot_data1 = plot_data1[plot_data1.generation_num==1]\n",
    "\n",
    "sns.set_theme(style=\"darkgrid\", font_scale=2)\n",
    "# Initialize the figure\n",
    "g = sns.lmplot(x=\"phase_length_x\", y=\"phase_length_y\", data=plot_data1,\n",
    "    hue=\"selection_subset_x\", height=10)\n",
    "g._legend.set_title('Position Pool')\n",
    "ax = plt.gca()\n",
    "ax.set_ylabel(\"S duration same cycle [frames]\", fontsize=20)\n",
    "ax.set_xlabel(\"G1 duration [frames]\", fontsize=20)\n",
    "ax.set_title(\"G1 duration vs. S duration within same generation\", fontsize=30)\n",
    "plt.show()"
   ]
  },
  {
   "cell_type": "markdown",
   "id": "9d68d875",
   "metadata": {
    "tags": []
   },
   "source": [
    "# Plot gallery - zstack data, no timelapse"
   ]
  },
  {
   "cell_type": "markdown",
   "id": "d4158bbd",
   "metadata": {
    "tags": []
   },
   "source": [
    "## Distribution of Cell volumes"
   ]
  },
  {
   "cell_type": "code",
   "execution_count": null,
   "id": "3e442bf0",
   "metadata": {
    "ExecuteTime": {
     "end_time": "2021-09-27T15:43:28.052302Z",
     "start_time": "2021-09-27T15:43:27.735931Z"
    }
   },
   "outputs": [],
   "source": [
    "sns.set_theme(style=\"ticks\", font_scale=2)\n",
    "\n",
    "# Initialize the figure\n",
    "plt.figure(figsize=(10,10))\n",
    "sns.histplot(\n",
    "    x='cell_vol_fl', \n",
    "    data=overall_df,\n",
    "    hue='relationship',\n",
    "    bins=20,\n",
    "    legend=False\n",
    ")\n",
    "ax = plt.gca()\n",
    "labels = [\n",
    "    'Mother cells',\n",
    "    'Buds'\n",
    "]\n",
    "handles = [\n",
    "    mpatches.Patch(color=sns.color_palette('pastel')[0]),\n",
    "    mpatches.Patch(color=sns.color_palette('pastel')[1])\n",
    "]\n",
    "ax.legend(\n",
    "    handles=handles,\n",
    "    labels=labels, \n",
    "    loc='upper right',\n",
    "    #bbox_to_anchor = (1,0.2),\n",
    "    framealpha=0.5\n",
    ")\n",
    "\n",
    "# Tweak the visual presentation\n",
    "ax = plt.gca()\n",
    "ax.set_xlabel(\"Cell volume [fL]\", fontsize=20)\n",
    "ax.set_title(f\"Volume distribution, n: {overall_df.shape[0]}\", fontsize=30)\n",
    "#sns.despine(trim=True, left=True)\n",
    "plt.show()"
   ]
  },
  {
   "cell_type": "markdown",
   "id": "9c6441af",
   "metadata": {
    "tags": []
   },
   "source": [
    "## Signal amounts calculated by mean projection vs. max projection"
   ]
  },
  {
   "cell_type": "code",
   "execution_count": null,
   "id": "f31447f4",
   "metadata": {
    "ExecuteTime": {
     "end_time": "2021-09-27T15:43:34.284850Z",
     "start_time": "2021-09-27T15:43:34.131365Z"
    }
   },
   "outputs": [],
   "source": [
    "# set channel name here:\n",
    "ch_name = 'act1'\n",
    "sns.set_theme(style=\"darkgrid\", font_scale=2)\n",
    "# Initialize the figure\n",
    "g = sns.lmplot(\n",
    "    x=\"act1_amount_autoBkgr_meanProj\", \n",
    "    y=\"act1_amount_autoBkgr_maxProj\", \n",
    "    data=overall_df,\n",
    "    hue=\"relationship\", \n",
    "    # hue='selection_subset', # try this if you selected multiple position pools\n",
    "    height=10)\n",
    "g._legend.set_title('Cell type')\n",
    "ax = plt.gca()\n",
    "ax.set_ylabel(f\"{ch_name} signal amount (max projection of z-slices) [a.u.]\", fontsize=20)\n",
    "ax.set_xlabel(f\"{ch_name} signal amount (mean projection of z-slices) [a.u.]\", fontsize=20)\n",
    "ax.set_title(\"Comparing mean projection with max projection\", fontsize=30)\n",
    "plt.show()"
   ]
  },
  {
   "cell_type": "markdown",
   "id": "16bdf69f",
   "metadata": {
    "tags": []
   },
   "source": [
    "## Volume vs. Signal amount"
   ]
  },
  {
   "cell_type": "code",
   "execution_count": null,
   "id": "f5a71038",
   "metadata": {
    "ExecuteTime": {
     "end_time": "2021-09-27T15:43:34.284850Z",
     "start_time": "2021-09-27T15:43:34.131365Z"
    }
   },
   "outputs": [],
   "source": [
    "# set channel name here:\n",
    "ch_name = 'act1'\n",
    "sns.set_theme(style=\"darkgrid\", font_scale=2)\n",
    "# Initialize the figure\n",
    "g = sns.lmplot(\n",
    "    x=\"cell_vol_fl\", \n",
    "    y=f\"{ch_name}_amount_autoBkgr_meanProj\", \n",
    "    data=overall_df,\n",
    "    hue=\"relationship\",\n",
    "    # hue='selection_subset', # try this if you selected multiple position pools\n",
    "    height=10\n",
    ")\n",
    "g._legend.set_title('Position Pool')\n",
    "ax = plt.gca()\n",
    "ax.set_ylabel(f\"{ch_name} signal amount in cell [a.u.]\", fontsize=20)\n",
    "ax.set_xlabel(\"Cell volume [fL]\", fontsize=20)\n",
    "ax.set_title(\"Volume at birth vs signal amount\", fontsize=30)\n",
    "plt.show()"
   ]
  },
  {
   "cell_type": "markdown",
   "id": "f2c617ba-cf37-4c67-a1cf-46055d4f1f7a",
   "metadata": {
    "tags": []
   },
   "source": [
    "## Volume vs. Mean signal strength"
   ]
  },
  {
   "cell_type": "code",
   "execution_count": null,
   "id": "0045babd-3766-442d-b853-ba1c89981880",
   "metadata": {
    "ExecuteTime": {
     "end_time": "2021-09-27T15:43:34.284850Z",
     "start_time": "2021-09-27T15:43:34.131365Z"
    }
   },
   "outputs": [],
   "source": [
    "# set channel name here:\n",
    "ch_name = 'act1'\n",
    "sns.set_theme(style=\"darkgrid\", font_scale=2)\n",
    "# Initialize the figure\n",
    "g = sns.lmplot(\n",
    "    x=\"cell_vol_fl\", \n",
    "    y=f\"{ch_name}_mean_meanProj\", \n",
    "    data=overall_df,\n",
    "    hue=\"relationship\", \n",
    "    height=10, \n",
    ")\n",
    "g._legend.set_title('Cell type')\n",
    "ax = plt.gca()\n",
    "ax.set_ylabel(f\"{ch_name} mean signal strength in cell [a.u.]\", fontsize=20)\n",
    "ax.set_xlabel(\"Cell volume [fL]\", fontsize=20)\n",
    "ax.set_title(\"Cell volume vs. mean signal strength\", fontsize=30)\n",
    "plt.show()"
   ]
  },
  {
   "cell_type": "markdown",
   "id": "02bc2d87-83fb-4d34-bc17-58d8a3ff078a",
   "metadata": {
    "heading_collapsed": true
   },
   "source": [
    "# ACDC paper figures"
   ]
  },
  {
   "cell_type": "markdown",
   "id": "ba8c9ad1-9433-48b1-ace1-a446aa6a7cf5",
   "metadata": {
    "heading_collapsed": true,
    "hidden": true
   },
   "source": [
    "## Flurescence Signal over time (centered on bud emergence)\n",
    "- timelapse data is assumed here\n",
    "- note that in this plot, we filter for selection_subset==0\n",
    "- make sure to change this if unwanted or to select the data with flu signal to be in the first pool"
   ]
  },
  {
   "cell_type": "code",
   "execution_count": null,
   "id": "57f56033-06e4-42d6-a40b-837ef8acca4b",
   "metadata": {
    "ExecuteTime": {
     "end_time": "2021-09-27T14:37:37.431231Z",
     "start_time": "2021-09-27T14:37:37.293352Z"
    },
    "hidden": true
   },
   "outputs": [],
   "source": [
    "# some configurations\n",
    "# frame interval of video\n",
    "frame_interval_minutes = 3\n",
    "# quantiles of complete cell cycles (wrt phase lengths) to exclude from analysis \n",
    "# (not used, keep this for potential later use)\n",
    "down_q, upper_q = 0, 1\n",
    "# minimum number of cell cycles contributing to the mean+CI curve:\n",
    "min_no_of_ccs = 10\n",
    "# determine if you want to split the plot by generation\n",
    "split_by_gen = True\n",
    "# wether to scale to 0/1 or not\n",
    "scale_data = False\n",
    "# name of channel the signal of which should be plotted\n",
    "ch_name = 'mCitrine'"
   ]
  },
  {
   "cell_type": "code",
   "execution_count": null,
   "id": "8bd48c07-efb7-4b98-b0eb-0507cbacc9fa",
   "metadata": {
    "ExecuteTime": {
     "end_time": "2021-09-27T14:38:30.573731Z",
     "start_time": "2021-09-27T14:38:29.772071Z"
    },
    "hidden": true
   },
   "outputs": [],
   "source": [
    "# select needed cols from overall_df_with_rel to not end up with too many columns\n",
    "needed_cols = [\n",
    "    'selection_subset', 'position', 'Cell_ID', 'cell_cycle_stage', 'generation_num', 'frame_i',\n",
    "    f'{ch_name}_corrected_amount', f'{ch_name}_corrected_amount_rel', \n",
    "    'file', 'relationship', 'relative_ID', 'phase_length', 'phase_begin', f'gui_{ch_name}_amount_autoBkgr'\n",
    "]\n",
    "filter_idx = np.logical_and(overall_df_with_rel['complete_cycle'] == 1, overall_df_with_rel.selection_subset==0)\n",
    "plot_data4a = overall_df_with_rel.loc[filter_idx, needed_cols].copy()\n",
    "# calculate the time the cell already spent in the current frame at the current timepoint\n",
    "plot_data4a['frames_in_phase'] = plot_data4a['frame_i'] - plot_data4a['phase_begin'] + 1\n",
    "# calculate the time to the next (for G1 cells) and from the last (for S cells) G1/S transition  \n",
    "plot_data4a['centered_frames_in_phase'] = plot_data4a.apply(\n",
    "    lambda x: x.loc['frames_in_phase'] if\\\n",
    "    x.loc['cell_cycle_stage']=='S' else\\\n",
    "    x.loc['frames_in_phase']-1-x.loc['phase_length'],\n",
    "    axis=1\n",
    ")\n",
    "# calculate combined signal and the \"Pool, Phase ID\" for the legend\n",
    "# plot_data4a at this point only contains relationship==mother, \n",
    "# as generation_num==0 and relationship==bud are filtered out (incomplete cycle, cycles start with G1)\n",
    "plot_data4a['Combined signal m&b'] = plot_data4a.apply(\n",
    "    lambda x: x.loc[f'{ch_name}_corrected_amount']+x.loc[f'{ch_name}_corrected_amount_rel'] if\\\n",
    "    x.loc['cell_cycle_stage']=='S' and x.loc['relationship'] == 'mother' else\\\n",
    "    x.loc[f'{ch_name}_corrected_amount'],\n",
    "    axis=1\n",
    ")\n",
    "plot_data4a['Bud signal'] = plot_data4a.apply(\n",
    "    lambda x: x.loc[f'{ch_name}_corrected_amount_rel'] if\\\n",
    "    x.loc['cell_cycle_stage']=='S' and x.loc['relationship'] == 'mother' else 0,\n",
    "    axis=1\n",
    ")\n",
    "# scale data if needed\n",
    "if scale_data:\n",
    "    maximum = max(\n",
    "        plot_data4a['Combined signal m&b'].max(), \n",
    "        plot_data4a['Bud signal'].max()\n",
    "    )\n",
    "    plot_data4a['Combined signal m&b'] /= maximum\n",
    "    plot_data4a['Bud signal'] /= maximum\n",
    "# calculate min and max centered times per generation to eliminate up to a percentile\n",
    "# (not used, as upper_q and lower_q are set to 100/0 respectively)\n",
    "plot_data4a['min_centered_frames'] = plot_data4a.groupby(\n",
    "    ['position', 'file', 'Cell_ID', 'generation_num']\n",
    ")['centered_frames_in_phase'].transform(\n",
    "    'min'\n",
    ")\n",
    "plot_data4a['max_centered_frames'] = plot_data4a.groupby(\n",
    "    ['position', 'file', 'Cell_ID', 'generation_num']\n",
    ")['centered_frames_in_phase'].transform(\n",
    "    'max'\n",
    ")\n",
    "min_and_max = plot_data4a.groupby(\n",
    "    ['Cell_ID', 'generation_num', 'position', 'file']\n",
    ").agg(\n",
    "    min_centered = ('min_centered_frames', 'first'),\n",
    "    max_centered = ('max_centered_frames', 'first')\n",
    ").reset_index()\n",
    "min_val, max_val = np.quantile(\n",
    "    min_and_max.min_centered, down_q\n",
    ") * frame_interval_minutes, np.quantile(\n",
    "    min_and_max.max_centered, upper_q\n",
    ") * frame_interval_minutes\n",
    "# perform selection (won't change anything if upper and lower are 100 and 0 respectively)\n",
    "selection_indices = np.logical_and(\n",
    "    plot_data4a.min_centered_frames*frame_interval_minutes>=min_val, \n",
    "    plot_data4a.max_centered_frames*frame_interval_minutes<=max_val\n",
    ")\n",
    "plot_data4a = plot_data4a[selection_indices]\n",
    "\n",
    "# calculate centered time in minutes\n",
    "plot_data4a['centered_time_in_minutes'] = plot_data4a.centered_frames_in_phase * frame_interval_minutes\n",
    "\n",
    "# group dataframe to calculate sample sizes per generation\n",
    "standard_grouped = plot_data4a.groupby(\n",
    "    ['position', 'file', 'Cell_ID', 'generation_num']\n",
    ").agg('count').reset_index()\n",
    "plot_data4a['Generation'] = plot_data4a.apply(\n",
    "    lambda x: f'1st ($n_1$={len(standard_grouped[standard_grouped.generation_num==1])})' if\\\n",
    "    x.loc['generation_num']==1 else f'2+ ($n_2$={len(standard_grouped[standard_grouped.generation_num>1])})',\n",
    "    axis=1\n",
    ")\n",
    "if split_by_gen:\n",
    "    g_cols = ['centered_frames_in_phase', 'Generation']\n",
    "else:\n",
    "    g_cols = 'centered_frames_in_phase'\n",
    "plot_data4a['contributing_ccs_at_time'] = plot_data4a.groupby(g_cols).transform('count')['selection_subset']\n",
    "plot_data4a = plot_data4a[plot_data4a.contributing_ccs_at_time >= min_no_of_ccs]\n",
    "\n",
    "# finally prepare data for plot (use melt for multiple lines)\n",
    "sample_size_4a = len(standard_grouped)\n",
    "avg_cell_cycle_length = round(standard_grouped.loc[:,'centered_time_in_minutes'].mean())*frame_interval_minutes\n",
    "cols_to_plot = ['Bud signal', 'Combined signal m&b']\n",
    "index_cols = [col for col in plot_data4a.columns if col not in cols_to_plot]\n",
    "plot_data4a_melted = pd.melt(\n",
    "    plot_data4a, index_cols, var_name='Method of calculation'\n",
    ").sort_values('Method of calculation')\n",
    "data_dir = os.path.join('..', 'data', 'paper_plot_data')\n",
    "# save preprocessed data for Fig. 4A\n",
    "#plot_data4a_melted.to_csv(os.path.join(data_dir, 'plot_data4a_melted.csv'), index=False)\n",
    "#plot_data4a.to_csv(os.path.join(data_dir, 'plot_data4a.csv'), index=False)"
   ]
  },
  {
   "cell_type": "code",
   "execution_count": null,
   "id": "e1f79cfe-2952-41d5-8081-4fc26c36f562",
   "metadata": {
    "ExecuteTime": {
     "end_time": "2021-09-27T14:39:21.951587Z",
     "start_time": "2021-09-27T14:39:18.072433Z"
    },
    "hidden": true
   },
   "outputs": [],
   "source": [
    "# plot the data, comment out \"style\" argument to not make difference between generations\n",
    "sns.set_theme(style=\"darkgrid\", font_scale=1.6)\n",
    "f, ax = plt.subplots(figsize=(15, 12))\n",
    "if split_by_gen:\n",
    "    style='Generation'\n",
    "else:\n",
    "    style=None\n",
    "ax = sns.lineplot(\n",
    "    data=plot_data6_melted,#.sort_values('Pool, Phase'),\n",
    "    x=\"centered_time_in_minutes\", \n",
    "    y=\"value\",\n",
    "    hue='Method of Calculation',\n",
    "    #hue='position',\n",
    "    style=style,\n",
    "    ci=95\n",
    ")\n",
    "ax.axvline(x=0, color='red')#, label='Time of Bud Emergence')\n",
    "ax.text(\n",
    "    0.5, 0.21, \"Time of \\nBud Emergence\", horizontalalignment='left', \n",
    "    size='medium', color='red', weight='normal'\n",
    ")\n",
    "ax.legend(\n",
    "    title=f'Avg CC Length: {avg_cell_cycle_length} min, n = {sample_size}', \n",
    "    fancybox=True,\n",
    "    labelspacing=0.5,\n",
    "    handlelength=1.5,\n",
    "    loc = 'upper left'\n",
    ")\n",
    "ax.set_ylabel(\"Total amount of Signal corrected by background [a.u.]\", fontsize=20)\n",
    "ax.set_xlabel(\"Time in phase relative to G1/S transition [minutes]\", fontsize=20)\n",
    "ax.set_title(\"Corrected Signal Amount during Cell Cycle Progression\", fontsize=30)\n",
    "plt.tight_layout()\n",
    "plt.show()"
   ]
  },
  {
   "cell_type": "markdown",
   "id": "be82f038-a3e2-40de-8f50-74fac69eaae0",
   "metadata": {
    "heading_collapsed": true,
    "hidden": true
   },
   "source": [
    "## Volume at birth and division vs. mCitrine amount at birth (single cell) and division (combined)\n",
    "- This plot is based on the grouped-by-phase data\n",
    "- We assume that cell cycle phases were annotated with ACDC (~ column \"cell_cycle_stage\" exists, relative's dataframe was calculated and attached)"
   ]
  },
  {
   "cell_type": "code",
   "execution_count": null,
   "id": "224c390b-d88a-477c-8053-16f740790cd7",
   "metadata": {
    "ExecuteTime": {
     "end_time": "2021-09-27T14:36:21.578552Z",
     "start_time": "2021-09-27T14:36:21.436706Z"
    },
    "hidden": true
   },
   "outputs": [],
   "source": [
    "# configure channel the signal of which should be plotted\n",
    "ch_name = 'mCitrine'\n",
    "# first set of columns (like phase_length, growth...) for G1, second set of cols for S\n",
    "needed_cols = [\n",
    "    'Cell_ID', 'generation_num', 'position', 'file', 'cell_cycle_stage', 'selection_subset', \n",
    "    'phase_volume_at_beginning', 'phase_volume_at_end', f'phase_{ch_name}_amount_at_beginning',\n",
    "    f'phase_{ch_name}_combined_amount_at_end','phase_combined_volume_at_end'\n",
    "]\n",
    "plot_data4 = phase_grouped.loc[phase_grouped.complete_cycle==1, needed_cols]\n",
    "scale_data = False"
   ]
  },
  {
   "cell_type": "code",
   "execution_count": null,
   "id": "bf1b2728-2d8f-4b8a-984a-4245c4a85f0e",
   "metadata": {
    "ExecuteTime": {
     "end_time": "2021-09-27T14:36:41.893076Z",
     "start_time": "2021-09-27T14:36:41.715572Z"
    },
    "hidden": true
   },
   "outputs": [],
   "source": [
    "plot_data4['relevant_volume'] = plot_data4.apply(\n",
    "    lambda x: x.loc['phase_volume_at_beginning'] if\\\n",
    "    x.loc['cell_cycle_stage']=='G1' else\\\n",
    "    x.loc['phase_combined_volume_at_end'],\n",
    "    axis=1\n",
    ")\n",
    "plot_data4['relevant_amount'] = plot_data4.apply(\n",
    "    lambda x: x.loc[f'phase_{ch_name}_amount_at_beginning'] if\\\n",
    "    x.loc['cell_cycle_stage']=='G1' else\\\n",
    "    x.loc[f'phase_{ch_name}_combined_amount_at_end'],\n",
    "    axis=1\n",
    ")\n",
    "# defining a function to generate entries for the figure legend \n",
    "# (assuming that selection_subset>0 is the autofluorescence control of the experiment)\n",
    "def calc_legend_entry(x):\n",
    "    if x.loc['selection_subset'] == 0:\n",
    "        if x.loc['cell_cycle_stage']=='G1':\n",
    "            return 'Single cell at birth'\n",
    "        else:\n",
    "            return 'Combined mother&bud at cytokinesis'\n",
    "    else:\n",
    "        if x.loc['cell_cycle_stage']=='G1':\n",
    "            return 'Af control, single cell at birth'\n",
    "        else:\n",
    "            return 'Af control, combined mother&bud at cytokinesis'\n",
    "        \n",
    "plot_data4['Kind of Measurement'] = plot_data4.apply(\n",
    "    lambda x: 'Single Cell in G1 (Frame after Cytokinesis)' if\\\n",
    "    x.loc['cell_cycle_stage']=='G1' else\\\n",
    "    'Combined Mother & Bud in S (Frame before Cytokinesis)',\n",
    "    axis=1\n",
    ")\n",
    "plot_data4['Kind of Measurement new'] = plot_data4.apply(\n",
    "    calc_legend_entry,\n",
    "    axis=1\n",
    ")\n",
    "plot_data4['Generation'] = plot_data4.apply(\n",
    "    lambda x: f'1st ($n_1$={int(len(plot_data4[plot_data4.generation_num==1])/2)})' if\\\n",
    "    x.loc['generation_num']==1 else f'2+ ($n_2$={int(len(plot_data4[plot_data4.generation_num>1])/2)})',\n",
    "    axis=1\n",
    ")\n",
    "if scale_data:\n",
    "    maximum = plot_data4['relevant_amount'].max()\n",
    "    plot_data4['relevant_amount'] /= maximum\n",
    "sample_size = len(plot_data4)\n"
   ]
  },
  {
   "cell_type": "code",
   "execution_count": null,
   "id": "866be588-20f3-45db-b9d0-78f6fd2e1ff8",
   "metadata": {
    "ExecuteTime": {
     "end_time": "2021-09-27T14:35:01.319499Z",
     "start_time": "2021-09-27T14:35:00.340224Z"
    },
    "hidden": true
   },
   "outputs": [],
   "source": [
    "#plot_data4 = plot_data4[plot_data4.selection_subset==1]\n",
    "sns.set_theme(style=\"darkgrid\", font_scale=1.6)\n",
    "# create lmplot. Don't scatter and ommit legend to customize scatterplot and legend\n",
    "sns.lmplot(\n",
    "    x=\"relevant_volume\", \n",
    "    y=\"relevant_amount\", \n",
    "    data=plot_data4.sort_values(\n",
    "        'Kind of Measurement new', ascending=False\n",
    "    ),\n",
    "    hue=\"Kind of Measurement new\",\n",
    "    legend=False,\n",
    "    height=10,\n",
    "    aspect=1.1,\n",
    "    scatter=False\n",
    ")\n",
    "sns.scatterplot(\n",
    "    x=\"relevant_volume\", \n",
    "    y=\"relevant_amount\", \n",
    "    data=plot_data4[plot_data4.generation_num==1].sort_values(\n",
    "        'Kind of Measurement new', ascending=False\n",
    "    ),\n",
    "    hue=\"Kind of Measurement new\",\n",
    "    legend=False,\n",
    "    marker='x'\n",
    ")\n",
    "sns.scatterplot(\n",
    "    x=\"relevant_volume\", \n",
    "    y=\"relevant_amount\", \n",
    "    data=plot_data4[plot_data4.generation_num>1].sort_values(\n",
    "        'Kind of Measurement new', ascending=False\n",
    "    ),\n",
    "    hue=\"Kind of Measurement new\",\n",
    "    legend=False,\n",
    "    marker='o'\n",
    ")\n",
    "ax = plt.gca()\n",
    "labels = [\n",
    "    'Single cell at birth',\n",
    "    'Combined mother&bud at cytokinesis',\n",
    "    'Af control, single cell at birth',\n",
    "    'Af control, combined mother&bud at cytokinesis',\n",
    "    'Generation 1',\n",
    "    'Generation 2+'\n",
    "]\n",
    "handles = [\n",
    "    mpatches.Patch(color=sns.color_palette()[0]),\n",
    "    mpatches.Patch(color=sns.color_palette()[1]),\n",
    "    mpatches.Patch(color=sns.color_palette()[2]),\n",
    "    mpatches.Patch(color=sns.color_palette()[3]),\n",
    "    mlines.Line2D([], [], color='gray', marker='x', linestyle='None',\n",
    "                          markersize=10),\n",
    "    mlines.Line2D([], [], color='gray', marker='o', linestyle='None',\n",
    "                          markersize=10)\n",
    "]\n",
    "ax.legend(\n",
    "    handles=handles,\n",
    "    labels=labels, \n",
    "    loc='center right',\n",
    "    bbox_to_anchor = (1,0.2),\n",
    "    framealpha=0.5\n",
    ")\n",
    "ax.set_ylabel(\"Amount of Signal in Cell(s) [a.u.]\", fontsize=20)\n",
    "ax.set_xlabel(\"Volume at Birth / Combined Volume Before Cytokinesis [fL]\", fontsize=20)\n",
    "ax.set_title(f\"Volume at birth vs Signal Amount (n={int(sample_size/2)})\", fontsize=30)\n",
    "# format y-axis\n",
    "plt.ticklabel_format(axis='y', style='sci', scilimits=(0,0), useMathText=True)\n",
    "ax.get_yaxis().get_offset_text().set_position((-0.05,0))\n",
    "# format x-axis\n",
    "ax.set_xlim(0, plot_data4.relevant_volume.max()+20)\n",
    "plt.tight_layout()\n",
    "plt.show()\n",
    "print(f'sample size flu-control: {len(plot_data4[plot_data4.selection_subset==1])//2}')\n",
    "print(f'sample size tagged strain: {len(plot_data4[plot_data4.selection_subset==0])//2}')"
   ]
  }
 ],
 "metadata": {
  "kernelspec": {
   "display_name": "Python 3 (ipykernel)",
   "language": "python",
   "name": "python3"
  },
  "language_info": {
   "codemirror_mode": {
    "name": "ipython",
    "version": 3
   },
   "file_extension": ".py",
   "mimetype": "text/x-python",
   "name": "python",
   "nbconvert_exporter": "python",
   "pygments_lexer": "ipython3",
   "version": "3.8.12"
  }
 },
 "nbformat": 4,
 "nbformat_minor": 5
}
