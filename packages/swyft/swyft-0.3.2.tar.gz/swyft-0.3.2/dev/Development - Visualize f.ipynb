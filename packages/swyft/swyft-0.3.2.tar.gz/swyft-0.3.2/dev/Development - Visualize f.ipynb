{
 "cells": [
  {
   "cell_type": "code",
   "execution_count": 1,
   "metadata": {},
   "outputs": [],
   "source": [
    "import numpy as np\n",
    "import pylab as plt\n",
    "import swyft\n",
    "from swyft import utils\n",
    "import torch\n",
    "%load_ext autoreload\n",
    "%autoreload 2\n",
    "swyft.set_verbosity(5)"
   ]
  },
  {
   "cell_type": "code",
   "execution_count": 2,
   "metadata": {},
   "outputs": [],
   "source": [
    "DEVICE = 'cuda:0'"
   ]
  },
  {
   "cell_type": "code",
   "execution_count": 3,
   "metadata": {},
   "outputs": [],
   "source": [
    "def model(params, sigma = .1):\n",
    "    z = np.array(list(params.values()))\n",
    "    x = np.abs(z-0.5)*2  # 0 ... 1\n",
    "    return dict(x=x)"
   ]
  },
  {
   "cell_type": "code",
   "execution_count": 4,
   "metadata": {},
   "outputs": [],
   "source": [
    "def noise(obs, params, sigma = 0.1):\n",
    "    x = obs['x']\n",
    "    x = x + np.random.randn(*x.shape) * sigma\n",
    "    return dict(x=x)"
   ]
  },
  {
   "cell_type": "code",
   "execution_count": 30,
   "metadata": {},
   "outputs": [],
   "source": [
    "zdim=1\n",
    "params = [\"z\"+str(i) for i in range(zdim)]\n",
    "par0 = {k: 0.25 for k in params}\n",
    "obs0 = noise(model(par0), par0)\n",
    "obs1=model(par0)  # Asimov data"
   ]
  },
  {
   "cell_type": "code",
   "execution_count": 31,
   "metadata": {},
   "outputs": [],
   "source": [
    "prior = swyft.Prior({k: [\"uniform\", 0., 1.] for k in params})"
   ]
  },
  {
   "cell_type": "code",
   "execution_count": 32,
   "metadata": {},
   "outputs": [
    {
     "name": "stdout",
     "output_type": "stream",
     "text": [
      "Creating new cache.\n"
     ]
    }
   ],
   "source": [
    "s = swyft.NestedRatios(model, prior, noise = noise, obs = obs0, device = DEVICE, Ninit = 1000, Nmax=20000)"
   ]
  },
  {
   "cell_type": "code",
   "execution_count": 33,
   "metadata": {},
   "outputs": [
    {
     "name": "stderr",
     "output_type": "stream",
     "text": [
      "NRE round: R = 1\n",
      "Number of training samples is N_R = 1000\n",
      "Additional simulations are required after growing the cache.\n",
      "Simulate:  11%|█         | 116/1049 [00:00<00:00, 1151.01it/s]"
     ]
    },
    {
     "name": "stdout",
     "output_type": "stream",
     "text": [
      "  adding 1049 new samples to simulator cache.\n"
     ]
    },
    {
     "name": "stderr",
     "output_type": "stream",
     "text": [
      "Simulate: 100%|██████████| 1049/1049 [00:00<00:00, 1150.61it/s]\n",
      "Starting neural network training.\n",
      "Entering trainloop\n",
      "lr: 0.001\n",
      "validation loss = 1.247\n",
      "validation loss = 1.005\n",
      "validation loss = 1.069\n",
      "lr: 0.0001\n",
      "validation loss = 1.016\n",
      "validation loss = 0.977\n",
      "validation loss = 0.9901\n",
      "Train losses: [1.3488986286623725, 1.0391969084739685, 0.9219338811677078, 0.8856556970497658]\n",
      "Valid losses: [1.246727466583252, 1.004695475101471, 1.0159064730008442, 0.9770140449206034]\n",
      "Finished trainloop.\n",
      "constr_prior_R : prior_R volume = 0.9845 : 1\n",
      "Volume converged.\n"
     ]
    }
   ],
   "source": [
    "s.run(max_rounds=1, train_args = dict(lr_schedule = [1e-3, 1e-4]))"
   ]
  },
  {
   "cell_type": "code",
   "execution_count": 34,
   "metadata": {},
   "outputs": [],
   "source": [
    "indices = s.cache.sample(s._history[-1]['constr_prior'], 100)\n",
    "points = swyft.Points(indices, s._cache, s._noise)"
   ]
  },
  {
   "cell_type": "code",
   "execution_count": 35,
   "metadata": {},
   "outputs": [
    {
     "data": {
      "text/plain": [
       "array([[-0.46053484]], dtype=float32)"
      ]
     },
     "execution_count": 35,
     "metadata": {},
     "output_type": "execute_result"
    }
   ],
   "source": [
    "def test():\n",
    "    obs = utils.dict_to_tensor_unsqueeze(points[0]['obs'], device = DEVICE)\n",
    "    f = s._history[-1]['marginals'].ratio.head(obs).detach().cpu().numpy()\n",
    "    return f\n",
    "\n",
    "test()"
   ]
  },
  {
   "cell_type": "code",
   "execution_count": null,
   "metadata": {},
   "outputs": [],
   "source": []
  }
 ],
 "metadata": {
  "kernelspec": {
   "display_name": "Python 3",
   "language": "python",
   "name": "python3"
  },
  "language_info": {
   "codemirror_mode": {
    "name": "ipython",
    "version": 3
   },
   "file_extension": ".py",
   "mimetype": "text/x-python",
   "name": "python",
   "nbconvert_exporter": "python",
   "pygments_lexer": "ipython3",
   "version": "3.7.3"
  }
 },
 "nbformat": 4,
 "nbformat_minor": 4
}
