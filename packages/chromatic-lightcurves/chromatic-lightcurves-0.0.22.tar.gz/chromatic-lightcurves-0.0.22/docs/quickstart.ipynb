{
 "cells": [
  {
   "cell_type": "markdown",
   "id": "91653bb3",
   "metadata": {},
   "source": [
    "# 🌈 Quickstart\n",
    "\n",
    "Want to get started right away? You've come to the right place!"
   ]
  },
  {
   "cell_type": "code",
   "execution_count": null,
   "id": "7745c111",
   "metadata": {},
   "outputs": [],
   "source": [
    "from chromatic import *"
   ]
  },
  {
   "cell_type": "markdown",
   "id": "0854b09f",
   "metadata": {},
   "source": [
    "Let's create a blank simulated light curve, with some noise in it."
   ]
  },
  {
   "cell_type": "code",
   "execution_count": null,
   "id": "1b001e63",
   "metadata": {},
   "outputs": [],
   "source": [
    "r = SimulatedRainbow(\n",
    "    signal_to_noise=100, \n",
    "    dt=1*u.minute, \n",
    "    R=50)"
   ]
  },
  {
   "cell_type": "markdown",
   "id": "9eefcc12",
   "metadata": {},
   "source": [
    "Let's inject a transit into it."
   ]
  },
  {
   "cell_type": "code",
   "execution_count": null,
   "id": "6fb68d17",
   "metadata": {},
   "outputs": [],
   "source": [
    "i = r.inject_transit(\n",
    "    planet_radius=np.random.normal(0.1, 0.01, r.nwave)\n",
    ")"
   ]
  },
  {
   "cell_type": "markdown",
   "id": "cd7d4a6c",
   "metadata": {},
   "source": [
    "Let's display it with color representing the brightness at each wavelength/time point."
   ]
  },
  {
   "cell_type": "code",
   "execution_count": null,
   "id": "68c75b4f",
   "metadata": {},
   "outputs": [],
   "source": [
    "i.imshow();"
   ]
  },
  {
   "cell_type": "markdown",
   "id": "4af11191",
   "metadata": {},
   "source": [
    "Let's bin it, in wavelength and time."
   ]
  },
  {
   "cell_type": "code",
   "execution_count": null,
   "id": "b20d07f4",
   "metadata": {},
   "outputs": [],
   "source": [
    "b = i.bin(\n",
    "    dw=0.5*u.micron, dt=20*u.minute\n",
    ")"
   ]
  },
  {
   "cell_type": "markdown",
   "id": "8e3f0949",
   "metadata": {},
   "source": [
    "Let's do all of those actions in one (probably overly complicated) single command."
   ]
  },
  {
   "cell_type": "code",
   "execution_count": null,
   "id": "2cc08180",
   "metadata": {},
   "outputs": [],
   "source": [
    "SimulatedRainbow(\n",
    "    signal_to_noise=100, dt=1*u.minute, R=50\n",
    ").inject_transit(\n",
    "    planet_radius=np.random.normal(0.1, 0.01, r.nwave)\n",
    ").bin(\n",
    "    dw=0.5*u.micron, dt=20*u.minute\n",
    ").imshow();"
   ]
  },
  {
   "cell_type": "markdown",
   "id": "3d5f3274",
   "metadata": {},
   "source": [
    "Here you've seen some of the basic functionality of what `chromatic` can do. Please read on to learn more about reading a 🌈 from a real data file, doing actions on/with a 🌈, and visualizing a 🌈 in different ways!"
   ]
  }
 ],
 "metadata": {
  "kernelspec": {
   "display_name": "Python 3 (ipykernel)",
   "language": "python",
   "name": "python3"
  },
  "language_info": {
   "codemirror_mode": {
    "name": "ipython",
    "version": 3
   },
   "file_extension": ".py",
   "mimetype": "text/x-python",
   "name": "python",
   "nbconvert_exporter": "python",
   "pygments_lexer": "ipython3",
   "version": "3.9.5"
  }
 },
 "nbformat": 4,
 "nbformat_minor": 5
}
