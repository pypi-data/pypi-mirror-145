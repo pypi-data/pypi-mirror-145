{
 "cells": [
  {
   "cell_type": "markdown",
   "metadata": {},
   "source": [
    "# Basics of 🌈 Objects\n",
    "\n",
    "The core object is a `Rainbow`. Continually saying or typing “spectroscopic light curve” can get tiring, so we chose \"rainbow\" as a shorter name that is a little nicer to say/type. Also, every emphemeral 🌈 in nature is itself an expression of brightness as a function of wavelength and of time, so it hopefully kind of makes sense as a name!"
   ]
  },
  {
   "cell_type": "code",
   "execution_count": null,
   "metadata": {},
   "outputs": [],
   "source": [
    "from chromatic import *"
   ]
  },
  {
   "cell_type": "markdown",
   "metadata": {},
   "source": [
    "## What do you see from the outside? "
   ]
  },
  {
   "cell_type": "markdown",
   "metadata": {},
   "source": [
    "To users on the outside, all `Rainbow` objects will be guaranteed to have a few key properties. We'll make a simple simulated example to show what those are."
   ]
  },
  {
   "cell_type": "code",
   "execution_count": null,
   "metadata": {},
   "outputs": [],
   "source": [
    "# create a simulated spectroscopic light curve\n",
    "r = SimulatedRainbow()"
   ]
  },
  {
   "cell_type": "markdown",
   "metadata": {},
   "source": [
    "The **wavelength** property is a 1D array containing the wavelengths associated with the flux array, which can be accessed simply as `.wavelength`. It is a an `astropy` [Quantity](https://docs.astropy.org/en/stable/units/quantity.html), with units of wavelength associated with it."
   ]
  },
  {
   "cell_type": "code",
   "execution_count": null,
   "metadata": {},
   "outputs": [],
   "source": [
    "# access the 1D array of wavelengths\n",
    "print(f'The {r.nwave} wavelengths...')\n",
    "print(f'  have a shape of {r.wavelength.shape},')\n",
    "print(f'  a type of {type(r.wavelength)},')\n",
    "print(f'  units of {r.wavelength.unit}, and')\n",
    "print(f'  a dtype of {r.wavelength.dtype}')"
   ]
  },
  {
   "cell_type": "markdown",
   "metadata": {},
   "source": [
    "The **time** property is a 1D array containing the time associated with the flux array, which can be accessed simply as `.time`. It is a an `astropy` [Quantity](https://docs.astropy.org/en/stable/units/quantity.html), with units of time associated with it. *(Watch out! At some point we may switch it over to being an actual astropy `Time` object.)*"
   ]
  },
  {
   "cell_type": "code",
   "execution_count": null,
   "metadata": {},
   "outputs": [],
   "source": [
    "# access the 1D array of times\n",
    "print(f'The {r.ntime} times...')\n",
    "print(f'  have a shape of {r.time.shape},')\n",
    "print(f'  a type of {type(r.time)},')\n",
    "print(f'  units of {r.time.unit}, and')\n",
    "print(f'  a dtype of {r.time.dtype}')"
   ]
  },
  {
   "cell_type": "markdown",
   "metadata": {},
   "source": [
    "The **flux** property is a 2D array containing the flux associated with each combination of wavelength (row, axis 0) and time (column, axis 1), which can be accessed simply as `.flux`. It is unitless, and is generally meant to represent relative changes in flux, with values typically close to 1. *(Watch out! At some point we might let the fluxes have more general units -- photons, W/m$^2$/nm, MJy/sr -- ).*"
   ]
  },
  {
   "cell_type": "code",
   "execution_count": null,
   "metadata": {},
   "outputs": [],
   "source": [
    "# access the 2D array of fluxes\n",
    "print(f'The {r.nflux} fluxes...')\n",
    "print(f'  have a shape of {r.flux.shape},')\n",
    "print(f'  a type of {type(r.flux)},')\n",
    "print(f'  a dtype of {r.flux.dtype}')"
   ]
  },
  {
   "cell_type": "markdown",
   "metadata": {},
   "source": [
    "The **uncertainty** property is a 2D array containing the uncertainty associated with each flux point, which can be accessed as `s.uncertainty`. It should have the same units and scale as `flux`, whatever those are. "
   ]
  },
  {
   "cell_type": "code",
   "execution_count": null,
   "metadata": {},
   "outputs": [],
   "source": [
    "# access the 2D array of times\n",
    "print(f'The {r.nflux} uncertainties...')\n",
    "print(f'  have a shape of {r.uncertainty.shape},')\n",
    "print(f'  a type of {type(r.uncertainty)},')\n",
    "print(f'  a dtype of {r.uncertainty.dtype}')"
   ]
  },
  {
   "cell_type": "markdown",
   "metadata": {},
   "source": [
    "*(Doesn't exist yet but hopefully will soon...)* The **ok** property is a 2D array indicating whether a particular flux data point is good (`True`) or bad (`False`)."
   ]
  },
  {
   "cell_type": "code",
   "execution_count": null,
   "metadata": {},
   "outputs": [],
   "source": [
    "'''# access the 2D array of times\n",
    "print(f'The {r.nflux} `ok` mask values...')\n",
    "print(f'  have a shape of {s.ok.shape},')\n",
    "print(f'  a type of {type(s.ok)},')\n",
    "print(f'  a dtype of {s.ok.dtype}')''';"
   ]
  },
  {
   "cell_type": "markdown",
   "metadata": {},
   "source": [
    "## How does it look inside? "
   ]
  },
  {
   "cell_type": "markdown",
   "metadata": {},
   "source": [
    "*If you don't want to know what's happening behind the scenes, feel free to skip this section.* If you want to look more closely at what's happening inside a `Rainbow` object, these properties are being pulled from some core dictionaries. You don't need to interact with these at all if you don't want to, but we describe them here in case you want to understand what's happening a little more clearly or if you want to add any new features of your own.\n",
    "\n",
    "These are designed to store quantities that have dimensions like either `wavelength`, `time`, or `flux`:\n",
    "- `.wavelike[...]` contains everything that has the same dimensions as `wavelength`. This dictionary will contain at least a `'wavelength'` key, with the actual wavelengths themselves. It might *also* contain information like the average spectrum of the star, the average S/N at each wavelength, the number of original detector pixels that wound up in this particular wavelength bin, and/or a mask of what wavelengths should be considered good or bad (no matter the time point). \n",
    "- `.timelike[...]` contains everything that has the same dimensons as `time`. This dictionary will contain at least a `'time'` key, with the actual times themselves. It might *also* contain information like a broadband light curve of the transit, the x or y position of the spectrum on the detector, the temperature of the detector, and/or a mask of what times should be considered good or bad (no matter the wavelength).\n",
    "- `.fluxlike[...]` contains everything that has the same dimensons as `flux`. This dictionary will contain at least a `'flux'` key, with the actual fluxes themselves. It should also contain an `'uncertainty'` keyword with the uncertainties associated with those fluxes (or maybe `None`). It might *also* contain information about other quantities that depend on both time and wavelength, such as the centroid of the spectral trace, the maximum fraction of saturation, and/or a mask of what individual points should be considered good or bad.\n",
    "\n",
    "There is one more core dictionary:\n",
    "- `.metadata` contains general information that might be useful to hang onto, to pass along to another derived object, or to save out to a file"
   ]
  },
  {
   "cell_type": "code",
   "execution_count": null,
   "metadata": {},
   "outputs": [],
   "source": [
    "r.wavelike.keys()"
   ]
  },
  {
   "cell_type": "code",
   "execution_count": null,
   "metadata": {},
   "outputs": [],
   "source": [
    "r.timelike.keys()"
   ]
  },
  {
   "cell_type": "code",
   "execution_count": null,
   "metadata": {},
   "outputs": [],
   "source": [
    "r.fluxlike.keys()"
   ]
  },
  {
   "cell_type": "code",
   "execution_count": null,
   "metadata": {},
   "outputs": [],
   "source": [
    "r.metadata.keys()"
   ]
  },
  {
   "cell_type": "markdown",
   "metadata": {},
   "source": [
    "When you call something like `.wavelength`, `.time`, `.flux`, they are being pulled directly from these dictionaries. This means you generally can't do something like `r.wavelength = 5`; if you want to (very carefully and with an understanding you might break things) change the values of something being pulled from a core dictionary, you need to explicitly say `r.wavelike['wavelength'] = 5`."
   ]
  }
 ],
 "metadata": {
  "kernelspec": {
   "display_name": "Python 3 (ipykernel)",
   "language": "python",
   "name": "python3"
  },
  "language_info": {
   "codemirror_mode": {
    "name": "ipython",
    "version": 3
   },
   "file_extension": ".py",
   "mimetype": "text/x-python",
   "name": "python",
   "nbconvert_exporter": "python",
   "pygments_lexer": "ipython3",
   "version": "3.9.5"
  }
 },
 "nbformat": 4,
 "nbformat_minor": 4
}
