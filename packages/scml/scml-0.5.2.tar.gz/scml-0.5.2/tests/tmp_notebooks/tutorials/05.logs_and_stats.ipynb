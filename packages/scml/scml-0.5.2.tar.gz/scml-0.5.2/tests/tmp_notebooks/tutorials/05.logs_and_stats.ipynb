{
 "cells": [
  {
   "cell_type": "code",
   "execution_count": 1,
   "id": "remarkable-plastic",
   "metadata": {
    "execution": {
     "iopub.execute_input": "2022-02-16T09:01:17.032534Z",
     "iopub.status.busy": "2022-02-16T09:01:17.031452Z",
     "iopub.status.idle": "2022-02-16T09:01:18.497923Z",
     "shell.execute_reply": "2022-02-16T09:01:18.498929Z"
    },
    "papermill": {
     "duration": 1.497961,
     "end_time": "2022-02-16T09:01:18.499619",
     "exception": false,
     "start_time": "2022-02-16T09:01:17.001658",
     "status": "completed"
    },
    "tags": [
     "remove_cell"
    ]
   },
   "outputs": [
    {
     "data": {
      "text/html": [
       "<style>.container { width:95% !important; }</style>"
      ],
      "text/plain": [
       "<IPython.core.display.HTML object>"
      ]
     },
     "metadata": {},
     "output_type": "display_data"
    }
   ],
   "source": [
    "%matplotlib inline\n",
    "import warnings\n",
    "warnings.filterwarnings('ignore')\n",
    "# setup disply parameters\n",
    "from matplotlib import pylab as plt\n",
    "import seaborn as sns\n",
    "from matplotlib.ticker import StrMethodFormatter\n",
    "float_formatter = StrMethodFormatter('{x:0.03f}')\n",
    "from IPython.core.display import display, HTML\n",
    "display(HTML(\"<style>.container { width:95% !important; }</style>\"))\n",
    "SMALL_SIZE = 14\n",
    "MEDIUM_SIZE = 16\n",
    "BIGGER_SIZE = 20\n",
    "\n",
    "plt.rc('font', size=SMALL_SIZE)          # controls default text sizes\n",
    "plt.rc('axes', titlesize=SMALL_SIZE)     # fontsize of the axes title\n",
    "plt.rc('axes', labelsize=MEDIUM_SIZE)    # fontsize of the x and y labels\n",
    "plt.rc('xtick', labelsize=SMALL_SIZE)    # fontsize of the tick labels\n",
    "plt.rc('ytick', labelsize=SMALL_SIZE)    # fontsize of the tick labels\n",
    "plt.rc('legend', fontsize=SMALL_SIZE)    # legend fontsize\n",
    "plt.rc('figure', titlesize=BIGGER_SIZE)  # fontsize of the figure title\n",
    "plt.rc('figure', figsize=(18, 6)) # set figure size\n",
    "plt.rc(\"animation\", html=\"html5\")\n"
   ]
  },
  {
   "cell_type": "code",
   "execution_count": 2,
   "id": "experimental-vacation",
   "metadata": {
    "execution": {
     "iopub.execute_input": "2022-02-16T09:01:18.544427Z",
     "iopub.status.busy": "2022-02-16T09:01:18.543539Z",
     "iopub.status.idle": "2022-02-16T09:01:18.545466Z",
     "shell.execute_reply": "2022-02-16T09:01:18.545861Z"
    },
    "papermill": {
     "duration": 0.027577,
     "end_time": "2022-02-16T09:01:18.546089",
     "exception": false,
     "start_time": "2022-02-16T09:01:18.518512",
     "status": "completed"
    },
    "tags": [
     "remove_cell"
    ]
   },
   "outputs": [],
   "source": [
    "import pandas as pd\n",
    "import numpy as np\n",
    "from time import sleep\n",
    "from pprint import pprint"
   ]
  },
  {
   "cell_type": "code",
   "execution_count": 3,
   "id": "monthly-medicine",
   "metadata": {
    "execution": {
     "iopub.execute_input": "2022-02-16T09:01:18.603241Z",
     "iopub.status.busy": "2022-02-16T09:01:18.602206Z",
     "iopub.status.idle": "2022-02-16T09:01:18.696212Z",
     "shell.execute_reply": "2022-02-16T09:01:18.685215Z"
    },
    "papermill": {
     "duration": 0.12644,
     "end_time": "2022-02-16T09:01:18.696426",
     "exception": false,
     "start_time": "2022-02-16T09:01:18.569986",
     "status": "completed"
    },
    "tags": [
     "remove_cell"
    ]
   },
   "outputs": [],
   "source": [
    "%%capture\n",
    "from tqdm import tqdm_notebook as tqdm\n",
    "tqdm().pandas()"
   ]
  },
  {
   "cell_type": "markdown",
   "id": "peaceful-aerospace",
   "metadata": {
    "papermill": {
     "duration": 0.035048,
     "end_time": "2022-02-16T09:01:18.747335",
     "exception": false,
     "start_time": "2022-02-16T09:01:18.712287",
     "status": "completed"
    },
    "tags": []
   },
   "source": [
    "## Logging and Statistics"
   ]
  },
  {
   "cell_type": "markdown",
   "id": "neural-immigration",
   "metadata": {
    "papermill": {
     "duration": 0.020892,
     "end_time": "2022-02-16T09:01:18.784889",
     "exception": false,
     "start_time": "2022-02-16T09:01:18.763997",
     "status": "completed"
    },
    "tags": []
   },
   "source": [
    "In this tutorial we will describe how to utilize the logging facilities provided in the NegMAS library for developing SCML agents and analyzing their behavior.\n",
    "\n",
    "Most of the data in this tutorial apply equally to `SCML2020`, `SCML2021` and `SCML-OneShot` simulations.\n",
    "\n",
    "### Types of Logs\n",
    "\n",
    "NegMAS provides two main types of logs:\n",
    "\n",
    "- **System Logs** These types of logs all go to a single log file. System logs are recorded using **loginfo/debug/warning/error** methods of the world/agent-world-interface.\n",
    "- **Agent Logs** Go to a dedicated file for each agent. Agent logs are recoreded using the **log\\*_agent** family of functions in the world/agent-world interface.\n",
    "\n",
    "For example, you can log a debug method to the agent log using:\n",
    "\n",
    "```python\n",
    "self.awi.logdebug_agent(\"My Message\")\n",
    "```\n",
    "\n",
    "You can also log a system debug message (that goes to the central log file of the world) using:\n",
    "\n",
    "```python\n",
    "self.awi.logdebug(\"My Message\")\n",
    "```\n",
    "\n",
    "### Primer on logging in negmas\n",
    "\n",
    "Logs are generated by default whenever you run a world simulation in NegMAS (and SCML). Let's just run a simulation to see where are logs stored"
   ]
  },
  {
   "cell_type": "code",
   "execution_count": 4,
   "id": "inclusive-estate",
   "metadata": {
    "execution": {
     "iopub.execute_input": "2022-02-16T09:01:18.855057Z",
     "iopub.status.busy": "2022-02-16T09:01:18.851170Z",
     "iopub.status.idle": "2022-02-16T09:01:19.206904Z",
     "shell.execute_reply": "2022-02-16T09:01:19.207561Z"
    },
    "papermill": {
     "duration": 0.396935,
     "end_time": "2022-02-16T09:01:19.207791",
     "exception": false,
     "start_time": "2022-02-16T09:01:18.810856",
     "status": "completed"
    },
    "tags": []
   },
   "outputs": [],
   "source": [
    "!rm -r ~/negmas/logs/test_world"
   ]
  },
  {
   "cell_type": "code",
   "execution_count": 5,
   "id": "recorded-rider",
   "metadata": {
    "execution": {
     "iopub.execute_input": "2022-02-16T09:01:19.261222Z",
     "iopub.status.busy": "2022-02-16T09:01:19.259876Z",
     "iopub.status.idle": "2022-02-16T09:01:20.655541Z",
     "shell.execute_reply": "2022-02-16T09:01:20.656063Z"
    },
    "papermill": {
     "duration": 1.42182,
     "end_time": "2022-02-16T09:01:20.656268",
     "exception": false,
     "start_time": "2022-02-16T09:01:19.234448",
     "status": "completed"
    },
    "tags": []
   },
   "outputs": [],
   "source": [
    "from scml import SCML2020World\n",
    "from scml import DecentralizingAgent, RandomAgent, DoNothingAgent, DecentralizingAgentWithLogging\n",
    "\n",
    "# create and run the world\n",
    "world = SCML2020World(\n",
    "    **SCML2020World.generate(\n",
    "        agent_types=[DoNothingAgent], \n",
    "        n_steps=10, \n",
    "        n_processes=2,   \n",
    "        name=\"test_world\"\n",
    "    )\n",
    ")\n",
    "world.loginfo(\"This is a test message\")"
   ]
  },
  {
   "cell_type": "markdown",
   "id": "constant-belief",
   "metadata": {
    "papermill": {
     "duration": 0.021922,
     "end_time": "2022-02-16T09:01:20.693695",
     "exception": false,
     "start_time": "2022-02-16T09:01:20.671773",
     "status": "completed"
    },
    "tags": []
   },
   "source": [
    "where there any logs generated and where are they?\n",
    "\n",
    "By defaults, all logs for SCML 2020 world simulations go to the folder **~/negmas/logs/{world_name}** and all logs and statistics for tournaments go to **~/negmas/tournament/scml/scml2020/{tournament_name}** with logs and statistics for specific worlds going to **~/negmas/tournament/scml/scml2020/{tournament_name}/{world_name}**\n",
    "\n",
    "Let's check our logs"
   ]
  },
  {
   "cell_type": "code",
   "execution_count": 6,
   "id": "transparent-montgomery",
   "metadata": {
    "execution": {
     "iopub.execute_input": "2022-02-16T09:01:20.730087Z",
     "iopub.status.busy": "2022-02-16T09:01:20.728395Z",
     "iopub.status.idle": "2022-02-16T09:01:20.992647Z",
     "shell.execute_reply": "2022-02-16T09:01:20.993294Z"
    },
    "papermill": {
     "duration": 0.284716,
     "end_time": "2022-02-16T09:01:20.993523",
     "exception": false,
     "start_time": "2022-02-16T09:01:20.708807",
     "status": "completed"
    },
    "tags": []
   },
   "outputs": [
    {
     "name": "stdout",
     "output_type": "stream",
     "text": [
      "\u001b[01;34m/Users/yasser/negmas/logs/test_world\u001b[00m\r\n",
      "├── \u001b[01;34m_agent_logs\u001b[00m\r\n",
      "├── events.json\r\n",
      "└── log.txt\r\n",
      "\r\n",
      "1 directory, 2 files\r\n"
     ]
    }
   ],
   "source": [
    "!tree ~/negmas/logs/test_world\n"
   ]
  },
  {
   "cell_type": "markdown",
   "id": "eleven-corruption",
   "metadata": {
    "papermill": {
     "duration": 0.015709,
     "end_time": "2022-02-16T09:01:21.026585",
     "exception": false,
     "start_time": "2022-02-16T09:01:21.010876",
     "status": "completed"
    },
    "tags": []
   },
   "source": [
    "As you can see, there is a folder called **_agent_logs** that will store all agent logs (in dedicated files) if the agents save logs. Moreover, there is a **log.txt** file which contains the global logs. Let's just check what is in it\n"
   ]
  },
  {
   "cell_type": "markdown",
   "id": "exempt-ambassador",
   "metadata": {
    "papermill": {
     "duration": 0.015223,
     "end_time": "2022-02-16T09:01:21.063186",
     "exception": false,
     "start_time": "2022-02-16T09:01:21.047963",
     "status": "completed"
    },
    "tags": []
   },
   "source": [
    "Now we have agent logs. We can inspect one of them"
   ]
  },
  {
   "cell_type": "code",
   "execution_count": 7,
   "id": "concerned-poultry",
   "metadata": {
    "execution": {
     "iopub.execute_input": "2022-02-16T09:01:21.106060Z",
     "iopub.status.busy": "2022-02-16T09:01:21.105168Z",
     "iopub.status.idle": "2022-02-16T09:01:21.109089Z",
     "shell.execute_reply": "2022-02-16T09:01:21.109566Z"
    },
    "papermill": {
     "duration": 0.028072,
     "end_time": "2022-02-16T09:01:21.109825",
     "exception": false,
     "start_time": "2022-02-16T09:01:21.081753",
     "status": "completed"
    },
    "scrolled": true,
    "tags": []
   },
   "outputs": [
    {
     "name": "stdout",
     "output_type": "stream",
     "text": [
      "2022-02-16 18:01:20,643 - INFO - 0/10 [0.00%]: test_world: World Created\n",
      "\n",
      "2022-02-16 18:01:20,644 - INFO - 0/10 [0.00%]: 00DoN@0 joined\n",
      "\n",
      "2022-02-16 18:01:20,647 - INFO - 0/10 [0.00%]: 01DoN@0 joined\n",
      "\n",
      "2022-02-16 18:01:20,647 - INFO - 0/10 [0.00%]: 02DoN@1 joined\n",
      "\n",
      "2022-02-16 18:01:20,648 - INFO - 0/10 [0.00%]: 03DoN@1 joined\n",
      "\n",
      "2022-02-16 18:01:20,648 - INFO - 0/10 [0.00%]: SELLER joined\n",
      "\n",
      "2022-02-16 18:01:20,648 - INFO - 0/10 [0.00%]: BUYER joined\n",
      "\n",
      "2022-02-16 18:01:20,651 - INFO - 0/10 [0.00%]: This is a test message\n",
      "\n"
     ]
    }
   ],
   "source": [
    "from pathlib import Path\n",
    "with open(Path.home() /\"negmas\" / \"logs\" / world.name / \"log.txt\", \"r\") as f:\n",
    "    [print(_) for _ in f.readlines()[:10]]"
   ]
  },
  {
   "cell_type": "markdown",
   "id": "otherwise-seeking",
   "metadata": {
    "papermill": {
     "duration": 0.035101,
     "end_time": "2022-02-16T09:01:21.171867",
     "exception": false,
     "start_time": "2022-02-16T09:01:21.136766",
     "status": "completed"
    },
    "tags": []
   },
   "source": [
    "All log entries start with a time-stamp followed by the log type (INFO/DEBUG/WARNING/ERROR/CRITICAL) and the step number (day) then the number of steps and the percentage of the simulation steps passed and finally the message.\n",
    "\n",
    "The world keeps some basic logs like who joined but near the end we can see our message.\n",
    "\n",
    "Most likely you will not need to save directly the system logs but can save debugging information in the agent logs. Some builtin agents do that (e.g. DecentralizingAgent). Let's check an exmple:"
   ]
  },
  {
   "cell_type": "code",
   "execution_count": 8,
   "id": "external-tonight",
   "metadata": {
    "execution": {
     "iopub.execute_input": "2022-02-16T09:01:21.224044Z",
     "iopub.status.busy": "2022-02-16T09:01:21.223051Z",
     "iopub.status.idle": "2022-02-16T09:01:21.461666Z",
     "shell.execute_reply": "2022-02-16T09:01:21.461003Z"
    },
    "papermill": {
     "duration": 0.262034,
     "end_time": "2022-02-16T09:01:21.461869",
     "exception": false,
     "start_time": "2022-02-16T09:01:21.199835",
     "status": "completed"
    },
    "tags": []
   },
   "outputs": [],
   "source": [
    "!rm -r ~/negmas/logs/test_world"
   ]
  },
  {
   "cell_type": "code",
   "execution_count": 9,
   "id": "exterior-dragon",
   "metadata": {
    "execution": {
     "iopub.execute_input": "2022-02-16T09:01:21.514100Z",
     "iopub.status.busy": "2022-02-16T09:01:21.513408Z",
     "iopub.status.idle": "2022-02-16T09:01:22.760460Z",
     "shell.execute_reply": "2022-02-16T09:01:22.761074Z"
    },
    "papermill": {
     "duration": 1.279138,
     "end_time": "2022-02-16T09:01:22.761309",
     "exception": false,
     "start_time": "2022-02-16T09:01:21.482171",
     "status": "completed"
    },
    "tags": []
   },
   "outputs": [],
   "source": [
    "SCML2020World(\n",
    "    **SCML2020World.generate(\n",
    "        agent_types=[DecentralizingAgentWithLogging], \n",
    "        n_steps=10, \n",
    "        n_processes=2,   \n",
    "        name=\"test_world\"\n",
    "    )\n",
    ").run()"
   ]
  },
  {
   "cell_type": "code",
   "execution_count": 10,
   "id": "paperback-millennium",
   "metadata": {
    "execution": {
     "iopub.execute_input": "2022-02-16T09:01:22.806878Z",
     "iopub.status.busy": "2022-02-16T09:01:22.805419Z",
     "iopub.status.idle": "2022-02-16T09:01:23.096122Z",
     "shell.execute_reply": "2022-02-16T09:01:23.096732Z"
    },
    "papermill": {
     "duration": 0.316913,
     "end_time": "2022-02-16T09:01:23.096965",
     "exception": false,
     "start_time": "2022-02-16T09:01:22.780052",
     "status": "completed"
    },
    "tags": []
   },
   "outputs": [
    {
     "name": "stdout",
     "output_type": "stream",
     "text": [
      "\u001b[01;34m/Users/yasser/negmas/logs/test_world\u001b[00m\r\n"
     ]
    },
    {
     "name": "stdout",
     "output_type": "stream",
     "text": [
      "├── \u001b[01;34m_agent_logs\u001b[00m\r\n",
      "│   ├── 00DWL@0.txt\r\n",
      "│   ├── 01DWL@0.txt\r\n",
      "│   ├── 02DWL@1.txt\r\n",
      "│   └── 03DWL@1.txt\r\n",
      "└── events.json\r\n",
      "\r\n",
      "1 directory, 5 files\r\n"
     ]
    }
   ],
   "source": [
    "!tree ~/negmas/logs/test_world\n"
   ]
  },
  {
   "cell_type": "code",
   "execution_count": 11,
   "id": "separated-cabin",
   "metadata": {
    "execution": {
     "iopub.execute_input": "2022-02-16T09:01:23.144381Z",
     "iopub.status.busy": "2022-02-16T09:01:23.143641Z",
     "iopub.status.idle": "2022-02-16T09:01:23.146978Z",
     "shell.execute_reply": "2022-02-16T09:01:23.147430Z"
    },
    "papermill": {
     "duration": 0.032734,
     "end_time": "2022-02-16T09:01:23.147677",
     "exception": false,
     "start_time": "2022-02-16T09:01:23.114943",
     "status": "completed"
    },
    "tags": []
   },
   "outputs": [
    {
     "name": "stdout",
     "output_type": "stream",
     "text": [
      "2022-02-16 18:01:21,594 - DEBUG - 0/10 [0.00%]: 01DWL@0 requested to sell 1 to 02DWL@1 q: (1, 10), u: (8, 26), t: (1, 6)\n",
      "\n",
      "2022-02-16 18:01:21,595 - INFO - 0/10 [0.00%]: 01DWL@0 requested negotiation with ['01DWL@0', '02DWL@1'] (ID 8446fb6b-8ebd-433d-ae1a-5b9a098c02c2)\n",
      "\n",
      "2022-02-16 18:01:21,597 - INFO - 0/10 [0.00%]: 01DWL@0 request was accepted\n",
      "\n",
      "2022-02-16 18:01:21,597 - DEBUG - 0/10 [0.00%]: 01DWL@0 requested to sell 1 to 03DWL@1 q: (1, 10), u: (8, 26), t: (1, 6)\n",
      "\n",
      "2022-02-16 18:01:21,598 - INFO - 0/10 [0.00%]: 01DWL@0 requested negotiation with ['01DWL@0', '03DWL@1'] (ID 2d1b80ca-6f27-4de0-9f0b-fc1df1299d0e)\n",
      "\n",
      "2022-02-16 18:01:21,599 - INFO - 0/10 [0.00%]: 01DWL@0 request was accepted\n",
      "\n",
      "2022-02-16 18:01:21,600 - DEBUG - 0/10 [0.00%]: 01DWL@0 requested to sell 1 to 02DWL@1 q: (1, 10), u: (8, 26), t: (2, 7)\n",
      "\n",
      "2022-02-16 18:01:21,601 - INFO - 0/10 [0.00%]: 01DWL@0 requested negotiation with ['01DWL@0', '02DWL@1'] (ID ed8a14a0-1921-4ccd-adbd-6ffc9bb0ba51)\n",
      "\n",
      "2022-02-16 18:01:21,602 - INFO - 0/10 [0.00%]: 01DWL@0 request was accepted\n",
      "\n",
      "2022-02-16 18:01:21,602 - DEBUG - 0/10 [0.00%]: 01DWL@0 requested to sell 1 to 03DWL@1 q: (1, 10), u: (8, 26), t: (2, 7)\n",
      "\n"
     ]
    }
   ],
   "source": [
    "from pathlib import Path\n",
    "with open(Path.home() /\"negmas\" / \"logs\" / world.name / \"_agent_logs\" / \"00DWL@0.txt\", \"r\") as f:\n",
    "    [print(_) for _ in f.readlines()[:10]]"
   ]
  },
  {
   "cell_type": "markdown",
   "id": "imposed-deadline",
   "metadata": {
    "papermill": {
     "duration": 0.026234,
     "end_time": "2022-02-16T09:01:23.192457",
     "exception": false,
     "start_time": "2022-02-16T09:01:23.166223",
     "status": "completed"
    },
    "tags": []
   },
   "source": [
    "The format is familiar with the same header information at every line plus the message (which can span multiple lines). \n",
    "\n",
    "SCML2020Agent class defines a property called **internal_state** which is just a `dict`. Several builtin strategies (e.g. TradningStrategy, NegotiationManager) log debugging information by just dumping this internal-state to file. You can hook into this mechanism by adding your own key-value pairs to the internal-state. An example can be seen in the `TradingStrategy` class. \n",
    "\n",
    "You do not need to use this internal-state mechanism. You can just use **logdebug_agent** for example to log information into your agent log file. \n"
   ]
  },
  {
   "cell_type": "markdown",
   "id": "exterior-injection",
   "metadata": {
    "papermill": {
     "duration": 0.039226,
     "end_time": "2022-02-16T09:01:23.251603",
     "exception": false,
     "start_time": "2022-02-16T09:01:23.212377",
     "status": "completed"
    },
    "tags": []
   },
   "source": [
    "### Controlling logging\n",
    "You can control several aspects of logging using **log_\\*** parameters of the world constructor. These parameters can also be passed to world generation method (**SCML2020World.generate**) and to all tournament creation functions (i.e. **anac2020std**, **anac2020collusion**, **tournament**, etc).\n",
    "\n",
    "This is a full list of these parameters:\n",
    "\n",
    "- **compact** If true, it will prevent all logs except errors among other optmizations to speedup the simulation and reduce the memory-footprint. Default is False when running a single world and True when running a tournament\n",
    "- **no_logs** If true, it stops all logging. It overrides everything else. Default is False\n",
    "- **log_folder** Gives a folder to save the logs (default is ~/negmas/logs). Note that -- by default -- that is alse where all statistics are saved.\n",
    "- **log_to_file**: If false, will disable the system log (but not agent logs). Default is True\n",
    "- **log_file_name**: Name of the system log file. By default it is \"log.txt\"\n",
    "- **event_file_name**: Name of the a file to store events (structured logs) to. By default it is \"events.json\"\n",
    "- **log_file_level**: The minimum log-level to save to file (WARNING, ERROR, INFO, DEBUG, CRITICAL, ...). Default is DEGUG to save everything\n",
    "- **log_ufuns**: Log utility functions. If True, all utility functions will be saved to a folder inside the *log_folder* (experimental and extremely slow). Default is False\n",
    "- **log_negotiations**: Log all negotiation events (e.g. all exchagned offers and counter offers). This will slow down the simulation and increase the memory-footprint considerably if enabled. Default is False.\n",
    "- **log_to_screen**: If True, some logs (controlled by `log_screen_level` ) will be printed to the screen. Default is False.\n",
    "- **log_screen_level**: The log-level to show on screen (WARNING, ERROR, INFO, DEBUG, CRITICAL, ...) if `log_to_screen` is True. Default is ERROR.\n",
    "- **log_stats_every**: If nonzero and positive, the period of saving statistics to the `log_folder`. Default is zero leading to no auto-saving of statistics.\n",
    "- **construct_graphs**: If true, information needed to draw graphs using `draw` method are kept. Default is False.\n",
    "\n",
    "Let's try changing some of these:\n"
   ]
  },
  {
   "cell_type": "code",
   "execution_count": 12,
   "id": "failing-teaching",
   "metadata": {
    "execution": {
     "iopub.execute_input": "2022-02-16T09:01:23.319683Z",
     "iopub.status.busy": "2022-02-16T09:01:23.318691Z",
     "iopub.status.idle": "2022-02-16T09:01:23.593856Z",
     "shell.execute_reply": "2022-02-16T09:01:23.594760Z"
    },
    "papermill": {
     "duration": 0.311355,
     "end_time": "2022-02-16T09:01:23.595395",
     "exception": false,
     "start_time": "2022-02-16T09:01:23.284040",
     "status": "completed"
    },
    "tags": []
   },
   "outputs": [],
   "source": [
    "!rm -r ~/negmas/logs/test_world"
   ]
  },
  {
   "cell_type": "code",
   "execution_count": 13,
   "id": "deadly-lounge",
   "metadata": {
    "execution": {
     "iopub.execute_input": "2022-02-16T09:01:23.663913Z",
     "iopub.status.busy": "2022-02-16T09:01:23.662097Z",
     "iopub.status.idle": "2022-02-16T09:01:25.991341Z",
     "shell.execute_reply": "2022-02-16T09:01:25.991789Z"
    },
    "papermill": {
     "duration": 2.370449,
     "end_time": "2022-02-16T09:01:25.991985",
     "exception": false,
     "start_time": "2022-02-16T09:01:23.621536",
     "status": "completed"
    },
    "tags": []
   },
   "outputs": [],
   "source": [
    "SCML2020World(\n",
    "    **SCML2020World.generate(\n",
    "        agent_types=[DecentralizingAgentWithLogging], \n",
    "        n_steps=10, \n",
    "        n_processes=2,   \n",
    "        name=\"test_world\",\n",
    "        log_stats_every=2,\n",
    "    )\n",
    ").run()"
   ]
  },
  {
   "cell_type": "code",
   "execution_count": 14,
   "id": "streaming-hobby",
   "metadata": {
    "execution": {
     "iopub.execute_input": "2022-02-16T09:01:26.084841Z",
     "iopub.status.busy": "2022-02-16T09:01:26.083530Z",
     "iopub.status.idle": "2022-02-16T09:01:26.415933Z",
     "shell.execute_reply": "2022-02-16T09:01:26.416924Z"
    },
    "papermill": {
     "duration": 0.406334,
     "end_time": "2022-02-16T09:01:26.417283",
     "exception": false,
     "start_time": "2022-02-16T09:01:26.010949",
     "status": "completed"
    },
    "scrolled": true,
    "tags": []
   },
   "outputs": [
    {
     "name": "stdout",
     "output_type": "stream",
     "text": [
      "\u001b[01;34m/Users/yasser/negmas/logs/test_world\u001b[00m\r\n",
      "├── \u001b[01;34m_agent_logs\u001b[00m\r\n",
      "│   ├── 00DWL@0.txt\r\n",
      "│   ├── 01DWL@0.txt\r\n",
      "│   ├── 02DWL@1.txt\r\n",
      "│   └── 03DWL@1.txt\r\n",
      "├── agents.json\r\n",
      "├── breaches.csv\r\n",
      "├── contracts.csv\r\n",
      "├── events.json\r\n",
      "├── info.json\r\n",
      "├── negotiations.csv\r\n",
      "├── params.json\r\n",
      "├── stats.csv\r\n",
      "└── stats.csv.csv\r\n",
      "\r\n",
      "1 directory, 13 files\r\n"
     ]
    }
   ],
   "source": [
    "!tree ~/negmas/logs/test_world"
   ]
  },
  {
   "cell_type": "markdown",
   "id": "collective-sympathy",
   "metadata": {
    "papermill": {
     "duration": 0.032817,
     "end_time": "2022-02-16T09:01:26.472448",
     "exception": false,
     "start_time": "2022-02-16T09:01:26.439631",
     "status": "completed"
    },
    "tags": []
   },
   "source": [
    "Now we can see that many more files are created in the log folder. These files keep a wealth of information to understand what happened in this world.\n",
    "You can save the same files using negmas builtin `save_stats` method without needing to enable periodic saving using `log_stats_every`. Here is an example:\n"
   ]
  },
  {
   "cell_type": "code",
   "execution_count": 15,
   "id": "fiscal-aluminum",
   "metadata": {
    "execution": {
     "iopub.execute_input": "2022-02-16T09:01:26.550350Z",
     "iopub.status.busy": "2022-02-16T09:01:26.549402Z",
     "iopub.status.idle": "2022-02-16T09:01:32.630132Z",
     "shell.execute_reply": "2022-02-16T09:01:32.631122Z"
    },
    "papermill": {
     "duration": 6.122806,
     "end_time": "2022-02-16T09:01:32.631427",
     "exception": false,
     "start_time": "2022-02-16T09:01:26.508621",
     "status": "completed"
    },
    "tags": []
   },
   "outputs": [
    {
     "name": "stdout",
     "output_type": "stream",
     "text": [
      "\u001b[01;34m/Users/yasser/negmas/logs/test_world\u001b[00m\r\n",
      "├── \u001b[01;34m_agent_logs\u001b[00m\r\n",
      "├── agents.json\r\n",
      "├── breaches.csv\r\n",
      "├── contracts.csv\r\n",
      "├── events.json\r\n",
      "├── info.json\r\n",
      "├── negotiations.csv\r\n",
      "├── params.json\r\n",
      "├── stats.csv\r\n",
      "└── stats.json\r\n",
      "\r\n",
      "1 directory, 9 files\r\n"
     ]
    }
   ],
   "source": [
    "!rm -r ~/negmas/logs/test_world\n",
    "from negmas import save_stats\n",
    "world = SCML2020World(\n",
    "    **SCML2020World.generate(\n",
    "        agent_types=[DecentralizingAgent], \n",
    "        n_steps=10, \n",
    "        n_processes=2,   \n",
    "        name=\"test_world\"\n",
    "    )\n",
    ")\n",
    "world.run()\n",
    "save_stats(world, world.log_folder)\n",
    "!tree ~/negmas/logs/test_world"
   ]
  },
  {
   "cell_type": "markdown",
   "id": "vertical-hebrew",
   "metadata": {
    "papermill": {
     "duration": 0.035335,
     "end_time": "2022-02-16T09:01:32.702957",
     "exception": false,
     "start_time": "2022-02-16T09:01:32.667622",
     "status": "completed"
    },
    "tags": []
   },
   "source": [
    "## Getting infromation about a simulation\n",
    "\n",
    "Let's examine each of the files `save_stats` saves in your `log_folder` in turn:\n",
    "\n",
    "- **World information**\n",
    "\n",
    "    - **params.json** The parameters passed to the world constructor (SCML2020World.__init__).\n",
    "    - **info.json** Information about the world. You can pass extra information to be saved here while constructing the world through the **info** parameter of the contractor as a dictionary of key-value pairs (all keys must be strings). \n",
    "    - **stats.csv**/**stats.json** CSV and JSON versions of world statistics.\n",
    "\n",
    "\n",
    "- **Contracts and Negotiations**\n",
    "\n",
    "    - **negotiations.csv** Stores information about all the negotiations conducted during the simulation.\n",
    "    - **contracts.csv** Stores every contract concluded during the simulation.\n",
    "    - **breaches.csv** Stores information about every breach that occurred during the simulation.\n",
    "\n",
    "- **Detailed Events**\n",
    "  \n",
    "    - **events.json** A list of events in JSON format. Notice that you need to prepend it with open bracket and replace the last comma with closed pracket to get a well formatted JSON list\n"
   ]
  },
  {
   "cell_type": "markdown",
   "id": "handy-assembly",
   "metadata": {
    "papermill": {
     "duration": 0.037001,
     "end_time": "2022-02-16T09:01:32.771979",
     "exception": false,
     "start_time": "2022-02-16T09:01:32.734978",
     "status": "completed"
    },
    "tags": []
   },
   "source": [
    "### World Information\n",
    "The system stores two types of information about the simulation: \n",
    "\n",
    "- Static information in *params.json* and *info.json*. This information does not change during the simulation (e.g. number of steps, agent types). You will find that *params.json* stores some other information that is not strictly static.\n",
    "- Dynamic information in *stats.csv* and *stats.json*. This includes world statistics, statistics for every agent and for every product.\n",
    "\n",
    "Let's check each of them in turn:\n",
    "\n",
    "#### params.json\n",
    "\n",
    "This is just a copy of all the paramters used to create the world. These are mostly not specific to SCML worlds.\n",
    "\n",
    "Here are some of the most important parameters stored in this file:\n",
    "\n",
    "| Key | Meaning |\n",
    "| --- | ------- |\n",
    "|  name  | The world name  |\n",
    "|  mechanisms  | Allowed mechanism types and their parameters  |\n",
    "|  compact  | Whether this is a compact run (see Logging Primer earlier)  |\n",
    "|  n_steps  | Number of simulated days.  |\n",
    "|  time_limit  | The total real-time allowed for the simulation  |\n",
    "|  neg_n_steps  | Maximum number of rounds per negotiation  |\n",
    "|  neg_quota_simulation  | Maximum number of negotiations that an agent can initiate during the whole simulation  |\n",
    "|  neg_quota_step  | Maximum number of of negotiations that an agent can initiate during a *single* day (simulation step)  |\n",
    "|  neg_step_time_limit  | The total real-time allowed for receiving a response from a negotiator   |\n",
    "|  neg_time_limit  | The total real-time allowed for a negotiation  |\n",
    "|  negotiation_speed  | The number of negotiation rounds in a single simulation step   |\n",
    "|  financial_reports_period     | The period between successive financial reports in steps|\n",
    "|  agent_unique_types  | A unique identifier of the agent type for every agent in the simulation  |\n",
    "|  exogenous_horizon  | The number of steps in advance within which exogenous contracts are revealed  |\n",
    "|  n_agent_exceptions  | Number of agent exceptions. These are the results of bugs in the agents most likely.  |\n",
    "|  n_negotiation_exceptions  | Number of exceptions that happened during negotiation. These are usually bugs in the negotiators/utility functions  |\n",
    "|  n_contract_exceptions  | Number of exceptions that happened during contract executions. Any number above zero here is a bug  |\n",
    "|  n_simulation_exceptions  | Number of exceptions everywhere else in the simulation. These are also bugs in the platform  |\n",
    "|  ignore_agent_exception     |\n",
    "|  ignore_contract_execution_exceptions    |\n",
    "|  ignore_negotiation_exceptions    |\n",
    "|  ignore_simulation_exceptions    |\n",
    "|  n_processes  | Number of processes in the world  |\n",
    "|  n_products  | Number of products in the world  |\n",
    "|  spot_discount  | Spot market parameter (See http://www.yasserm.com/scml/scml2020.pdf)  |\n",
    "|  spot_market_global_loss  | Spot market parameter (See http://www.yasserm.com/scml/scml2020.pdf)  |\n",
    "|  spot_multiplier  |Spot market parameter (See http://www.yasserm.com/scml/scml2020.pdf)  |\n",
    "|  trading_price_discount  | Trading price estimation parameter (See http://www.yasserm.com/scml/scml2020.pdf)  |\n",
    "|  consumers  | All consumers of every product  |\n",
    "|  suppliers  | All suppliers of every product  |\n",
    "|  publish_trading_prices  | Whether to make trading prices public information in the bulletin board |\n",
    "|  publish_exogenous_contract_summary  | Whether to make the summary for exogeonus contracts public information in the bulletin board |\n",
    "\n",
    "\n"
   ]
  },
  {
   "cell_type": "markdown",
   "id": "marked-innocent",
   "metadata": {
    "papermill": {
     "duration": 0.054353,
     "end_time": "2022-02-16T09:01:32.881554",
     "exception": false,
     "start_time": "2022-02-16T09:01:32.827201",
     "status": "completed"
    },
    "tags": []
   },
   "source": [
    "You can check any of these parameters by loading the json file:"
   ]
  },
  {
   "cell_type": "markdown",
   "id": "jewish-review",
   "metadata": {
    "papermill": {
     "duration": 0.058718,
     "end_time": "2022-02-16T09:01:33.005257",
     "exception": false,
     "start_time": "2022-02-16T09:01:32.946539",
     "status": "completed"
    },
    "tags": []
   },
   "source": [
    "#### info.json\n",
    "\n",
    "All the information in this file is specific to SCML2020. This information describes all intermediate variables used during the creation of the world configuration (See http://www.yasserm.com/scml/scml2020.pdf Appendix B for details)."
   ]
  },
  {
   "cell_type": "markdown",
   "id": "earned-settle",
   "metadata": {
    "papermill": {
     "duration": 0.052885,
     "end_time": "2022-02-16T09:01:33.118797",
     "exception": false,
     "start_time": "2022-02-16T09:01:33.065912",
     "status": "completed"
    },
    "tags": []
   },
   "source": [
    "#### stats.csv and stats.json\n",
    "\n",
    "These two files have the same information in json and csv forms and provides one record for each simulation step (day). The same information can be accessed in real-time using:\n",
    "\n",
    "```python\n",
    "world.stats\n",
    "world.stats_df\n",
    "```\n"
   ]
  },
  {
   "cell_type": "markdown",
   "id": "banned-communications",
   "metadata": {
    "papermill": {
     "duration": 0.140792,
     "end_time": "2022-02-16T09:01:33.353512",
     "exception": false,
     "start_time": "2022-02-16T09:01:33.212720",
     "status": "completed"
    },
    "tags": []
   },
   "source": [
    "They can be divided into three categories: world statistics, product statistics, and agent statistics.\n",
    "- World statistics reveal information about the state of the world after every simulation step. Names of these statistics are self-explanatory\n",
    "\n",
    "\n",
    "- Product statsitics all end with *_{p}* where *p* is the product number:\n",
    "\n",
    "    - **trading_price_{p}** The trading price of the product at the end of every simulation step.\n",
    "    - **sold_quantity_{p}** The quantity sold/bought of that product at every simulation step.\n",
    "    - **unit_price+{p}** The average unit price of the product at every simulation step (if its sold_quantity was nonzero).\n",
    "    \n",
    "    \n",
    "- Agent statsitics all end with *_{a}* (or have *_{a}* in the middle) where *a* is the agent ID:\n",
    "\n",
    "    - **balance_{a}** The balance of the agent.\n",
    "    - **inventory_{a}_input**  The number of units of the agent's input product currently available in its inventory\n",
    "    - **inventory_{a}_output** The number of units of the agent's output product currently available in its inventory \n",
    "    - **assets_{a}** The value of the agent's inventory.\n",
    "    - **score_{a}** The score of the agent which is a combination of its balance and assets value according to SCML2020 rules.\n",
    "    - **productivity_{a}** The fraction of production lines of the agent's factory that are active during every simulation step.\n",
    "    - **bankrupt_{a}** Whether the agent is bankrupt\n",
    "    - **spot_market_quantity_{a}** The quantity the agent bought from the spot market (of its output product).\n",
    "    - **spot_market_loss_{a}**  The personalized spot market loss of the agent."
   ]
  },
  {
   "cell_type": "markdown",
   "id": "legislative-gateway",
   "metadata": {
    "papermill": {
     "duration": 0.057469,
     "end_time": "2022-02-16T09:01:33.459005",
     "exception": false,
     "start_time": "2022-02-16T09:01:33.401536",
     "status": "completed"
    },
    "tags": []
   },
   "source": [
    "### Contracts and Negotiations\n",
    "\n",
    "These files save information about every simulation, contract and breach. \n",
    "\n",
    "#### negotiations.csv\n",
    "\n",
    "This file stores a record for each negotiation. The most important fields are:\n",
    "\n",
    "- **partners**: Gives the names of the partners\n",
    "- **partner_ids** The IDs of the partners \n",
    "- **partner_types** The types of the agents to which the partners belong\n",
    "- **issues** Negotiation Issues\n",
    "- **caller** The name of the agent that initated the negotiation\n",
    "- **requested_at**: The time at which the negotiation was requested\n",
    "- **relative_time** The relative time (between zero and one) at which the negotiation ended\n",
    "- **has_errors**: Indicates whether one of the partners broke the protocol rules\n",
    "- **current_proposer**: The negotiator that sent the last offer \n",
    "- **current_offer** The last offer\n",
    "- **agreement** The agreement if any (or None if the negotiation ended with no agreement)\n",
    "- **step** The step at which the negotiation ended\n",
    "- **broken** Will be true if one partner ended the negotiation\n",
    "- **timedout** will be true if the negotiation timed out\n",
    "- **current_proposer_agent** The agent to which the `current_proposer` negotiator belongs\n",
    "- **new_offers** The offers exchanged in the last negotiation round\n",
    "- **new_offer_agents** The agents generating the offers exchanged in the last round\n"
   ]
  },
  {
   "cell_type": "markdown",
   "id": "unique-edgar",
   "metadata": {
    "papermill": {
     "duration": 0.08257,
     "end_time": "2022-02-16T09:01:33.656061",
     "exception": false,
     "start_time": "2022-02-16T09:01:33.573491",
     "status": "completed"
    },
    "tags": []
   },
   "source": [
    "#### contracts.csv\n",
    "\n",
    "This file has a record for every contract negotiated (as well as exogenous contracts). `signed_contracts.csv` and `cancelled_contracts.csv` have a subset of these records with signed and cancelled contracts only respectively. These are all the fields stored for every contract:\n",
    "\n",
    "\n",
    "Partner information:\n",
    "\n",
    "- **product**, **product_name**: The product index and name \n",
    "- **seller**, **seller_name**, **seller_type**: Seller ID, name, and type\n",
    "- **seller**, **buyer_name**, **buyer_type**: Buyer ID, name and type\n",
    "\n",
    "Agenda:\n",
    "\n",
    "- **caller**: Who requested the negotiation\n",
    "- **issues**: Negotiation issues\n",
    "- **is_buy**\n",
    "\n",
    "Agreement (will be `nan` if there is no agreement) \n",
    "\n",
    "- **delivery_time**\n",
    "- **quantity**\n",
    "- **unit_price**\n",
    "\n",
    "Contract Life (-1 means the event did not happen):\n",
    "\n",
    "- **concluded_at**: when was the negotiation leadign to this contract concluded\n",
    "- **signed_at**: when was the contract signed\n",
    "- **executed_at**: when was it executed (will be the same as *delivery_time*\n",
    "- **nullified_at**: If nulliied due to bankruptcy of one of the partners, when\n",
    "- **erred_at**: Should never happen.\n",
    "- **dropped_at**: The system will drop all contract that have delivery times in the past or at a day by the end of that day\n",
    "\n",
    "Other Information:\n",
    "\n",
    "- **id**: The unique ID of this contract\n",
    "- **signatures**: Will be the IDs of the two partners if the contract was signed\n",
    "- **n_neg_steps**: Number of negotaition steps that lead to this contract\n",
    "- **breaches**: List of breaches if any\n"
   ]
  },
  {
   "cell_type": "markdown",
   "id": "extended-miracle",
   "metadata": {
    "papermill": {
     "duration": 0.060335,
     "end_time": "2022-02-16T09:01:33.765155",
     "exception": false,
     "start_time": "2022-02-16T09:01:33.704820",
     "status": "completed"
    },
    "tags": []
   },
   "source": [
    "#### breaches.csv\n",
    "\n",
    "Saves information about all breaches (will always be empty in SCML-OneShot simulations):\n",
    "\n",
    "- **id** A unique ID for this breach\n",
    "- **contract**, **contract_id** The contract that was breached\n",
    "- **type** The breach type (inventory or funds)\n",
    "- **level** The breach level (a number between zero and one)\n",
    "- **perpetrator**, **perpetrator_type** The ID and name of the agent that committed the breach\n",
    "- **victims** Will always be a single string giving the ID of the victim\n",
    "- **step** The step at which the breach happens\n",
    "- **resolved** Will always be false in SCML2020"
   ]
  },
  {
   "cell_type": "code",
   "execution_count": null,
   "id": "lightweight-infection",
   "metadata": {
    "papermill": {
     "duration": 0.091149,
     "end_time": "2022-02-16T09:01:33.910995",
     "exception": false,
     "start_time": "2022-02-16T09:01:33.819846",
     "status": "completed"
    },
    "tags": []
   },
   "outputs": [],
   "source": []
  },
  {
   "cell_type": "code",
   "execution_count": null,
   "id": "caring-fusion",
   "metadata": {
    "papermill": {
     "duration": 0.106865,
     "end_time": "2022-02-16T09:01:34.079149",
     "exception": false,
     "start_time": "2022-02-16T09:01:33.972284",
     "status": "completed"
    },
    "tags": []
   },
   "outputs": [],
   "source": []
  }
 ],
 "metadata": {
  "celltoolbar": "Tags",
  "kernelspec": {
   "display_name": "Python 3",
   "language": "python",
   "name": "python3"
  },
  "language_info": {
   "codemirror_mode": {
    "name": "ipython",
    "version": 3
   },
   "file_extension": ".py",
   "mimetype": "text/x-python",
   "name": "python",
   "nbconvert_exporter": "python",
   "pygments_lexer": "ipython3",
   "version": "3.9.2"
  },
  "papermill": {
   "default_parameters": {},
   "duration": 19.035574,
   "end_time": "2022-02-16T09:01:34.879714",
   "environment_variables": {},
   "exception": null,
   "input_path": "/Users/yasser/code/projects/scml/notebooks/tutorials/05.logs_and_stats.ipynb",
   "output_path": "/Users/yasser/code/projects/scml/tests/tmp_notebooks/tutorials/05.logs_and_stats.ipynb",
   "parameters": {},
   "start_time": "2022-02-16T09:01:15.844140",
   "version": "2.3.4"
  },
  "toc": {
   "base_numbering": 1,
   "nav_menu": {},
   "number_sections": true,
   "sideBar": true,
   "skip_h1_title": false,
   "title_cell": "Table of Contents",
   "title_sidebar": "Contents",
   "toc_cell": false,
   "toc_position": {},
   "toc_section_display": true,
   "toc_window_display": false
  },
  "widgets": {
   "application/vnd.jupyter.widget-state+json": {
    "state": {
     "169103cecdd940b69fa115b93fbff439": {
      "model_module": "@jupyter-widgets/controls",
      "model_module_version": "1.5.0",
      "model_name": "HTMLModel",
      "state": {
       "_dom_classes": [],
       "_model_module": "@jupyter-widgets/controls",
       "_model_module_version": "1.5.0",
       "_model_name": "HTMLModel",
       "_view_count": null,
       "_view_module": "@jupyter-widgets/controls",
       "_view_module_version": "1.5.0",
       "_view_name": "HTMLView",
       "description": "",
       "description_tooltip": null,
       "layout": "IPY_MODEL_d7ee3ac80b0b48148492e91100f6eed0",
       "placeholder": "​",
       "style": "IPY_MODEL_e8e57478d58e40d69649a88d925a7970",
       "value": " 0/? [00:00&lt;?, ?it/s]"
      }
     },
     "2efffb63524c48b296fbe6b4e08ad651": {
      "model_module": "@jupyter-widgets/controls",
      "model_module_version": "1.5.0",
      "model_name": "FloatProgressModel",
      "state": {
       "_dom_classes": [],
       "_model_module": "@jupyter-widgets/controls",
       "_model_module_version": "1.5.0",
       "_model_name": "FloatProgressModel",
       "_view_count": null,
       "_view_module": "@jupyter-widgets/controls",
       "_view_module_version": "1.5.0",
       "_view_name": "ProgressView",
       "bar_style": "info",
       "description": "",
       "description_tooltip": null,
       "layout": "IPY_MODEL_96dbf171eddb416fae29f3841a4bddbd",
       "max": 1.0,
       "min": 0.0,
       "orientation": "horizontal",
       "style": "IPY_MODEL_deeca365dd1443cebdc6ee5b7f67b5cc",
       "value": 0.0
      }
     },
     "344d7749e39b49db959d97a2630ce6e6": {
      "model_module": "@jupyter-widgets/controls",
      "model_module_version": "1.5.0",
      "model_name": "HTMLModel",
      "state": {
       "_dom_classes": [],
       "_model_module": "@jupyter-widgets/controls",
       "_model_module_version": "1.5.0",
       "_model_name": "HTMLModel",
       "_view_count": null,
       "_view_module": "@jupyter-widgets/controls",
       "_view_module_version": "1.5.0",
       "_view_name": "HTMLView",
       "description": "",
       "description_tooltip": null,
       "layout": "IPY_MODEL_85b0b4d587f2448aa4667d50e084bffc",
       "placeholder": "​",
       "style": "IPY_MODEL_e49f018c5dec43f1932b34e3dd811ca7",
       "value": ""
      }
     },
     "6127ff2213e849fa8fc9f3dfe23f40d3": {
      "model_module": "@jupyter-widgets/base",
      "model_module_version": "1.2.0",
      "model_name": "LayoutModel",
      "state": {
       "_model_module": "@jupyter-widgets/base",
       "_model_module_version": "1.2.0",
       "_model_name": "LayoutModel",
       "_view_count": null,
       "_view_module": "@jupyter-widgets/base",
       "_view_module_version": "1.2.0",
       "_view_name": "LayoutView",
       "align_content": null,
       "align_items": null,
       "align_self": null,
       "border": null,
       "bottom": null,
       "display": null,
       "flex": null,
       "flex_flow": null,
       "grid_area": null,
       "grid_auto_columns": null,
       "grid_auto_flow": null,
       "grid_auto_rows": null,
       "grid_column": null,
       "grid_gap": null,
       "grid_row": null,
       "grid_template_areas": null,
       "grid_template_columns": null,
       "grid_template_rows": null,
       "height": null,
       "justify_content": null,
       "justify_items": null,
       "left": null,
       "margin": null,
       "max_height": null,
       "max_width": null,
       "min_height": null,
       "min_width": null,
       "object_fit": null,
       "object_position": null,
       "order": null,
       "overflow": null,
       "overflow_x": null,
       "overflow_y": null,
       "padding": null,
       "right": null,
       "top": null,
       "visibility": null,
       "width": null
      }
     },
     "85b0b4d587f2448aa4667d50e084bffc": {
      "model_module": "@jupyter-widgets/base",
      "model_module_version": "1.2.0",
      "model_name": "LayoutModel",
      "state": {
       "_model_module": "@jupyter-widgets/base",
       "_model_module_version": "1.2.0",
       "_model_name": "LayoutModel",
       "_view_count": null,
       "_view_module": "@jupyter-widgets/base",
       "_view_module_version": "1.2.0",
       "_view_name": "LayoutView",
       "align_content": null,
       "align_items": null,
       "align_self": null,
       "border": null,
       "bottom": null,
       "display": null,
       "flex": null,
       "flex_flow": null,
       "grid_area": null,
       "grid_auto_columns": null,
       "grid_auto_flow": null,
       "grid_auto_rows": null,
       "grid_column": null,
       "grid_gap": null,
       "grid_row": null,
       "grid_template_areas": null,
       "grid_template_columns": null,
       "grid_template_rows": null,
       "height": null,
       "justify_content": null,
       "justify_items": null,
       "left": null,
       "margin": null,
       "max_height": null,
       "max_width": null,
       "min_height": null,
       "min_width": null,
       "object_fit": null,
       "object_position": null,
       "order": null,
       "overflow": null,
       "overflow_x": null,
       "overflow_y": null,
       "padding": null,
       "right": null,
       "top": null,
       "visibility": null,
       "width": null
      }
     },
     "96dbf171eddb416fae29f3841a4bddbd": {
      "model_module": "@jupyter-widgets/base",
      "model_module_version": "1.2.0",
      "model_name": "LayoutModel",
      "state": {
       "_model_module": "@jupyter-widgets/base",
       "_model_module_version": "1.2.0",
       "_model_name": "LayoutModel",
       "_view_count": null,
       "_view_module": "@jupyter-widgets/base",
       "_view_module_version": "1.2.0",
       "_view_name": "LayoutView",
       "align_content": null,
       "align_items": null,
       "align_self": null,
       "border": null,
       "bottom": null,
       "display": null,
       "flex": null,
       "flex_flow": null,
       "grid_area": null,
       "grid_auto_columns": null,
       "grid_auto_flow": null,
       "grid_auto_rows": null,
       "grid_column": null,
       "grid_gap": null,
       "grid_row": null,
       "grid_template_areas": null,
       "grid_template_columns": null,
       "grid_template_rows": null,
       "height": null,
       "justify_content": null,
       "justify_items": null,
       "left": null,
       "margin": null,
       "max_height": null,
       "max_width": null,
       "min_height": null,
       "min_width": null,
       "object_fit": null,
       "object_position": null,
       "order": null,
       "overflow": null,
       "overflow_x": null,
       "overflow_y": null,
       "padding": null,
       "right": null,
       "top": null,
       "visibility": null,
       "width": "20px"
      }
     },
     "d7ee3ac80b0b48148492e91100f6eed0": {
      "model_module": "@jupyter-widgets/base",
      "model_module_version": "1.2.0",
      "model_name": "LayoutModel",
      "state": {
       "_model_module": "@jupyter-widgets/base",
       "_model_module_version": "1.2.0",
       "_model_name": "LayoutModel",
       "_view_count": null,
       "_view_module": "@jupyter-widgets/base",
       "_view_module_version": "1.2.0",
       "_view_name": "LayoutView",
       "align_content": null,
       "align_items": null,
       "align_self": null,
       "border": null,
       "bottom": null,
       "display": null,
       "flex": null,
       "flex_flow": null,
       "grid_area": null,
       "grid_auto_columns": null,
       "grid_auto_flow": null,
       "grid_auto_rows": null,
       "grid_column": null,
       "grid_gap": null,
       "grid_row": null,
       "grid_template_areas": null,
       "grid_template_columns": null,
       "grid_template_rows": null,
       "height": null,
       "justify_content": null,
       "justify_items": null,
       "left": null,
       "margin": null,
       "max_height": null,
       "max_width": null,
       "min_height": null,
       "min_width": null,
       "object_fit": null,
       "object_position": null,
       "order": null,
       "overflow": null,
       "overflow_x": null,
       "overflow_y": null,
       "padding": null,
       "right": null,
       "top": null,
       "visibility": null,
       "width": null
      }
     },
     "deeca365dd1443cebdc6ee5b7f67b5cc": {
      "model_module": "@jupyter-widgets/controls",
      "model_module_version": "1.5.0",
      "model_name": "ProgressStyleModel",
      "state": {
       "_model_module": "@jupyter-widgets/controls",
       "_model_module_version": "1.5.0",
       "_model_name": "ProgressStyleModel",
       "_view_count": null,
       "_view_module": "@jupyter-widgets/base",
       "_view_module_version": "1.2.0",
       "_view_name": "StyleView",
       "bar_color": null,
       "description_width": ""
      }
     },
     "e49f018c5dec43f1932b34e3dd811ca7": {
      "model_module": "@jupyter-widgets/controls",
      "model_module_version": "1.5.0",
      "model_name": "DescriptionStyleModel",
      "state": {
       "_model_module": "@jupyter-widgets/controls",
       "_model_module_version": "1.5.0",
       "_model_name": "DescriptionStyleModel",
       "_view_count": null,
       "_view_module": "@jupyter-widgets/base",
       "_view_module_version": "1.2.0",
       "_view_name": "StyleView",
       "description_width": ""
      }
     },
     "e8e57478d58e40d69649a88d925a7970": {
      "model_module": "@jupyter-widgets/controls",
      "model_module_version": "1.5.0",
      "model_name": "DescriptionStyleModel",
      "state": {
       "_model_module": "@jupyter-widgets/controls",
       "_model_module_version": "1.5.0",
       "_model_name": "DescriptionStyleModel",
       "_view_count": null,
       "_view_module": "@jupyter-widgets/base",
       "_view_module_version": "1.2.0",
       "_view_name": "StyleView",
       "description_width": ""
      }
     },
     "f558c4bc312e4fbea097c05440cf94d2": {
      "model_module": "@jupyter-widgets/controls",
      "model_module_version": "1.5.0",
      "model_name": "HBoxModel",
      "state": {
       "_dom_classes": [],
       "_model_module": "@jupyter-widgets/controls",
       "_model_module_version": "1.5.0",
       "_model_name": "HBoxModel",
       "_view_count": null,
       "_view_module": "@jupyter-widgets/controls",
       "_view_module_version": "1.5.0",
       "_view_name": "HBoxView",
       "box_style": "",
       "children": [
        "IPY_MODEL_344d7749e39b49db959d97a2630ce6e6",
        "IPY_MODEL_2efffb63524c48b296fbe6b4e08ad651",
        "IPY_MODEL_169103cecdd940b69fa115b93fbff439"
       ],
       "layout": "IPY_MODEL_6127ff2213e849fa8fc9f3dfe23f40d3"
      }
     }
    },
    "version_major": 2,
    "version_minor": 0
   }
  }
 },
 "nbformat": 4,
 "nbformat_minor": 5
}