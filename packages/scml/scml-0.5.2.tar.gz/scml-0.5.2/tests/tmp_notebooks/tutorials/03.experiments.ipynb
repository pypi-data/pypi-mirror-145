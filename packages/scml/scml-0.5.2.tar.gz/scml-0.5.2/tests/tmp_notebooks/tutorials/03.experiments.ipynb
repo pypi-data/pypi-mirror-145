{
 "cells": [
  {
   "cell_type": "code",
   "execution_count": null,
   "id": "moving-agent",
   "metadata": {
    "papermill": {
     "duration": 0.00786,
     "end_time": "2022-02-02T05:35:06.893484",
     "exception": false,
     "start_time": "2022-02-02T05:35:06.885624",
     "status": "completed"
    },
    "tags": []
   },
   "outputs": [],
   "source": []
  }
 ],
 "metadata": {
  "kernelspec": {
   "display_name": "Python 3",
   "language": "python",
   "name": "python3"
  },
  "language_info": {
   "codemirror_mode": {
    "name": "ipython",
    "version": 3
   },
   "file_extension": ".py",
   "mimetype": "text/x-python",
   "name": "python",
   "nbconvert_exporter": "python",
   "pygments_lexer": "ipython3",
   "version": "3.9.2"
  },
  "papermill": {
   "default_parameters": {},
   "duration": 6.165998,
   "end_time": "2022-02-02T05:35:07.214266",
   "environment_variables": {},
   "exception": null,
   "input_path": "/Users/yasser/code/projects/scml/notebooks/tutorials/03.experiments.ipynb",
   "output_path": "/Users/yasser/code/projects/scml/tests/tmp_notebooks/tutorials/03.experiments.ipynb",
   "parameters": {},
   "start_time": "2022-02-02T05:35:01.048268",
   "version": "2.3.4"
  }
 },
 "nbformat": 4,
 "nbformat_minor": 5
}